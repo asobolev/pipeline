{
 "cells": [
  {
   "cell_type": "code",
   "execution_count": 14,
   "id": "cdb99e5a",
   "metadata": {},
   "outputs": [],
   "source": [
    "import os\n",
    "import matplotlib.pyplot as plt"
   ]
  },
  {
   "cell_type": "code",
   "execution_count": 15,
   "id": "a8f60130",
   "metadata": {},
   "outputs": [],
   "source": [
    "showroom = '/home/sobolev/nevermind/Andrey/analysis/showroom'"
   ]
  },
  {
   "cell_type": "code",
   "execution_count": 22,
   "id": "f1168e06",
   "metadata": {},
   "outputs": [
    {
     "data": {
      "image/png": "[encoded data removed]",
      "text/plain": [
       "<Figure size 504x122.4 with 1 Axes>"
      ]
     },
     "metadata": {
      "needs_background": "light"
     },
     "output_type": "display_data"
    }
   ],
   "source": [
    "offsets = [15, 30, 75, 100]\n",
    "labels = ['E1', 'E2', 'E3', 'S1']\n",
    "\n",
    "fig, ax = plt.subplots(1, 1, figsize=(7, 1.7))\n",
    "\n",
    "for i, lims in enumerate(offsets):\n",
    "    ax.axvline(lims/1000, ls='--', color='black')\n",
    "    ax.text(lims/1000 + 0.002, 0.3, labels[i], fontsize=14)\n",
    "ax.axhline(0, color='black')\n",
    "ax.set_xlim(0, 0.25)\n",
    "ax.set_ylim(-1, 1)\n",
    "ax.set_yticks([])\n",
    "ax.set_xlabel('Time, ms', fontsize=14)\n",
    "\n",
    "fig.tight_layout()"
   ]
  },
  {
   "cell_type": "code",
   "execution_count": 23,
   "id": "e30db0ac",
   "metadata": {},
   "outputs": [],
   "source": [
    "fig.savefig(os.path.join(showroom, 'phase_offsets.png'), dpi=300)"
   ]
  },
  {
   "cell_type": "code",
   "execution_count": null,
   "id": "e0c81be1",
   "metadata": {},
   "outputs": [],
   "source": []
  }
 ],
 "metadata": {
  "kernelspec": {
   "display_name": "Python 3 (ipykernel)",
   "language": "python",
   "name": "python3"
  },
  "language_info": {
   "codemirror_mode": {
    "name": "ipython",
    "version": 3
   },
   "file_extension": ".py",
   "mimetype": "text/x-python",
   "name": "python",
   "nbconvert_exporter": "python",
   "pygments_lexer": "ipython3",
   "version": "3.8.10"
  }
 },
 "nbformat": 4,
 "nbformat_minor": 5
}
