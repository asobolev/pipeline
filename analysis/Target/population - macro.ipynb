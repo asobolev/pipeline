{
 "cells": [
  {
   "cell_type": "code",
   "execution_count": 1,
   "id": "afdb26cb",
   "metadata": {},
   "outputs": [],
   "source": [
    "import sys, os\n",
    "sys.path.append(os.path.join(os.getcwd(), '..'))\n",
    "sys.path.append(os.path.join(os.getcwd(), '..', '..'))"
   ]
  },
  {
   "cell_type": "code",
   "execution_count": 2,
   "id": "6afe19e4",
   "metadata": {},
   "outputs": [],
   "source": [
    "%matplotlib inline\n",
    "\n",
    "from session.sessions import selected_009266, selected_009265, selected_008229\n",
    "from imports import *\n",
    "from scipy import stats\n",
    "from loading import load_session_data\n",
    "from target import get_spike_counts\n",
    "np.set_printoptions(suppress=True)"
   ]
  },
  {
   "cell_type": "code",
   "execution_count": 3,
   "id": "dc5880ac",
   "metadata": {},
   "outputs": [
    {
     "data": {
      "application/javascript": [
       "IPython.OutputArea.prototype._should_scroll = function(lines) {\n",
       "    return false;\n",
       "}\n"
      ],
      "text/plain": [
       "<IPython.core.display.Javascript object>"
      ]
     },
     "metadata": {},
     "output_type": "display_data"
    }
   ],
   "source": [
    "%%javascript\n",
    "IPython.OutputArea.prototype._should_scroll = function(lines) {\n",
    "    return false;\n",
    "}"
   ]
  },
  {
   "cell_type": "markdown",
   "id": "d48ad348",
   "metadata": {},
   "source": [
    "## Session data"
   ]
  },
  {
   "cell_type": "code",
   "execution_count": 4,
   "id": "3d199339",
   "metadata": {
    "scrolled": true
   },
   "outputs": [
    {
     "data": {
      "text/plain": [
       "['009265_hippoSIT_2023-02-24_09-53-26',\n",
       " '009265_hippoSIT_2023-02-24_17-22-46',\n",
       " '009265_hippoSIT_2023-02-27_10-18-32',\n",
       " '009265_hippoSIT_2023-02-27_15-33-46',\n",
       " '009265_hippoSIT_2023-02-28_09-16-50',\n",
       " '009265_hippoSIT_2023-02-28_13-16-10',\n",
       " '009265_hippoSIT_2023-02-28_20-45-04',\n",
       " '009265_hippoSIT_2023-03-01_10-46-12',\n",
       " '009265_hippoSIT_2023-03-02_09-32-54',\n",
       " '009265_hippoSIT_2023-03-02_16-27-42',\n",
       " '009265_hippoSIT_2023-03-02_20-11-35',\n",
       " '009265_hippoSIT_2023-03-03_09-37-07',\n",
       " '009265_hippoSIT_2023-03-03_16-00-47',\n",
       " '009265_hippoSIT_2023-03-04_11-12-04',\n",
       " '009265_hippoSIT_2023-03-05_11-52-17',\n",
       " '009265_hippoSIT_2023-03-05_18-31-32',\n",
       " '009265_hippoSIT_2023-03-08_18-10-07',\n",
       " '009265_hippoSIT_2023-03-09_20-03-08',\n",
       " '009265_hippoSIT_2023-03-10_09-57-34',\n",
       " '009265_hippoSIT_2023-04-13_09-54-39',\n",
       " '009265_hippoSIT_2023-04-20_11-39-02']"
      ]
     },
     "execution_count": 4,
     "metadata": {},
     "output_type": "execute_result"
    }
   ],
   "source": [
    "sessions = [s for s in selected_009265.keys()]\n",
    "sessions.sort()\n",
    "sessions"
   ]
  },
  {
   "cell_type": "code",
   "execution_count": 5,
   "id": "dbf7c2c6",
   "metadata": {},
   "outputs": [
    {
     "data": {
      "text/plain": [
       "'009265_hippoSIT_2023-04-20_11-39-02'"
      ]
     },
     "execution_count": 5,
     "metadata": {},
     "output_type": "execute_result"
    }
   ],
   "source": [
    "session = sessions[20]\n",
    "\n",
    "session_data = load_session_data(session)\n",
    "\n",
    "tl = session_data['tl']\n",
    "trials = session_data['trials']\n",
    "cfg = session_data['cfg']\n",
    "areas = session_data['areas']\n",
    "aeps = session_data['aeps']\n",
    "aeps_events = session_data['aeps_events']\n",
    "AEP_metrics_lims = session_data['AEP_metrics_lims']\n",
    "AEP_metrics_raw = session_data['AEP_metrics_raw']\n",
    "AEP_metrics_norm = session_data['AEP_metrics_norm']\n",
    "tgt_matrix = session_data['tgt_matrix']\n",
    "single_units = session_data['single_units']\n",
    "spike_times = session_data['spike_times']\n",
    "unit_names = session_data['unit_names']\n",
    "animal = session_data['animal']\n",
    "aeps_file = session_data['aeps_file']\n",
    "h5_file = session_data['h5_file']\n",
    "report_path = session_data['report_path']\n",
    "session"
   ]
  },
  {
   "cell_type": "markdown",
   "id": "257ed5c2",
   "metadata": {},
   "source": [
    "## Choose target selective units"
   ]
  },
  {
   "cell_type": "code",
   "execution_count": 6,
   "id": "20b80d64",
   "metadata": {},
   "outputs": [],
   "source": [
    "offset    = 7.25\n",
    "bin_count = 30"
   ]
  },
  {
   "cell_type": "code",
   "execution_count": 7,
   "id": "85dbe450",
   "metadata": {},
   "outputs": [
    {
     "name": "stdout",
     "output_type": "stream",
     "text": [
      "8 units selected\n"
     ]
    }
   ],
   "source": [
    "tgt_units       = []\n",
    "idxs_succ       = np.where(tgt_matrix[:, 4] == 1)[0]\n",
    "tgt_succ_times  = tl[tgt_matrix[idxs_succ][:, 0]][:, 0]\n",
    "\n",
    "for unit_name in unit_names:\n",
    "    with h5py.File(h5_file, 'r') as f:\n",
    "        shuffled = np.array(f['units'][unit_name]['psth_shuffled_tgt_onset'])\n",
    "    \n",
    "    # based on success trials\n",
    "    strain = spike_times[unit_name]\n",
    "    bins, counts_enter = get_spike_counts(strain, tgt_succ_times, hw=offset, bin_count=bin_count)\n",
    "    zero_bin_idx = len(bins[bins < 0]) - 1\n",
    "\n",
    "    if counts_enter[zero_bin_idx] > shuffled[zero_bin_idx][3]: #or \\\n",
    "        #counts_enter[zero_bin_idx + 1] > shuffled[zero_bin_idx + 1][3]:\n",
    "        tgt_units.append(unit_name)\n",
    "        \n",
    "print(\"%d units selected\" % len(tgt_units))"
   ]
  },
  {
   "cell_type": "markdown",
   "id": "c3e87122",
   "metadata": {},
   "source": [
    "## Z-scored population PSTH"
   ]
  },
  {
   "cell_type": "code",
   "execution_count": 8,
   "id": "50118337",
   "metadata": {},
   "outputs": [],
   "source": [
    "#sel_units = [unit for unit in unit_names if int(unit[0]) < 3]\n",
    "#sel_units = [unit for unit in unit_names if int(unit[0]) > 2]\n",
    "#sel_units = [unit for unit in tgt_units if int(unit[0]) < 3]  # A1 tgt only\n",
    "#sel_units = [unit for unit in tgt_units if int(unit[0]) > 2]  # PPC/HPC tgt only\n",
    "#sel_units = unit_names  # all units\n",
    "sel_units = tgt_units   # all tgt only\n",
    "\n",
    "bin_size = 0.4  # sec\n",
    "step = 0.1  # sec \n",
    "t_start, t_end = int(tl[0][0]), int(tl[-1][0])\n",
    "bc = int((t_end - t_start) / bin_size) + 1\n",
    "exp_coef = round(bin_size/step)\n",
    "bins = np.linspace(t_start, t_end, bc)\n",
    "unit_act_matrix = np.zeros([len(sel_units), len(bins) * exp_coef])\n",
    "\n",
    "for i, unit in enumerate(sel_units):\n",
    "    spikes = spike_times[unit]\n",
    "    for offset in range(exp_coef):\n",
    "        bins = np.linspace(t_start + offset*step, t_end + offset*step, bc)\n",
    "        vals, _ = np.histogram(spikes, bins=bins)\n",
    "        idxs = np.arange(offset, (bc - 1) * exp_coef, exp_coef)\n",
    "        unit_act_matrix[i][idxs] = vals\n",
    "        \n",
    "for i, unit_data in enumerate(unit_act_matrix):\n",
    "    unit_act_matrix[i] = stats.zscore(unit_data)"
   ]
  },
  {
   "cell_type": "code",
   "execution_count": 9,
   "id": "5fbc3587",
   "metadata": {
    "scrolled": true
   },
   "outputs": [
    {
     "data": {
      "text/plain": [
       "<matplotlib.image.AxesImage at 0x7fa8f28f3a60>"
      ]
     },
     "execution_count": 9,
     "metadata": {},
     "output_type": "execute_result"
    },
    {
     "data": {
      "image/png": "[encoded data removed]",
      "text/plain": [
       "<Figure size 1080x360 with 1 Axes>"
      ]
     },
     "metadata": {
      "needs_background": "light"
     },
     "output_type": "display_data"
    }
   ],
   "source": [
    "# first 10 seconds\n",
    "fig, ax = plt.subplots(1, 1, figsize=(15, 5))\n",
    "ax.imshow(unit_act_matrix[:, 0:100])"
   ]
  },
  {
   "cell_type": "code",
   "execution_count": 10,
   "id": "10f0c586",
   "metadata": {},
   "outputs": [],
   "source": [
    "hw = 7   # secs\n",
    "psth_matrix  = np.zeros([len(tgt_matrix), 2*int(hw/step)])\n",
    "\n",
    "for i, tgt_record in enumerate(tgt_matrix):\n",
    "    am_idx = int(tgt_record[0]*step)\n",
    "    pop_response = unit_act_matrix[:, am_idx - int(hw/step):am_idx + int(hw/step)].sum(axis=0)\n",
    "    if len(pop_response) == psth_matrix.shape[1]:\n",
    "        psth_matrix[i] = pop_response"
   ]
  },
  {
   "cell_type": "code",
   "execution_count": 19,
   "id": "542e3b24",
   "metadata": {},
   "outputs": [],
   "source": [
    "# separate by behav fit\n",
    "# moseq_file = os.path.join(source, animal, session, 'moseq.h5')\n",
    "# with h5py.File(moseq_file, 'r') as f:\n",
    "#     behav_fit_AL = np.array(f['behav_fit_AL'])\n",
    "    \n",
    "# behav_fit_AL[:, 1] = stats.zscore(behav_fit_AL[:, 1])\n",
    "# idxs_behav_fit = [np.abs(behav_fit_AL[:, 0] - r[0]).argmin() for r in tgt_matrix]\n",
    "# idxs_high = np.where(behav_fit_AL[idxs_behav_fit][:, 1] > 0)[0]\n",
    "# idxs_low  = np.where(behav_fit_AL[idxs_behav_fit][:, 1] < 0)[0]\n",
    "\n",
    "# separate y success / miss\n",
    "idxs_high = np.where(tgt_matrix[:, 4] == 1)[0]\n",
    "idxs_low  = np.where(tgt_matrix[:, 4] == 0)[0]\n",
    "\n",
    "# separate by AEPs metrics (first TGT pulse)\n",
    "#area, metric = 'A1', 'P1'\n",
    "#AEP_metrics_norm[area][metric]\n",
    "\n",
    "weights_all  = psth_matrix.sum(axis=0)\n",
    "weights_high = psth_matrix[idxs_high].sum(axis=0) / len(idxs_high)\n",
    "weights_low  = psth_matrix[idxs_low].sum(axis=0) / len(idxs_low)"
   ]
  },
  {
   "cell_type": "code",
   "execution_count": 20,
   "id": "9461e7f2",
   "metadata": {
    "scrolled": true
   },
   "outputs": [
    {
     "data": {
      "text/plain": [
       "<matplotlib.patches.Polygon at 0x7fa8f2487280>"
      ]
     },
     "execution_count": 20,
     "metadata": {},
     "output_type": "execute_result"
    },
    {
     "data": {
      "image/png": "[encoded data removed]",
      "text/plain": [
       "<Figure size 720x360 with 1 Axes>"
      ]
     },
     "metadata": {
      "needs_background": "light"
     },
     "output_type": "display_data"
    }
   ],
   "source": [
    "fig, ax = plt.subplots(1, 1, figsize=(10, 5))\n",
    "\n",
    "tgt_dur = cfg['experiment']['target_duration']\n",
    "bins = np.linspace(-7 + bin_size, 7 + bin_size, psth_matrix.shape[1])\n",
    "ax.hist(bins, bins=bins, weights=weights_high, edgecolor='black', color='green', alpha=0.8, label='Success (%d)' % len(idxs_high))\n",
    "ax.hist(bins, bins=bins, weights=weights_low, edgecolor='black', color='black', alpha=0.5, label='Miss (%d)' % len(idxs_low))\n",
    "ax.axvline(0, color='black', ls='--')\n",
    "ax.set_title(\"Population response (%d) at target onset\" % len(tgt_units), fontsize=14)\n",
    "ax.grid()\n",
    "ax.set_xlim(-hw, hw + 1)\n",
    "ax.legend(loc='upper left')\n",
    "ax.axvspan(0, tgt_dur, alpha=0.3, color='gray')"
   ]
  },
  {
   "cell_type": "code",
   "execution_count": 13,
   "id": "7baf5d78",
   "metadata": {},
   "outputs": [
    {
     "data": {
      "text/plain": [
       "['2-11', '2-12', '2-2', '2-4', '2-5', '2-6', '2-7', '2-9']"
      ]
     },
     "execution_count": 13,
     "metadata": {},
     "output_type": "execute_result"
    }
   ],
   "source": [
    "tgt_units"
   ]
  },
  {
   "cell_type": "code",
   "execution_count": 14,
   "id": "5f801c8a",
   "metadata": {},
   "outputs": [
    {
     "data": {
      "text/plain": [
       "<matplotlib.lines.Line2D at 0x7fa8f28351c0>"
      ]
     },
     "execution_count": 14,
     "metadata": {},
     "output_type": "execute_result"
    },
    {
     "data": {
      "image/png": "[encoded data removed]",
      "text/plain": [
       "<Figure size 720x360 with 1 Axes>"
      ]
     },
     "metadata": {
      "needs_background": "light"
     },
     "output_type": "display_data"
    }
   ],
   "source": [
    "idx_l, idx_r = int(hw/step) - int(bin_size/step), int(hw/step) + int(bin_size/step)\n",
    "pop_response = psth_matrix[:, idx_l:idx_r].sum(axis=1)\n",
    "\n",
    "fig, ax = plt.subplots(1, 1, figsize=(10, 5))\n",
    "ax.imshow(psth_matrix, extent=[-70, 70, len(tgt_matrix), 0])\n",
    "ax.axvline(-70 + idx_l, color='black')\n",
    "ax.axvline(-70 + idx_r, color='black', ls='--')"
   ]
  },
  {
   "cell_type": "code",
   "execution_count": 15,
   "id": "f6305ac5",
   "metadata": {
    "scrolled": true
   },
   "outputs": [
    {
     "name": "stdout",
     "output_type": "stream",
     "text": [
      "(0.31140837257396103, 0.05046414686670514)\n"
     ]
    },
    {
     "data": {
      "image/png": "[encoded data removed]",
      "text/plain": [
       "<Figure size 720x360 with 1 Axes>"
      ]
     },
     "metadata": {
      "needs_background": "light"
     },
     "output_type": "display_data"
    }
   ],
   "source": [
    "idxs_succ = np.where(tgt_matrix[:, 4] == 1)[0]\n",
    "idxs_miss = np.where(tgt_matrix[:, 4] == 0)[0]\n",
    "\n",
    "fig, ax = plt.subplots(1, 1, figsize=(10, 5))\n",
    "ax.bar(idxs_succ, pop_response[idxs_succ], width=0.8, color='green', alpha=0.8)\n",
    "ax.bar(idxs_miss, pop_response[idxs_miss], width=0.8, color='black', alpha=0.5)\n",
    "\n",
    "print(stats.pearsonr(pop_response > pop_response.mean(), tgt_matrix[:, 4]))"
   ]
  },
  {
   "cell_type": "code",
   "execution_count": 16,
   "id": "d52316b9",
   "metadata": {},
   "outputs": [
    {
     "name": "stdout",
     "output_type": "stream",
     "text": [
      "-2\n",
      "N1: 0.237 \t0.141 \n",
      "P1: 0.160 \t0.325 \n",
      "P2: 0.190 \t0.240 \n",
      "P3: 0.036 \t0.827 \n",
      "-1\n",
      "N1: 0.216 \t0.180 \n",
      "P1: 0.101 \t0.536 \n",
      "P2: 0.189 \t0.242 \n",
      "P3: -0.031 \t0.850 \n",
      "0\n",
      "N1: 0.163 \t0.315 \n",
      "P1: 0.032 \t0.844 \n",
      "P2: 0.155 \t0.338 \n",
      "P3: -0.089 \t0.587 \n",
      "1\n",
      "N1: 0.105 \t0.520 \n",
      "P1: -0.043 \t0.793 \n",
      "P2: 0.098 \t0.548 \n",
      "P3: -0.121 \t0.456 \n",
      "2\n",
      "N1: 0.059 \t0.718 \n",
      "P1: -0.120 \t0.461 \n",
      "P2: 0.034 \t0.836 \n",
      "P3: -0.127 \t0.434 \n",
      "3\n",
      "N1: 0.026 \t0.873 \n",
      "P1: -0.193 \t0.233 \n",
      "P2: -0.033 \t0.839 \n",
      "P3: -0.118 \t0.468 \n",
      "4\n",
      "N1: 0.003 \t0.985 \n",
      "P1: -0.256 \t0.110 \n",
      "P2: -0.100 \t0.541 \n",
      "P3: -0.119 \t0.463 \n",
      "5\n",
      "N1: -0.009 \t0.958 \n",
      "P1: -0.306 \t0.055 \n",
      "P2: -0.153 \t0.346 \n",
      "P3: -0.144 \t0.374 \n"
     ]
    }
   ],
   "source": [
    "area = 'A1'\n",
    "for offset in np.arange(8) - 2:\n",
    "    print(offset)\n",
    "    for name, metric in AEP_metrics_norm[area].items():\n",
    "        cf, pval = stats.pearsonr(metric[tgt_matrix[:, 2] + offset], pop_response)\n",
    "        #clr = '\\033[92m' if pval < 0.05 else ''\n",
    "        is_sign = '!!!' if pval < 0.05 else ''\n",
    "        print(\"%s: %.3f \\t%.3f %s\" % (name, cf, pval, is_sign))"
   ]
  },
  {
   "cell_type": "code",
   "execution_count": null,
   "id": "5e811b04",
   "metadata": {},
   "outputs": [],
   "source": []
  }
 ],
 "metadata": {
  "kernelspec": {
   "display_name": "Python 3 (ipykernel)",
   "language": "python",
   "name": "python3"
  },
  "language_info": {
   "codemirror_mode": {
    "name": "ipython",
    "version": 3
   },
   "file_extension": ".py",
   "mimetype": "text/x-python",
   "name": "python",
   "nbconvert_exporter": "python",
   "pygments_lexer": "ipython3",
   "version": "3.8.10"
  }
 },
 "nbformat": 4,
 "nbformat_minor": 5
}
