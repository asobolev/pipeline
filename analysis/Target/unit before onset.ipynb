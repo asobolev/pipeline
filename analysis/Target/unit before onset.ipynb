{
 "cells": [
  {
   "cell_type": "code",
   "execution_count": 5,
   "id": "7dbf62e3",
   "metadata": {},
   "outputs": [],
   "source": [
    "import sys, os\n",
    "sys.path.append(os.path.join(os.getcwd(), '..'))\n",
    "sys.path.append(os.path.join(os.getcwd(), '..', '..'))\n",
    "\n",
    "from imports import *\n",
    "import numpy as np\n",
    "import h5py\n",
    "import json\n",
    "import matplotlib.pyplot as plt\n",
    "from mpl_toolkits.axes_grid1 import make_axes_locatable\n",
    "from scipy import signal\n",
    "from scipy import stats\n",
    "from target import build_tgt_matrix\n",
    "import pandas as pd\n",
    "from loading import load_session_data\n",
    "from Behavior.behavior import get_behav_units\n",
    "from session.sessions import selected_009266, selected_009265, selected_008229\n",
    "\n",
    "%matplotlib inline"
   ]
  },
  {
   "cell_type": "code",
   "execution_count": 6,
   "id": "220a45cd",
   "metadata": {},
   "outputs": [
    {
     "data": {
      "application/javascript": [
       "IPython.OutputArea.prototype._should_scroll = function(lines) {\n",
       "    return false;\n",
       "}\n"
      ],
      "text/plain": [
       "<IPython.core.display.Javascript object>"
      ]
     },
     "metadata": {},
     "output_type": "display_data"
    }
   ],
   "source": [
    "%%javascript\n",
    "IPython.OutputArea.prototype._should_scroll = function(lines) {\n",
    "    return false;\n",
    "}"
   ]
  },
  {
   "cell_type": "code",
   "execution_count": 33,
   "id": "295946ea",
   "metadata": {
    "scrolled": true
   },
   "outputs": [
    {
     "data": {
      "text/plain": [
       "['009266_hippoSIT_2023-04-13_08-57-46',\n",
       " '009266_hippoSIT_2023-04-14_09-17-34',\n",
       " '009266_hippoSIT_2023-04-17_09-06-10',\n",
       " '009266_hippoSIT_2023-04-17_17-04-17',\n",
       " '009266_hippoSIT_2023-04-18_10-10-37',\n",
       " '009266_hippoSIT_2023-04-18_17-03-10',\n",
       " '009266_hippoSIT_2023-04-19_10-33-51',\n",
       " '009266_hippoSIT_2023-04-20_08-57-39',\n",
       " '009266_hippoSIT_2023-04-20_15-24-14',\n",
       " '009266_hippoSIT_2023-04-21_08-43-00',\n",
       " '009266_hippoSIT_2023-04-21_13-12-31',\n",
       " '009266_hippoSIT_2023-04-24_10-08-11',\n",
       " '009266_hippoSIT_2023-04-24_16-56-55',\n",
       " '009266_hippoSIT_2023-04-26_08-20-17',\n",
       " '009266_hippoSIT_2023-05-02_12-22-14',\n",
       " '009266_hippoSIT_2023-05-04_09-11-06',\n",
       " '009266_hippoSIT_2023-05-04_19-47-15',\n",
       " '009266_hippoSIT_2023-05-22_09-27-22',\n",
       " '009266_hippoSIT_2023-05-23_09-18-05',\n",
       " '009266_hippoSIT_2023-05-25_15-55-57',\n",
       " '009266_hippoSIT_2023-06-14_08-21-23',\n",
       " '009266_hippoSIT_2023-06-19_08-58-35']"
      ]
     },
     "execution_count": 33,
     "metadata": {},
     "output_type": "execute_result"
    }
   ],
   "source": [
    "sessions = [s for s in selected_008229.keys()]\n",
    "sessions = [s for s in selected_009266.keys()]\n",
    "sessions.sort()\n",
    "sessions"
   ]
  },
  {
   "cell_type": "markdown",
   "id": "1b781995",
   "metadata": {},
   "source": [
    "## Higher firing before success?"
   ]
  },
  {
   "cell_type": "code",
   "execution_count": 41,
   "id": "f5fd5de6",
   "metadata": {},
   "outputs": [],
   "source": [
    "def get_FR_TGT_score(i_rate, tl_idxs, labels, offset=3):\n",
    "    # offset in seconds\n",
    "    # tl_idxs to i_rate, sampled 100Hz\n",
    "    # labels for each index\n",
    "    scores = np.zeros(len(tl_idxs))\n",
    "    for i, tl_idx in enumerate(tl_idxs):\n",
    "        mean = i_rate.mean()\n",
    "        all_low  = (i_rate[tl_idx - offset*100:tl_idx] < mean).all()  # 100Hz sampling\n",
    "        all_high = (i_rate[tl_idx - offset*100:tl_idx] > mean).all()  # 100Hz sampling\n",
    "        #all_low  = i_rate[tl_idx - offset*100:tl_idx].mean() < mean\n",
    "        #all_high = i_rate[tl_idx - offset*100:tl_idx].mean() > mean\n",
    "        if (labels[i] == 0 and all_low) or (labels[i] == 1 and all_high):\n",
    "            scores[i] = 1\n",
    "            \n",
    "    return scores"
   ]
  },
  {
   "cell_type": "code",
   "execution_count": 37,
   "id": "cb40f63b",
   "metadata": {},
   "outputs": [
    {
     "data": {
      "text/plain": [
       "'009266_hippoSIT_2023-04-20_08-57-39'"
      ]
     },
     "execution_count": 37,
     "metadata": {},
     "output_type": "execute_result"
    }
   ],
   "source": [
    "session = sessions[7]\n",
    "session"
   ]
  },
  {
   "cell_type": "code",
   "execution_count": 38,
   "id": "5c74488e",
   "metadata": {},
   "outputs": [
    {
     "data": {
      "text/plain": [
       "8"
      ]
     },
     "execution_count": 38,
     "metadata": {},
     "output_type": "execute_result"
    }
   ],
   "source": [
    "session_data = load_session_data(session)\n",
    "\n",
    "tl           = session_data['tl']\n",
    "tgt_matrix   = session_data['tgt_matrix']\n",
    "single_units = session_data['single_units']\n",
    "\n",
    "behav_units = get_behav_units(session)\n",
    "len(behav_units)"
   ]
  },
  {
   "cell_type": "code",
   "execution_count": 39,
   "id": "e6d0f5db",
   "metadata": {},
   "outputs": [
    {
     "name": "stdout",
     "output_type": "stream",
     "text": [
      "2-2; 2-3; 3-15; 3-16; 3-4; 4-8; 4-9; 5-6; "
     ]
    }
   ],
   "source": [
    "offset = 3\n",
    "iter_count = 100\n",
    "all_idxs   = np.arange(len(tl) - 2*100*offset) + 100*offset\n",
    "\n",
    "unit_mx = np.zeros([len(behav_units), 4])  # real score, shuffled mean, 95 perc, 5 perc\n",
    "for i, unit_name in enumerate(behav_units):\n",
    "    i_rate  = single_units[unit_name]\n",
    "    tl_idxs = tgt_matrix[:, 0]\n",
    "    labels  = tgt_matrix[:, 4]\n",
    "    score = get_FR_TGT_score(i_rate, tl_idxs, labels, offset=3).mean()\n",
    "    \n",
    "    scores_shuf = np.zeros(iter_count)\n",
    "    for j in range(iter_count):\n",
    "        tl_idxs = np.random.choice(all_idxs, len(tgt_matrix))\n",
    "        #labels_rand = labels.copy()\n",
    "        #np.random.shuffle(labels_rand)\n",
    "        scores_shuf[j] = get_FR_TGT_score(i_rate, tl_idxs, labels, offset=offset).mean()\n",
    "        \n",
    "    perc_high = np.percentile(scores_shuf, 95)\n",
    "    perc_low  = np.percentile(scores_shuf, 5)\n",
    "    unit_mx[i] = np.array([score, scores_shuf.mean(), perc_high, perc_low])\n",
    "    print(unit_name + '; ', end='')"
   ]
  },
  {
   "cell_type": "code",
   "execution_count": 40,
   "id": "e1ade845",
   "metadata": {
    "scrolled": true
   },
   "outputs": [
    {
     "data": {
      "image/png": "[encoded data removed]",
      "text/plain": [
       "<Figure size 864x288 with 1 Axes>"
      ]
     },
     "metadata": {
      "needs_background": "light"
     },
     "output_type": "display_data"
    }
   ],
   "source": [
    "fig, ax = plt.subplots(1, 1, figsize=(12, 4))\n",
    "\n",
    "ax.plot(unit_mx[:, 0], color='red')\n",
    "ax.plot(unit_mx[:, 1], color='black')\n",
    "ax.fill_between(np.arange(len(behav_units)), unit_mx[:, 3], unit_mx[:, 2], color='black', alpha=0.4)\n",
    "ax.set_xticks(np.arange(len(behav_units)))\n",
    "ax.set_xticklabels(behav_units, rotation=60)\n",
    "ax.set_title(session, fontsize='14')\n",
    "ax.grid()"
   ]
  },
  {
   "cell_type": "markdown",
   "id": "b9b7ff86",
   "metadata": {},
   "source": [
    "## Increase FR in TGT SUCCESS, not in TGT MISS, and drop FR after success"
   ]
  },
  {
   "cell_type": "code",
   "execution_count": 42,
   "id": "306f0f00",
   "metadata": {},
   "outputs": [],
   "source": [
    "# TODO"
   ]
  },
  {
   "cell_type": "code",
   "execution_count": null,
   "id": "e68da9d5",
   "metadata": {},
   "outputs": [],
   "source": []
  }
 ],
 "metadata": {
  "kernelspec": {
   "display_name": "Python 3 (ipykernel)",
   "language": "python",
   "name": "python3"
  },
  "language_info": {
   "codemirror_mode": {
    "name": "ipython",
    "version": 3
   },
   "file_extension": ".py",
   "mimetype": "text/x-python",
   "name": "python",
   "nbconvert_exporter": "python",
   "pygments_lexer": "ipython3",
   "version": "3.8.10"
  }
 },
 "nbformat": 4,
 "nbformat_minor": 5
}
