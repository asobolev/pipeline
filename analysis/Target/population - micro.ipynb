{
 "cells": [
  {
   "cell_type": "code",
   "execution_count": 43,
   "id": "afdb26cb",
   "metadata": {},
   "outputs": [],
   "source": [
    "import sys, os\n",
    "sys.path.append(os.path.join(os.getcwd(), '..'))\n",
    "sys.path.append(os.path.join(os.getcwd(), '..', '..'))"
   ]
  },
  {
   "cell_type": "code",
   "execution_count": 44,
   "id": "6afe19e4",
   "metadata": {},
   "outputs": [],
   "source": [
    "%matplotlib inline\n",
    "\n",
    "from session.sessions import selected_009266, selected_009265\n",
    "from imports import *\n",
    "from scipy import stats\n",
    "from loading import load_session_data\n",
    "from target import get_spike_counts\n",
    "np.set_printoptions(suppress=True)"
   ]
  },
  {
   "cell_type": "code",
   "execution_count": 45,
   "id": "dc5880ac",
   "metadata": {},
   "outputs": [
    {
     "data": {
      "application/javascript": [
       "IPython.OutputArea.prototype._should_scroll = function(lines) {\n",
       "    return false;\n",
       "}\n"
      ],
      "text/plain": [
       "<IPython.core.display.Javascript object>"
      ]
     },
     "metadata": {},
     "output_type": "display_data"
    }
   ],
   "source": [
    "%%javascript\n",
    "IPython.OutputArea.prototype._should_scroll = function(lines) {\n",
    "    return false;\n",
    "}"
   ]
  },
  {
   "cell_type": "markdown",
   "id": "d48ad348",
   "metadata": {},
   "source": [
    "### Session data"
   ]
  },
  {
   "cell_type": "code",
   "execution_count": 46,
   "id": "3d199339",
   "metadata": {
    "scrolled": true
   },
   "outputs": [
    {
     "data": {
      "text/plain": [
       "['009266_hippoSIT_2023-04-17_17-04-17',\n",
       " '009266_hippoSIT_2023-04-18_10-10-37',\n",
       " '009266_hippoSIT_2023-04-18_17-03-10',\n",
       " '009266_hippoSIT_2023-04-19_10-33-51',\n",
       " '009266_hippoSIT_2023-04-20_08-57-39',\n",
       " '009266_hippoSIT_2023-04-20_15-24-14',\n",
       " '009266_hippoSIT_2023-04-21_08-43-00',\n",
       " '009266_hippoSIT_2023-04-21_13-12-31',\n",
       " '009266_hippoSIT_2023-04-24_10-08-11',\n",
       " '009266_hippoSIT_2023-04-24_16-56-55',\n",
       " '009266_hippoSIT_2023-04-26_08-20-17',\n",
       " '009266_hippoSIT_2023-05-02_12-22-14',\n",
       " '009266_hippoSIT_2023-05-04_19-47-15',\n",
       " '009266_hippoSIT_2023-05-22_09-27-22',\n",
       " '009266_hippoSIT_2023-05-23_09-18-05',\n",
       " '009266_hippoSIT_2023-05-25_15-55-57',\n",
       " '009266_hippoSIT_2023-06-14_08-21-23',\n",
       " '009266_hippoSIT_2023-06-19_08-58-35']"
      ]
     },
     "execution_count": 46,
     "metadata": {},
     "output_type": "execute_result"
    }
   ],
   "source": [
    "sessions = [s for s in selected_009266.keys()]\n",
    "sessions.sort()\n",
    "sessions"
   ]
  },
  {
   "cell_type": "code",
   "execution_count": 47,
   "id": "dbf7c2c6",
   "metadata": {},
   "outputs": [
    {
     "data": {
      "text/plain": [
       "'009266_hippoSIT_2023-04-17_17-04-17'"
      ]
     },
     "execution_count": 47,
     "metadata": {},
     "output_type": "execute_result"
    }
   ],
   "source": [
    "session = sessions[0]\n",
    "\n",
    "session_data = load_session_data(session)\n",
    "\n",
    "tl = session_data['tl']\n",
    "trials = session_data['trials']\n",
    "cfg = session_data['cfg']\n",
    "areas = session_data['areas']\n",
    "aeps = session_data['aeps']\n",
    "aeps_events = session_data['aeps_events']\n",
    "AEP_metrics_lims = session_data['AEP_metrics_lims']\n",
    "AEP_metrics_raw = session_data['AEP_metrics_raw']\n",
    "AEP_metrics_norm = session_data['AEP_metrics_norm']\n",
    "tgt_matrix = session_data['tgt_matrix']\n",
    "single_units = session_data['single_units']\n",
    "spike_times = session_data['spike_times']\n",
    "unit_names = session_data['unit_names']\n",
    "animal = session_data['animal']\n",
    "aeps_file = session_data['aeps_file']\n",
    "h5_file = session_data['h5_file']\n",
    "report_path = session_data['report_path']\n",
    "session"
   ]
  },
  {
   "cell_type": "markdown",
   "id": "257ed5c2",
   "metadata": {},
   "source": [
    "### Choose target selective units"
   ]
  },
  {
   "cell_type": "code",
   "execution_count": 48,
   "id": "20b80d64",
   "metadata": {},
   "outputs": [],
   "source": [
    "offset    = 7.25\n",
    "bin_count = 30"
   ]
  },
  {
   "cell_type": "code",
   "execution_count": 53,
   "id": "85dbe450",
   "metadata": {},
   "outputs": [
    {
     "name": "stdout",
     "output_type": "stream",
     "text": [
      "11 units selected\n"
     ]
    }
   ],
   "source": [
    "tgt_units       = []\n",
    "idxs_succ       = np.where(tgt_matrix[:, 4] == 1)[0]\n",
    "tgt_succ_times  = tl[tgt_matrix[idxs_succ][:, 0]][:, 0]\n",
    "tgt_all_times   = tl[tgt_matrix[:, 0]][:, 0]\n",
    "\n",
    "for unit_name in unit_names:\n",
    "    with h5py.File(h5_file, 'r') as f:\n",
    "        shuffled = np.array(f['units'][unit_name]['psth_shuffled_tgt_onset'])\n",
    "    \n",
    "    # based on success trials\n",
    "    strain = spike_times[unit_name]\n",
    "    bins, counts_enter = get_spike_counts(strain, tgt_all_times, hw=offset, bin_count=bin_count)\n",
    "    zero_bin_idx = len(bins[bins < 0]) - 1\n",
    "\n",
    "    if counts_enter[zero_bin_idx] > shuffled[zero_bin_idx][3]: #or \\\n",
    "        #counts_enter[zero_bin_idx + 1] > shuffled[zero_bin_idx + 1][3]:\n",
    "        tgt_units.append(unit_name)\n",
    "        \n",
    "print(\"%d units selected\" % len(tgt_units))"
   ]
  },
  {
   "cell_type": "markdown",
   "id": "9cbfbceb",
   "metadata": {},
   "source": [
    "###  Mean population response (all / diff brain areas)"
   ]
  },
  {
   "cell_type": "code",
   "execution_count": 54,
   "id": "159b5789",
   "metadata": {},
   "outputs": [],
   "source": [
    "# unit state before entering\n",
    "# unit     = '1-10'\n",
    "# t_before = 2  # seconds\n",
    "# s_rate   = 100\n",
    "# i_rate   = single_units[unit]\n",
    "\n",
    "# idxs_before_low  = []\n",
    "# idxs_before_high = []\n",
    "# for i, tgt_record in enumerate(tgt_matrix):\n",
    "#     onset_tl_idx = tgt_record[0]\n",
    "#     m_before  = i_rate[onset_tl_idx - t_before*s_rate:onset_tl_idx]\n",
    "#     is_high = m_before.mean() > i_rate.mean()\n",
    "#     if is_high:\n",
    "#         idxs_before_high.append(i)\n",
    "#     else:\n",
    "#         idxs_before_low.append(i)\n",
    "        \n",
    "# len(idxs_before_low), len(idxs_before_high)"
   ]
  },
  {
   "cell_type": "code",
   "execution_count": 55,
   "id": "9a2a93ce",
   "metadata": {},
   "outputs": [],
   "source": [
    "hw, bc = 0.250, 41\n",
    "\n",
    "# based on success / miss\n",
    "idxs_succ = np.where(tgt_matrix[:, 4] == 1)[0]\n",
    "idxs_miss = np.where(tgt_matrix[:, 4] == 0)[0]\n",
    "\n",
    "# based on state\n",
    "#idxs_succ = idxs_before_high\n",
    "#idxs_miss = idxs_before_low\n",
    "\n",
    "psth_matrix_succ = np.zeros((len(tgt_units), bc - 1))\n",
    "psth_matrix_miss = np.zeros((len(tgt_units), bc - 1))\n",
    "labels = np.array([0 if int(unit_name[0]) < 3 else 1 for unit_name in tgt_units])  # 0, 1 - brain areas\n",
    "for i, unit_name in enumerate(tgt_units):\n",
    "    spk = spike_times[unit_name]\n",
    "    bins, counts_tgt_succ = get_spike_counts(spk, tl[tgt_matrix[idxs_succ][:, 0] +0][:, 0], hw=hw, bin_count=bc)\n",
    "    bins, counts_tgt_miss = get_spike_counts(spk, tl[tgt_matrix[idxs_miss][:, 0] +0][:, 0], hw=hw, bin_count=bc)\n",
    "    bins, counts_bgr = get_spike_counts(spk, aeps_events[aeps_events[:, 1] == 1][:, 0], hw=hw, bin_count=bc)\n",
    "\n",
    "    zero_bin_idx = len(bins[bins < 0])\n",
    "    psth_matrix_succ[i] = counts_tgt_succ / counts_bgr.mean()\n",
    "    psth_matrix_miss[i] = counts_tgt_miss / counts_bgr.mean()\n",
    "    \n",
    "#     with h5py.File(h5_file, 'r') as f:\n",
    "#         shuffled = np.array(f['units'][unit_name]['psth_shuffled_tgt_onset'])\n",
    "#     psth_matrix_succ[i] = counts_tgt_succ / shuffled[:, 1].mean()\n",
    "#     psth_matrix_miss[i] = counts_tgt_miss / shuffled[:, 1].mean()"
   ]
  },
  {
   "cell_type": "code",
   "execution_count": 56,
   "id": "008fe4c4",
   "metadata": {
    "scrolled": false
   },
   "outputs": [
    {
     "data": {
      "text/plain": [
       "Text(0, 0.5, 'Firing Rate, Hz')"
      ]
     },
     "execution_count": 56,
     "metadata": {},
     "output_type": "execute_result"
    },
    {
     "data": {
      "image/png": "[encoded data removed]",
      "text/plain": [
       "<Figure size 1008x288 with 3 Axes>"
      ]
     },
     "metadata": {
      "needs_background": "light"
     },
     "output_type": "display_data"
    }
   ],
   "source": [
    "fig, axes = plt.subplots(1, 3, figsize=(14, 4))\n",
    "\n",
    "idxs_list = [\n",
    "    list(range(len(tgt_units))),\n",
    "    np.where(labels == 0)[0],\n",
    "    np.where(labels == 1)[0],\n",
    "]\n",
    "titles = ['%s + %s' % (areas[0], areas[1]), areas[0], areas[1]]\n",
    "\n",
    "for i, idxs in enumerate(idxs_list):\n",
    "    axes[i].hist(bins[:-1], bins=bins, weights=psth_matrix_succ[idxs].sum(axis=0)/len(idxs), edgecolor='black', color='green', alpha=0.8, label='Success')\n",
    "    axes[i].hist(bins[:-1], bins=bins, weights=psth_matrix_miss[idxs].sum(axis=0)/len(idxs), edgecolor='black', color='black', alpha=0.5, label='Miss')\n",
    "    axes[i].axvline(0, color='black', ls='--')\n",
    "    axes[i].set_xlim(-hw, hw)\n",
    "    axes[i].legend(loc='upper right', prop={'size': 10})\n",
    "    axes[i].set_title(\"%s (%d)\" % (titles[i], len(idxs)), fontsize=14)\n",
    "\n",
    "axes[0].set_ylabel(\"Firing Rate, Hz\", fontsize=14)\n",
    "        \n",
    "#fig.savefig(os.path.join(report_path, 'PSTH_succ_fail_tgt_micro.pdf'))"
   ]
  },
  {
   "cell_type": "markdown",
   "id": "d837e37f",
   "metadata": {},
   "source": [
    "## Across sessions"
   ]
  },
  {
   "cell_type": "code",
   "execution_count": null,
   "id": "673a563f",
   "metadata": {},
   "outputs": [],
   "source": []
  },
  {
   "cell_type": "code",
   "execution_count": null,
   "id": "f4a83817",
   "metadata": {},
   "outputs": [],
   "source": []
  },
  {
   "cell_type": "code",
   "execution_count": null,
   "id": "3aa30c52",
   "metadata": {},
   "outputs": [],
   "source": []
  },
  {
   "cell_type": "markdown",
   "id": "79b80f4a",
   "metadata": {},
   "source": [
    "### Predict by the P1 bin"
   ]
  },
  {
   "cell_type": "code",
   "execution_count": 11,
   "id": "9d1c1b77",
   "metadata": {},
   "outputs": [],
   "source": [
    "# A1_units = [name for name in tgt_units if int(name[0]) < 3]\n",
    "# win_l, win_r = 0.013, 0.026  # P1 window, take from AEP metric lims?\n",
    "\n",
    "# # first compute BGR firing in the P1 bin for all units\n",
    "# avg_bgr_rates = np.zeros(len(A1_units))\n",
    "# for i, unit_name in enumerate(A1_units):\n",
    "#     spk_counts = []\n",
    "#     spk_times = spike_times[unit_name]\n",
    "#     for t_pulse in aeps_events[aeps_events[:, 1] == 1][:, 0]:  # all BGR pulses\n",
    "#         count = len(spk_times[(spk_times > t_pulse + win_l) & (spk_times < t_pulse + win_r)])\n",
    "#         spk_counts.append(count)\n",
    "#     avg_bgr_rates[i] = np.array(spk_counts).mean() / (win_r - win_l)\n",
    "    \n",
    "# # then for each event compute population\n",
    "# response = np.zeros(len(tgt_matrix))\n",
    "# for i, event in enumerate(tgt_matrix):\n",
    "#     # compute population response in the P1 window for each entrance event\n",
    "#     counts = 0\n",
    "#     t_pulse = aeps_events[event[2]][0]\n",
    "    \n",
    "#     for j, unit_name in enumerate(A1_units):\n",
    "#         spk_times = spike_times[unit_name]\n",
    "#         count = len(spk_times[(spk_times > t_pulse + win_l) & (spk_times < t_pulse + win_r)])\n",
    "#         counts += count\n",
    "\n",
    "#     response[i] = ((counts/len(A1_units))/(win_r - win_l))"
   ]
  },
  {
   "cell_type": "code",
   "execution_count": null,
   "id": "5b7dc6c7",
   "metadata": {},
   "outputs": [],
   "source": []
  },
  {
   "cell_type": "code",
   "execution_count": null,
   "id": "4e615c40",
   "metadata": {},
   "outputs": [],
   "source": []
  }
 ],
 "metadata": {
  "kernelspec": {
   "display_name": "Python 3 (ipykernel)",
   "language": "python",
   "name": "python3"
  },
  "language_info": {
   "codemirror_mode": {
    "name": "ipython",
    "version": 3
   },
   "file_extension": ".py",
   "mimetype": "text/x-python",
   "name": "python",
   "nbconvert_exporter": "python",
   "pygments_lexer": "ipython3",
   "version": "3.8.10"
  }
 },
 "nbformat": 4,
 "nbformat_minor": 5
}
