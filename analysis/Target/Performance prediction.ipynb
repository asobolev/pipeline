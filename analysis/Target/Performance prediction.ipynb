{
 "cells": [
  {
   "cell_type": "code",
   "execution_count": 1,
   "id": "afdb26cb",
   "metadata": {},
   "outputs": [],
   "source": [
    "import sys, os\n",
    "sys.path.append(os.path.join(os.getcwd(), '..'))\n",
    "sys.path.append(os.path.join(os.getcwd(), '..', '..'))"
   ]
  },
  {
   "cell_type": "code",
   "execution_count": 2,
   "id": "6afe19e4",
   "metadata": {},
   "outputs": [],
   "source": [
    "%matplotlib inline\n",
    "\n",
    "import pandas as pd\n",
    "from session.sessions import selected_009266, selected_008229, selected_009265\n",
    "from imports import *\n",
    "from scipy import stats\n",
    "from loading import load_session_data\n",
    "from target import get_spike_counts\n",
    "from statsmodels.formula.api import ols, glm\n",
    "from sklearn.linear_model import LogisticRegression\n",
    "from sklearn.model_selection import train_test_split\n",
    "from sklearn.model_selection import train_test_split\n",
    "from sklearn import metrics\n",
    "\n",
    "np.set_printoptions(suppress=True)"
   ]
  },
  {
   "cell_type": "code",
   "execution_count": 3,
   "id": "dc5880ac",
   "metadata": {},
   "outputs": [
    {
     "data": {
      "application/javascript": [
       "IPython.OutputArea.prototype._should_scroll = function(lines) {\n",
       "    return false;\n",
       "}\n"
      ],
      "text/plain": [
       "<IPython.core.display.Javascript object>"
      ]
     },
     "metadata": {},
     "output_type": "display_data"
    }
   ],
   "source": [
    "%%javascript\n",
    "IPython.OutputArea.prototype._should_scroll = function(lines) {\n",
    "    return false;\n",
    "}"
   ]
  },
  {
   "cell_type": "code",
   "execution_count": 65,
   "id": "1b0f6971",
   "metadata": {},
   "outputs": [
    {
     "data": {
      "text/plain": [
       "['009265_hippoSIT_2023-02-24_09-53-26',\n",
       " '009265_hippoSIT_2023-02-24_17-22-46',\n",
       " '009265_hippoSIT_2023-02-27_10-18-32',\n",
       " '009265_hippoSIT_2023-02-27_15-33-46',\n",
       " '009265_hippoSIT_2023-02-28_09-16-50',\n",
       " '009265_hippoSIT_2023-02-28_13-16-10',\n",
       " '009265_hippoSIT_2023-02-28_20-45-04',\n",
       " '009265_hippoSIT_2023-03-01_10-46-12',\n",
       " '009265_hippoSIT_2023-03-02_09-32-54',\n",
       " '009265_hippoSIT_2023-03-02_16-27-42',\n",
       " '009265_hippoSIT_2023-03-02_20-11-35',\n",
       " '009265_hippoSIT_2023-03-03_09-37-07',\n",
       " '009265_hippoSIT_2023-03-03_16-00-47',\n",
       " '009265_hippoSIT_2023-03-04_11-12-04',\n",
       " '009265_hippoSIT_2023-03-05_11-52-17',\n",
       " '009265_hippoSIT_2023-03-05_18-31-32',\n",
       " '009265_hippoSIT_2023-03-08_18-10-07',\n",
       " '009265_hippoSIT_2023-03-09_20-03-08',\n",
       " '009265_hippoSIT_2023-03-10_09-57-34',\n",
       " '009265_hippoSIT_2023-04-13_09-54-39',\n",
       " '009265_hippoSIT_2023-04-20_11-39-02']"
      ]
     },
     "execution_count": 65,
     "metadata": {},
     "output_type": "execute_result"
    }
   ],
   "source": [
    "sessions = [s for s in selected_009265.keys()]\n",
    "sessions.sort()\n",
    "sessions"
   ]
  },
  {
   "cell_type": "markdown",
   "id": "a9c1688b",
   "metadata": {},
   "source": [
    "## Based on AEP metrics"
   ]
  },
  {
   "cell_type": "code",
   "execution_count": 66,
   "id": "bd7b1836",
   "metadata": {},
   "outputs": [],
   "source": [
    "def build_AEP_AM(session, area, win_l_idx=0, win_r_idx=8):\n",
    "    session_data = load_session_data(session)\n",
    "    AEP_metrics_norm = session_data['AEP_metrics_norm']\n",
    "    tgt_matrix       = session_data['tgt_matrix']\n",
    "\n",
    "    # use only records with enough AEPs in target\n",
    "    tgt_mx_filt = tgt_matrix[tgt_matrix[:, 3] - tgt_matrix[:, 2] >= win_r_idx]\n",
    "\n",
    "    metric_names = ['P1', 'N1', 'P2', 'P3']  # ensure order\n",
    "    AEP_resp_mx = np.zeros([len(tgt_mx_filt), (win_r_idx - win_l_idx)*len(metric_names)])\n",
    "    for i, tgt_record in enumerate(tgt_mx_filt):\n",
    "        AEP_mx = np.zeros([win_r_idx - win_l_idx, len(metric_names)])\n",
    "        for j, AEP_rel_idx in enumerate(np.arange(win_l_idx, win_r_idx)):\n",
    "            for k, m_name in enumerate(metric_names):\n",
    "                AEP_mx[j, k] = AEP_metrics_norm[area][m_name][tgt_record[2] + AEP_rel_idx]\n",
    "        AEP_resp_mx[i] = AEP_mx.flatten()\n",
    "        \n",
    "    # AEP flattened response matrix + labels (success/miss)\n",
    "    return AEP_resp_mx, tgt_mx_filt[:, 4]"
   ]
  },
  {
   "cell_type": "code",
   "execution_count": 97,
   "id": "ac7771c8",
   "metadata": {},
   "outputs": [],
   "source": [
    "def get_LR_scores(AEP_mx, labels, iter_count=1000, shuffle=False, test_size=0.33):\n",
    "    logisticRegr = LogisticRegression(max_iter=500)\n",
    "    scores  = np.zeros(iter_count)\n",
    "    conf_mx = np.zeros([iter_count, 2, 2])\n",
    "\n",
    "    for i in range(iter_count):\n",
    "        lbls = labels.copy()\n",
    "        if shuffle:\n",
    "            np.random.shuffle(lbls)\n",
    "        \n",
    "        # split train / test\n",
    "        x_train, x_test, y_train, y_test = train_test_split(AEP_mx, lbls, test_size=test_size)\n",
    "        if len(np.unique(y_train)) == 1 or len(np.unique(y_test)) == 1:\n",
    "            continue\n",
    "        \n",
    "        # fit logistic regression\n",
    "        logisticRegr.fit(x_train, y_train)\n",
    "        predictions = logisticRegr.predict(x_test)\n",
    "        scores[i]   = logisticRegr.score(x_test, y_test)\n",
    "        conf_mx[i]  = metrics.confusion_matrix(y_test, predictions)\n",
    "        \n",
    "    return scores, conf_mx"
   ]
  },
  {
   "cell_type": "code",
   "execution_count": 76,
   "id": "414e9dd6",
   "metadata": {
    "scrolled": true
   },
   "outputs": [],
   "source": [
    "session = sessions[8]\n",
    "area = 'A1'\n",
    "win_l_idx = -8  # how many AEPs before target to take into account\n",
    "win_r_idx = 2  # how many AEPs in target to take into account\n",
    "\n",
    "AEP_resp_mx, labels = build_AEP_AM(session, area, win_l_idx, win_r_idx)\n",
    "\n",
    "scores, conf_mx = get_LR_scores(AEP_resp_mx, labels)\n",
    "scores_shuf, conf_mx_shuf = get_LR_scores(AEP_resp_mx, labels, shuffle=True)"
   ]
  },
  {
   "cell_type": "code",
   "execution_count": 77,
   "id": "d5cc8b2e",
   "metadata": {},
   "outputs": [
    {
     "data": {
      "image/png": "[encoded data removed]",
      "text/plain": [
       "<Figure size 288x216 with 1 Axes>"
      ]
     },
     "metadata": {
      "needs_background": "light"
     },
     "output_type": "display_data"
    }
   ],
   "source": [
    "fig, ax = plt.subplots(1, 1, figsize=(4, 3))\n",
    "ax.hist(scores, bins=np.linspace(0, 1, 20), edgecolor='black', color='red', alpha=0.5)\n",
    "ax.hist(scores_shuf, bins=np.linspace(0, 1, 20), edgecolor='black', color='tab:blue', alpha=0.5)\n",
    "ax.axvline(scores.mean(), ls='--', color='red')\n",
    "ax.axvline(scores_shuf.mean(), ls='--', color='tab:blue')\n",
    "ax.axvline(0.5, color='black')\n",
    "ax.set_title('Mean score: %.2f (sh. %.2f)' % (scores.mean(), scores_shuf.mean()), fontsize=14)\n",
    "ax.set_xlim(0, 1)\n",
    "ax.grid()"
   ]
  },
  {
   "cell_type": "code",
   "execution_count": 78,
   "id": "5263324c",
   "metadata": {},
   "outputs": [
    {
     "data": {
      "text/plain": [
       "<matplotlib.image.AxesImage at 0x7f90eadd2190>"
      ]
     },
     "execution_count": 78,
     "metadata": {},
     "output_type": "execute_result"
    },
    {
     "data": {
      "image/png": "[encoded data removed]",
      "text/plain": [
       "<Figure size 432x288 with 1 Axes>"
      ]
     },
     "metadata": {
      "needs_background": "light"
     },
     "output_type": "display_data"
    }
   ],
   "source": [
    "plt.imshow(np.column_stack([AEP_resp_mx, labels]))"
   ]
  },
  {
   "cell_type": "markdown",
   "id": "7a4cb72f",
   "metadata": {},
   "source": [
    "## Based on population activity"
   ]
  },
  {
   "cell_type": "code",
   "execution_count": 132,
   "id": "2b633409",
   "metadata": {},
   "outputs": [],
   "source": [
    "session = sessions[5]\n",
    "area = 'A1'\n",
    "\n",
    "session_data = load_session_data(session)\n",
    "tl          = session_data['tl']\n",
    "tgt_matrix  = session_data['tgt_matrix']\n",
    "spike_times = session_data['spike_times']\n",
    "unit_names  = session_data['unit_names']\n",
    "h5_file = session_data['h5_file']"
   ]
  },
  {
   "cell_type": "code",
   "execution_count": 133,
   "id": "20b80d64",
   "metadata": {},
   "outputs": [],
   "source": [
    "offset    = 7.25\n",
    "bin_count = 30"
   ]
  },
  {
   "cell_type": "code",
   "execution_count": 134,
   "id": "85dbe450",
   "metadata": {},
   "outputs": [
    {
     "name": "stdout",
     "output_type": "stream",
     "text": [
      "8 units selected\n"
     ]
    }
   ],
   "source": [
    "tgt_units       = []\n",
    "idxs_succ       = np.where(tgt_matrix[:, 4] == 1)[0]\n",
    "tgt_succ_times  = tl[tgt_matrix[idxs_succ][:, 0]][:, 0]\n",
    "\n",
    "for unit_name in unit_names:\n",
    "    with h5py.File(h5_file, 'r') as f:\n",
    "        shuffled = np.array(f['units'][unit_name]['psth_shuffled_tgt_onset'])\n",
    "    \n",
    "    # based on success trials\n",
    "    strain = spike_times[unit_name]\n",
    "    bins, counts_enter = get_spike_counts(strain, tgt_succ_times, hw=offset, bin_count=bin_count)\n",
    "    zero_bin_idx = len(bins[bins < 0]) - 1\n",
    "\n",
    "    if counts_enter[zero_bin_idx] > shuffled[zero_bin_idx][3]: #or \\\n",
    "        #counts_enter[zero_bin_idx + 1] > shuffled[zero_bin_idx + 1][3]:\n",
    "        tgt_units.append(unit_name)\n",
    "        \n",
    "print(\"%d units selected\" % len(tgt_units))"
   ]
  },
  {
   "cell_type": "code",
   "execution_count": 135,
   "id": "45909c67",
   "metadata": {},
   "outputs": [],
   "source": [
    "# try to include only selective units (tgt onset, or lowering FR in tgt)"
   ]
  },
  {
   "cell_type": "code",
   "execution_count": 136,
   "id": "f918a978",
   "metadata": {},
   "outputs": [
    {
     "data": {
      "text/plain": [
       "(8, 23992)"
      ]
     },
     "execution_count": 136,
     "metadata": {},
     "output_type": "execute_result"
    }
   ],
   "source": [
    "# build activity matrix\n",
    "sel_units = unit_names\n",
    "sel_units = tgt_units\n",
    "\n",
    "bin_size = 0.4  # sec\n",
    "step = 0.1  # sec \n",
    "t_start, t_end = int(tl[0][0]), int(tl[-1][0])\n",
    "bc = int((t_end - t_start) / bin_size) + 1\n",
    "exp_coef = round(bin_size/step)\n",
    "bins = np.linspace(t_start, t_end, bc)\n",
    "unit_act_matrix = np.zeros([len(sel_units), len(bins) * exp_coef])\n",
    "\n",
    "for i, unit in enumerate(sel_units):\n",
    "    spikes = spike_times[unit]\n",
    "    for offset in range(exp_coef):\n",
    "        bins = np.linspace(t_start + offset*step, t_end + offset*step, bc)\n",
    "        vals, _ = np.histogram(spikes, bins=bins)\n",
    "        idxs = np.arange(offset, (bc - 1) * exp_coef, exp_coef)\n",
    "        unit_act_matrix[i][idxs] = vals\n",
    "        \n",
    "for i, unit_data in enumerate(unit_act_matrix):\n",
    "    unit_act_matrix[i] = stats.zscore(unit_data)\n",
    "    \n",
    "unit_act_matrix.shape  # 10 Hz"
   ]
  },
  {
   "cell_type": "code",
   "execution_count": 137,
   "id": "184bb586",
   "metadata": {},
   "outputs": [
    {
     "name": "stdout",
     "output_type": "stream",
     "text": [
      "shape mismatch in 0\n"
     ]
    }
   ],
   "source": [
    "win_l_idx = -3  # seconds before target\n",
    "win_r_idx = 2   # seconds after target\n",
    "psth_matrix  = np.zeros([len(tgt_matrix), int((win_r_idx - win_l_idx)/step)])\n",
    "\n",
    "for i, tgt_record in enumerate(tgt_matrix):\n",
    "    am_idx = int(tgt_record[0]*step)\n",
    "    pop_response = unit_act_matrix[:, am_idx + int(win_l_idx/step):am_idx + int(win_r_idx/step)].sum(axis=0)\n",
    "    if len(pop_response) == psth_matrix.shape[1]:\n",
    "        psth_matrix[i] = pop_response\n",
    "    else:\n",
    "        print('shape mismatch in %s' % i)"
   ]
  },
  {
   "cell_type": "code",
   "execution_count": 138,
   "id": "d4ea751e",
   "metadata": {},
   "outputs": [],
   "source": [
    "non_zero_idxs = np.where(psth_matrix.any(axis=1))[0]\n",
    "\n",
    "data   = psth_matrix[non_zero_idxs]\n",
    "labels = tgt_matrix[:, 4][non_zero_idxs]\n",
    "\n",
    "scores, conf_mx = get_LR_scores(data, labels, iter_count=1000)\n",
    "scores_shuf, conf_mx_shuf = get_LR_scores(data, labels, iter_count=1000, shuffle=True)"
   ]
  },
  {
   "cell_type": "code",
   "execution_count": 139,
   "id": "ee21b690",
   "metadata": {},
   "outputs": [
    {
     "data": {
      "image/png": "[encoded data removed]",
      "text/plain": [
       "<Figure size 288x288 with 1 Axes>"
      ]
     },
     "metadata": {
      "needs_background": "light"
     },
     "output_type": "display_data"
    }
   ],
   "source": [
    "fig, ax = plt.subplots(1, 1, figsize=(4, 4))\n",
    "ax.hist(scores, bins=np.linspace(0, 1, 20), edgecolor='black', color='red', alpha=0.5)\n",
    "ax.hist(scores_shuf, bins=np.linspace(0, 1, 20), edgecolor='black', color='tab:blue', alpha=0.5)\n",
    "ax.axvline(scores.mean(), ls='--', color='red')\n",
    "ax.axvline(scores_shuf.mean(), ls='--', color='tab:blue')\n",
    "ax.axvline(0.5, color='black')\n",
    "ax.set_title('Mean score: %.2f (sh. %.2f)' % (scores.mean(), scores_shuf.mean()), fontsize=14)\n",
    "ax.set_xlim(0, 1)\n",
    "ax.grid()"
   ]
  },
  {
   "cell_type": "code",
   "execution_count": null,
   "id": "fff30184",
   "metadata": {},
   "outputs": [],
   "source": []
  },
  {
   "cell_type": "code",
   "execution_count": null,
   "id": "42b9d691",
   "metadata": {},
   "outputs": [],
   "source": []
  },
  {
   "cell_type": "markdown",
   "id": "c8cfa7ad",
   "metadata": {},
   "source": [
    "## TODO: Based on the full AEP shape"
   ]
  },
  {
   "cell_type": "code",
   "execution_count": null,
   "id": "78bd6054",
   "metadata": {},
   "outputs": [],
   "source": []
  }
 ],
 "metadata": {
  "kernelspec": {
   "display_name": "Python 3 (ipykernel)",
   "language": "python",
   "name": "python3"
  },
  "language_info": {
   "codemirror_mode": {
    "name": "ipython",
    "version": 3
   },
   "file_extension": ".py",
   "mimetype": "text/x-python",
   "name": "python",
   "nbconvert_exporter": "python",
   "pygments_lexer": "ipython3",
   "version": "3.8.10"
  }
 },
 "nbformat": 4,
 "nbformat_minor": 5
}
