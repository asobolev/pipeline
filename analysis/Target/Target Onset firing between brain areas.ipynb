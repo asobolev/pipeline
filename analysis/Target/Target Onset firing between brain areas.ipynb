{
 "cells": [
  {
   "cell_type": "code",
   "execution_count": 117,
   "id": "afdb26cb",
   "metadata": {},
   "outputs": [],
   "source": [
    "import sys, os\n",
    "sys.path.append(os.path.join(os.getcwd(), '..'))\n",
    "sys.path.append(os.path.join(os.getcwd(), '..', '..'))"
   ]
  },
  {
   "cell_type": "code",
   "execution_count": 118,
   "id": "6afe19e4",
   "metadata": {},
   "outputs": [],
   "source": [
    "%matplotlib inline\n",
    "\n",
    "from session.sessions import selected_009266\n",
    "from imports import *\n",
    "from scipy import stats\n",
    "from loading import load_session_data\n",
    "from target import get_spike_counts\n",
    "np.set_printoptions(suppress=True)"
   ]
  },
  {
   "cell_type": "code",
   "execution_count": 119,
   "id": "dc5880ac",
   "metadata": {},
   "outputs": [
    {
     "data": {
      "application/javascript": [
       "IPython.OutputArea.prototype._should_scroll = function(lines) {\n",
       "    return false;\n",
       "}\n"
      ],
      "text/plain": [
       "<IPython.core.display.Javascript object>"
      ]
     },
     "metadata": {},
     "output_type": "display_data"
    }
   ],
   "source": [
    "%%javascript\n",
    "IPython.OutputArea.prototype._should_scroll = function(lines) {\n",
    "    return false;\n",
    "}"
   ]
  },
  {
   "cell_type": "markdown",
   "id": "d48ad348",
   "metadata": {},
   "source": [
    "### Session data"
   ]
  },
  {
   "cell_type": "code",
   "execution_count": 120,
   "id": "3d199339",
   "metadata": {
    "scrolled": true
   },
   "outputs": [
    {
     "data": {
      "text/plain": [
       "['009266_hippoSIT_2023-04-17_17-04-17',\n",
       " '009266_hippoSIT_2023-04-18_10-10-37',\n",
       " '009266_hippoSIT_2023-04-18_17-03-10',\n",
       " '009266_hippoSIT_2023-04-19_10-33-51',\n",
       " '009266_hippoSIT_2023-04-24_16-56-55',\n",
       " '009266_hippoSIT_2023-05-02_12-22-14',\n",
       " '009266_hippoSIT_2023-04-20_08-57-39',\n",
       " '009266_hippoSIT_2023-04-26_08-20-17',\n",
       " '009266_hippoSIT_2023-05-04_19-47-15',\n",
       " '009266_hippoSIT_2023-04-20_15-24-14',\n",
       " '009266_hippoSIT_2023-04-21_08-43-00',\n",
       " '009266_hippoSIT_2023-04-21_13-12-31',\n",
       " '009266_hippoSIT_2023-04-24_10-08-11',\n",
       " '009266_hippoSIT_2023-05-04_09-11-06',\n",
       " '009266_hippoSIT_2023-05-22_09-27-22',\n",
       " '009266_hippoSIT_2023-05-23_09-18-05',\n",
       " '009266_hippoSIT_2023-05-25_15-55-57',\n",
       " '009266_hippoSIT_2023-06-14_08-21-23',\n",
       " '009266_hippoSIT_2023-06-19_08-58-35']"
      ]
     },
     "execution_count": 120,
     "metadata": {},
     "output_type": "execute_result"
    }
   ],
   "source": [
    "selected_009266"
   ]
  },
  {
   "cell_type": "code",
   "execution_count": 121,
   "id": "dbf7c2c6",
   "metadata": {},
   "outputs": [
    {
     "data": {
      "text/plain": [
       "'009266_hippoSIT_2023-05-04_19-47-15'"
      ]
     },
     "execution_count": 121,
     "metadata": {},
     "output_type": "execute_result"
    }
   ],
   "source": [
    "session = selected_009266[8]\n",
    "\n",
    "session_data = load_session_data(session)\n",
    "\n",
    "tl = session_data['tl']\n",
    "trials = session_data['trials']\n",
    "cfg = session_data['cfg']\n",
    "areas = session_data['areas']\n",
    "aeps = session_data['aeps']\n",
    "AEP_metrics_lims = session_data['AEP_metrics_lims']\n",
    "AEP_metrics_raw = session_data['AEP_metrics_raw']\n",
    "AEP_metrics_norm = session_data['AEP_metrics_norm']\n",
    "tgt_matrix = session_data['tgt_matrix']\n",
    "single_units = session_data['single_units']\n",
    "spike_times = session_data['spike_times']\n",
    "unit_names = session_data['unit_names']\n",
    "animal = session_data['animal']\n",
    "aeps_file = session_data['aeps_file']\n",
    "h5_file = session_data['h5_file']\n",
    "report_path = session_data['report_path']\n",
    "session"
   ]
  },
  {
   "cell_type": "markdown",
   "id": "257ed5c2",
   "metadata": {},
   "source": [
    "### Choose target selective units"
   ]
  },
  {
   "cell_type": "code",
   "execution_count": 122,
   "id": "20b80d64",
   "metadata": {},
   "outputs": [],
   "source": [
    "offset    = 7.25\n",
    "bin_count = 30"
   ]
  },
  {
   "cell_type": "code",
   "execution_count": 123,
   "id": "85dbe450",
   "metadata": {},
   "outputs": [
    {
     "name": "stdout",
     "output_type": "stream",
     "text": [
      "14 units selected\n"
     ]
    }
   ],
   "source": [
    "tgt_units       = []\n",
    "idxs_succ       = np.where(tgt_matrix[:, 4] == 1)[0]\n",
    "tgt_succ_times  = tl[tgt_matrix[idxs_succ][:, 0]][:, 0]\n",
    "\n",
    "for unit_name in unit_names:\n",
    "    with h5py.File(h5_file, 'r') as f:\n",
    "        shuffled = np.array(f['units'][unit_name]['psth_shuffled_tgt_onset'])\n",
    "    \n",
    "    # based on success trials\n",
    "    strain = spike_times[unit_name]\n",
    "    bins, counts_enter = get_spike_counts(strain, tgt_succ_times, hw=offset, bin_count=bin_count)\n",
    "    zero_bin_idx = len(bins[bins < 0]) - 1\n",
    "\n",
    "    if counts_enter[zero_bin_idx] > shuffled[zero_bin_idx][3]: #or \\\n",
    "        #counts_enter[zero_bin_idx + 1] > shuffled[zero_bin_idx + 1][3]:\n",
    "        tgt_units.append(unit_name)\n",
    "        \n",
    "print(\"%d units selected\" % len(tgt_units))"
   ]
  },
  {
   "cell_type": "markdown",
   "id": "02e02e0c",
   "metadata": {},
   "source": [
    "### Compute onset population firing rates"
   ]
  },
  {
   "cell_type": "code",
   "execution_count": 124,
   "id": "05b626a3",
   "metadata": {},
   "outputs": [],
   "source": [
    "offset = 0.25  # sec\n",
    "\n",
    "# get FR means at onset\n",
    "means_at_onset = np.zeros(len(tgt_units))\n",
    "for i, unit_name in enumerate(tgt_units):\n",
    "    with h5py.File(h5_file, 'r') as f:\n",
    "        shuffled = np.array(f['units'][unit_name]['psth_shuffled_tgt_onset'])\n",
    "    bins = shuffled[:, 0]\n",
    "    zero_bin_idx = len(bins[bins < 0]) - 1\n",
    "    means_at_onset[i] = shuffled[zero_bin_idx][1]  # mean\n",
    "\n",
    "# compute population mean matrix at target onsets\n",
    "rel_frs = np.zeros( (len(tgt_matrix), len(tgt_units)))\n",
    "labels  = np.array([0 if int(unit_name[0]) < 3 else 1 for unit_name in tgt_units])\n",
    "for i, tgt_record in enumerate(tgt_matrix):\n",
    "    entrance_time  = tl[tgt_record[0]][0]\n",
    "    \n",
    "    for j, unit_name in enumerate(tgt_units):\n",
    "        spk_times = spike_times[unit_name]\n",
    "        spike_count = spk_times[(spk_times > entrance_time - offset) & (spk_times < entrance_time + offset)]\n",
    "        fr = len(spike_count) / (2*offset)  # actual firing\n",
    "        rel_fr = fr / means_at_onset[j]     # relative to mean\n",
    "        rel_frs[i, j] = rel_fr"
   ]
  },
  {
   "cell_type": "code",
   "execution_count": 125,
   "id": "2367c5f3",
   "metadata": {},
   "outputs": [
    {
     "data": {
      "image/png": "[encoded data removed]",
      "text/plain": [
       "<Figure size 288x288 with 1 Axes>"
      ]
     },
     "metadata": {
      "needs_background": "light"
     },
     "output_type": "display_data"
    }
   ],
   "source": [
    "fig, ax = plt.subplots(1, 1, figsize=(4, 4))\n",
    "\n",
    "area_1_idxs = np.where(labels == 0)[0]\n",
    "area_2_idxs = np.where(labels == 1)[0]\n",
    "means_1 = rel_frs[:, area_1_idxs].mean(axis=1)\n",
    "means_2 = rel_frs[:, area_2_idxs].mean(axis=1)\n",
    "d_max = means_1.max() if means_1.max() > means_2.max() else means_2.max()\n",
    "regress = stats.linregress(means_1, means_2)\n",
    "x = np.array([0, d_max])\n",
    "y = regress[0] * x + regress[1]\n",
    "\n",
    "ax.scatter(means_1, means_2)\n",
    "ax.plot(x, y)\n",
    "ax.set_xlim(0, 1.1*d_max)\n",
    "ax.set_ylim(0, 1.1*d_max)\n",
    "ax.set_title(\"p: %4f\" % regress[3], fontsize=14)\n",
    "ax.set_xlabel('Pop. FR at TGT Onset, %s' % areas[0], fontsize=14)\n",
    "ax.set_ylabel('Pop. FR at TGT Onset, %s' % areas[1], fontsize=14)\n",
    "ax.grid()"
   ]
  },
  {
   "cell_type": "code",
   "execution_count": null,
   "id": "042447ed",
   "metadata": {},
   "outputs": [],
   "source": []
  }
 ],
 "metadata": {
  "kernelspec": {
   "display_name": "Python 3 (ipykernel)",
   "language": "python",
   "name": "python3"
  },
  "language_info": {
   "codemirror_mode": {
    "name": "ipython",
    "version": 3
   },
   "file_extension": ".py",
   "mimetype": "text/x-python",
   "name": "python",
   "nbconvert_exporter": "python",
   "pygments_lexer": "ipython3",
   "version": "3.8.10"
  }
 },
 "nbformat": 4,
 "nbformat_minor": 5
}
