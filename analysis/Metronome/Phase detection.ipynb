{
 "cells": [
  {
   "cell_type": "code",
   "execution_count": 2,
   "id": "30c3da45",
   "metadata": {},
   "outputs": [],
   "source": [
    "import sys, os\n",
    "sys.path.append(os.path.join(os.getcwd(), '..'))\n",
    "sys.path.append(os.path.join(os.getcwd(), '..', '..'))"
   ]
  },
  {
   "cell_type": "code",
   "execution_count": 3,
   "id": "94525066",
   "metadata": {},
   "outputs": [],
   "source": [
    "%matplotlib inline\n",
    "\n",
    "from session.sessions import selected_009266, selected_008229, selected_009265\n",
    "from imports import *\n",
    "from matplotlib.patches import ConnectionPatch\n",
    "from scipy.stats import pearsonr\n",
    "from scipy import stats, signal\n",
    "from loading import load_session_data\n",
    "from target import build_tgt_matrix, get_spike_counts, build_silence_and_noise_events,\\\n",
    "        get_idxs_of_event_periods, build_silence_matrix, get_spike_times_at\n",
    "from hallucinations import get_pop_resp_profile_mx\n",
    "\n",
    "np.set_printoptions(suppress=True)"
   ]
  },
  {
   "cell_type": "code",
   "execution_count": 4,
   "id": "26ba4176",
   "metadata": {},
   "outputs": [
    {
     "data": {
      "application/javascript": [
       "IPython.OutputArea.prototype._should_scroll = function(lines) {\n",
       "    return false;\n",
       "}\n"
      ],
      "text/plain": [
       "<IPython.core.display.Javascript object>"
      ]
     },
     "metadata": {},
     "output_type": "display_data"
    }
   ],
   "source": [
    "%%javascript\n",
    "IPython.OutputArea.prototype._should_scroll = function(lines) {\n",
    "    return false;\n",
    "}"
   ]
  },
  {
   "cell_type": "code",
   "execution_count": 162,
   "id": "5c8be58c",
   "metadata": {
    "scrolled": false
   },
   "outputs": [
    {
     "data": {
      "text/plain": [
       "['008229_hippoSIT_2022-05-16_20-36-44',\n",
       " '008229_hippoSIT_2022-05-17_21-44-43',\n",
       " '008229_hippoSIT_2022-05-18_14-36-18',\n",
       " '008229_hippoSIT_2022-05-20_15-54-39']"
      ]
     },
     "execution_count": 162,
     "metadata": {},
     "output_type": "execute_result"
    }
   ],
   "source": [
    "sessions = [s for s in selected_008229.keys()]\n",
    "sessions.sort()\n",
    "sessions"
   ]
  },
  {
   "cell_type": "code",
   "execution_count": 163,
   "id": "32103cbe",
   "metadata": {},
   "outputs": [
    {
     "data": {
      "text/plain": [
       "['008229_hippoSIT_2022-05-16_20-36-44',\n",
       " '008229_hippoSIT_2022-05-17_21-44-43',\n",
       " '008229_hippoSIT_2022-05-18_14-36-18',\n",
       " '008229_hippoSIT_2022-05-20_15-54-39']"
      ]
     },
     "execution_count": 163,
     "metadata": {},
     "output_type": "execute_result"
    }
   ],
   "source": [
    "selected = sessions[:]\n",
    "selected"
   ]
  },
  {
   "cell_type": "code",
   "execution_count": 164,
   "id": "27d213df",
   "metadata": {
    "scrolled": false
   },
   "outputs": [
    {
     "name": "stdout",
     "output_type": "stream",
     "text": [
      "Session 2022-05-16 done\n",
      "Session 2022-05-17 done\n",
      "Session 2022-05-18 done\n",
      "Session 2022-05-20 done\n"
     ]
    }
   ],
   "source": [
    "for session in selected:\n",
    "    session_data = load_session_data(session, load_aeps=False)\n",
    "\n",
    "    animal = session.split('_')[0]\n",
    "    tl = session_data['tl']\n",
    "    single_units = session_data['single_units']\n",
    "    spike_times = session_data['spike_times']\n",
    "    unit_names = session_data['unit_names']\n",
    "    h5_file = session_data['h5_file']\n",
    "    metronome_file = os.path.join(source, animal, session, 'metronome.h5')\n",
    "\n",
    "    # build response profile matrix\n",
    "    hw, bc = 0.25, 31\n",
    "    profile_mx, bins_prof = get_pop_resp_profile_mx(source, session, unit_names, hw, bc)\n",
    "    profile_mx_half = profile_mx[:, 15:]\n",
    "    \n",
    "    # read unit activity matrices\n",
    "    iter_count = 1000\n",
    "    idx_sl_max = 600  # maximum time to get prediction slice\n",
    "    with h5py.File(metronome_file, 'r') as f:\n",
    "        unit_amx_all = np.array(f['unit_amx_silence_after_noise'])\n",
    "        \n",
    "    bin_count = 30\n",
    "    phase_det  = np.zeros([iter_count, 3]) # true, original and shuffled detections\n",
    "    slices_orig = np.zeros([iter_count, bin_count])\n",
    "    slices_shuf = np.zeros([iter_count, bin_count])\n",
    "    slices = [slices_orig, slices_shuf]\n",
    "\n",
    "    for i in range(iter_count):\n",
    "        # getting random original / shuffled activity matrices\n",
    "        idx = np.random.randint(unit_amx_all.shape[0])\n",
    "        uam_orig = unit_amx_all[idx]\n",
    "        uam_shuf = np.random.default_rng().permuted(uam_orig, axis=1)\n",
    "        #uam_shuf = np.random.default_rng().permuted(uam_shuf, axis=0)\n",
    "\n",
    "        # select a random 0.25s slice\n",
    "        idx_sl_start = np.random.randint(idx_sl_max - bin_count)\n",
    "        sl_l_idx, sl_r_idx = idx_sl_start, idx_sl_start + bin_count\n",
    "        u_slice_orig = uam_orig[:, sl_l_idx:sl_r_idx]\n",
    "        u_slice_shuf = uam_shuf[:, sl_l_idx:sl_r_idx]\n",
    "\n",
    "        # CCR matrix for slices\n",
    "        dph = []\n",
    "        for j, sl in enumerate([u_slice_orig, u_slice_shuf]):\n",
    "            slice_CCR_mx = np.zeros(sl.shape)\n",
    "            for unit_idx in range(len(profile_mx_half)):\n",
    "                prof = profile_mx_half[unit_idx]\n",
    "                spks = sl[unit_idx]\n",
    "                slice_CCR_mx[unit_idx] = signal.correlate(spks, prof, mode='same')\n",
    "            slices[j][i] = slice_CCR_mx.mean(axis=0)\n",
    "            dph.append(slice_CCR_mx.mean(axis=0)[7:22].argmax())\n",
    "\n",
    "        # collect detections\n",
    "        phase_det[i] = np.array([15 - idx_sl_start % 15, dph[0], dph[1]])\n",
    "        \n",
    "    with h5py.File(metronome_file, 'a') as f:\n",
    "        if 'phase_detection_after_noise' in f:\n",
    "            del f['phase_detection_after_noise']\n",
    "        f.create_dataset('phase_detection_after_noise', data=phase_det)\n",
    "    print('Session %s done' % session[-19:-9])"
   ]
  },
  {
   "cell_type": "markdown",
   "id": "400afe34",
   "metadata": {},
   "source": [
    "## Single session prediction / shuffle"
   ]
  },
  {
   "cell_type": "code",
   "execution_count": 137,
   "id": "cfe5db52",
   "metadata": {
    "scrolled": false
   },
   "outputs": [
    {
     "data": {
      "image/png": "[encoded data removed]",
      "text/plain": [
       "<Figure size 288x288 with 1 Axes>"
      ]
     },
     "metadata": {
      "needs_background": "light"
     },
     "output_type": "display_data"
    }
   ],
   "source": [
    "session = sessions[1]\n",
    "\n",
    "with h5py.File(metronome_file, 'r') as f:\n",
    "    phase_det = np.array(f['phase_detection_after_noise'])\n",
    "    \n",
    "delta_phase_orig = (phase_det[:, 0] - phase_det[:, 1])\n",
    "delta_phase_orig = delta_phase_orig % 15\n",
    "delta_phase_shuf = (phase_det[:, 0] - phase_det[:, 2])\n",
    "delta_phase_shuf = delta_phase_shuf % 15\n",
    "\n",
    "vals_orig, bins = np.histogram(delta_phase_orig, bins=np.linspace(0, 15, 16))\n",
    "vals_shuf, bins = np.histogram(delta_phase_shuf, bins=np.linspace(0, 15, 16))\n",
    "\n",
    "fig, ax = plt.subplots(1, 1, figsize=(4,4))\n",
    "\n",
    "ax.hist(bins[:-1], bins=bins, weights=vals_orig, edgecolor='black', color='navy', alpha=0.9, label='Predicted')\n",
    "ax.hist(bins[:-1], bins=bins, weights=vals_shuf, edgecolor='black', color='tab:purple', alpha=0.7, label='Shuffle')\n",
    "ax.set_title('Diff. actual - predicted phase', fontsize=14)\n",
    "ax.set_xlabel('Time, s', fontsize=14)\n",
    "ax.set_ylabel('Iterations, #', fontsize=14)\n",
    "ax.axhline(1000/15, ls='--', lw=3, color='tab:green', label='Chance')\n",
    "ax.legend(loc='upper right')\n",
    "_ = ax.set_xticks(np.arange(0, 16, 3))\n",
    "_ = ax.set_xticklabels([\"%.2f\" % x for x in np.arange(0, 0.3, 3*0.05/3)], fontsize=10)\n",
    "fig.tight_layout()\n",
    "#fig.savefig(os.path.join(report, 'Hall', 'diff_act_pred_phase.png'), dpi=500)"
   ]
  },
  {
   "cell_type": "code",
   "execution_count": 136,
   "id": "f7fc161e",
   "metadata": {},
   "outputs": [
    {
     "data": {
      "text/plain": [
       "(0.0, 14.0)"
      ]
     },
     "execution_count": 136,
     "metadata": {},
     "output_type": "execute_result"
    },
    {
     "data": {
      "image/png": "[encoded data removed]",
      "text/plain": [
       "<Figure size 360x216 with 1 Axes>"
      ]
     },
     "metadata": {
      "needs_background": "light"
     },
     "output_type": "display_data"
    }
   ],
   "source": [
    "fig, ax = plt.subplots(1, 1, figsize=(5, 3))\n",
    "\n",
    "idx = 12\n",
    "#ax.axvline(phase_det[idx][0])\n",
    "ax.axvline(slices_shuf[idx][7:22].argmax(), ls='--', color='black')\n",
    "ax.plot(slices_shuf[idx][7:22], color='black', alpha=0.99)\n",
    "ax.grid()\n",
    "ax.set_xlim(0, 14)"
   ]
  },
  {
   "cell_type": "code",
   "execution_count": 98,
   "id": "5de69980",
   "metadata": {},
   "outputs": [
    {
     "name": "stdout",
     "output_type": "stream",
     "text": [
      "009265_hippoSIT_2023-02-24_09-53-26: no file\n",
      "009265_hippoSIT_2023-02-24_17-22-46: no file\n",
      "009265_hippoSIT_2023-02-27_10-18-32: no file\n",
      "009265_hippoSIT_2023-02-27_15-33-46: no file\n",
      "009265_hippoSIT_2023-02-28_09-16-50: no file\n",
      "009265_hippoSIT_2023-02-28_13-16-10: no file\n",
      "009265_hippoSIT_2023-02-28_20-45-04: no file\n",
      "009265_hippoSIT_2023-03-01_10-46-12: no file\n",
      "009265_hippoSIT_2023-03-02_09-32-54: no file\n",
      "009265_hippoSIT_2023-03-02_16-27-42: False\n",
      "009265_hippoSIT_2023-03-02_20-11-35: no file\n",
      "009265_hippoSIT_2023-03-03_09-37-07: no file\n",
      "009265_hippoSIT_2023-03-03_16-00-47: no file\n",
      "009265_hippoSIT_2023-03-04_11-12-04: no file\n",
      "009265_hippoSIT_2023-03-05_11-52-17: no file\n",
      "009265_hippoSIT_2023-03-05_18-31-32: no file\n",
      "009265_hippoSIT_2023-03-08_18-10-07: no file\n",
      "009265_hippoSIT_2023-03-09_20-03-08: no file\n",
      "009265_hippoSIT_2023-03-10_09-57-34: no file\n",
      "009265_hippoSIT_2023-04-13_09-54-39: no file\n",
      "009265_hippoSIT_2023-04-20_11-39-02: no file\n"
     ]
    }
   ],
   "source": [
    "# test file contents\n",
    "for session in sessions:\n",
    "    animal = session.split('_')[0]\n",
    "    metronome_file = os.path.join(source, animal, session, 'metronome.h5')\n",
    "    \n",
    "    if not os.path.exists(metronome_file):\n",
    "        print(\"%s: no file\" % session)\n",
    "    else:\n",
    "        with h5py.File(metronome_file, 'r') as f:\n",
    "            print(\"%s: %s\" % (session, 'unit_amx_silence_all' in f))"
   ]
  },
  {
   "cell_type": "markdown",
   "id": "5523e224",
   "metadata": {},
   "source": [
    "## Population stats"
   ]
  },
  {
   "cell_type": "code",
   "execution_count": 5,
   "id": "e2b2fdba",
   "metadata": {},
   "outputs": [
    {
     "data": {
      "text/plain": [
       "['009266_hippoSIT_2023-04-17_17-04-17',\n",
       " '009266_hippoSIT_2023-04-18_10-10-37',\n",
       " '009266_hippoSIT_2023-04-18_17-03-10',\n",
       " '009266_hippoSIT_2023-04-19_10-33-51',\n",
       " '009266_hippoSIT_2023-04-20_08-57-39',\n",
       " '009266_hippoSIT_2023-04-20_15-24-14',\n",
       " '009266_hippoSIT_2023-04-21_08-43-00',\n",
       " '009266_hippoSIT_2023-04-21_13-12-31',\n",
       " '009266_hippoSIT_2023-04-24_10-08-11',\n",
       " '009266_hippoSIT_2023-04-24_16-56-55',\n",
       " '009266_hippoSIT_2023-04-26_08-20-17',\n",
       " '009266_hippoSIT_2023-05-02_12-22-14',\n",
       " '009266_hippoSIT_2023-05-04_19-47-15',\n",
       " '009266_hippoSIT_2023-05-22_09-27-22',\n",
       " '009266_hippoSIT_2023-05-23_09-18-05',\n",
       " '009266_hippoSIT_2023-05-25_15-55-57',\n",
       " '009266_hippoSIT_2023-06-14_08-21-23',\n",
       " '009266_hippoSIT_2023-06-19_08-58-35']"
      ]
     },
     "execution_count": 5,
     "metadata": {},
     "output_type": "execute_result"
    }
   ],
   "source": [
    "sessions = [s for s in selected_009266.keys()]\n",
    "sessions.sort()\n",
    "selected = sessions\n",
    "selected"
   ]
  },
  {
   "cell_type": "code",
   "execution_count": 13,
   "id": "cce4fb0a",
   "metadata": {},
   "outputs": [],
   "source": [
    "pred_stats = np.zeros([len(selected), 2])\n",
    "for i, session in enumerate(selected):\n",
    "    animal = session.split('_')[0]\n",
    "    metronome_file = os.path.join(source, animal, session, 'metronome.h5')\n",
    "    \n",
    "    with h5py.File(metronome_file, 'r') as f:\n",
    "        #phase_det = np.array(f['phase_detection_after_noise'])\n",
    "        phase_det = np.array(f['phase_detection'])#_after_noise'])\n",
    "\n",
    "    delta_phase_orig = (phase_det[:, 0] - phase_det[:, 1])\n",
    "    delta_phase_orig = delta_phase_orig % 15\n",
    "    delta_phase_shuf = (phase_det[:, 0] - phase_det[:, 2])\n",
    "    delta_phase_shuf = delta_phase_shuf % 15\n",
    "\n",
    "    vals_orig, bins = np.histogram(delta_phase_orig, bins=np.linspace(0, 15, 16))\n",
    "    vals_shuf, bins = np.histogram(delta_phase_shuf, bins=np.linspace(0, 15, 16))\n",
    "\n",
    "    pred_stats[i] = vals_orig[0]/1000, vals_shuf[0]/1000"
   ]
  },
  {
   "cell_type": "code",
   "execution_count": 168,
   "id": "ced8a44e",
   "metadata": {},
   "outputs": [
    {
     "data": {
      "image/png": "[encoded data removed]",
      "text/plain": [
       "<Figure size 187.2x288 with 1 Axes>"
      ]
     },
     "metadata": {
      "needs_background": "light"
     },
     "output_type": "display_data"
    }
   ],
   "source": [
    "labels = ['S%d' % d for d in range(len(selected))]\n",
    "predicted = pred_stats[:, 0]\n",
    "shuffle   = pred_stats[:, 1]\n",
    "\n",
    "x = np.arange(len(labels))  # the label locations\n",
    "width = 0.4  # the width of the bars\n",
    "\n",
    "fig, ax = plt.subplots(1, 1, figsize=(0.65*len(selected), 4))\n",
    "rects1 = ax.bar(x - width/2, predicted, width, label='Original', color='navy')\n",
    "rects2 = ax.bar(x + width/2, shuffle, width, label='Shuffle', color='tab:purple')\n",
    "ax.axhline(1/15, ls='--', lw=3, color='tab:green', label='Chance')\n",
    "ax.set_xlabel('Session, #', fontsize=14)\n",
    "ax.set_ylabel('Phase detection score', fontsize=14)\n",
    "ax.set_title('Animal %s (after noise)' % animal, fontsize=14)\n",
    "ax.set_xticks(x)\n",
    "ax.set_xticklabels(labels)\n",
    "ax.legend()\n",
    "ax.grid(axis='y')\n",
    "fig.tight_layout()\n",
    "fig.savefig(os.path.join(report, 'Hall', 'phase_det_scores_%s_after_noise.png' % animal), dpi=500)"
   ]
  },
  {
   "cell_type": "code",
   "execution_count": 14,
   "id": "f3ff002a",
   "metadata": {},
   "outputs": [],
   "source": [
    "# get unit counts for all selected sessions\n",
    "unit_counts = np.zeros(len(selected))\n",
    "for i, session in enumerate(selected):\n",
    "    animal = session.split('_')[0]\n",
    "    h5_file = os.path.join(source, animal, session, session + '.h5')\n",
    "    with h5py.File(h5_file, 'r') as f:\n",
    "        unit_counts[i] = len(f['units'])"
   ]
  },
  {
   "cell_type": "code",
   "execution_count": 8,
   "id": "73cc4386",
   "metadata": {},
   "outputs": [],
   "source": [
    "# noise periods count\n",
    "noise_counts = []\n",
    "for session in selected:\n",
    "    animal      = session.split('_')[0]\n",
    "    h5_file     = os.path.join(source, animal, session, session + '.h5')\n",
    "    with h5py.File(h5_file, 'r') as f:\n",
    "        tl = np.array(f['processed']['timeline'])  # time, X, Y, speed, etc.\n",
    "    \n",
    "    periods = get_idxs_of_event_periods(tl, 0)  # silences\n",
    "    noise_p_idxs = np.array([i for i, p in enumerate(periods) if tl[p[0] - 1][6] < 0])\n",
    "    noise_counts.append(len(noise_p_idxs))\n",
    "noise_counts = np.array(noise_counts)"
   ]
  },
  {
   "cell_type": "code",
   "execution_count": 16,
   "id": "8512b793",
   "metadata": {},
   "outputs": [
    {
     "data": {
      "image/png": "[encoded data removed]",
      "text/plain": [
       "<Figure size 288x288 with 1 Axes>"
      ]
     },
     "metadata": {
      "needs_background": "light"
     },
     "output_type": "display_data"
    }
   ],
   "source": [
    "st = unit_counts\n",
    "#st = noise_counts\n",
    "\n",
    "regress = stats.linregress(st, pred_stats[:, 0])\n",
    "x = np.array([st.min(), st.max()])\n",
    "y = regress[0] * x + regress[1]\n",
    "\n",
    "fig, ax = plt.subplots(1, 1, figsize=(4, 4))\n",
    "ax.scatter(st, pred_stats[:, 0], color='navy')\n",
    "ax.plot(x, y, color='navy', ls='--')\n",
    "ax.grid()\n",
    "ax.set_xlabel('Unit count', fontsize=14)\n",
    "#ax.set_xlabel('Noise periods count', fontsize=14)\n",
    "ax.set_ylabel('Phase detection score', fontsize=14)\n",
    "ax.set_title('Animal %s (p-val: %.3f)' % (animal, regress[3]), fontsize=14)\n",
    "fig.tight_layout()\n",
    "fig.savefig(os.path.join(report, 'Hall', 'unit_count_phase_det_score_%s.png' % animal), dpi=500)"
   ]
  },
  {
   "cell_type": "code",
   "execution_count": null,
   "id": "a4b0b360",
   "metadata": {},
   "outputs": [],
   "source": []
  }
 ],
 "metadata": {
  "kernelspec": {
   "display_name": "Python 3 (ipykernel)",
   "language": "python",
   "name": "python3"
  },
  "language_info": {
   "codemirror_mode": {
    "name": "ipython",
    "version": 3
   },
   "file_extension": ".py",
   "mimetype": "text/x-python",
   "name": "python",
   "nbconvert_exporter": "python",
   "pygments_lexer": "ipython3",
   "version": "3.8.10"
  }
 },
 "nbformat": 4,
 "nbformat_minor": 5
}
