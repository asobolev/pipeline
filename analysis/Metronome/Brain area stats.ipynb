{
 "cells": [
  {
   "cell_type": "code",
   "execution_count": 1,
   "id": "30c3da45",
   "metadata": {},
   "outputs": [],
   "source": [
    "import sys, os\n",
    "sys.path.append(os.path.join(os.getcwd(), '..'))\n",
    "sys.path.append(os.path.join(os.getcwd(), '..', '..'))"
   ]
  },
  {
   "cell_type": "code",
   "execution_count": 2,
   "id": "94525066",
   "metadata": {},
   "outputs": [],
   "source": [
    "%matplotlib inline\n",
    "\n",
    "from session.sessions import selected_009266, selected_008229, selected_009265\n",
    "from imports import *\n",
    "from matplotlib.patches import ConnectionPatch\n",
    "from scipy.stats import pearsonr\n",
    "from scipy import stats, signal\n",
    "from loading import load_session_data\n",
    "from target import build_tgt_matrix, get_spike_counts, build_silence_and_noise_events,\\\n",
    "        get_idxs_of_event_periods, build_silence_matrix, get_spike_times_at\n",
    "from hallucinations import get_pop_resp_profile_mx\n",
    "\n",
    "np.set_printoptions(suppress=True)"
   ]
  },
  {
   "cell_type": "code",
   "execution_count": 3,
   "id": "26ba4176",
   "metadata": {},
   "outputs": [
    {
     "data": {
      "application/javascript": [
       "IPython.OutputArea.prototype._should_scroll = function(lines) {\n",
       "    return false;\n",
       "}\n"
      ],
      "text/plain": [
       "<IPython.core.display.Javascript object>"
      ]
     },
     "metadata": {},
     "output_type": "display_data"
    }
   ],
   "source": [
    "%%javascript\n",
    "IPython.OutputArea.prototype._should_scroll = function(lines) {\n",
    "    return false;\n",
    "}"
   ]
  },
  {
   "cell_type": "code",
   "execution_count": 109,
   "id": "6f8731e4",
   "metadata": {},
   "outputs": [
    {
     "data": {
      "text/plain": [
       "['009266_hippoSIT_2023-05-22_09-27-22',\n",
       " '009266_hippoSIT_2023-05-23_09-18-05',\n",
       " '009266_hippoSIT_2023-05-25_15-55-57',\n",
       " '009266_hippoSIT_2023-06-14_08-21-23',\n",
       " '009266_hippoSIT_2023-06-19_08-58-35']"
      ]
     },
     "execution_count": 109,
     "metadata": {},
     "output_type": "execute_result"
    }
   ],
   "source": [
    "# all A1\n",
    "sessions_1 = [s for s in selected_009265.keys()]\n",
    "sessions_1.sort()\n",
    "sessions_2 = [s for s in selected_009266.keys()]\n",
    "sessions_2.sort()\n",
    "all_A1 = sessions_1[5:-2] + sessions_2\n",
    "\n",
    "# All PPC\n",
    "sessions_1 = [s for s in selected_008229.keys()]\n",
    "sessions_1.sort()\n",
    "sessions_2 = [s for s in selected_009266.keys()]\n",
    "sessions_2.sort()\n",
    "sessions_3 = [s for s in selected_009265.keys()]\n",
    "sessions_3.sort()\n",
    "all_PPC = sessions_1 + sessions_2[:-5] + sessions_3[5:-2]\n",
    "\n",
    "# all HPC\n",
    "sessions_1 = [s for s in selected_009266.keys()]\n",
    "sessions_1.sort()\n",
    "all_HPC = sessions_1[-5:]\n",
    "\n",
    "\n",
    "selected = all_HPC\n",
    "selected"
   ]
  },
  {
   "cell_type": "code",
   "execution_count": 110,
   "id": "4dcfa12d",
   "metadata": {},
   "outputs": [
    {
     "data": {
      "text/plain": [
       "(159, 30)"
      ]
     },
     "execution_count": 110,
     "metadata": {},
     "output_type": "execute_result"
    }
   ],
   "source": [
    "# build response profile matrix for MANY sessions\n",
    "hw, bc = 0.25, 31\n",
    "bins = np.linspace(-hw, hw, bc)\n",
    "\n",
    "profile_mx = []\n",
    "for session in selected:\n",
    "    animal      = session.split('_')[0]\n",
    "    h5_file     = os.path.join(source, animal, session, session + '.h5')\n",
    "    \n",
    "    with h5py.File(h5_file, 'r') as f:\n",
    "        for i, unit_name in enumerate(f['units']):\n",
    "            # area filter\n",
    "            if int(unit_name[0]) < 3:\n",
    "                continue\n",
    "\n",
    "            event_name = 'silence'  #'silence'\n",
    "            shuffled = np.array(f['units'][unit_name]['psth_shuffled_micro_in_%s' % event_name])\n",
    "            profiles = np.array(f['units'][unit_name]['psth_profiles_%s' % event_name])\n",
    "\n",
    "            fr_mean = shuffled[:, 1]\n",
    "            fr_std  = shuffled[:, 2]\n",
    "            fr_prof = profiles.mean(axis=0)\n",
    "            non_sign_idxs = np.where( (fr_prof > shuffled[:, 3]) & (fr_prof < shuffled[:, 4]) )[0]\n",
    "            #non_sign_idxs = np.where( (fr_prof > 1.2*shuffled[:, 3]) & (fr_prof < 0.8*shuffled[:, 4]) )[0]\n",
    "            \n",
    "            resp_profile = (fr_prof - fr_mean)/fr_std  # z-scored\n",
    "            resp_profile[non_sign_idxs] = 0  # clean non-significant bins\n",
    "            profile_mx.append( resp_profile )\n",
    "            \n",
    "profile_mx = np.array(profile_mx)\n",
    "profile_mx.shape"
   ]
  },
  {
   "cell_type": "code",
   "execution_count": 111,
   "id": "d5b9fda5",
   "metadata": {},
   "outputs": [],
   "source": [
    "# no significant bins\n",
    "no_sign_bins = np.array([(rec[15:] == 0).all() for rec in profile_mx]).sum()\n",
    "sign_bins    = np.array([(rec[15:] != 0).any() for rec in profile_mx]).sum()\n",
    "\n",
    "# high bin count\n",
    "high_sign_bins = np.array([(rec[15:] > 0).sum() for rec in profile_mx])\n",
    "\n",
    "# low bin count\n",
    "low_sign_bins = np.array([(rec[15:] < 0).sum() for rec in profile_mx])"
   ]
  },
  {
   "cell_type": "code",
   "execution_count": 113,
   "id": "5056a6ab",
   "metadata": {},
   "outputs": [
    {
     "data": {
      "text/plain": [
       "Text(0.5, 1.0, 'HPC (159 units)')"
      ]
     },
     "execution_count": 113,
     "metadata": {},
     "output_type": "execute_result"
    },
    {
     "data": {
      "image/png": "[encoded data removed]",
      "text/plain": [
       "<Figure size 288x288 with 1 Axes>"
      ]
     },
     "metadata": {},
     "output_type": "display_data"
    }
   ],
   "source": [
    "# just a pie charts\n",
    "explode = (0, 0.1)  # only \"explode\" the 2nd slice (i.e. 'Hogs')\n",
    "labels  = ['Non-sign.', 'Significant']\n",
    "sizes   = [no_sign_bins, sign_bins]\n",
    "colors  = ['gray', 'tab:blue']\n",
    "        \n",
    "fig, ax = plt.subplots(1, 1, figsize=(4, 4))\n",
    "ax.pie(sizes, explode=explode, labels=labels, autopct='%1.2f%%', shadow=False, \\\n",
    "       startangle=90, textprops={'size': 14}, colors=colors)\n",
    "ax.set_title('HPC (%d units)' % int(no_sign_bins + sign_bins), fontsize=14)"
   ]
  },
  {
   "cell_type": "code",
   "execution_count": 54,
   "id": "4520ec42",
   "metadata": {},
   "outputs": [
    {
     "data": {
      "text/plain": [
       "(array([185.,  75.,  23.,   3.,   0.,   0.,   0.,   1.,   0.]),\n",
       " array([ 1.,  2.,  3.,  4.,  5.,  6.,  7.,  8.,  9., 10.]),\n",
       " <BarContainer object of 9 artists>)"
      ]
     },
     "execution_count": 54,
     "metadata": {},
     "output_type": "execute_result"
    },
    {
     "data": {
      "image/png": "[encoded data removed]",
      "text/plain": [
       "<Figure size 360x360 with 1 Axes>"
      ]
     },
     "metadata": {
      "needs_background": "light"
     },
     "output_type": "display_data"
    }
   ],
   "source": [
    "fig, ax = plt.subplots(1, 1, figsize=(5, 5))\n",
    "\n",
    "ax.hist(high_sign_bins, bins=np.linspace(1, 10, 10), edgecolor='black', color='violet', alpha=0.5, label='All')\n",
    "ax.hist(low_sign_bins, bins=np.linspace(1, 10, 10), edgecolor='black', color='yellow', alpha=0.5, label='All')"
   ]
  },
  {
   "cell_type": "markdown",
   "id": "6ec11f63",
   "metadata": {},
   "source": [
    "## Count number of bins"
   ]
  },
  {
   "cell_type": "code",
   "execution_count": 18,
   "id": "47f3a510",
   "metadata": {},
   "outputs": [],
   "source": [
    "# for silence\n",
    "collected = []\n",
    "for session in sessions[:1]:\n",
    "    animal      = session.split('_')[0]\n",
    "    h5_file     = os.path.join(source, animal, session, session + '.h5')\n",
    "    \n",
    "    with h5py.File(h5_file, 'r') as f:\n",
    "        unit_names = list(f['units'])\n",
    "        \n",
    "    max_sign_bins = np.zeros(len(unit_names))\n",
    "    for i, unit_name in enumerate(unit_names[:10]):\n",
    "        if int(unit_name[0]) < 0:\n",
    "            continue\n",
    "\n",
    "        with h5py.File(h5_file, 'r') as f:\n",
    "            shuffled_sil = np.array(f['units'][unit_name]['psth_shuffled_micro_in_silence'])\n",
    "            profiles = np.array(f['units'][unit_name]['psth_profiles_silence'])\n",
    "\n",
    "        # for silence\n",
    "        fr_sil_mean = shuffled_sil[:, 1]\n",
    "        fr_sil_std  = shuffled_sil[:, 2]\n",
    "        fr_sil_prof = profiles.mean(axis=0)\n",
    "        prof_sil_z = (fr_sil_prof - fr_sil_mean)/fr_sil_std  # z-scored\n",
    "        #prof_sil_z /= np.max(np.abs(prof_sil_z), axis=0)      # put bw -1 and 1\n",
    "\n",
    "        # significant bins\n",
    "        idxs_non_sign = np.where((fr_sil_prof > shuffled_sil[:, 3]) & (fr_sil_prof < shuffled_sil[:, 4]))[0]\n",
    "        idxs_sign = np.array([x for x in range(31 - 1) if x not in idxs_non_sign])\n",
    "        if len(idxs_sign[idxs_sign > 14]) > 0:\n",
    "            max_sign_bins[i] = fr_sil_prof[idxs_sign[idxs_sign > 14]].argmax()\n",
    "\n",
    "    collected.append(max_sign_bins)\n",
    "collected = np.array([item for sublist in collected for item in sublist])"
   ]
  }
 ],
 "metadata": {
  "kernelspec": {
   "display_name": "Python 3 (ipykernel)",
   "language": "python",
   "name": "python3"
  },
  "language_info": {
   "codemirror_mode": {
    "name": "ipython",
    "version": 3
   },
   "file_extension": ".py",
   "mimetype": "text/x-python",
   "name": "python",
   "nbconvert_exporter": "python",
   "pygments_lexer": "ipython3",
   "version": "3.8.10"
  }
 },
 "nbformat": 4,
 "nbformat_minor": 5
}
