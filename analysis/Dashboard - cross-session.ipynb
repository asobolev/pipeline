{
 "cells": [
  {
   "cell_type": "code",
   "execution_count": 1,
   "id": "26ba4176",
   "metadata": {},
   "outputs": [
    {
     "data": {
      "application/javascript": [
       "IPython.OutputArea.prototype._should_scroll = function(lines) {\n",
       "    return false;\n",
       "}\n"
      ],
      "text/plain": [
       "<IPython.core.display.Javascript object>"
      ]
     },
     "metadata": {},
     "output_type": "display_data"
    }
   ],
   "source": [
    "%%javascript\n",
    "IPython.OutputArea.prototype._should_scroll = function(lines) {\n",
    "    return false;\n",
    "}"
   ]
  },
  {
   "cell_type": "code",
   "execution_count": 2,
   "id": "4001a375",
   "metadata": {},
   "outputs": [],
   "source": [
    "import sys, os\n",
    "sys.path.append(os.path.join(os.getcwd(), '..'))\n",
    "sys.path.append(os.path.join(os.getcwd(), '..', '..'))"
   ]
  },
  {
   "cell_type": "code",
   "execution_count": 3,
   "id": "e66303f5",
   "metadata": {},
   "outputs": [
    {
     "name": "stderr",
     "output_type": "stream",
     "text": [
      "/home/sobolev/projects/pySIT/lib/python3.8/site-packages/scipy/__init__.py:146: UserWarning: A NumPy version >=1.16.5 and <1.23.0 is required for this version of SciPy (detected version 1.24.4\n",
      "  warnings.warn(f\"A NumPy version >={np_minversion} and <{np_maxversion}\"\n"
     ]
    }
   ],
   "source": [
    "%matplotlib inline\n",
    "\n",
    "import numpy as np\n",
    "import pandas as pd\n",
    "import matplotlib.pyplot as plt\n",
    "import h5py, json\n",
    "\n",
    "from scipy import stats\n",
    "from sessions import *\n",
    "from session.adapters import H5NAMES"
   ]
  },
  {
   "cell_type": "code",
   "execution_count": 21,
   "id": "fd864d9c",
   "metadata": {
    "scrolled": true
   },
   "outputs": [
    {
     "data": {
      "text/plain": [
       "['013608_ppcSIT_2025-01-06_13-20-52',\n",
       " '013608_ppcSIT_2025-01-07_08-47-27',\n",
       " '013608_ppcSIT_2025-01-07_15-38-23',\n",
       " '013608_ppcSIT_2025-01-09_09-09-55',\n",
       " '013608_ppcSIT_2025-01-10_09-25-04',\n",
       " '013608_ppcSIT_2025-01-13_14-01-40',\n",
       " '013608_ppcSIT_2025-01-14_10-20-14',\n",
       " '013608_ppcSIT_2025-01-15_14-56-18',\n",
       " '013608_ppcSIT_2025-01-16_09-49-21',\n",
       " '013608_ppcSIT_2025-01-17_10-07-00',\n",
       " '013608_ppcSIT_2025-01-20_09-38-20',\n",
       " '013608_ppcSIT_2025-01-21_08-50-02',\n",
       " '013608_ppcSIT_2025-01-22_12-59-00',\n",
       " '013608_ppcSIT_2025-01-23_08-46-51',\n",
       " '013608_ppcSIT_2025-01-24_08-19-45',\n",
       " '013608_ppcSIT_2025-01-27_09-00-20']"
      ]
     },
     "execution_count": 21,
     "metadata": {},
     "output_type": "execute_result"
    }
   ],
   "source": [
    "#source = '/home/sobolev/nevermind_ag-grothe/AG_Pecka/data/processed/'\n",
    "source = '/home/sobolev/nevermind/AG_Pecka/data/processed/'\n",
    "\n",
    "sessions = selected_013608\n",
    "#sessions = selected_013829\n",
    "#sessions = selected_009265\n",
    "    \n",
    "sessions"
   ]
  },
  {
   "cell_type": "code",
   "execution_count": 15,
   "id": "5cca69d0",
   "metadata": {
    "scrolled": true
   },
   "outputs": [],
   "source": [
    "# collecting unit numbers\n",
    "# for 57: 9 shanks\n",
    "shank_count = 6\n",
    "s_names = ['units', 'descendants', 'AEPs', 'bMAPs', 'nMAPs', 'nMAP_seg']\n",
    "f_names = ['units.h5', 'descendants.h5', 'AEPs.h5', 'analysis/MoSeq_tSNE_UMAP.h5', \\\n",
    "           'analysis/W1-W4_tSNE_UMAP.h5', 'analysis/nMAP_segmentation.h5']\n",
    "\n",
    "unit_mx = np.zeros([len(sessions), shank_count], dtype=np.int16)\n",
    "performance = np.zeros(len(sessions))\n",
    "tgt_freqs   = np.zeros(len(sessions))\n",
    "tgt_durs    = np.zeros(len(sessions))\n",
    "file_status = np.zeros([len(sessions), len(s_names)])\n",
    "\n",
    "for i, session in enumerate(sessions):\n",
    "    animal      = session.split('_')[0]\n",
    "    meta_file   = os.path.join(source, animal, session, 'meta.h5')\n",
    "    units_file  = os.path.join(source, animal, session, 'units.h5')\n",
    "\n",
    "    # performance and target freq / duration\n",
    "    with h5py.File(meta_file, 'r') as f:\n",
    "        trials = np.array(f['processed']['trial_idxs'])\n",
    "        cfg = json.loads(f['processed'].attrs['parameters'])\n",
    "    tgt_freqs[i] = cfg['sound']['sounds']['target']['freq']\n",
    "    tgt_durs[i]  = cfg['sound']['sounds']['target']['duration']\n",
    "        \n",
    "    tr_succ = trials[trials[:, 5] == 1]\n",
    "    performance[i] = len(tr_succ) / (len(trials))\n",
    "    \n",
    "    for j, name in enumerate(f_names):\n",
    "        if os.path.exists(os.path.join(source, animal, session, name)):\n",
    "            file_status[i][j] = 1\n",
    "    \n",
    "    if file_status[i][0] == 0:\n",
    "        print(\"Session %s - no units\" % session)\n",
    "        continue\n",
    "\n",
    "    # unit count        \n",
    "    with h5py.File(units_file, 'r') as f:\n",
    "        unit_names = [x for x in f]\n",
    "\n",
    "    shanks = np.unique([int(x[0]) for x in unit_names])\n",
    "    shanks.sort()\n",
    "    \n",
    "    for shank in shanks:\n",
    "        unit_mx[i, shank - 1] = len([x for x in unit_names if int(x[0]) == shank])"
   ]
  },
  {
   "cell_type": "code",
   "execution_count": 16,
   "id": "371f4424",
   "metadata": {},
   "outputs": [
    {
     "data": {
      "text/plain": [
       "array([1, 2, 3, 5, 6])"
      ]
     },
     "execution_count": 16,
     "metadata": {},
     "output_type": "execute_result"
    }
   ],
   "source": [
    "# detected shanks\n",
    "shanks"
   ]
  },
  {
   "cell_type": "code",
   "execution_count": 17,
   "id": "ca15b0aa",
   "metadata": {
    "scrolled": true
   },
   "outputs": [
    {
     "data": {
      "text/html": [
       "<div>\n",
       "<style scoped>\n",
       "    .dataframe tbody tr th:only-of-type {\n",
       "        vertical-align: middle;\n",
       "    }\n",
       "\n",
       "    .dataframe tbody tr th {\n",
       "        vertical-align: top;\n",
       "    }\n",
       "\n",
       "    .dataframe thead th {\n",
       "        text-align: right;\n",
       "    }\n",
       "</style>\n",
       "<table border=\"1\" class=\"dataframe\">\n",
       "  <thead>\n",
       "    <tr style=\"text-align: right;\">\n",
       "      <th></th>\n",
       "      <th>session</th>\n",
       "      <th>1</th>\n",
       "      <th>2</th>\n",
       "      <th>3</th>\n",
       "      <th>4</th>\n",
       "      <th>5</th>\n",
       "      <th>6</th>\n",
       "      <th>A1</th>\n",
       "      <th>PPC</th>\n",
       "      <th>performance</th>\n",
       "      <th>frequency</th>\n",
       "      <th>duration</th>\n",
       "      <th>units</th>\n",
       "      <th>descendants</th>\n",
       "      <th>AEPs</th>\n",
       "      <th>bMAPs</th>\n",
       "      <th>nMAPs</th>\n",
       "      <th>nMAP_seg</th>\n",
       "    </tr>\n",
       "  </thead>\n",
       "  <tbody>\n",
       "    <tr>\n",
       "      <th>0</th>\n",
       "      <td>009265_hippoSIT_2023-02-28_13-16-10</td>\n",
       "      <td>6</td>\n",
       "      <td>9</td>\n",
       "      <td>0</td>\n",
       "      <td>7</td>\n",
       "      <td>7</td>\n",
       "      <td>0</td>\n",
       "      <td>6</td>\n",
       "      <td>23</td>\n",
       "      <td>0.579</td>\n",
       "      <td>660</td>\n",
       "      <td>50.0</td>\n",
       "      <td>1.0</td>\n",
       "      <td>1.0</td>\n",
       "      <td>1.0</td>\n",
       "      <td>1.0</td>\n",
       "      <td>1.0</td>\n",
       "      <td>1.0</td>\n",
       "    </tr>\n",
       "    <tr>\n",
       "      <th>1</th>\n",
       "      <td>009265_hippoSIT_2023-02-28_20-45-04</td>\n",
       "      <td>11</td>\n",
       "      <td>3</td>\n",
       "      <td>0</td>\n",
       "      <td>1</td>\n",
       "      <td>3</td>\n",
       "      <td>4</td>\n",
       "      <td>11</td>\n",
       "      <td>11</td>\n",
       "      <td>0.444</td>\n",
       "      <td>660</td>\n",
       "      <td>50.0</td>\n",
       "      <td>1.0</td>\n",
       "      <td>1.0</td>\n",
       "      <td>1.0</td>\n",
       "      <td>1.0</td>\n",
       "      <td>1.0</td>\n",
       "      <td>1.0</td>\n",
       "    </tr>\n",
       "    <tr>\n",
       "      <th>2</th>\n",
       "      <td>009265_hippoSIT_2023-03-01_10-46-12</td>\n",
       "      <td>3</td>\n",
       "      <td>2</td>\n",
       "      <td>0</td>\n",
       "      <td>1</td>\n",
       "      <td>0</td>\n",
       "      <td>3</td>\n",
       "      <td>3</td>\n",
       "      <td>6</td>\n",
       "      <td>0.333</td>\n",
       "      <td>660</td>\n",
       "      <td>50.0</td>\n",
       "      <td>1.0</td>\n",
       "      <td>1.0</td>\n",
       "      <td>1.0</td>\n",
       "      <td>1.0</td>\n",
       "      <td>1.0</td>\n",
       "      <td>1.0</td>\n",
       "    </tr>\n",
       "    <tr>\n",
       "      <th>3</th>\n",
       "      <td>009265_hippoSIT_2023-03-02_09-32-54</td>\n",
       "      <td>4</td>\n",
       "      <td>0</td>\n",
       "      <td>0</td>\n",
       "      <td>0</td>\n",
       "      <td>14</td>\n",
       "      <td>5</td>\n",
       "      <td>4</td>\n",
       "      <td>19</td>\n",
       "      <td>0.727</td>\n",
       "      <td>660</td>\n",
       "      <td>50.0</td>\n",
       "      <td>1.0</td>\n",
       "      <td>1.0</td>\n",
       "      <td>1.0</td>\n",
       "      <td>1.0</td>\n",
       "      <td>1.0</td>\n",
       "      <td>1.0</td>\n",
       "    </tr>\n",
       "    <tr>\n",
       "      <th>4</th>\n",
       "      <td>009265_hippoSIT_2023-03-02_16-27-42</td>\n",
       "      <td>9</td>\n",
       "      <td>8</td>\n",
       "      <td>1</td>\n",
       "      <td>4</td>\n",
       "      <td>11</td>\n",
       "      <td>5</td>\n",
       "      <td>9</td>\n",
       "      <td>29</td>\n",
       "      <td>0.353</td>\n",
       "      <td>660</td>\n",
       "      <td>50.0</td>\n",
       "      <td>1.0</td>\n",
       "      <td>1.0</td>\n",
       "      <td>1.0</td>\n",
       "      <td>1.0</td>\n",
       "      <td>1.0</td>\n",
       "      <td>1.0</td>\n",
       "    </tr>\n",
       "    <tr>\n",
       "      <th>5</th>\n",
       "      <td>009265_hippoSIT_2023-03-02_20-11-35</td>\n",
       "      <td>16</td>\n",
       "      <td>18</td>\n",
       "      <td>0</td>\n",
       "      <td>3</td>\n",
       "      <td>14</td>\n",
       "      <td>2</td>\n",
       "      <td>16</td>\n",
       "      <td>37</td>\n",
       "      <td>0.590</td>\n",
       "      <td>660</td>\n",
       "      <td>50.0</td>\n",
       "      <td>1.0</td>\n",
       "      <td>1.0</td>\n",
       "      <td>1.0</td>\n",
       "      <td>1.0</td>\n",
       "      <td>1.0</td>\n",
       "      <td>1.0</td>\n",
       "    </tr>\n",
       "    <tr>\n",
       "      <th>6</th>\n",
       "      <td>009265_hippoSIT_2023-03-03_09-37-07</td>\n",
       "      <td>9</td>\n",
       "      <td>6</td>\n",
       "      <td>0</td>\n",
       "      <td>0</td>\n",
       "      <td>11</td>\n",
       "      <td>2</td>\n",
       "      <td>9</td>\n",
       "      <td>19</td>\n",
       "      <td>0.707</td>\n",
       "      <td>660</td>\n",
       "      <td>50.0</td>\n",
       "      <td>1.0</td>\n",
       "      <td>1.0</td>\n",
       "      <td>1.0</td>\n",
       "      <td>1.0</td>\n",
       "      <td>1.0</td>\n",
       "      <td>1.0</td>\n",
       "    </tr>\n",
       "    <tr>\n",
       "      <th>7</th>\n",
       "      <td>009265_hippoSIT_2023-03-03_16-00-47</td>\n",
       "      <td>12</td>\n",
       "      <td>9</td>\n",
       "      <td>0</td>\n",
       "      <td>0</td>\n",
       "      <td>9</td>\n",
       "      <td>3</td>\n",
       "      <td>12</td>\n",
       "      <td>21</td>\n",
       "      <td>0.683</td>\n",
       "      <td>660</td>\n",
       "      <td>50.0</td>\n",
       "      <td>1.0</td>\n",
       "      <td>1.0</td>\n",
       "      <td>1.0</td>\n",
       "      <td>1.0</td>\n",
       "      <td>0.0</td>\n",
       "      <td>1.0</td>\n",
       "    </tr>\n",
       "    <tr>\n",
       "      <th>8</th>\n",
       "      <td>009265_hippoSIT_2023-03-04_11-12-04</td>\n",
       "      <td>6</td>\n",
       "      <td>6</td>\n",
       "      <td>0</td>\n",
       "      <td>0</td>\n",
       "      <td>5</td>\n",
       "      <td>2</td>\n",
       "      <td>6</td>\n",
       "      <td>13</td>\n",
       "      <td>0.714</td>\n",
       "      <td>660</td>\n",
       "      <td>50.0</td>\n",
       "      <td>1.0</td>\n",
       "      <td>1.0</td>\n",
       "      <td>1.0</td>\n",
       "      <td>1.0</td>\n",
       "      <td>1.0</td>\n",
       "      <td>1.0</td>\n",
       "    </tr>\n",
       "    <tr>\n",
       "      <th>9</th>\n",
       "      <td>009265_hippoSIT_2023-03-05_11-52-17</td>\n",
       "      <td>4</td>\n",
       "      <td>6</td>\n",
       "      <td>1</td>\n",
       "      <td>0</td>\n",
       "      <td>0</td>\n",
       "      <td>1</td>\n",
       "      <td>4</td>\n",
       "      <td>8</td>\n",
       "      <td>0.780</td>\n",
       "      <td>660</td>\n",
       "      <td>50.0</td>\n",
       "      <td>1.0</td>\n",
       "      <td>1.0</td>\n",
       "      <td>1.0</td>\n",
       "      <td>1.0</td>\n",
       "      <td>1.0</td>\n",
       "      <td>1.0</td>\n",
       "    </tr>\n",
       "    <tr>\n",
       "      <th>10</th>\n",
       "      <td>009265_hippoSIT_2023-03-05_18-31-32</td>\n",
       "      <td>3</td>\n",
       "      <td>9</td>\n",
       "      <td>0</td>\n",
       "      <td>0</td>\n",
       "      <td>3</td>\n",
       "      <td>0</td>\n",
       "      <td>3</td>\n",
       "      <td>12</td>\n",
       "      <td>0.786</td>\n",
       "      <td>660</td>\n",
       "      <td>50.0</td>\n",
       "      <td>1.0</td>\n",
       "      <td>1.0</td>\n",
       "      <td>1.0</td>\n",
       "      <td>1.0</td>\n",
       "      <td>0.0</td>\n",
       "      <td>1.0</td>\n",
       "    </tr>\n",
       "    <tr>\n",
       "      <th>11</th>\n",
       "      <td>009265_hippoSIT_2023-03-08_18-10-07</td>\n",
       "      <td>15</td>\n",
       "      <td>19</td>\n",
       "      <td>0</td>\n",
       "      <td>1</td>\n",
       "      <td>5</td>\n",
       "      <td>7</td>\n",
       "      <td>15</td>\n",
       "      <td>32</td>\n",
       "      <td>0.778</td>\n",
       "      <td>660</td>\n",
       "      <td>50.0</td>\n",
       "      <td>1.0</td>\n",
       "      <td>1.0</td>\n",
       "      <td>1.0</td>\n",
       "      <td>1.0</td>\n",
       "      <td>1.0</td>\n",
       "      <td>1.0</td>\n",
       "    </tr>\n",
       "    <tr>\n",
       "      <th>12</th>\n",
       "      <td>009265_hippoSIT_2023-03-09_20-03-08</td>\n",
       "      <td>12</td>\n",
       "      <td>14</td>\n",
       "      <td>0</td>\n",
       "      <td>0</td>\n",
       "      <td>3</td>\n",
       "      <td>3</td>\n",
       "      <td>12</td>\n",
       "      <td>20</td>\n",
       "      <td>0.553</td>\n",
       "      <td>660</td>\n",
       "      <td>50.0</td>\n",
       "      <td>1.0</td>\n",
       "      <td>1.0</td>\n",
       "      <td>1.0</td>\n",
       "      <td>0.0</td>\n",
       "      <td>0.0</td>\n",
       "      <td>1.0</td>\n",
       "    </tr>\n",
       "    <tr>\n",
       "      <th>13</th>\n",
       "      <td>009265_hippoSIT_2023-03-10_09-57-34</td>\n",
       "      <td>20</td>\n",
       "      <td>22</td>\n",
       "      <td>1</td>\n",
       "      <td>0</td>\n",
       "      <td>2</td>\n",
       "      <td>1</td>\n",
       "      <td>20</td>\n",
       "      <td>26</td>\n",
       "      <td>0.432</td>\n",
       "      <td>660</td>\n",
       "      <td>50.0</td>\n",
       "      <td>1.0</td>\n",
       "      <td>1.0</td>\n",
       "      <td>1.0</td>\n",
       "      <td>1.0</td>\n",
       "      <td>1.0</td>\n",
       "      <td>1.0</td>\n",
       "    </tr>\n",
       "  </tbody>\n",
       "</table>\n",
       "</div>"
      ],
      "text/plain": [
       "                                session   1   2  3  4   5  6  A1  PPC  \\\n",
       "0   009265_hippoSIT_2023-02-28_13-16-10   6   9  0  7   7  0   6   23   \n",
       "1   009265_hippoSIT_2023-02-28_20-45-04  11   3  0  1   3  4  11   11   \n",
       "2   009265_hippoSIT_2023-03-01_10-46-12   3   2  0  1   0  3   3    6   \n",
       "3   009265_hippoSIT_2023-03-02_09-32-54   4   0  0  0  14  5   4   19   \n",
       "4   009265_hippoSIT_2023-03-02_16-27-42   9   8  1  4  11  5   9   29   \n",
       "5   009265_hippoSIT_2023-03-02_20-11-35  16  18  0  3  14  2  16   37   \n",
       "6   009265_hippoSIT_2023-03-03_09-37-07   9   6  0  0  11  2   9   19   \n",
       "7   009265_hippoSIT_2023-03-03_16-00-47  12   9  0  0   9  3  12   21   \n",
       "8   009265_hippoSIT_2023-03-04_11-12-04   6   6  0  0   5  2   6   13   \n",
       "9   009265_hippoSIT_2023-03-05_11-52-17   4   6  1  0   0  1   4    8   \n",
       "10  009265_hippoSIT_2023-03-05_18-31-32   3   9  0  0   3  0   3   12   \n",
       "11  009265_hippoSIT_2023-03-08_18-10-07  15  19  0  1   5  7  15   32   \n",
       "12  009265_hippoSIT_2023-03-09_20-03-08  12  14  0  0   3  3  12   20   \n",
       "13  009265_hippoSIT_2023-03-10_09-57-34  20  22  1  0   2  1  20   26   \n",
       "\n",
       "    performance  frequency  duration  units  descendants  AEPs  bMAPs  nMAPs  \\\n",
       "0         0.579        660      50.0    1.0          1.0   1.0    1.0    1.0   \n",
       "1         0.444        660      50.0    1.0          1.0   1.0    1.0    1.0   \n",
       "2         0.333        660      50.0    1.0          1.0   1.0    1.0    1.0   \n",
       "3         0.727        660      50.0    1.0          1.0   1.0    1.0    1.0   \n",
       "4         0.353        660      50.0    1.0          1.0   1.0    1.0    1.0   \n",
       "5         0.590        660      50.0    1.0          1.0   1.0    1.0    1.0   \n",
       "6         0.707        660      50.0    1.0          1.0   1.0    1.0    1.0   \n",
       "7         0.683        660      50.0    1.0          1.0   1.0    1.0    0.0   \n",
       "8         0.714        660      50.0    1.0          1.0   1.0    1.0    1.0   \n",
       "9         0.780        660      50.0    1.0          1.0   1.0    1.0    1.0   \n",
       "10        0.786        660      50.0    1.0          1.0   1.0    1.0    0.0   \n",
       "11        0.778        660      50.0    1.0          1.0   1.0    1.0    1.0   \n",
       "12        0.553        660      50.0    1.0          1.0   1.0    0.0    0.0   \n",
       "13        0.432        660      50.0    1.0          1.0   1.0    1.0    1.0   \n",
       "\n",
       "    nMAP_seg  \n",
       "0        1.0  \n",
       "1        1.0  \n",
       "2        1.0  \n",
       "3        1.0  \n",
       "4        1.0  \n",
       "5        1.0  \n",
       "6        1.0  \n",
       "7        1.0  \n",
       "8        1.0  \n",
       "9        1.0  \n",
       "10       1.0  \n",
       "11       1.0  \n",
       "12       1.0  \n",
       "13       1.0  "
      ]
     },
     "execution_count": 17,
     "metadata": {},
     "output_type": "execute_result"
    }
   ],
   "source": [
    "pd.set_option('display.max_columns', None)\n",
    "\n",
    "df = pd.DataFrame()\n",
    "#df['session'] = [s[-19:-6] for s in sessions]\n",
    "df['session'] = sessions\n",
    "\n",
    "el_shank_names = [el for el in range(unit_mx.shape[1])]\n",
    "for i in el_shank_names:\n",
    "    df[str(i + 1)] = unit_mx[:, i]\n",
    "    \n",
    "# dual implants\n",
    "df['A1'] = df[[str(i+1) for i in el_shank_names[:1]]].sum(axis=1)\n",
    "df['PPC'] = df[[str(i+1) for i in el_shank_names[1:]]].sum(axis=1)\n",
    "\n",
    "# Neuropixels\n",
    "#df['Total'] = df[[str(i+1) for i in el_shank_names]].sum(axis=1)\n",
    "    \n",
    "df['performance'] = np.round(performance, 3)\n",
    "df['frequency']   = tgt_freqs.astype(np.int16)\n",
    "df['duration']    = 1000*tgt_durs\n",
    "for i, name in enumerate(s_names):\n",
    "    df[name] = file_status[:, i]\n",
    "\n",
    "df[:50]\n",
    "#df[(df['duration'] > 60) & (df['performance'] > 0.5) & (df['PPC'] > 0)]"
   ]
  },
  {
   "cell_type": "code",
   "execution_count": null,
   "id": "0c978740",
   "metadata": {},
   "outputs": [],
   "source": [
    "# 60_SIT_2023-08-31_10-48-38 - A1 - empty, PPC 3 cells, done\n",
    "# 60_SIT_2023-09-06_09-48-08 - A1 - empty, PPC 4 cells, done\n",
    "# 60_SIT_2023-09-24_19-04-06 - A1 worth looking, PPC ~one cell, done\n",
    "# 60_SIT_2023-09-25_19-10-36 - A1 - one cell, PPC nothing, done\n",
    "# 60_SIT_2023-09-26_19-10-17 - A1 a few cells, PPC a few cells, done\n",
    "# 60_SIT_2023-09-28_09-55-55 - A1, PPC - something to look at, done\n",
    "# 60_SIT_2023-11-18_19-12-56 - A1 - empty, PPC - a few cells, done\n",
    "# 60_SIT_2023-11-24_13-17-01 - A1 - empty, PPC - 15 cells, done"
   ]
  },
  {
   "cell_type": "code",
   "execution_count": 8,
   "id": "384558f0",
   "metadata": {},
   "outputs": [
    {
     "name": "stdout",
     "output_type": "stream",
     "text": [
      "nan\n",
      "nan\n",
      "nan\n",
      "nan\n"
     ]
    }
   ],
   "source": [
    "for dur in [57.5, 75, 100, 150]:\n",
    "    print(df[df['duration'] == dur]['performance'].mean())"
   ]
  },
  {
   "cell_type": "code",
   "execution_count": 8,
   "id": "71ecd813",
   "metadata": {},
   "outputs": [
    {
     "data": {
      "text/plain": [
       "64"
      ]
     },
     "execution_count": 8,
     "metadata": {},
     "output_type": "execute_result"
    }
   ],
   "source": [
    "df[df['duration'] == 57.5]['0'].sum()"
   ]
  },
  {
   "cell_type": "markdown",
   "id": "fb128790",
   "metadata": {},
   "source": [
    "## Unit to S1 correlations"
   ]
  },
  {
   "cell_type": "code",
   "execution_count": 8,
   "id": "23c5d5ef",
   "metadata": {},
   "outputs": [],
   "source": [
    "#selected = sessions[:]\n",
    "\n",
    "selected = [\n",
    "    \"60_SIT_2023-09-26_19-10-17\",\n",
    "    \"60_SIT_2023-09-28_09-55-55\"\n",
    "]"
   ]
  },
  {
   "cell_type": "code",
   "execution_count": 9,
   "id": "bd8b60a9",
   "metadata": {
    "scrolled": true
   },
   "outputs": [
    {
     "data": {
      "image/png": "[encoded data removed]",
      "text/plain": [
       "<Figure size 1152x432 with 8 Axes>"
      ]
     },
     "metadata": {
      "needs_background": "light"
     },
     "output_type": "display_data"
    }
   ],
   "source": [
    "titles = ['E1', 'E2', 'E3', 'S1']\n",
    "rows = len(selected)\n",
    "cols = 4\n",
    "fig, axes = plt.subplots(rows, cols, figsize=(16, rows*3))\n",
    "\n",
    "for i, session in enumerate(selected):\n",
    "    animal     = session.split('_')[0]\n",
    "    meta_file  = os.path.join(source, animal, session, 'meta.h5')\n",
    "    units_file = os.path.join(source, animal, session, 'units.h5')\n",
    "    umap_file  = os.path.join(source, animal, session, 'analysis', 'W1-W4_tSNE_UMAP.h5')\n",
    "    \n",
    "    with h5py.File(meta_file, 'r') as f:\n",
    "        tl = np.array(f['processed']['timeline'])\n",
    "        tgt_mx = np.array(f['processed']['target_matrix'])\n",
    "        events = np.array(f['processed']['sound_events'])\n",
    "    with h5py.File(umap_file, 'r') as f:\n",
    "        w_mx = np.array(f['w_mx'])\n",
    "\n",
    "    # load units\n",
    "    unit_names, single_units, spike_times = [], {}, {}\n",
    "    with h5py.File(units_file, 'r') as f:\n",
    "        unit_names = [x for x in f]\n",
    "    with h5py.File(units_file, 'r') as f:\n",
    "        for unit_name in unit_names:\n",
    "            spike_times[unit_name] = np.array(f[unit_name][H5NAMES.spike_times['name']])\n",
    "            single_units[unit_name] = np.array(f[unit_name][H5NAMES.inst_rate['name']])\n",
    "        \n",
    "    results = np.zeros([len(unit_names), 4])\n",
    "    for j, unit_name in enumerate(unit_names):\n",
    "        for phase in range(4):\n",
    "            i_rate_ev = single_units[unit_name][events[:, 2].astype(np.int32)]\n",
    "            results[j][phase] = stats.pearsonr(i_rate_ev, w_mx[:, phase])[0]\n",
    "    \n",
    "    for j in range(4):\n",
    "        colors = ['tab:blue' if int(unit_name[0]) < 3 else 'red' for unit_name in unit_names]\n",
    "        ax = axes[i][j]\n",
    "        ax.bar(np.arange(len(unit_names)), results[:, j], color=colors)\n",
    "        ax.set_ylim(-1, 1)\n",
    "        ax.axhline(-0.5, color='red', ls='--')\n",
    "        ax.axhline(0.5, color='red', ls='--')\n",
    "        ax.axhline(0)\n",
    "        if i == 0:\n",
    "            ax.set_title(titles[j], fontsize=14)\n",
    "        if j == 0:\n",
    "            ax.set_ylabel(session[-19:-6], fontsize=14)\n",
    "        \n",
    "    #if session == '57_SIT_2024-01-05_14-35-49':\n",
    "    #    break"
   ]
  },
  {
   "cell_type": "markdown",
   "id": "5e975d96",
   "metadata": {},
   "source": [
    "## Unit depth"
   ]
  },
  {
   "cell_type": "code",
   "execution_count": 50,
   "id": "1c342953",
   "metadata": {},
   "outputs": [],
   "source": [
    "# auditory-responsive thalamic units\n",
    "thal_units = {\n",
    "    1: [0, 18, 44, 69, 86, 129, 174, 198, 199, 230, 302, 365, 381, 452, 463, 477, 536, 576],\n",
    "    2: [102, 131, 189, 218, 232, 248, 264, 276, 278, 280, 305, 369, 385, 395, 406, 408, 410, 411, 412, 425, 428, 501, 528, 613, 625],\n",
    "    3: [49, 146, 156, 267, 374, 569, 616, 631],\n",
    "    4: [9, 10, 30, 57, 76, 79, 92, 93, 109, 172, 211, 294, 295, 298, 434, 460, 546, 548, 561, 572, 587, 588, 599, 621],\n",
    "}"
   ]
  },
  {
   "cell_type": "code",
   "execution_count": 84,
   "id": "ed2a2fdd",
   "metadata": {},
   "outputs": [
    {
     "data": {
      "text/plain": [
       "array([  0,  15,  30,  45,  60,  75,  90, 105, 120, 135, 150, 165, 180,\n",
       "       195, 210, 225, 240, 255, 270, 285, 300, 315, 330, 345])"
      ]
     },
     "execution_count": 84,
     "metadata": {},
     "output_type": "execute_result"
    }
   ],
   "source": [
    "np.arange(0, 360, 15)"
   ]
  },
  {
   "cell_type": "code",
   "execution_count": 85,
   "id": "a9fd225f",
   "metadata": {},
   "outputs": [],
   "source": [
    "config = {\n",
    "    1: [[0, 360], [2690, 3050]],\n",
    "    2: [[400, 760], [760, 1120], [2000, 2360], [2500, 2860], [3320, 3680], [4050, 4410]],\n",
    "    3: [[1900, 2260], [2740, 3100]],\n",
    "    4: [[0, 360], [360, 720], [720, 1080], [1800, 2260], [2600, 2960], [3500, 3860]],\n",
    "}"
   ]
  },
  {
   "cell_type": "code",
   "execution_count": 96,
   "id": "7884a610",
   "metadata": {},
   "outputs": [],
   "source": [
    "session = '013608_ppcSIT_2025-01-22_12-59-00'  # PPC\n",
    "session = '013608_ppcSIT_2025-01-23_08-46-51'  # HPC\n",
    "#session = '013608_ppcSIT_2025-01-24_08-19-45'  # Thalamus\n",
    "\n",
    "animal  = session.split('_')[0]\n",
    "\n",
    "units_file = os.path.join(source, animal, session, 'units.h5')\n",
    "\n",
    "positions = {}\n",
    "with h5py.File(units_file, 'r') as f:\n",
    "    unit_names = [x for x in f]\n",
    "with h5py.File(units_file, 'r') as f:\n",
    "    for unit_name in unit_names:\n",
    "        positions[unit_name] = np.array(f[unit_name]['anatomical_position'])"
   ]
  },
  {
   "cell_type": "code",
   "execution_count": 98,
   "id": "39184827",
   "metadata": {
    "scrolled": false
   },
   "outputs": [
    {
     "data": {
      "image/png": "[encoded data removed]",
      "text/plain": [
       "<Figure size 1152x720 with 8 Axes>"
      ]
     },
     "metadata": {
      "needs_background": "light"
     },
     "output_type": "display_data"
    }
   ],
   "source": [
    "spread = 50\n",
    "v_max = 5000\n",
    "\n",
    "fig, axes = plt.subplots(1, 8, figsize=(16, 10))\n",
    "\n",
    "# probe\n",
    "x = np.array([8, 258, 540, 790])\n",
    "y = np.arange(0, 15*640)\n",
    "\n",
    "for i, x_pos in enumerate(x):\n",
    "    ids = np.array(thal_units[i+1])\n",
    "    anat_pos_oth = np.array([pos for unit_id, pos in positions.items() if np.abs(pos[0] - x_pos) < 50])\n",
    "    anat_pos_sel = np.array([pos for unit_id, pos in positions.items() if np.abs(pos[0] - x_pos) < 50 and \\\n",
    "                             int(unit_id.split('-')[1]) in ids])\n",
    "    x_pos_oth = np.random.rand(len(anat_pos_oth)) * spread - spread/2\n",
    "    x_pos_sel = np.random.rand(len(anat_pos_sel)) * spread - spread/2\n",
    "    \n",
    "    # probe shank\n",
    "    axes[2*i].scatter(np.ones(len(y)) * x_pos, y, color='grey')  # probe shank\n",
    "    axes[2*i].scatter(x_pos_oth + x_pos, anat_pos_oth[:, 1], alpha=0.3, color='tab:blue')\n",
    "    #axes[2*i].scatter(x_pos_sel + x_pos, anat_pos_sel[:, 1], alpha=0.3, color='red')\n",
    "    axes[2*i].set_ylim(0, v_max)\n",
    "    axes[2*i].axhline(15*192, color='black')\n",
    "    if i > 0:\n",
    "        axes[2*i].set_yticks([])\n",
    "    \n",
    "    for band in config[i+1]:\n",
    "        y_band = np.arange(band[0], band[1], 15)\n",
    "        axes[2*i].scatter(np.ones(len(y_band)) * x_pos, y_band, s=50, color='green') \n",
    "        axes[2*i].text(x_pos - 15, band[0], '%d - %d' % (band[0]/15, band[1]/15))\n",
    "    \n",
    "    \n",
    "    # unit density\n",
    "    axes[2*i+1].hist(anat_pos_oth[:, 1], bins=np.arange(0, v_max, 50), color='red', orientation=\"horizontal\")\n",
    "    axes[2*i+1].set_xlim(0, 10)\n",
    "    axes[2*i+1].set_ylim(0, v_max)\n",
    "    axes[2*i+1].axhline(15*192, color='black')\n",
    "    axes[2*i+1].set_yticks([])"
   ]
  },
  {
   "cell_type": "markdown",
   "id": "84d28c2c",
   "metadata": {},
   "source": [
    "## Touch files for snakemake "
   ]
  },
  {
   "cell_type": "code",
   "execution_count": 20,
   "id": "1cf370e0",
   "metadata": {},
   "outputs": [
    {
     "name": "stdout",
     "output_type": "stream",
     "text": [
      "/home/sobolev/nevermind/AG_Pecka/data/processed/009265/009265_hippoSIT_2023-03-03_16-00-47/moseq\n",
      "/home/sobolev/nevermind/AG_Pecka/data/processed/009265/009265_hippoSIT_2023-03-03_09-37-07/moseq\n",
      "/home/sobolev/nevermind/AG_Pecka/data/processed/009265/009265_hippoSIT_2023-03-02_16-27-42/moseq\n",
      "/home/sobolev/nevermind/AG_Pecka/data/processed/009265/009265_hippoSIT_2023-02-24_17-22-46/moseq\n",
      "/home/sobolev/nevermind/AG_Pecka/data/processed/009265/009265_hippoSIT_2023-03-02_09-32-54/moseq\n",
      "/home/sobolev/nevermind/AG_Pecka/data/processed/009265/009265_hippoSIT_2023-02-28_09-16-50/moseq\n",
      "/home/sobolev/nevermind/AG_Pecka/data/processed/009265/009265_hippoSIT_2023-03-08_18-10-07/moseq\n",
      "/home/sobolev/nevermind/AG_Pecka/data/processed/009265/009265_hippoSIT_2023-03-10_09-57-34/moseq\n",
      "/home/sobolev/nevermind/AG_Pecka/data/processed/009265/009265_hippoSIT_2023-02-24_09-53-26/moseq\n",
      "/home/sobolev/nevermind/AG_Pecka/data/processed/009265/009265_hippoSIT_2023-03-01_10-46-12/moseq\n",
      "/home/sobolev/nevermind/AG_Pecka/data/processed/009265/009265_hippoSIT_2023-03-02_20-11-35/moseq\n",
      "/home/sobolev/nevermind/AG_Pecka/data/processed/009265/009265_hippoSIT_2023-02-28_13-16-10/moseq\n",
      "/home/sobolev/nevermind/AG_Pecka/data/processed/009265/009265_hippoSIT_2023-02-27_15-33-46/moseq\n",
      "/home/sobolev/nevermind/AG_Pecka/data/processed/009265/009265_hippoSIT_2023-04-13_09-54-39/moseq\n",
      "/home/sobolev/nevermind/AG_Pecka/data/processed/009265/009265_hippoSIT_2023-03-04_11-12-04/moseq\n",
      "/home/sobolev/nevermind/AG_Pecka/data/processed/009265/009265_hippoSIT_2023-03-05_11-52-17/moseq\n",
      "/home/sobolev/nevermind/AG_Pecka/data/processed/009265/009265_hippoSIT_2023-03-09_20-03-08/moseq\n",
      "/home/sobolev/nevermind/AG_Pecka/data/processed/009265/009265_hippoSIT_2023-02-28_20-45-04/moseq\n",
      "/home/sobolev/nevermind/AG_Pecka/data/processed/009265/009265_hippoSIT_2023-02-27_10-18-32/moseq\n",
      "/home/sobolev/nevermind/AG_Pecka/data/processed/009265/009265_hippoSIT_2023-03-05_18-31-32/moseq\n",
      "/home/sobolev/nevermind/AG_Pecka/data/processed/009265/009265_hippoSIT_2023-04-20_11-39-02/moseq\n"
     ]
    },
    {
     "name": "stderr",
     "output_type": "stream",
     "text": [
      "touch: setting times of '/home/sobolev/nevermind/AG_Pecka/data/processed/009265/009265_hippoSIT_2023-03-05_11-52-17/dlc/videoDLC_resnet50_implantedSITJun23shuffle3_960000.csv': Permission denied\n",
      "touch: setting times of '/home/sobolev/nevermind/AG_Pecka/data/processed/009265/009265_hippoSIT_2023-03-05_11-52-17/dlc/videoDLC_resnet50_implantedSITJun23shuffle3_960000.h5': Permission denied\n",
      "touch: setting times of '/home/sobolev/nevermind/AG_Pecka/data/processed/009265/009265_hippoSIT_2023-03-05_11-52-17/dlc/videoDLC_resnet50_implantedSITJun23shuffle3_960000_meta.pickle': Permission denied\n"
     ]
    }
   ],
   "source": [
    "import subprocess\n",
    "\n",
    "animal = '009265'\n",
    "\n",
    "for session in os.listdir(os.path.join(source, animal)):\n",
    "    dlc_path = os.path.join(source, animal, session, 'dlc')\n",
    "    if os.path.exists(dlc_path):\n",
    "        subprocess.run(['touch ' + os.path.join(dlc_path, '*')], shell=True)\n",
    "    moseq_path = os.path.join(source, animal, session, 'moseq')\n",
    "    if os.path.exists(moseq_path):\n",
    "        print(moseq_path)\n",
    "        subprocess.run(['touch ' + os.path.join(moseq_path, '*')], shell=True)"
   ]
  },
  {
   "cell_type": "code",
   "execution_count": 99,
   "id": "16fa8de4",
   "metadata": {},
   "outputs": [
    {
     "data": {
      "text/plain": [
       "['', 'storage3', 'eva', 'data', 'raw', 'eb01', 'OE', '2025-01-24_16-49-37']"
      ]
     },
     "execution_count": 99,
     "metadata": {},
     "output_type": "execute_result"
    }
   ],
   "source": [
    "raw_session_path = '/storage3/eva/data/raw/eb01/OE/2025-01-24_16-49-37'\n",
    "processed_session_path = '/storage3/eva/data/processed/eb01/OE/2025-01-24_16-49-37'\n",
    "\n",
    "raw_session_path.split('/')"
   ]
  },
  {
   "cell_type": "code",
   "execution_count": 9,
   "id": "70ebbac0",
   "metadata": {},
   "outputs": [],
   "source": [
    "h5p = '/home/sobolev/nevermind/AG_Pecka/data/processed/013829/013829_ppcSIT_2024-11-16_11-17-54/analysis/population_matrices.h5'\n",
    "\n",
    "with h5py.File(h5p, 'r') as f:\n",
    "    ev_bin_count = np.array(f['ev_bin_count'])\n"
   ]
  },
  {
   "cell_type": "code",
   "execution_count": 12,
   "id": "806ce74e",
   "metadata": {},
   "outputs": [
    {
     "data": {
      "text/plain": [
       "12"
      ]
     },
     "execution_count": 12,
     "metadata": {},
     "output_type": "execute_result"
    }
   ],
   "source": [
    "int(ev_bin_count)"
   ]
  },
  {
   "cell_type": "code",
   "execution_count": null,
   "id": "ec18c212",
   "metadata": {},
   "outputs": [],
   "source": []
  }
 ],
 "metadata": {
  "kernelspec": {
   "display_name": "Python 3 (ipykernel)",
   "language": "python",
   "name": "python3"
  },
  "language_info": {
   "codemirror_mode": {
    "name": "ipython",
    "version": 3
   },
   "file_extension": ".py",
   "mimetype": "text/x-python",
   "name": "python",
   "nbconvert_exporter": "python",
   "pygments_lexer": "ipython3",
   "version": "3.8.10"
  }
 },
 "nbformat": 4,
 "nbformat_minor": 5
}
