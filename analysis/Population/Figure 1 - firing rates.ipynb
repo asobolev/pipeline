{
 "cells": [
  {
   "cell_type": "code",
   "execution_count": 1,
   "id": "45ca3001",
   "metadata": {},
   "outputs": [],
   "source": [
    "import sys, os\n",
    "sys.path.append(os.path.join(os.getcwd(), '..'))\n",
    "sys.path.append(os.path.join(os.getcwd(), '..', '..'))\n",
    "sys.path.append(os.path.join(os.getcwd(), '..', '..', '..', 'pplSIT', 'workflow'))\n",
    "sys.path.append(os.path.join(os.getcwd(), '..', '..', '..', 'pplSIT', 'workflow', 'utils'))"
   ]
  },
  {
   "cell_type": "code",
   "execution_count": 2,
   "id": "236ba101",
   "metadata": {},
   "outputs": [
    {
     "name": "stderr",
     "output_type": "stream",
     "text": [
      "/home/sobolev/projects/pySIT/lib/python3.8/site-packages/scipy/__init__.py:146: UserWarning: A NumPy version >=1.16.5 and <1.23.0 is required for this version of SciPy (detected version 1.24.4\n",
      "  warnings.warn(f\"A NumPy version >={np_minversion} and <{np_maxversion}\"\n"
     ]
    }
   ],
   "source": [
    "%matplotlib inline\n",
    "\n",
    "import itertools\n",
    "from sessions_nMAP_EV_SU import selected\n",
    "from imports import *\n",
    "from scipy import stats\n",
    "from maths import pval2text\n",
    "\n",
    "import pandas as pd"
   ]
  },
  {
   "cell_type": "code",
   "execution_count": 3,
   "id": "43770aa5",
   "metadata": {},
   "outputs": [
    {
     "data": {
      "application/javascript": [
       "IPython.OutputArea.prototype._should_scroll = function(lines) {\n",
       "    return false;\n",
       "}\n"
      ],
      "text/plain": [
       "<IPython.core.display.Javascript object>"
      ]
     },
     "metadata": {},
     "output_type": "display_data"
    }
   ],
   "source": [
    "%%javascript\n",
    "IPython.OutputArea.prototype._should_scroll = function(lines) {\n",
    "    return false;\n",
    "}"
   ]
  },
  {
   "cell_type": "code",
   "execution_count": 4,
   "id": "fb4406ca",
   "metadata": {
    "scrolled": true
   },
   "outputs": [
    {
     "data": {
      "text/plain": [
       "(['009266_hippoSIT_2023-04-17_17-04-17',\n",
       "  '009266_hippoSIT_2023-04-18_10-10-37',\n",
       "  '009266_hippoSIT_2023-04-18_17-03-10'],\n",
       " 65)"
      ]
     },
     "execution_count": 4,
     "metadata": {},
     "output_type": "execute_result"
    }
   ],
   "source": [
    "#source = '/home/sobolev/nevermind_ag-grothe/AG_Pecka/data/processed/'\n",
    "source = '/home/sobolev/nevermind/AG_Pecka/data/processed/'\n",
    "rep_path = '/home/sobolev/nevermind/Andrey/analysis/manuscripts/'\n",
    "\n",
    "all_selected = []\n",
    "for animal, s_list in selected.items():\n",
    "    all_selected += s_list\n",
    "\n",
    "all_selected[:3], len(all_selected)"
   ]
  },
  {
   "cell_type": "code",
   "execution_count": 5,
   "id": "3ab879d8",
   "metadata": {},
   "outputs": [],
   "source": [
    "# use a special order\n",
    "animals = ['57', '013829', '009265', '009266']"
   ]
  },
  {
   "cell_type": "code",
   "execution_count": 6,
   "id": "522134d9",
   "metadata": {},
   "outputs": [
    {
     "name": "stdout",
     "output_type": "stream",
     "text": [
      "Session 013829_ppcSIT_2024-11-25_10-04-29 completed (64 from 65)5)\r"
     ]
    }
   ],
   "source": [
    "electrodes = {\n",
    "    '013829': [1, 2],\n",
    "    '009265': [1, 2],\n",
    "    '009266': [1, 2],\n",
    "    '57': [1],\n",
    "    '60': [1, 2]    \n",
    "}\n",
    "speed_thresh = 0.04  # m/s\n",
    "\n",
    "data = []\n",
    "for i, session in enumerate(all_selected):\n",
    "    \n",
    "    # reading data\n",
    "    animal   = session.split('_')[0]\n",
    "    session_path = os.path.join(source, animal, session)\n",
    "    #psth_file  = os.path.join(session_path, 'analysis', 'psth_micro.h5')\n",
    "    #nmap_file  = os.path.join(session_path, 'analysis', 'nMAP_EV_SU_noconv.h5')\n",
    "    #nmap_file  = os.path.join(session_path, 'analysis', 'nMAP_EV_SU_with_PSTH.h5')\n",
    "    #mose_file  = os.path.join(session_path, 'analysis', 'MoSeq_tSNE_UMAP.h5')\n",
    "    unit_file  = os.path.join(session_path, 'units.h5')\n",
    "    meta_file  = os.path.join(session_path, 'meta.h5')\n",
    "    desc_file  = os.path.join(session_path, 'descendants.h5')\n",
    "\n",
    "    with h5py.File(meta_file, 'r') as f:\n",
    "        sound_events = np.array(f['processed']['sound_events'])\n",
    "        tl = np.array(f['processed']['timeline'])\n",
    "        tgt_mx = np.array(f['processed']['target_matrix'])\n",
    "        cfg = json.loads(f['processed'].attrs['parameters'])\n",
    "    with h5py.File(desc_file, 'r') as f:\n",
    "        speed = np.array(f['speed'])\n",
    "        hd    = np.array(f['hd'])\n",
    "    speed_ev = speed[sound_events[:, 2].astype(np.int32)]\n",
    "\n",
    "    spike_times = {}\n",
    "    with h5py.File(unit_file, 'r') as f:\n",
    "        unit_names = [x for x in f if int(x.split('-')[0]) in electrodes[animal]]\n",
    "    with h5py.File(unit_file, 'r') as f:\n",
    "        for unit_name in unit_names:\n",
    "            spike_times[unit_name]  = np.array(f[unit_name]['spike_times'])\n",
    "            \n",
    "    # auditory state (BGR, SIL etc.)\n",
    "    idxs_sil_ev = np.where(sound_events[:, 1] == 0)[0]\n",
    "    idxs_bgr_ev = np.where(sound_events[:, 1] == 1)[0]\n",
    "    idxs_tgt_ev = np.where(sound_events[:, 1] == 2)[0]\n",
    "    \n",
    "    # stationary / running\n",
    "    idxs_sta_ev = np.where(speed_ev < speed_thresh)[0]  # define speed filter here\n",
    "    idxs_run_ev = np.where(speed_ev > speed_thresh)[0]\n",
    "   \n",
    "    # success / miss\n",
    "    idxs_suc_ev, idxs_mis_ev = [], []\n",
    "    for tgt_rec in tgt_mx:\n",
    "        idxs_to_add = list(np.arange(tgt_rec[0], tgt_rec[1] + 1, dtype=np.int32))\n",
    "        if tgt_rec[4] == 1:\n",
    "            idxs_suc_ev += idxs_to_add\n",
    "        else:\n",
    "            idxs_mis_ev += idxs_to_add\n",
    "    idxs_suc_ev = np.array(idxs_suc_ev)\n",
    "    idxs_mis_ev = np.array(idxs_mis_ev)\n",
    "    \n",
    "    # collect firing rates\n",
    "    bins = np.array(list(sound_events[:, 0]) + [sound_events[:, 0][-1] + 0.25])\n",
    "    for unit_name, strain in spike_times.items():\n",
    "        spk_counts = np.histogram(strain, bins=bins)[0]\n",
    "        \n",
    "        data.append([\n",
    "            animals.index(animal),\n",
    "            all_selected.index(session),\n",
    "            spk_counts[idxs_sil_ev].mean(),\n",
    "            spk_counts[idxs_bgr_ev].mean(),\n",
    "            spk_counts[idxs_tgt_ev].mean(),\n",
    "            spk_counts[idxs_sta_ev].mean(),\n",
    "            spk_counts[idxs_run_ev].mean(),\n",
    "            spk_counts[idxs_suc_ev].mean(),\n",
    "            spk_counts[idxs_mis_ev].mean()\n",
    "        ])\n",
    "    \n",
    "    print(f\"Session {session} completed ({i} from {len(all_selected)})\\r\", end='')\n",
    "    \n",
    "data = np.array(data)"
   ]
  },
  {
   "cell_type": "code",
   "execution_count": 7,
   "id": "23d30be9",
   "metadata": {},
   "outputs": [
    {
     "data": {
      "image/png": "[encoded data removed]",
      "text/plain": [
       "<Figure size 216x648 with 3 Axes>"
      ]
     },
     "metadata": {
      "needs_background": "light"
     },
     "output_type": "display_data"
    }
   ],
   "source": [
    "fig, axes = plt.subplots(3, 1, figsize=(3, 9))\n",
    "\n",
    "comb_idxs = [[2, 4], [5, 6], [7, 8]]\n",
    "clrs = [['tab:blue', 'tab:orange'], ['black', 'tab:red'], ['tab:green', 'gray']]\n",
    "labels = [['Background', 'Target'], ['Stationary', 'Running'], ['Success', 'Miss']]\n",
    "titles = ['Sound', 'Locomotion', 'Engagement']\n",
    "\n",
    "for i in range(3):\n",
    "    # data\n",
    "    m1 = data[:, comb_idxs[i][0]]\n",
    "    m2 = data[:, comb_idxs[i][1]]\n",
    "    f_rates_s = np.column_stack([m1/(m1 + m2), m2/(m1 + m2)])\n",
    "\n",
    "    # violins\n",
    "    x_pos = np.arange(len(comb_idxs[i]), dtype=np.int32)\n",
    "    ax = axes[i]\n",
    "    parts = ax.violinplot(f_rates_s, positions=x_pos, showmeans=True, showmedians=False, widths=0.75)\n",
    "    for j, pc in enumerate(parts['bodies']):\n",
    "        pc.set_facecolor(clrs[i][j])\n",
    "        #pc.set_edgecolor(colors[i])\n",
    "        pc.set_alpha(0.9)\n",
    "    for partname in ('cbars','cmins','cmaxes','cmeans'):\n",
    "        vp = parts[partname]\n",
    "        vp.set_edgecolor('black')\n",
    "        vp.set_linewidth(1)\n",
    "\n",
    "    # stats\n",
    "    st, pv = stats.ttest_ind(f_rates_s[:, 0], f_rates_s[:, 1])\n",
    "    x1, x2 = x_pos[0], x_pos[1]\n",
    "    y, h = 1.1, 0.1\n",
    "    ax.plot([x1, x1, x2, x2], [y, y+h, y+h, y], lw=0.5, color='black')\n",
    "    ax.text((x1+x2)*.5, y+h, pval2text(pv), ha='center', va='bottom', color='black', fontsize=12)\n",
    "    \n",
    "    ax.set_ylim(0, 1.4)\n",
    "    ax.set_title(titles[i], fontsize=14)\n",
    "    ax.set_ylabel('Firing rates, norm.', fontsize=14)\n",
    "    ax.set_xticks(x_pos)\n",
    "    ax.set_xticklabels(labels[i], rotation=0)\n",
    "    \n",
    "fig.tight_layout()\n",
    "fig.savefig(os.path.join(rep_path, 'sound_locomotion_engagement.png'), dpi=300)"
   ]
  },
  {
   "cell_type": "code",
   "execution_count": null,
   "id": "80354537",
   "metadata": {},
   "outputs": [],
   "source": []
  }
 ],
 "metadata": {
  "kernelspec": {
   "display_name": "Python 3 (ipykernel)",
   "language": "python",
   "name": "python3"
  },
  "language_info": {
   "codemirror_mode": {
    "name": "ipython",
    "version": 3
   },
   "file_extension": ".py",
   "mimetype": "text/x-python",
   "name": "python",
   "nbconvert_exporter": "python",
   "pygments_lexer": "ipython3",
   "version": "3.8.10"
  }
 },
 "nbformat": 4,
 "nbformat_minor": 5
}
