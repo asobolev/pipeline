{
 "cells": [
  {
   "cell_type": "code",
   "execution_count": 1,
   "id": "45ca3001",
   "metadata": {},
   "outputs": [],
   "source": [
    "import sys, os\n",
    "sys.path.append(os.path.join(os.getcwd(), '..'))\n",
    "sys.path.append(os.path.join(os.getcwd(), '..', '..'))\n",
    "sys.path.append(os.path.join(os.getcwd(), '..', '..', '..', 'pplSIT', 'workflow', 'utils'))"
   ]
  },
  {
   "cell_type": "code",
   "execution_count": 2,
   "id": "236ba101",
   "metadata": {},
   "outputs": [
    {
     "name": "stderr",
     "output_type": "stream",
     "text": [
      "/home/sobolev/projects/pySIT/lib/python3.8/site-packages/scipy/__init__.py:146: UserWarning: A NumPy version >=1.16.5 and <1.23.0 is required for this version of SciPy (detected version 1.24.4\n",
      "  warnings.warn(f\"A NumPy version >={np_minversion} and <{np_maxversion}\"\n"
     ]
    }
   ],
   "source": [
    "%matplotlib inline\n",
    "\n",
    "import itertools\n",
    "#from sessions import selected_009266, selected_008229, selected_009265, selected_57, selected_013829\n",
    "from sessions_nMAP_EV_SU import selected\n",
    "from imports import *\n",
    "from scipy import stats\n",
    "from scipy import signal\n",
    "from Behavior.behavior import get_extent, get_idxs_behav_state, get_idxs_in_patches\n",
    "from Behavior.behavior import density_map, density_map, get_idxs_neuro_state\n",
    "from matplotlib.lines import Line2D\n",
    "\n",
    "import pandas as pd\n",
    "import statsmodels.api as sm\n",
    "from statsmodels.formula.api import ols\n",
    "from statsmodels.stats.anova import AnovaRM\n",
    "from itertools import combinations\n",
    "from scipy.stats import ttest_rel"
   ]
  },
  {
   "cell_type": "code",
   "execution_count": 3,
   "id": "43770aa5",
   "metadata": {},
   "outputs": [
    {
     "data": {
      "application/javascript": [
       "IPython.OutputArea.prototype._should_scroll = function(lines) {\n",
       "    return false;\n",
       "}\n"
      ],
      "text/plain": [
       "<IPython.core.display.Javascript object>"
      ]
     },
     "metadata": {},
     "output_type": "display_data"
    }
   ],
   "source": [
    "%%javascript\n",
    "IPython.OutputArea.prototype._should_scroll = function(lines) {\n",
    "    return false;\n",
    "}"
   ]
  },
  {
   "cell_type": "code",
   "execution_count": 37,
   "id": "9950b7ae",
   "metadata": {},
   "outputs": [],
   "source": [
    "def pval2text(p_val):\n",
    "    if p_val > 0.05:\n",
    "        return 'n.s.'\n",
    "    elif p_val > 0.01:\n",
    "        return '*'\n",
    "    elif p_val > 0.001:\n",
    "        return '**'\n",
    "    elif p_val > 0.0001:\n",
    "        return '***'\n",
    "    else:\n",
    "        return '****'"
   ]
  },
  {
   "cell_type": "code",
   "execution_count": 4,
   "id": "fb4406ca",
   "metadata": {
    "scrolled": true
   },
   "outputs": [
    {
     "data": {
      "text/plain": [
       "(['009266_hippoSIT_2023-04-17_17-04-17',\n",
       "  '009266_hippoSIT_2023-04-18_10-10-37',\n",
       "  '009266_hippoSIT_2023-04-18_17-03-10',\n",
       "  '009266_hippoSIT_2023-04-19_10-33-51',\n",
       "  '009266_hippoSIT_2023-04-20_08-57-39',\n",
       "  '009266_hippoSIT_2023-04-21_08-43-00',\n",
       "  '009266_hippoSIT_2023-04-21_13-12-31'],\n",
       " 65)"
      ]
     },
     "execution_count": 4,
     "metadata": {},
     "output_type": "execute_result"
    }
   ],
   "source": [
    "#source = '/home/sobolev/nevermind_ag-grothe/AG_Pecka/data/processed/'\n",
    "source = '/home/sobolev/nevermind/AG_Pecka/data/processed/'\n",
    "rep_path = '/home/sobolev/nevermind/Andrey/analysis/manuscripts/'\n",
    "\n",
    "all_selected = []\n",
    "for animal, s_list in selected.items():\n",
    "    all_selected += s_list\n",
    "\n",
    "all_selected[:7], len(all_selected)"
   ]
  },
  {
   "cell_type": "markdown",
   "id": "95fa2f6a",
   "metadata": {},
   "source": [
    "## Collecting data"
   ]
  },
  {
   "cell_type": "code",
   "execution_count": 5,
   "id": "e1559628",
   "metadata": {},
   "outputs": [],
   "source": [
    "animals = list(set([session.split('_')[0] for session in all_selected]))"
   ]
  },
  {
   "cell_type": "code",
   "execution_count": 9,
   "id": "3f6bbad1",
   "metadata": {},
   "outputs": [
    {
     "name": "stdout",
     "output_type": "stream",
     "text": [
      "Session 013829_ppcSIT_2024-11-25_10-04-29 completed (64 from 65)5)\r"
     ]
    }
   ],
   "source": [
    "speed_thresh = 0.04  # m/s\n",
    "\n",
    "EV_sil = np.zeros(0)\n",
    "EV_bgr = np.zeros(0)\n",
    "EV_tgt = np.zeros(0)\n",
    "EV_sta = np.zeros(0)\n",
    "EV_run = np.zeros(0)\n",
    "\n",
    "SU_sil = np.zeros(0)\n",
    "SU_bgr = np.zeros(0)\n",
    "SU_tgt = np.zeros(0)\n",
    "SU_sta = np.zeros(0)\n",
    "SU_run = np.zeros(0)\n",
    "\n",
    "\n",
    "for k, session in enumerate(all_selected):\n",
    "    animal   = session.split('_')[0]\n",
    "    session_path = os.path.join(source, animal, session)\n",
    "    #nmap_file  = os.path.join(session_path, 'analysis', 'nMAP_EV_SU_noconv.h5')\n",
    "    nmap_file  = os.path.join(session_path, 'analysis', 'nMAP_EV_SU_with_PSTH.h5')\n",
    "    #bmap_file  = os.path.join(session_path, 'analysis', 'bMAP_segmentation.h5')\n",
    "    meta_file  = os.path.join(session_path, 'meta.h5')\n",
    "    desc_file  = os.path.join(session_path, 'descendants.h5')\n",
    "\n",
    "    with h5py.File(meta_file, 'r') as f:\n",
    "        tl = np.array(f['processed']['timeline'])\n",
    "        sound_events = np.array(f['processed']['sound_events'])\n",
    "        tgt_mx = np.array(f['processed']['target_matrix'])\n",
    "    with h5py.File(nmap_file, 'r') as f:\n",
    "        fit = np.array(f['response_manifold'])\n",
    "        unit_mx_ev = np.array(f['unit_mx_proc_ev'])\n",
    "        unit_mx_su = np.array(f['unit_mx_proc_su'])\n",
    "\n",
    "    #if os.path.exists(desc_file):\n",
    "    with h5py.File(desc_file, 'r') as f:\n",
    "        speed = np.array(f['speed'])\n",
    "        hd    = np.array(f['hd'])\n",
    "    # else:\n",
    "    #     speed = tl[:, 3]\n",
    "    #     hd    = tl[:, 4]\n",
    "    speed_ev = speed[sound_events[:, 2].astype(np.int32)]\n",
    "\n",
    "#     with h5py.File(bmap_file, 'r') as f:\n",
    "#         idxs_tgt_succ_state_ev = np.array(f['idxs_tgt_succ_state_ev'])\n",
    "#     idxs_bU_ev = np.array([x for x in range(len(sound_events)) if not x in idxs_tgt_succ_state_ev])\n",
    "#     engaged_ev = np.zeros(len(sound_events))  # just engaged state 0/1, event sampling\n",
    "#     engaged_ev[idxs_tgt_succ_state_ev] = 1\n",
    "\n",
    "    unit_count = unit_mx_ev.shape[1]\n",
    "    \n",
    "    idxs_suc_ev = []\n",
    "    for tgt_rec in tgt_mx[tgt_mx[:, 4] == 1]:\n",
    "        idxs_suc_ev += list(np.arange(tgt_rec[0], tgt_rec[1] + 1))\n",
    "    idxs_suc_ev = np.array(idxs_suc_ev)\n",
    "\n",
    "    # auditory state (BGR, SIL etc.) and speed filter\n",
    "    idxs_sta_ev = np.where(speed_ev < speed_thresh)[0]  # define speed filter here\n",
    "    idxs_run_ev = np.where(speed_ev > speed_thresh)[0]\n",
    "    idxs_bgr_ev = np.where(sound_events[:, 1] == 1)[0]\n",
    "    idxs_sil_ev = np.where(sound_events[:, 1] == 0)[0]\n",
    "    idxs_tgt_ev = np.where(sound_events[:, 1] == 2)[0]\n",
    "    #idxs_noi_ev = np.where(sound_events[:, 1] == -1)[0]\n",
    "    #idxs_non_ev = np.where( (sound_events[:, 1] == 0) | (sound_events[:, 1] == 1) )[0]  # non-target\n",
    "\n",
    "    # for behavioral state\n",
    "    #idxs_non_sta_ev    = np.intersect1d(idxs_sta_ev, idxs_non_ev)\n",
    "    #idxs_non_sta_bE_ev = np.intersect1d(idxs_tgt_succ_state_ev, idxs_non_sta_ev)\n",
    "    #idxs_non_sta_bU_ev = np.intersect1d(idxs_bU_ev, idxs_non_sta_ev)\n",
    "    #idxs_sil_sta_ev    = np.intersect1d(idxs_sta_ev, idxs_sil_ev)\n",
    "\n",
    "    # for speed\n",
    "    #idxs_non_run_ev    = np.intersect1d(idxs_run_ev, idxs_non_ev)\n",
    "    #idxs_non_run_bU_ev = np.intersect1d(idxs_bU_ev, idxs_non_run_ev)\n",
    "    #idxs_sil_bU_ev     = np.intersect1d(idxs_bU_ev, idxs_sil_ev)\n",
    "\n",
    "    EV_sil = np.concatenate([EV_sil, fit[idxs_sil_ev][:, 0]])\n",
    "    EV_bgr = np.concatenate([EV_bgr, fit[idxs_bgr_ev][:, 0]])\n",
    "    EV_tgt = np.concatenate([EV_tgt, fit[idxs_tgt_ev][:, 0]])\n",
    "    EV_sta = np.concatenate([EV_sta, fit[idxs_sta_ev][:, 0]])\n",
    "    EV_run = np.concatenate([EV_run, fit[idxs_run_ev][:, 0]])\n",
    "    SU_sil = np.concatenate([SU_sil, fit[idxs_sil_ev][:, 1]])\n",
    "    SU_bgr = np.concatenate([SU_bgr, fit[idxs_bgr_ev][:, 1]])\n",
    "    SU_tgt = np.concatenate([SU_tgt, fit[idxs_tgt_ev][:, 1]])\n",
    "    SU_sta = np.concatenate([SU_sta, fit[idxs_sta_ev][:, 1]])  # black\n",
    "    SU_run = np.concatenate([SU_run, fit[idxs_run_ev][:, 1]])\n",
    "    \n",
    "    print(f\"Session {session} completed ({k} from {len(all_selected)})\\r\", end='')"
   ]
  },
  {
   "cell_type": "code",
   "execution_count": 46,
   "id": "75dd9b0a",
   "metadata": {},
   "outputs": [
    {
     "data": {
      "image/png": "[encoded data removed]",
      "text/plain": [
       "<Figure size 360x360 with 4 Axes>"
      ]
     },
     "metadata": {
      "needs_background": "light"
     },
     "output_type": "display_data"
    }
   ],
   "source": [
    "fig, axes = plt.subplots(2, 2, figsize=(5, 5))\n",
    "\n",
    "titles = ['Evoked', 'Sustained']\n",
    "labels = ['No stimulus', 'Background', 'Target']\n",
    "colors = ['grey', 'tab:blue', 'tab:orange']\n",
    "x_spaces = [np.linspace(-1, 3.5, 50), np.linspace(-1, 1, 50)]\n",
    "\n",
    "for j, resp_coll in enumerate([[EV_sil, EV_bgr, EV_tgt], [SU_sil, SU_bgr, SU_tgt]]):\n",
    "    ax = axes[0][j]\n",
    "    for i, responses in enumerate(resp_coll):\n",
    "        # histogram - looks worse\n",
    "        #ax.hist(responses, bins=np.linspace(-1, 3.5, 50), density=True)\n",
    "\n",
    "        x_vals = x_spaces[j]\n",
    "        ker_p = stats.gaussian_kde(responses, bw_method=0.35)\n",
    "        ax.plot(x_vals, ker_p(x_vals)*len(responses), color=colors[i], lw=3, label=labels[i])\n",
    "        ax.axvline(responses.mean(), color=colors[i], ls='--')\n",
    "\n",
    "    ax.axvline(0, color='black', lw=1)   \n",
    "    ax.legend(loc='upper right')\n",
    "    ax.set_title(titles[j], fontsize=14)\n",
    "    ax.set_yticks([])\n",
    "    \n",
    "colors = ['black', 'tab:red']\n",
    "labels = ['Stationary', 'Running']\n",
    "for j, resp_coll in enumerate([[EV_sta, EV_run], [SU_sta, SU_run]]):\n",
    "    ax = axes[1][j]\n",
    "    for i, responses in enumerate(resp_coll):\n",
    "        # histogram - looks worse\n",
    "        #ax.hist(responses, bins=np.linspace(-1, 3.5, 50), density=True)\n",
    "\n",
    "        x_vals = x_spaces[j]\n",
    "        ker_p = stats.gaussian_kde(responses, bw_method=0.35)\n",
    "        ax.plot(x_vals, ker_p(x_vals)*len(responses), color=colors[i], lw=3, label=labels[i])\n",
    "        ax.axvline(responses.mean(), color=colors[i], ls='--')\n",
    "\n",
    "    # tests\n",
    "    st, pv = stats.mannwhitneyu(resp_coll[0], resp_coll[1])\n",
    "    \n",
    "    #ax.text(pval2text(pv))\n",
    "    ax.axvline(0, color='black', lw=1)   \n",
    "    ax.legend(loc='upper right')\n",
    "    ax.set_xlabel('Pop. response, PC1', fontsize=14)\n",
    "    ax.set_yticks([])\n",
    "    \n",
    "axes[0][0].set_ylabel('Density', fontsize=14)\n",
    "axes[1][0].set_ylabel('Density', fontsize=14)\n",
    "\n",
    "fig.tight_layout()\n",
    "fig.savefig(os.path.join(rep_path, 'nMAP_SIL_BGR_TGT_STA_RUN_cross-session.png'), dpi=300)"
   ]
  },
  {
   "cell_type": "code",
   "execution_count": null,
   "id": "7decfa54",
   "metadata": {},
   "outputs": [],
   "source": []
  }
 ],
 "metadata": {
  "kernelspec": {
   "display_name": "Python 3 (ipykernel)",
   "language": "python",
   "name": "python3"
  },
  "language_info": {
   "codemirror_mode": {
    "name": "ipython",
    "version": 3
   },
   "file_extension": ".py",
   "mimetype": "text/x-python",
   "name": "python",
   "nbconvert_exporter": "python",
   "pygments_lexer": "ipython3",
   "version": "3.8.10"
  }
 },
 "nbformat": 4,
 "nbformat_minor": 5
}
