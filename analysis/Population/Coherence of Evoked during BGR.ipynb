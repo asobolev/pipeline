{
 "cells": [
  {
   "cell_type": "code",
   "execution_count": 1,
   "id": "45ca3001",
   "metadata": {},
   "outputs": [],
   "source": [
    "import sys, os\n",
    "sys.path.append(os.path.join(os.getcwd(), '..'))\n",
    "sys.path.append(os.path.join(os.getcwd(), '..', '..'))\n",
    "sys.path.append(os.path.join(os.getcwd(), '..', '..', '..', 'pplSIT', 'workflow', 'utils'))"
   ]
  },
  {
   "cell_type": "code",
   "execution_count": 10,
   "id": "236ba101",
   "metadata": {},
   "outputs": [],
   "source": [
    "%matplotlib inline\n",
    "\n",
    "from sessions import selected_009266, selected_008229, selected_009265, selected_57\n",
    "from imports import *\n",
    "from scipy import stats\n",
    "from scipy import signal\n",
    "from matplotlib.lines import Line2D\n",
    "from sklearn import decomposition\n",
    "from population import unit_activity_matrix\n",
    "from psth import get_psth_matrix\n",
    "from spiketrain import get_shuffled\n",
    "from events import get_event_periods\n",
    "from psth import staple_pulsetrain, staple_spike_times\n",
    "from neurosuite import get_unit_names_sorted\n",
    "\n",
    "import itertools, json"
   ]
  },
  {
   "cell_type": "code",
   "execution_count": 11,
   "id": "43770aa5",
   "metadata": {},
   "outputs": [
    {
     "data": {
      "application/javascript": [
       "IPython.OutputArea.prototype._should_scroll = function(lines) {\n",
       "    return false;\n",
       "}\n"
      ],
      "text/plain": [
       "<IPython.core.display.Javascript object>"
      ]
     },
     "metadata": {},
     "output_type": "display_data"
    }
   ],
   "source": [
    "%%javascript\n",
    "IPython.OutputArea.prototype._should_scroll = function(lines) {\n",
    "    return false;\n",
    "}"
   ]
  },
  {
   "cell_type": "code",
   "execution_count": 12,
   "id": "78fd3a0b",
   "metadata": {},
   "outputs": [],
   "source": [
    "def make_smooth(data, k_width=25):  # k_width sampled as sound events\n",
    "    kernel  = signal.gaussian(k_width, std=(k_width) / 7.2)\n",
    "    return np.convolve(data, kernel, 'same') / kernel.sum()"
   ]
  },
  {
   "cell_type": "code",
   "execution_count": 101,
   "id": "83122b97",
   "metadata": {},
   "outputs": [],
   "source": [
    "def get_conf_intervals(data):\n",
    "    conf_low  = np.zeros(data.shape[1])\n",
    "    conf_high = np.zeros(data.shape[1])\n",
    "    for i, col in enumerate(data.T):\n",
    "        conf_low[i]  = np.percentile(col, 5)\n",
    "        conf_high[i] = np.percentile(col, 95)\n",
    "        \n",
    "    return conf_low, conf_high"
   ]
  },
  {
   "cell_type": "code",
   "execution_count": 14,
   "id": "96e71708",
   "metadata": {},
   "outputs": [],
   "source": [
    "nMAP_electrodes = {\n",
    "    '009265': [1, 2],\n",
    "    '009266': [1, 2],\n",
    "    '57': [1],\n",
    "    '60': [1, 2]\n",
    "}"
   ]
  },
  {
   "cell_type": "code",
   "execution_count": 16,
   "id": "f7d5ea4c",
   "metadata": {},
   "outputs": [
    {
     "data": {
      "text/plain": [
       "['009266_hippoSIT_2023-04-17_17-04-17',\n",
       " '009266_hippoSIT_2023-04-18_10-10-37',\n",
       " '009266_hippoSIT_2023-04-18_17-03-10']"
      ]
     },
     "execution_count": 16,
     "metadata": {},
     "output_type": "execute_result"
    }
   ],
   "source": [
    "#source = '/home/sobolev/nevermind_ag-grothe/AG_Pecka/data/processed/'\n",
    "source = '/home/sobolev/nevermind/AG_Pecka/data/processed/'\n",
    "rep_path = '/home/sobolev/nevermind/Andrey/analysis/manuscripts/'\n",
    "\n",
    "# manuscript session\n",
    "# '009266_hippoSIT_2023-04-18_10-10-37'\n",
    "\n",
    "all_selected = selected_009266 + selected_009265 + selected_57\n",
    "#selected = all_selected[:]\n",
    "selected = all_selected\n",
    "selected.remove('009265_hippoSIT_2023-03-05_18-31-32')\n",
    "selected.remove('57_SIT_2023-12-29_12-11-46')\n",
    "#selected.remove('009265_hippoSIT_2023-03-05_18-31-32')\n",
    "\n",
    "#selected = selected_009266\n",
    "#session = selected[8]\n",
    "#session\n",
    "selected[:3]"
   ]
  },
  {
   "cell_type": "markdown",
   "id": "19b3e39e",
   "metadata": {},
   "source": [
    "## Evoked"
   ]
  },
  {
   "cell_type": "code",
   "execution_count": 97,
   "id": "4cd6bca3",
   "metadata": {},
   "outputs": [
    {
     "name": "stdout",
     "output_type": "stream",
     "text": [
      "Session 2024-01-15_14 done"
     ]
    }
   ],
   "source": [
    "bin_size = 0.01\n",
    "comp_count = 10  # PCA components\n",
    "event_id = 1  # BGR only\n",
    "conditions = {-1: 'NOI', 0: 'SIL', 1: 'BGR', 2: 'TGT'}\n",
    "\n",
    "var_exp_real = np.zeros([len(selected), comp_count])\n",
    "var_exp_shuf = np.zeros([len(selected), comp_count])\n",
    "corrs_real_all = []\n",
    "corrs_shuf_all = []\n",
    "\n",
    "for i, session in enumerate(selected):\n",
    "    # read datasets\n",
    "    animal    = session.split('_')[0]\n",
    "    s_path    = os.path.join(source, animal, session)\n",
    "    meta_file = os.path.join(s_path, 'meta.h5')\n",
    "    unit_file = os.path.join(s_path, 'units.h5')\n",
    "    psth_file = os.path.join(s_path, 'analysis', 'psth_micro.h5')\n",
    "\n",
    "    with h5py.File(meta_file, 'r') as f:\n",
    "        tl = np.array(f['processed']['timeline'])\n",
    "        tgt_mx = np.array(f['processed']['target_matrix'])\n",
    "        sound_events = np.array(f['processed']['sound_events'])\n",
    "        cfg = json.loads(f['processed'].attrs['parameters'])\n",
    "    \n",
    "    latency  = cfg['sound']['latency']  # seconds\n",
    "    bins_per_event = int(latency / bin_size)\n",
    "    electrodes = nMAP_electrodes[animal]\n",
    "    bins_ev, unit_mx_real = unit_activity_matrix(meta_file, unit_file, electrodes, bin_size=bin_size)\n",
    "    bins_ev, unit_mx_shuf = unit_activity_matrix(meta_file, unit_file, electrodes, bin_size=bin_size, shuffle=True)\n",
    "\n",
    "    if unit_mx_real.shape[0] < comp_count:\n",
    "        continue\n",
    "        \n",
    "    # response profile matrix\n",
    "    psth_bins, psths_all = get_psth_matrix(psth_file, electrodes)\n",
    "    \n",
    "    # taking only the evoked profile part (important - this is not periodic!)\n",
    "    idx_s = int(psth_bins.shape[0]/2)\n",
    "    idx_e = idx_s + int(np.ceil(idx_s/2))\n",
    "    ev_bin_count = idx_e - idx_s\n",
    "\n",
    "    # which sound pulses to consider\n",
    "    idxs_cond = np.where(sound_events[:, 1] == event_id)[0] * bins_per_event\n",
    "\n",
    "    def get_CCR_mx(unit_mx):  # hack, sorry\n",
    "        # hstack evoked parts of selected sound condition\n",
    "        unit_mx_filt = unit_mx[:, idxs_cond[0]:idxs_cond[0] + ev_bin_count]\n",
    "        for idx in idxs_cond[1:]:\n",
    "            unit_mx_filt = np.hstack([unit_mx_filt, unit_mx[:, idx:idx + ev_bin_count]])\n",
    "\n",
    "        assert unit_mx_filt.shape[1] == ev_bin_count * len(idxs_cond)\n",
    "\n",
    "        # z-score already reduced matrix\n",
    "        for j in range(len(unit_mx_filt)):\n",
    "            unit_mx_filt[j] = stats.zscore(unit_mx_filt[j])\n",
    "\n",
    "        # compute CCR matrix\n",
    "        CCR_mx = np.zeros(unit_mx_filt.shape)\n",
    "        for unit_idx in range(unit_mx_filt.shape[0]):\n",
    "            prof = psths_all[conditions[event_id]][:, idx_s:idx_e][unit_idx]  # evoked part only!\n",
    "            spks = unit_mx_filt[unit_idx]\n",
    "            CCR_mx[unit_idx] = signal.correlate(spks, prof, mode='same')\n",
    "        \n",
    "        return CCR_mx, unit_mx_filt\n",
    "    \n",
    "    CCR_mx_real, unit_mx_filt_real = get_CCR_mx(unit_mx_real)\n",
    "    CCR_mx_shuf, unit_mx_filt_shuf = get_CCR_mx(unit_mx_shuf)\n",
    "    \n",
    "    pca_real = decomposition.PCA(n_components=comp_count)\n",
    "    X_real   = pca_real.fit_transform(CCR_mx_real.T)\n",
    "    pca_shuf = decomposition.PCA(n_components=comp_count)\n",
    "    X_shuf   = pca_shuf.fit_transform(unit_mx_filt_shuf.T)\n",
    "    \n",
    "    var_exp_real[i] = pca_real.explained_variance_ratio_\n",
    "    var_exp_shuf[i] = pca_shuf.explained_variance_ratio_\n",
    "    \n",
    "    print('\\rSession %s done' % session[-19:-6], end='')"
   ]
  },
  {
   "cell_type": "code",
   "execution_count": 98,
   "id": "c193d5f0",
   "metadata": {},
   "outputs": [
    {
     "name": "stdout",
     "output_type": "stream",
     "text": [
      "Enough units: 40, not enough: 14\n"
     ]
    }
   ],
   "source": [
    "not_enough = len([x for x in var_exp_real if (x == 0).all()])\n",
    "print(\"Enough units: %d, not enough: %d\" % (len(selected) - not_enough, not_enough))"
   ]
  },
  {
   "cell_type": "code",
   "execution_count": 99,
   "id": "42c2bed2",
   "metadata": {},
   "outputs": [],
   "source": [
    "# remove rows with not enough units\n",
    "var_exp_real = var_exp_real[~np.all(var_exp_real == 0, axis=1)]\n",
    "var_exp_shuf = var_exp_shuf[~np.all(var_exp_shuf == 0, axis=1)]"
   ]
  },
  {
   "cell_type": "markdown",
   "id": "55b8bf5c",
   "metadata": {},
   "source": [
    "## PCA"
   ]
  },
  {
   "cell_type": "code",
   "execution_count": 103,
   "id": "4ccb2610",
   "metadata": {},
   "outputs": [
    {
     "data": {
      "image/png": "[encoded data removed]",
      "text/plain": [
       "<Figure size 288x360 with 1 Axes>"
      ]
     },
     "metadata": {
      "needs_background": "light"
     },
     "output_type": "display_data"
    }
   ],
   "source": [
    "fig, ax = plt.subplots(1, 1, figsize=(4, 5))\n",
    "\n",
    "x_vals = (np.arange(comp_count) + 1).astype(np.int32)\n",
    "conf_low_real, conf_high_real = get_conf_intervals(var_exp_real)\n",
    "conf_low_shuf, conf_high_shuf = get_conf_intervals(var_exp_shuf)\n",
    "verm = var_exp_real.mean(axis=0)\n",
    "vesm = var_exp_shuf.mean(axis=0)\n",
    "sem_real = stats.sem(var_exp_real)\n",
    "sem_shuf = stats.sem(var_exp_shuf)\n",
    "\n",
    "ax.plot(x_vals, var_exp_real.mean(axis=0), color='red')\n",
    "ax.plot(x_vals, var_exp_shuf.mean(axis=0), color='grey')\n",
    "ax.scatter(x_vals, var_exp_real.mean(axis=0), color='red', label='original')\n",
    "ax.scatter(x_vals, var_exp_shuf.mean(axis=0), color='grey', label='shuffled')\n",
    "\n",
    "# sems\n",
    "ax.fill_between(x_vals, verm - sem_real, verm + sem_real, color='red', alpha=0.4)\n",
    "ax.fill_between(x_vals, vesm - sem_shuf, vesm + sem_shuf, color='grey', alpha=0.4)\n",
    "\n",
    "# 5 - 95 conf intervals\n",
    "#ax.fill_between(x_vals, conf_low_real, conf_high_real, color='red', alpha=0.4)\n",
    "#ax.fill_between(x_vals, conf_low_shuf, conf_high_shuf, color='grey', alpha=0.4)\n",
    "#ax.set_ylim(0, 0.15)\n",
    "\n",
    "ax.grid(axis='y')\n",
    "ax.set_xticks(x_vals)\n",
    "ax.set_xticklabels(x_vals, fontsize=10)\n",
    "ax.set_xlabel('Principal component', fontsize=14)\n",
    "ax.set_ylabel('Explained variance', fontsize=14)\n",
    "ax.set_title('Evoked activity, background', fontsize=14)\n",
    "ax.legend()\n",
    "\n",
    "fig.tight_layout()"
   ]
  },
  {
   "cell_type": "code",
   "execution_count": 104,
   "id": "36e6523a",
   "metadata": {},
   "outputs": [],
   "source": [
    "fig.savefig(os.path.join(rep_path, 'PCA_unit_mx_evoked.png'), dpi=300)"
   ]
  },
  {
   "cell_type": "code",
   "execution_count": null,
   "id": "96a49f28",
   "metadata": {},
   "outputs": [],
   "source": []
  }
 ],
 "metadata": {
  "kernelspec": {
   "display_name": "Python 3 (ipykernel)",
   "language": "python",
   "name": "python3"
  },
  "language_info": {
   "codemirror_mode": {
    "name": "ipython",
    "version": 3
   },
   "file_extension": ".py",
   "mimetype": "text/x-python",
   "name": "python",
   "nbconvert_exporter": "python",
   "pygments_lexer": "ipython3",
   "version": "3.8.10"
  }
 },
 "nbformat": 4,
 "nbformat_minor": 5
}
