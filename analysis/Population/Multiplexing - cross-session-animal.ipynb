{
 "cells": [
  {
   "cell_type": "code",
   "execution_count": 1,
   "id": "45ca3001",
   "metadata": {},
   "outputs": [],
   "source": [
    "import sys, os\n",
    "sys.path.append(os.path.join(os.getcwd(), '..'))\n",
    "sys.path.append(os.path.join(os.getcwd(), '..', '..'))\n",
    "sys.path.append(os.path.join(os.getcwd(), '..', '..', '..', 'pplSIT', 'workflow', 'utils'))"
   ]
  },
  {
   "cell_type": "code",
   "execution_count": 2,
   "id": "236ba101",
   "metadata": {},
   "outputs": [
    {
     "name": "stderr",
     "output_type": "stream",
     "text": [
      "/home/sobolev/projects/pySIT/lib/python3.8/site-packages/scipy/__init__.py:146: UserWarning: A NumPy version >=1.16.5 and <1.23.0 is required for this version of SciPy (detected version 1.24.4\n",
      "  warnings.warn(f\"A NumPy version >={np_minversion} and <{np_maxversion}\"\n"
     ]
    }
   ],
   "source": [
    "%matplotlib inline\n",
    "\n",
    "import itertools\n",
    "#from sessions import selected_009266, selected_008229, selected_009265, selected_57, selected_013829\n",
    "from sessions_nMAP_EV_SU import selected\n",
    "from imports import *\n",
    "from scipy import stats\n",
    "from scipy import signal\n",
    "from Behavior.behavior import get_extent, get_idxs_behav_state, get_idxs_in_patches\n",
    "from Behavior.behavior import density_map, density_map, get_idxs_neuro_state\n",
    "from matplotlib.lines import Line2D\n",
    "\n",
    "import pandas as pd\n",
    "import statsmodels.api as sm\n",
    "from statsmodels.formula.api import ols\n",
    "from statsmodels.stats.anova import AnovaRM\n",
    "from itertools import combinations\n",
    "from scipy.stats import ttest_rel"
   ]
  },
  {
   "cell_type": "code",
   "execution_count": 3,
   "id": "43770aa5",
   "metadata": {},
   "outputs": [
    {
     "data": {
      "application/javascript": [
       "IPython.OutputArea.prototype._should_scroll = function(lines) {\n",
       "    return false;\n",
       "}\n"
      ],
      "text/plain": [
       "<IPython.core.display.Javascript object>"
      ]
     },
     "metadata": {},
     "output_type": "display_data"
    }
   ],
   "source": [
    "%%javascript\n",
    "IPython.OutputArea.prototype._should_scroll = function(lines) {\n",
    "    return false;\n",
    "}"
   ]
  },
  {
   "cell_type": "code",
   "execution_count": 4,
   "id": "8bab985d",
   "metadata": {},
   "outputs": [],
   "source": [
    "def pval2text(p_val):\n",
    "    if p_val > 0.05:\n",
    "        return 'n.s.'\n",
    "    elif p_val > 0.01:\n",
    "        return '*'\n",
    "    elif p_val > 0.001:\n",
    "        return '**'\n",
    "    elif p_val > 0.0001:\n",
    "        return '***'\n",
    "    else:\n",
    "        return '****'"
   ]
  },
  {
   "cell_type": "code",
   "execution_count": 5,
   "id": "fb4406ca",
   "metadata": {
    "scrolled": true
   },
   "outputs": [
    {
     "data": {
      "text/plain": [
       "(['009266_hippoSIT_2023-04-17_17-04-17',\n",
       "  '009266_hippoSIT_2023-04-18_10-10-37',\n",
       "  '009266_hippoSIT_2023-04-18_17-03-10',\n",
       "  '009266_hippoSIT_2023-04-19_10-33-51',\n",
       "  '009266_hippoSIT_2023-04-20_08-57-39',\n",
       "  '009266_hippoSIT_2023-04-21_08-43-00',\n",
       "  '009266_hippoSIT_2023-04-21_13-12-31'],\n",
       " 65)"
      ]
     },
     "execution_count": 5,
     "metadata": {},
     "output_type": "execute_result"
    }
   ],
   "source": [
    "#source = '/home/sobolev/nevermind_ag-grothe/AG_Pecka/data/processed/'\n",
    "source = '/home/sobolev/nevermind/AG_Pecka/data/processed/'\n",
    "rep_path = '/home/sobolev/nevermind/Andrey/analysis/manuscripts/'\n",
    "\n",
    "all_selected = []\n",
    "for animal, s_list in selected.items():\n",
    "    all_selected += s_list\n",
    "\n",
    "all_selected[:7], len(all_selected)"
   ]
  },
  {
   "cell_type": "markdown",
   "id": "95fa2f6a",
   "metadata": {},
   "source": [
    "## Multiplexing: sound, locomotion, engagement"
   ]
  },
  {
   "cell_type": "code",
   "execution_count": 6,
   "id": "e1559628",
   "metadata": {},
   "outputs": [],
   "source": [
    "animals = list(set([session.split('_')[0] for session in all_selected]))"
   ]
  },
  {
   "cell_type": "code",
   "execution_count": 7,
   "id": "3f6bbad1",
   "metadata": {},
   "outputs": [
    {
     "name": "stdout",
     "output_type": "stream",
     "text": [
      "Session 013829_ppcSIT_2024-11-25_10-04-29 completed (64 from 65)5)\r"
     ]
    }
   ],
   "source": [
    "speed_thresh = 0.04  # m/s\n",
    "session_stats = {}\n",
    "corrs = []\n",
    "\n",
    "for k, session in enumerate(all_selected):\n",
    "    animal   = session.split('_')[0]\n",
    "    session_path = os.path.join(source, animal, session)\n",
    "    #nmap_file  = os.path.join(session_path, 'analysis', 'nMAP_EV_SU_noconv.h5')\n",
    "    nmap_file  = os.path.join(session_path, 'analysis', 'nMAP_EV_SU_with_PSTH.h5')\n",
    "    bmap_file  = os.path.join(session_path, 'analysis', 'bMAP_segmentation.h5')\n",
    "    meta_file  = os.path.join(session_path, 'meta.h5')\n",
    "    desc_file  = os.path.join(session_path, 'descendants.h5')\n",
    "\n",
    "    with h5py.File(meta_file, 'r') as f:\n",
    "        tl = np.array(f['processed']['timeline'])\n",
    "        sound_events = np.array(f['processed']['sound_events'])\n",
    "        tgt_mx = np.array(f['processed']['target_matrix'])\n",
    "    with h5py.File(nmap_file, 'r') as f:\n",
    "        fit = np.array(f['response_manifold'])\n",
    "        unit_mx_ev = np.array(f['unit_mx_proc_ev'])\n",
    "        unit_mx_su = np.array(f['unit_mx_proc_su'])\n",
    "\n",
    "    #if os.path.exists(desc_file):\n",
    "    with h5py.File(desc_file, 'r') as f:\n",
    "        speed = np.array(f['speed'])\n",
    "        hd    = np.array(f['hd'])\n",
    "    # else:\n",
    "    #     speed = tl[:, 3]\n",
    "    #     hd    = tl[:, 4]\n",
    "    speed_ev = speed[sound_events[:, 2].astype(np.int32)]\n",
    "\n",
    "    with h5py.File(bmap_file, 'r') as f:\n",
    "        idxs_tgt_succ_state_ev = np.array(f['idxs_tgt_succ_state_ev'])\n",
    "    idxs_bU_ev = np.array([x for x in range(len(sound_events)) if not x in idxs_tgt_succ_state_ev])\n",
    "    engaged_ev = np.zeros(len(sound_events))  # just engaged state 0/1, event sampling\n",
    "    engaged_ev[idxs_tgt_succ_state_ev] = 1\n",
    "\n",
    "    unit_count = unit_mx_ev.shape[1]\n",
    "    \n",
    "    idxs_suc_ev = []\n",
    "    for tgt_rec in tgt_mx[tgt_mx[:, 4] == 1]:\n",
    "        idxs_suc_ev += list(np.arange(tgt_rec[0], tgt_rec[1] + 1))\n",
    "    idxs_suc_ev = np.array(idxs_suc_ev)\n",
    "\n",
    "    # auditory state (BGR, SIL etc.) and speed filter\n",
    "    idxs_sta_ev = np.where(speed_ev < speed_thresh)[0]  # define speed filter here\n",
    "    idxs_run_ev = np.where(speed_ev > speed_thresh)[0]\n",
    "    idxs_bgr_ev = np.where(sound_events[:, 1] == 1)[0]\n",
    "    idxs_sil_ev = np.where(sound_events[:, 1] == 0)[0]\n",
    "    idxs_tgt_ev = np.where(sound_events[:, 1] == 2)[0]\n",
    "    idxs_noi_ev = np.where(sound_events[:, 1] == -1)[0]\n",
    "    idxs_non_ev = np.where( (sound_events[:, 1] == 0) | (sound_events[:, 1] == 1) )[0]  # non-target\n",
    "\n",
    "    # for behavioral state\n",
    "    idxs_non_sta_ev    = np.intersect1d(idxs_sta_ev, idxs_non_ev)\n",
    "    idxs_non_sta_bE_ev = np.intersect1d(idxs_tgt_succ_state_ev, idxs_non_sta_ev)\n",
    "    idxs_non_sta_bU_ev = np.intersect1d(idxs_bU_ev, idxs_non_sta_ev)\n",
    "    idxs_sil_sta_ev    = np.intersect1d(idxs_sta_ev, idxs_sil_ev)\n",
    "\n",
    "    # for speed\n",
    "    idxs_non_run_ev    = np.intersect1d(idxs_run_ev, idxs_non_ev)\n",
    "    idxs_non_run_bU_ev = np.intersect1d(idxs_bU_ev, idxs_non_run_ev)\n",
    "    idxs_sil_bU_ev     = np.intersect1d(idxs_bU_ev, idxs_sil_ev)\n",
    "    \n",
    "    # multiplexing events: sound, locomotion, engagement\n",
    "\n",
    "    # ------ NO STIMULUS ------\n",
    "\n",
    "    # 000: in silence, stationary non-engaged condition\n",
    "    idxs_000 = np.intersect1d(idxs_sta_ev, idxs_sil_ev)\n",
    "    idxs_000 = np.intersect1d(idxs_000, idxs_bU_ev)\n",
    "\n",
    "    # 001: in silence, stationary engaged condition\n",
    "    idxs_001 = np.intersect1d(idxs_sta_ev, idxs_sil_ev)\n",
    "    idxs_001 = np.intersect1d(idxs_001, idxs_tgt_succ_state_ev)\n",
    "\n",
    "    # 010: in silence, running non-engaged condition\n",
    "    idxs_010 = np.intersect1d(idxs_run_ev, idxs_sil_ev)\n",
    "    idxs_010 = np.intersect1d(idxs_010, idxs_bU_ev)\n",
    "\n",
    "    # 011: in silence, running engaged - should not happen!\n",
    "    idxs_011 = np.intersect1d(idxs_run_ev, idxs_sil_ev)\n",
    "    idxs_011 = np.intersect1d(idxs_011, idxs_tgt_succ_state_ev)\n",
    "\n",
    "    # ------ BGR STIMULUS ------\n",
    "\n",
    "    # 100: in trial, stationary non-engaged condition\n",
    "    idxs_100 = np.intersect1d(idxs_sta_ev, idxs_bgr_ev)\n",
    "    idxs_100 = np.intersect1d(idxs_100, idxs_bU_ev)\n",
    "\n",
    "    # 101: in trial, stationary engaged condition\n",
    "    idxs_101 = np.intersect1d(idxs_sta_ev, idxs_bgr_ev)\n",
    "    idxs_101 = np.intersect1d(idxs_101, idxs_tgt_succ_state_ev)\n",
    "\n",
    "    # 110: in trial, running non-engaged condition\n",
    "    idxs_110 = np.intersect1d(idxs_run_ev, idxs_bgr_ev)\n",
    "    idxs_110 = np.intersect1d(idxs_110, idxs_bU_ev)\n",
    "\n",
    "    # 111: in trial, running engaged - should not happen!\n",
    "    idxs_111 = np.intersect1d(idxs_run_ev, idxs_bgr_ev)\n",
    "    idxs_111 = np.intersect1d(idxs_111, idxs_tgt_succ_state_ev)\n",
    "\n",
    "    corrs.append([\n",
    "        session,\n",
    "        np.corrcoef(fit[idxs_sil_ev][:, 0], speed_ev[idxs_sil_ev])[0][1],  # evoked / speed in SIL\n",
    "        np.corrcoef(fit[idxs_sil_ev][:, 0], engaged_ev[idxs_sil_ev])[0][1],  # evoked / state in SIL\n",
    "        np.corrcoef(fit[idxs_sil_ev][:, 1], speed_ev[idxs_sil_ev])[0][1],  # sustained / speed in SIL\n",
    "        np.corrcoef(fit[idxs_sil_ev][:, 1], engaged_ev[idxs_sil_ev])[0][1],  # sustained / state in SIL\n",
    "\n",
    "        np.corrcoef(fit[idxs_bgr_ev][:, 0], speed_ev[idxs_bgr_ev])[0][1],  # evoked / speed in BGR\n",
    "        np.corrcoef(fit[idxs_bgr_ev][:, 0], engaged_ev[idxs_bgr_ev])[0][1],  # evoked / state in BGR\n",
    "        np.corrcoef(fit[idxs_bgr_ev][:, 1], speed_ev[idxs_bgr_ev])[0][1],  # sustained / speed in BGR\n",
    "        np.corrcoef(fit[idxs_bgr_ev][:, 1], engaged_ev[idxs_bgr_ev])[0][1],  # sustained / state in BGR\n",
    "\n",
    "        np.corrcoef(fit[idxs_tgt_ev][:, 0], speed_ev[idxs_tgt_ev])[0][1],  # evoked / speed in TGT\n",
    "        np.corrcoef(fit[idxs_tgt_ev][:, 0], engaged_ev[idxs_tgt_ev])[0][1],  # evoked / state in TGT\n",
    "        np.corrcoef(fit[idxs_tgt_ev][:, 1], speed_ev[idxs_tgt_ev])[0][1],  # sustained / speed in TGT\n",
    "        np.corrcoef(fit[idxs_tgt_ev][:, 1], engaged_ev[idxs_tgt_ev])[0][1],  # sustained / state in TGT\n",
    "        \n",
    "        np.corrcoef(fit[idxs_sil_ev][:, 0], fit[idxs_sil_ev][:, 1])[0][1],  # evoked / sustained in SIL\n",
    "        np.corrcoef(fit[idxs_bgr_ev][:, 0], fit[idxs_bgr_ev][:, 1])[0][1],  # evoked / sustained in SIL\n",
    "        np.corrcoef(fit[idxs_tgt_ev][:, 0], fit[idxs_tgt_ev][:, 1])[0][1],  # evoked / sustained in SIL\n",
    "    ])\n",
    "    \n",
    "    # save stats - median evoked, median sutained, pulse count\n",
    "    session_stats[session] = {\n",
    "        '000': [np.median(fit[idxs_000][:, 0]), np.median(fit[idxs_000][:, 1]), len(idxs_000)],\n",
    "        '001': [np.median(fit[idxs_001][:, 0]), np.median(fit[idxs_001][:, 1]), len(idxs_001)],\n",
    "        '010': [np.median(fit[idxs_010][:, 0]), np.median(fit[idxs_010][:, 1]), len(idxs_010)],\n",
    "        '100': [np.median(fit[idxs_100][:, 0]), np.median(fit[idxs_100][:, 1]), len(idxs_100)],\n",
    "        '101': [np.median(fit[idxs_101][:, 0]), np.median(fit[idxs_101][:, 1]), len(idxs_101)],\n",
    "        '110': [np.median(fit[idxs_110][:, 0]), np.median(fit[idxs_110][:, 1]), len(idxs_110)],\n",
    "    }\n",
    "    \n",
    "    print(f\"Session {session} completed ({k} from {len(all_selected)})\\r\", end='')"
   ]
  },
  {
   "cell_type": "markdown",
   "id": "89d943cf",
   "metadata": {},
   "source": [
    "## Medians"
   ]
  },
  {
   "cell_type": "code",
   "execution_count": 8,
   "id": "e4cdfb19",
   "metadata": {},
   "outputs": [],
   "source": [
    "animals = ['009266', '013829', '009265', '57']"
   ]
  },
  {
   "cell_type": "code",
   "execution_count": 9,
   "id": "e0880aaa",
   "metadata": {},
   "outputs": [
    {
     "data": {
      "text/html": [
       "<div>\n",
       "<style scoped>\n",
       "    .dataframe tbody tr th:only-of-type {\n",
       "        vertical-align: middle;\n",
       "    }\n",
       "\n",
       "    .dataframe tbody tr th {\n",
       "        vertical-align: top;\n",
       "    }\n",
       "\n",
       "    .dataframe thead th {\n",
       "        text-align: right;\n",
       "    }\n",
       "</style>\n",
       "<table border=\"1\" class=\"dataframe\">\n",
       "  <thead>\n",
       "    <tr style=\"text-align: right;\">\n",
       "      <th></th>\n",
       "      <th>animal</th>\n",
       "      <th>condition</th>\n",
       "      <th>evoked</th>\n",
       "      <th>sustained</th>\n",
       "    </tr>\n",
       "  </thead>\n",
       "  <tbody>\n",
       "    <tr>\n",
       "      <th>0</th>\n",
       "      <td>009266</td>\n",
       "      <td>000</td>\n",
       "      <td>0.184577</td>\n",
       "      <td>-0.065657</td>\n",
       "    </tr>\n",
       "    <tr>\n",
       "      <th>1</th>\n",
       "      <td>009266</td>\n",
       "      <td>001</td>\n",
       "      <td>0.112426</td>\n",
       "      <td>-0.049891</td>\n",
       "    </tr>\n",
       "    <tr>\n",
       "      <th>2</th>\n",
       "      <td>009266</td>\n",
       "      <td>010</td>\n",
       "      <td>0.148546</td>\n",
       "      <td>0.019565</td>\n",
       "    </tr>\n",
       "  </tbody>\n",
       "</table>\n",
       "</div>"
      ],
      "text/plain": [
       "   animal condition    evoked  sustained\n",
       "0  009266       000  0.184577  -0.065657\n",
       "1  009266       001  0.112426  -0.049891\n",
       "2  009266       010  0.148546   0.019565"
      ]
     },
     "execution_count": 9,
     "metadata": {},
     "output_type": "execute_result"
    }
   ],
   "source": [
    "# construct a dataframe for ANOVAs\n",
    "df = []\n",
    "for session, s_stats in session_stats.items():\n",
    "    animal = session.split('_')[0]\n",
    "    \n",
    "    for condition, data in s_stats.items():\n",
    "        df.append([animal, condition, data[0], data[1]])\n",
    "        \n",
    "df_stats = pd.DataFrame(df, columns=['animal', 'condition', 'evoked', 'sustained'])\n",
    "df_stats.head(3)"
   ]
  },
  {
   "cell_type": "code",
   "execution_count": 10,
   "id": "179a9264",
   "metadata": {},
   "outputs": [
    {
     "name": "stdout",
     "output_type": "stream",
     "text": [
      "0.9009541855973021\n",
      "0.0011061089509049127\n",
      "0.3321918242193362\n",
      "0.0003718718799361386\n"
     ]
    }
   ],
   "source": [
    "# ANOVA for No stimulus\n",
    "df_SIL = df_stats[(df_stats['condition'] == '000') | (df_stats['condition'] == '001') | (df_stats['condition'] == '010')]\n",
    "df_BGR = df_stats[(df_stats['condition'] == '100') | (df_stats['condition'] == '101') | (df_stats['condition'] == '110')]\n",
    "\n",
    "anovas = [\n",
    "    AnovaRM(df_SIL, depvar=\"evoked\", subject=\"animal\", within=[\"condition\"], aggregate_func='mean').fit(),\n",
    "    AnovaRM(df_SIL, depvar=\"sustained\", subject=\"animal\", within=[\"condition\"], aggregate_func='mean').fit(),\n",
    "    AnovaRM(df_BGR, depvar=\"evoked\", subject=\"animal\", within=[\"condition\"], aggregate_func='mean').fit(),\n",
    "    AnovaRM(df_BGR, depvar=\"sustained\", subject=\"animal\", within=[\"condition\"], aggregate_func='mean').fit(),\n",
    "]\n",
    "\n",
    "# p-values\n",
    "for anova in anovas:\n",
    "    print(anova.anova_table[\"Pr > F\"][0])"
   ]
  },
  {
   "cell_type": "code",
   "execution_count": 11,
   "id": "c2b75f56",
   "metadata": {
    "scrolled": true
   },
   "outputs": [
    {
     "data": {
      "image/png": "[encoded data removed]",
      "text/plain": [
       "<Figure size 864x288 with 4 Axes>"
      ]
     },
     "metadata": {
      "needs_background": "light"
     },
     "output_type": "display_data"
    }
   ],
   "source": [
    "fig, axes = plt.subplots(1, 4, figsize=(12, 4))\n",
    "\n",
    "bg_dist = 10  # distance between groups\n",
    "combs = [\n",
    "    ('evoked', ['000', '001', '010']),\n",
    "    ('evoked', ['100', '101', '110']),\n",
    "    ('sustained', ['000', '001', '010']),\n",
    "    ('sustained', ['100', '101', '110']),\n",
    "]\n",
    "ylims = [\n",
    "    (0, 3),\n",
    "    (0, 3),\n",
    "    (-0.3, 0.3),\n",
    "    (-0.3, 0.3),\n",
    "]\n",
    "titles = ['Evoked\\nNo stimulus', 'Evoked\\nBackground', 'Sustained\\nNo stimulus', 'Sustained\\nBackground']\n",
    "colors = [\n",
    "    ['grey', 'tab:green', 'tab:red'],\n",
    "    ['tab:blue', 'tab:green', 'tab:red'],\n",
    "    ['grey', 'tab:green', 'tab:red'],\n",
    "    ['tab:blue', 'tab:green', 'tab:red']\n",
    "]\n",
    "conds = ['Stationary', 'Engaged', 'Running']\n",
    "y_txt_pos = [-0.5, -0.5, -0.415, -0.415]\n",
    "y_sts_pos = [\n",
    "    ( 2.2, 0.1),\n",
    "    (2.2, 0.1),\n",
    "    (0.12, 0.025),\n",
    "    (0.12, 0.025)\n",
    "]\n",
    "\n",
    "for j, ax in enumerate(axes):\n",
    "    means = []\n",
    "    conditions = combs[j][1]\n",
    "    for i, s_type in enumerate(conditions):\n",
    "        data = []\n",
    "        for animal in animals:\n",
    "            #a_data = [v[s_type][combs[j][0]] for k, v in session_stats.items() if k.split('_')[0] == animal]\n",
    "            a_data = df_stats[(df_stats['animal'] == animal) & (df_stats['condition'] == s_type)][combs[j][0]].values\n",
    "            data.append(a_data)\n",
    "\n",
    "        bplot = ax.boxplot(data, positions=np.arange(i*bg_dist + 1, i*bg_dist + len(data)+1), widths=0.75, patch_artist=True)\n",
    "        for patch, color in zip(bplot['boxes'], len(data) * [colors[j][i]]):\n",
    "            patch.set_facecolor(color)\n",
    "            \n",
    "        means.append(np.array([np.array(points).mean() for points in data]))    \n",
    "            \n",
    "    # Perform paired t-tests\n",
    "    comb_pairs = [x for x in combinations(conditions, 2)]\n",
    "    xval_pairs = [x for x in combinations(np.arange(3)*bg_dist + 2, 2)]\n",
    "    for i in range(len(comb_pairs)):\n",
    "        group1 = df_stats[df_stats[\"condition\"] == comb_pairs[i][0]][combs[j][0]]\n",
    "        group2 = df_stats[df_stats[\"condition\"] == comb_pairs[i][1]][combs[j][0]]\n",
    "        t_stat, p_value = ttest_rel(group1, group2)\n",
    "        \n",
    "        x1, x2 = xval_pairs[i][0], xval_pairs[i][1]\n",
    "        y, h = y_sts_pos[j][0] + i*2*y_sts_pos[j][1], y_sts_pos[j][1]\n",
    "        ax.plot([x1, x1, x2, x2], [y, y+h, y+h, y], lw=0.5, color='black')\n",
    "        ax.text((x1+x2)*.5, y+h, pval2text(p_value), ha='center', va='bottom', color='black', fontsize=12)\n",
    "\n",
    "    for m, animal_mean in enumerate(np.array(means).T):\n",
    "        ax.plot(np.arange(3)*bg_dist + (m+1), animal_mean, color='black', lw=1)\n",
    "\n",
    "    ax.axhline(0, color='black', ls='--')\n",
    "    ax.set_ylim(ylims[j][0], ylims[j][1])\n",
    "    ax.set_title(titles[j], fontsize=14)\n",
    "    ax.set_xticklabels([1, 2, 3, 4] * 3, rotation=0)\n",
    "    \n",
    "    for i in np.arange(3):\n",
    "        ax.text(i*bg_dist, y_txt_pos[j], conds[i])\n",
    "\n",
    "axes[0].set_ylabel('Population response (PC1)', fontsize=14)\n",
    "\n",
    "fig.tight_layout()\n",
    "#fig.savefig(os.path.join(rep_path, 'EV_SU_means_cross_session.png'), dpi=300)"
   ]
  },
  {
   "cell_type": "code",
   "execution_count": 12,
   "id": "0f17ddae",
   "metadata": {},
   "outputs": [
    {
     "name": "stdout",
     "output_type": "stream",
     "text": [
      "No stimulus, Evoked: 0.9009541855973021\n",
      "No stimulus, Sustained: 0.0011061089509049127\n",
      "Backgound, Evoked: 0.3321918242193362\n",
      "Backgound, Sustained: 0.0003718718799361386\n"
     ]
    }
   ],
   "source": [
    "descs = ['No stimulus, Evoked', 'No stimulus, Sustained', 'Backgound, Evoked', 'Backgound, Sustained']\n",
    "for i, anova in enumerate(anovas):\n",
    "    print(f\"{descs[i]}: {anova.anova_table['Pr > F'][0]}\")"
   ]
  },
  {
   "cell_type": "code",
   "execution_count": 13,
   "id": "4e6e2113",
   "metadata": {},
   "outputs": [],
   "source": [
    "# TODO: study outliers!!"
   ]
  },
  {
   "cell_type": "markdown",
   "id": "d19ea549",
   "metadata": {},
   "source": [
    "## Corrs"
   ]
  },
  {
   "cell_type": "code",
   "execution_count": 15,
   "id": "f8a46159",
   "metadata": {},
   "outputs": [],
   "source": [
    "df_corr = pd.DataFrame(corrs, columns=['session', 'sil_ev_speed', 'sil_ev_state', 'sil_su_speed', 'sil_su_state', \\\n",
    "                                       'bgr_ev_speed', 'bgr_ev_state', 'bgr_su_speed', 'bgr_su_state', \\\n",
    "                                       'tgt_ev_speed', 'tgt_ev_state', 'tgt_su_speed', 'tgt_su_state', \\\n",
    "                                       'sil_ev_su', 'bgr_ev_su', 'tgt_ev_su'])"
   ]
  },
  {
   "cell_type": "code",
   "execution_count": 16,
   "id": "ec7bd720",
   "metadata": {},
   "outputs": [
    {
     "name": "stdout",
     "output_type": "stream",
     "text": [
      "5.472418936643216e-10\n",
      "3.9194799832314433e-10\n",
      "7.312395513482799e-10\n"
     ]
    },
    {
     "data": {
      "image/png": "[encoded data removed]",
      "text/plain": [
       "<Figure size 504x288 with 3 Axes>"
      ]
     },
     "metadata": {
      "needs_background": "light"
     },
     "output_type": "display_data"
    }
   ],
   "source": [
    "fig, axes = plt.subplots(1, 3, figsize=(7, 4))\n",
    "\n",
    "titles = ['No stimulus', 'Background', 'Target']\n",
    "x_pos = [1, 2, 4, 5]\n",
    "colors = ['grey', 'tab:blue', 'tab:orange']\n",
    "\n",
    "for i, s_type in enumerate(['sil', 'bgr', 'tgt']):\n",
    "    ax = axes[i]\n",
    "\n",
    "    data = [\n",
    "        df_corr[f'{s_type}_ev_state'].values,\n",
    "        df_corr[f'{s_type}_ev_speed'].values,\n",
    "        df_corr[f'{s_type}_su_state'].values,\n",
    "        df_corr[f'{s_type}_su_speed'].values\n",
    "    ]\n",
    "    stat, p = stats.wilcoxon(data[2])\n",
    "    print(p)\n",
    "\n",
    "    parts = ax.violinplot(data, positions=x_pos, showmeans=False, showmedians=True)\n",
    "    for j, pc in enumerate(parts['bodies']):\n",
    "        pc.set_facecolor('tab:green' if j%2 == 0 else 'tab:red')\n",
    "        #pc.set_edgecolor(colors[i])\n",
    "        pc.set_alpha(1)\n",
    "    # Make all the violin statistics marks black:\n",
    "    for partname in ('cbars','cmins','cmaxes','cmedians'):\n",
    "        vp = parts[partname]\n",
    "        vp.set_edgecolor('black')\n",
    "        vp.set_linewidth(1)\n",
    "        \n",
    "    ax.axhline(0, color='black')\n",
    "    ax.set_ylim(-0.7, 0.7)\n",
    "    ax.set_xticks(x_pos)\n",
    "    ax.set_xticklabels(['Engagement', 'Speed', 'Engagement', 'Speed'], rotation=60)\n",
    "    ax.set_title(titles[i], fontsize=14)\n",
    "    ax.text((x_pos[0]+x_pos[1])*0.5, -0.6, 'Evoked', ha='center')\n",
    "    ax.text((x_pos[2]+x_pos[3])*0.5, -0.6, 'Sustained', ha='center')\n",
    "    #ax.set_facecolor(colors[i])\n",
    "    ax.axhspan(0.6, 0.7, color=colors[i])\n",
    "    \n",
    "axes[0].set_ylabel('Correlation coeff.', fontsize=14)\n",
    "axes[1].set_yticks([])\n",
    "axes[2].set_yticks([])\n",
    "fig.tight_layout()\n",
    "#fig.savefig(os.path.join(rep_path, 'EV_SU_corrs_cross_session.png'), dpi=300)"
   ]
  },
  {
   "cell_type": "markdown",
   "id": "8b146c54",
   "metadata": {},
   "source": [
    "## Corrs between metrics EV / SU"
   ]
  },
  {
   "cell_type": "code",
   "execution_count": 34,
   "id": "96d9c90b",
   "metadata": {
    "scrolled": true
   },
   "outputs": [
    {
     "data": {
      "image/png": "[encoded data removed]",
      "text/plain": [
       "<Figure size 201.6x288 with 1 Axes>"
      ]
     },
     "metadata": {
      "needs_background": "light"
     },
     "output_type": "display_data"
    }
   ],
   "source": [
    "fig, ax = plt.subplots(1, 1, figsize=(2.8, 4))\n",
    "\n",
    "labels = ['No stimulus', 'Background', 'Target']\n",
    "x_pos  = [1, 2, 3]\n",
    "colors = ['grey', 'tab:blue', 'tab:orange']\n",
    "\n",
    "data = [\n",
    "    df_corr['sil_ev_su'].values,\n",
    "    df_corr['bgr_ev_su'].values,\n",
    "    df_corr['tgt_ev_su'].values,\n",
    "]\n",
    "\n",
    "parts = ax.violinplot(data, positions=x_pos, showmeans=False, showmedians=True)\n",
    "for j, pc in enumerate(parts['bodies']):\n",
    "    pc.set_facecolor(colors[j])\n",
    "    pc.set_edgecolor(colors[j])\n",
    "    pc.set_alpha(1)\n",
    "    \n",
    "# Make all the violin statistics marks black:\n",
    "for partname in ('cbars','cmins','cmaxes','cmedians'):\n",
    "    vp = parts[partname]\n",
    "    vp.set_edgecolor('black')\n",
    "    vp.set_linewidth(1)\n",
    "        \n",
    "ax.axhline(0, color='black', ls='--')\n",
    "ax.set_ylim(-0.5, 0.5)\n",
    "ax.set_xticks(x_pos)\n",
    "ax.set_xticklabels(labels, rotation=60, fontsize=14)\n",
    "ax.set_title(\"Evoked vs Sustained\", fontsize=14)\n",
    "    \n",
    "ax.set_ylabel('Correlation coeff.', fontsize=14)\n",
    "fig.tight_layout()\n",
    "fig.savefig(os.path.join(rep_path, 'EV_SU_corrs_cross_session_ALL_STATES.png'), dpi=300)"
   ]
  },
  {
   "cell_type": "code",
   "execution_count": null,
   "id": "892008af",
   "metadata": {},
   "outputs": [],
   "source": [
    "import matplotlib\n",
    "\n",
    "for c in plt.cm.tab10.colors: \n",
    "    print(matplotlib.colors.to_hex(c))"
   ]
  },
  {
   "cell_type": "code",
   "execution_count": null,
   "id": "ac51acb5",
   "metadata": {},
   "outputs": [],
   "source": [
    "matplotlib.colors.cnames[\"grey\"]"
   ]
  },
  {
   "cell_type": "code",
   "execution_count": null,
   "id": "3596bdcc",
   "metadata": {},
   "outputs": [],
   "source": []
  }
 ],
 "metadata": {
  "kernelspec": {
   "display_name": "Python 3 (ipykernel)",
   "language": "python",
   "name": "python3"
  },
  "language_info": {
   "codemirror_mode": {
    "name": "ipython",
    "version": 3
   },
   "file_extension": ".py",
   "mimetype": "text/x-python",
   "name": "python",
   "nbconvert_exporter": "python",
   "pygments_lexer": "ipython3",
   "version": "3.8.10"
  }
 },
 "nbformat": 4,
 "nbformat_minor": 5
}
