{
 "cells": [
  {
   "cell_type": "code",
   "execution_count": 1,
   "id": "45ca3001",
   "metadata": {},
   "outputs": [],
   "source": [
    "import sys, os\n",
    "sys.path.append(os.path.join(os.getcwd(), '..'))\n",
    "sys.path.append(os.path.join(os.getcwd(), '..', '..'))\n",
    "sys.path.append(os.path.join(os.getcwd(), '..', '..', '..', 'pplSIT', 'workflow', 'utils'))"
   ]
  },
  {
   "cell_type": "code",
   "execution_count": 2,
   "id": "236ba101",
   "metadata": {},
   "outputs": [],
   "source": [
    "%matplotlib inline\n",
    "\n",
    "from sessions import selected_009266, selected_008229, selected_009265, selected_57\n",
    "from imports import *\n",
    "from scipy import stats\n",
    "from scipy import signal\n",
    "from matplotlib.lines import Line2D\n",
    "from sklearn import decomposition\n",
    "from population import unit_activity_matrix\n",
    "from spiketrain import get_shuffled\n",
    "import itertools"
   ]
  },
  {
   "cell_type": "code",
   "execution_count": 3,
   "id": "43770aa5",
   "metadata": {},
   "outputs": [
    {
     "data": {
      "application/javascript": [
       "IPython.OutputArea.prototype._should_scroll = function(lines) {\n",
       "    return false;\n",
       "}\n"
      ],
      "text/plain": [
       "<IPython.core.display.Javascript object>"
      ]
     },
     "metadata": {},
     "output_type": "display_data"
    }
   ],
   "source": [
    "%%javascript\n",
    "IPython.OutputArea.prototype._should_scroll = function(lines) {\n",
    "    return false;\n",
    "}"
   ]
  },
  {
   "cell_type": "code",
   "execution_count": 4,
   "id": "abdccfb4",
   "metadata": {},
   "outputs": [],
   "source": [
    "def make_smooth(data, k_width=25):  # k_width sampled as sound events\n",
    "    kernel  = signal.gaussian(k_width, std=(k_width) / 7.2)\n",
    "    return np.convolve(data, kernel, 'same') / kernel.sum()"
   ]
  },
  {
   "cell_type": "code",
   "execution_count": 22,
   "id": "05e19e91",
   "metadata": {},
   "outputs": [],
   "source": [
    "def get_asterisks(pval):\n",
    "    if pval > 0.05:\n",
    "        return 'n.s.'\n",
    "    elif pval > 0.01:\n",
    "        return '*'\n",
    "    elif pval > 0.001:\n",
    "        return '**'\n",
    "    elif pval > 0.0001:\n",
    "        return '***'\n",
    "    else:\n",
    "        return '****'"
   ]
  },
  {
   "cell_type": "code",
   "execution_count": 25,
   "id": "fb4406ca",
   "metadata": {
    "scrolled": true
   },
   "outputs": [],
   "source": [
    "source = '/home/sobolev/nevermind_ag-grothe/AG_Pecka/data/processed/'\n",
    "source = '/home/sobolev/nevermind/AG_Pecka/data/processed/'\n",
    "rep_path = '/home/sobolev/nevermind/Andrey/analysis/manuscripts/'\n",
    "\n",
    "# manuscript session\n",
    "# '009266_hippoSIT_2023-04-18_10-10-37'\n",
    "\n",
    "all_selected = selected_009266 + selected_009265 #+ selected_57\n",
    "#selected = all_selected[:]\n",
    "selected = all_selected\n",
    "selected.remove('009265_hippoSIT_2023-03-05_18-31-32')\n",
    "#selected.remove('57_SIT_2023-12-29_12-11-46')\n",
    "#selected.remove('009265_hippoSIT_2023-03-05_18-31-32')\n",
    "\n",
    "#selected = selected_009266\n",
    "#session = selected[8]\n",
    "#session"
   ]
  },
  {
   "cell_type": "code",
   "execution_count": 43,
   "id": "6bb6535b",
   "metadata": {},
   "outputs": [
    {
     "name": "stdout",
     "output_type": "stream",
     "text": [
      "Session 2023-03-10_09 done"
     ]
    }
   ],
   "source": [
    "corrs_h_all = []\n",
    "corrs_l_all = []\n",
    "\n",
    "for i, session in enumerate(selected):\n",
    "    # read dataset\n",
    "    animal    = session.split('_')[0]\n",
    "    s_path    = os.path.join(source, animal, session)\n",
    "    meta_file = os.path.join(s_path, 'meta.h5')\n",
    "    unit_file = os.path.join(s_path, 'units.h5')\n",
    "    nmap_file = os.path.join(s_path, 'analysis', 'nMAP_EV_SU.h5')\n",
    "\n",
    "    with h5py.File(meta_file, 'r') as f:\n",
    "        tl = np.array(f['processed']['timeline'])\n",
    "        tgt_mx = np.array(f['processed']['target_matrix'])\n",
    "        events = np.array(f['processed']['sound_events'])\n",
    "    with h5py.File(nmap_file, 'r') as f:\n",
    "        response_manifold = np.array(f['response_manifold'])\n",
    "        unit_mx_su = np.array(f['unit_mx_su'])\n",
    "\n",
    "    vals = response_manifold[:, 1]\n",
    "    idxs_su_h = np.where(vals > vals.mean() + 1.5*vals.std())[0]\n",
    "    idxs_su_l = np.where(vals < vals.mean() - 1.5*vals.std())[0]\n",
    "    su_mx = unit_mx_su[:, 1::2].T  # take only sustained component\n",
    "    \n",
    "    # pairwise correlations\n",
    "    unit_pair_idxs = [x for x in itertools.combinations(range(su_mx.shape[1]), 2)]\n",
    "    corrs_h = np.zeros(len(unit_pair_idxs))\n",
    "    corrs_l = np.zeros(len(unit_pair_idxs))\n",
    "    for j, pair in enumerate(unit_pair_idxs):\n",
    "        corr, pval = stats.pearsonr(su_mx[:, pair[0]][idxs_su_h], su_mx[:, pair[1]][idxs_su_h])\n",
    "        if not np.isnan(corr):\n",
    "            corrs_h[j] = corr\n",
    "        \n",
    "        corr, pval = stats.pearsonr(su_mx[:, pair[0]][idxs_su_l], su_mx[:, pair[1]][idxs_su_l])\n",
    "        if not np.isnan(corr):\n",
    "            corrs_l[j] = corr\n",
    "        \n",
    "    corrs_h_all.append(np.array(corrs_h))\n",
    "    corrs_l_all.append(np.array(corrs_l))\n",
    "    \n",
    "    print('\\rSession %s done' % session[-19:-6], end='')"
   ]
  },
  {
   "cell_type": "code",
   "execution_count": 44,
   "id": "632c1db9",
   "metadata": {},
   "outputs": [],
   "source": [
    "corrs_h_flat = np.concatenate([x for x in corrs_h_all])\n",
    "corrs_l_flat = np.concatenate([x for x in corrs_l_all])"
   ]
  },
  {
   "cell_type": "code",
   "execution_count": 53,
   "id": "f2b70fa8",
   "metadata": {},
   "outputs": [
    {
     "data": {
      "text/plain": [
       "Text(0.5, 1.0, 'Pairwise correlations, ****')"
      ]
     },
     "execution_count": 53,
     "metadata": {},
     "output_type": "execute_result"
    },
    {
     "data": {
      "image/png": "[encoded data removed]",
      "text/plain": [
       "<Figure size 360x216 with 1 Axes>"
      ]
     },
     "metadata": {
      "needs_background": "light"
     },
     "output_type": "display_data"
    }
   ],
   "source": [
    "bins_nc = np.linspace(-0.3, 0.3, 81)\n",
    "#bins_nc = np.linspace(-1, 1, 101)\n",
    "\n",
    "#idx = 30\n",
    "#corrs_shuf = corrs_shuf_all[idx]\n",
    "#corrs_real = corrs_real_all[idx]\n",
    "\n",
    "corrs1 = corrs_h_flat\n",
    "corrs2 = corrs_l_flat\n",
    "\n",
    "_, pval = stats.mannwhitneyu(corrs1, corrs2)\n",
    "\n",
    "fig, ax = plt.subplots(1, 1, figsize=(5, 3))\n",
    "ax.hist(corrs1, bins=bins_nc, density=True, alpha=0.6, color='grey', label='disengaged')\n",
    "ax.hist(corrs2, bins=bins_nc, density=True, alpha=0.6, color='red', label='engaged')\n",
    "ax.axvline(corrs2.mean(), color='red', lw=1)\n",
    "ax.axvline(corrs1.mean(), color='black', lw=1)\n",
    "#ax.axvline(np.median(corrs1), color='black', lw=1)\n",
    "#ax.axvline(np.median(corrs2), color='red', lw=1)\n",
    "ax.axvline(0, color='black', lw=1, ls='--')\n",
    "ax.set_xlim(-0.2, 0.2)\n",
    "#ax.set_xlim(-0.5, 0.5)\n",
    "ax.legend()\n",
    "ax.set_xlabel(\"Corr. coeff. between units\", fontsize=14)\n",
    "ax.set_ylabel(\"Probability\", fontsize=14)\n",
    "ax.set_title('Pairwise correlations, %s' % get_asterisks(pval), fontsize=14)"
   ]
  },
  {
   "cell_type": "code",
   "execution_count": 50,
   "id": "f2812410",
   "metadata": {},
   "outputs": [
    {
     "data": {
      "text/plain": [
       "7.366898603598349e-48"
      ]
     },
     "execution_count": 50,
     "metadata": {},
     "output_type": "execute_result"
    }
   ],
   "source": [
    "pval"
   ]
  },
  {
   "cell_type": "code",
   "execution_count": null,
   "id": "356b5c4c",
   "metadata": {},
   "outputs": [],
   "source": []
  }
 ],
 "metadata": {
  "kernelspec": {
   "display_name": "Python 3 (ipykernel)",
   "language": "python",
   "name": "python3"
  },
  "language_info": {
   "codemirror_mode": {
    "name": "ipython",
    "version": 3
   },
   "file_extension": ".py",
   "mimetype": "text/x-python",
   "name": "python",
   "nbconvert_exporter": "python",
   "pygments_lexer": "ipython3",
   "version": "3.8.10"
  }
 },
 "nbformat": 4,
 "nbformat_minor": 5
}
