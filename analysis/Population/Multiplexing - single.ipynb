{
 "cells": [
  {
   "cell_type": "code",
   "execution_count": 226,
   "id": "45ca3001",
   "metadata": {},
   "outputs": [],
   "source": [
    "import sys, os\n",
    "sys.path.append(os.path.join(os.getcwd(), '..'))\n",
    "sys.path.append(os.path.join(os.getcwd(), '..', '..'))\n",
    "sys.path.append(os.path.join(os.getcwd(), '..', '..', '..', 'pplSIT', 'workflow', 'utils'))"
   ]
  },
  {
   "cell_type": "code",
   "execution_count": 227,
   "id": "236ba101",
   "metadata": {},
   "outputs": [],
   "source": [
    "%matplotlib inline\n",
    "\n",
    "import itertools\n",
    "#from sessions import selected_009266, selected_008229, selected_009265, selected_57, selected_013829\n",
    "from sessions_nMAP_EV_SU import selected\n",
    "from imports import *\n",
    "from scipy import stats\n",
    "from scipy import signal\n",
    "from skimage.segmentation import watershed, slic\n",
    "from Behavior.behavior import get_extent, get_idxs_behav_state, get_idxs_in_patches\n",
    "from Behavior.behavior import density_map, density_map, get_idxs_neuro_state\n",
    "from matplotlib.lines import Line2D\n",
    "\n",
    "from sklearn import decomposition\n",
    "#from population import unit_activity_matrix\n",
    "from psth import get_psth_matrix"
   ]
  },
  {
   "cell_type": "code",
   "execution_count": 228,
   "id": "43770aa5",
   "metadata": {},
   "outputs": [
    {
     "data": {
      "application/javascript": [
       "IPython.OutputArea.prototype._should_scroll = function(lines) {\n",
       "    return false;\n",
       "}\n"
      ],
      "text/plain": [
       "<IPython.core.display.Javascript object>"
      ]
     },
     "metadata": {},
     "output_type": "display_data"
    }
   ],
   "source": [
    "%%javascript\n",
    "IPython.OutputArea.prototype._should_scroll = function(lines) {\n",
    "    return false;\n",
    "}"
   ]
  },
  {
   "cell_type": "code",
   "execution_count": 229,
   "id": "8bab985d",
   "metadata": {},
   "outputs": [],
   "source": [
    "def pval2text(p_val):\n",
    "    if p_val > 0.05:\n",
    "        return 'n.s.'\n",
    "    elif p_val > 0.01:\n",
    "        return '*'\n",
    "    elif p_val > 0.001:\n",
    "        return '**'\n",
    "    elif p_val > 0.01:\n",
    "        return '***'\n",
    "    else:\n",
    "        return '****'"
   ]
  },
  {
   "cell_type": "code",
   "execution_count": 230,
   "id": "fb4406ca",
   "metadata": {
    "scrolled": false
   },
   "outputs": [
    {
     "data": {
      "text/plain": [
       "(['009266_hippoSIT_2023-04-17_17-04-17',\n",
       "  '009266_hippoSIT_2023-04-18_10-10-37',\n",
       "  '009266_hippoSIT_2023-04-18_17-03-10',\n",
       "  '009266_hippoSIT_2023-04-19_10-33-51',\n",
       "  '009266_hippoSIT_2023-04-20_08-57-39',\n",
       "  '009266_hippoSIT_2023-04-21_08-43-00',\n",
       "  '009266_hippoSIT_2023-04-21_13-12-31'],\n",
       " 68)"
      ]
     },
     "execution_count": 230,
     "metadata": {},
     "output_type": "execute_result"
    }
   ],
   "source": [
    "source = '/home/sobolev/nevermind_ag-grothe/AG_Pecka/data/processed/'\n",
    "source = '/home/sobolev/nevermind/AG_Pecka/data/processed/'\n",
    "rep_path = '/home/sobolev/nevermind/Andrey/analysis/manuscripts/'\n",
    "\n",
    "all_selected = []\n",
    "for animal, s_list in selected.items():\n",
    "    all_selected += s_list\n",
    "all_selected[:7], len(all_selected)"
   ]
  },
  {
   "cell_type": "code",
   "execution_count": 231,
   "id": "ee2a89f3",
   "metadata": {},
   "outputs": [],
   "source": [
    "#session = '009266_hippoSIT_2023-04-18_10-10-37'  # 25 units, OK\n",
    "#session = '013829_ppcSIT_2024-11-17_15-26-16'\n",
    "#session = '013829_ppcSIT_2024-11-16_19-31-26'\n",
    "#session = '013829_ppcSIT_2024-11-16_11-17-54'\n",
    "#session = '009266_hippoSIT_2023-04-18_10-10-37'\n",
    "#session = '013829_ppcSIT_2024-11-25_10-04-29'  # 37 units, OK\n",
    "#session = '013829_ppcSIT_2024-11-20_09-26-11'\n",
    "#session = '009265_hippoSIT_2023-03-05_18-31-32'\n",
    "#session = '013829_ppcSIT_2024-11-16_11-17-54'\n",
    "session = '013829_ppcSIT_2024-11-20_16-59-28'"
   ]
  },
  {
   "cell_type": "markdown",
   "id": "95fa2f6a",
   "metadata": {},
   "source": [
    "## Multiplexing: sound, locomotion, engagement"
   ]
  },
  {
   "cell_type": "code",
   "execution_count": 232,
   "id": "3f6bbad1",
   "metadata": {},
   "outputs": [
    {
     "data": {
      "text/plain": [
       "((9599, 2), '013829_ppcSIT_2024-11-20_16-59-28')"
      ]
     },
     "execution_count": 232,
     "metadata": {},
     "output_type": "execute_result"
    }
   ],
   "source": [
    "animal   = session.split('_')[0]\n",
    "session_path = os.path.join(source, animal, session)\n",
    "#nmap_file  = os.path.join(session_path, 'analysis', 'nMAP_EV_SU_noconv.h5')\n",
    "nmap_file  = os.path.join(session_path, 'analysis', 'nMAP_EV_SU_with_PSTH.h5')\n",
    "bmap_file  = os.path.join(session_path, 'analysis', 'bMAP_segmentation.h5')\n",
    "meta_file  = os.path.join(session_path, 'meta.h5')\n",
    "desc_file  = os.path.join(session_path, 'descendants.h5')\n",
    "\n",
    "with h5py.File(meta_file, 'r') as f:\n",
    "    tl = np.array(f['processed']['timeline'])\n",
    "    sound_events = np.array(f['processed']['sound_events'])\n",
    "    tgt_mx = np.array(f['processed']['target_matrix'])\n",
    "with h5py.File(nmap_file, 'r') as f:\n",
    "    response_manifold = np.array(f['response_manifold'])\n",
    "    unit_mx_ev = np.array(f['unit_mx_proc_ev'])\n",
    "    unit_mx_su = np.array(f['unit_mx_proc_su'])\n",
    "    \n",
    "#if os.path.exists(desc_file):\n",
    "with h5py.File(desc_file, 'r') as f:\n",
    "    speed = np.array(f['speed'])\n",
    "    hd    = np.array(f['hd'])\n",
    "# else:\n",
    "#     speed = tl[:, 3]\n",
    "#     hd    = tl[:, 4]\n",
    "    \n",
    "with h5py.File(bmap_file, 'r') as f:\n",
    "    idxs_tgt_succ_state_ev = np.array(f['idxs_tgt_succ_state_ev'])\n",
    "idxs_bU_ev = np.array([x for x in range(len(sound_events)) if not x in idxs_tgt_succ_state_ev])\n",
    "\n",
    "fit = response_manifold  # short var name\n",
    "response_manifold.shape, session"
   ]
  },
  {
   "cell_type": "code",
   "execution_count": 233,
   "id": "4c412407",
   "metadata": {},
   "outputs": [
    {
     "data": {
      "text/plain": [
       "((9599, 33), (9599, 33))"
      ]
     },
     "execution_count": 233,
     "metadata": {},
     "output_type": "execute_result"
    }
   ],
   "source": [
    "unit_mx_ev.shape, unit_mx_su.shape  # event sampling"
   ]
  },
  {
   "cell_type": "code",
   "execution_count": 234,
   "id": "9af8ee1f",
   "metadata": {},
   "outputs": [],
   "source": [
    "# compute event indices\n",
    "speed_thresh = 0.04  # m/s\n",
    "\n",
    "idxs_suc_ev = []\n",
    "for tgt_rec in tgt_mx[tgt_mx[:, 4] == 1]:\n",
    "    idxs_suc_ev += list(np.arange(tgt_rec[0], tgt_rec[1] + 1))\n",
    "idxs_suc_ev = np.array(idxs_suc_ev)\n",
    "\n",
    "# auditory state (BGR, SIL etc.) and speed filter\n",
    "idxs_sta_ev = np.where(speed[sound_events[:, 2].astype(np.int32)] < speed_thresh)[0]  # define speed filter here\n",
    "idxs_run_ev = np.where(speed[sound_events[:, 2].astype(np.int32)] > speed_thresh)[0]\n",
    "idxs_bgr_ev = np.where(sound_events[:, 1] == 1)[0]\n",
    "idxs_sil_ev = np.where(sound_events[:, 1] == 0)[0]\n",
    "idxs_tgt_ev = np.where(sound_events[:, 1] == 2)[0]\n",
    "idxs_noi_ev = np.where(sound_events[:, 1] == -1)[0]\n",
    "idxs_non_ev = np.where( (sound_events[:, 1] == 0) | (sound_events[:, 1] == 1) )[0]  # non-target\n",
    "\n",
    "# for behavioral state\n",
    "idxs_non_sta_ev    = np.intersect1d(idxs_sta_ev, idxs_non_ev)\n",
    "idxs_non_sta_bE_ev = np.intersect1d(idxs_tgt_succ_state_ev, idxs_non_sta_ev)\n",
    "idxs_non_sta_bU_ev = np.intersect1d(idxs_bU_ev, idxs_non_sta_ev)\n",
    "idxs_sil_sta_ev    = np.intersect1d(idxs_sta_ev, idxs_sil_ev)\n",
    "\n",
    "# for speed\n",
    "idxs_non_run_ev    = np.intersect1d(idxs_run_ev, idxs_non_ev)\n",
    "idxs_non_run_bU_ev = np.intersect1d(idxs_bU_ev, idxs_non_run_ev)\n",
    "idxs_sil_bU_ev     = np.intersect1d(idxs_bU_ev, idxs_sil_ev)"
   ]
  },
  {
   "cell_type": "code",
   "execution_count": 235,
   "id": "931b9240",
   "metadata": {},
   "outputs": [
    {
     "name": "stdout",
     "output_type": "stream",
     "text": [
      "NO STIMULUS\n",
      "1077 399 2212 331\n",
      "BGR STIMULUS\n",
      "1264 433 2145 450\n",
      "TGT STIMULUS\n",
      "208 677 73 95\n"
     ]
    }
   ],
   "source": [
    "# multiplexing events: sound, locomotion, engagement\n",
    "\n",
    "# ------ NO STIMULUS ------\n",
    "\n",
    "# 000: in silence, stationary non-engaged condition\n",
    "idxs_000 = np.intersect1d(idxs_sta_ev, idxs_sil_ev)\n",
    "idxs_000 = np.intersect1d(idxs_000, idxs_bU_ev)\n",
    "\n",
    "# 001: in silence, stationary engaged condition\n",
    "idxs_001 = np.intersect1d(idxs_sta_ev, idxs_sil_ev)\n",
    "idxs_001 = np.intersect1d(idxs_001, idxs_tgt_succ_state_ev)\n",
    "\n",
    "# 010: in silence, running non-engaged condition\n",
    "idxs_010 = np.intersect1d(idxs_run_ev, idxs_sil_ev)\n",
    "idxs_010 = np.intersect1d(idxs_010, idxs_bU_ev)\n",
    "\n",
    "# 011: in silence, running engaged - should not happen!\n",
    "idxs_011 = np.intersect1d(idxs_run_ev, idxs_sil_ev)\n",
    "idxs_011 = np.intersect1d(idxs_011, idxs_tgt_succ_state_ev)\n",
    "\n",
    "# ------ BGR STIMULUS ------\n",
    "\n",
    "# 100: in trial, stationary non-engaged condition\n",
    "idxs_100 = np.intersect1d(idxs_sta_ev, idxs_bgr_ev)\n",
    "idxs_100 = np.intersect1d(idxs_100, idxs_bU_ev)\n",
    "\n",
    "# 101: in trial, stationary engaged condition\n",
    "idxs_101 = np.intersect1d(idxs_sta_ev, idxs_bgr_ev)\n",
    "idxs_101 = np.intersect1d(idxs_101, idxs_tgt_succ_state_ev)\n",
    "\n",
    "# 110: in trial, running non-engaged condition\n",
    "idxs_110 = np.intersect1d(idxs_run_ev, idxs_bgr_ev)\n",
    "idxs_110 = np.intersect1d(idxs_110, idxs_bU_ev)\n",
    "\n",
    "# 111: in trial, running engaged - should not happen!\n",
    "idxs_111 = np.intersect1d(idxs_run_ev, idxs_bgr_ev)\n",
    "idxs_111 = np.intersect1d(idxs_111, idxs_tgt_succ_state_ev)\n",
    "\n",
    "# ------ TGT STIMULUS ------\n",
    "\n",
    "# 200: in TGT, stationary non-engaged condition\n",
    "idxs_200 = np.intersect1d(idxs_sta_ev, idxs_tgt_ev)\n",
    "idxs_200 = np.intersect1d(idxs_200, idxs_bU_ev)\n",
    "\n",
    "# 201: in TGT, stationary engaged condition\n",
    "idxs_201 = np.intersect1d(idxs_sta_ev, idxs_tgt_ev)\n",
    "idxs_201 = np.intersect1d(idxs_201, idxs_tgt_succ_state_ev)\n",
    "\n",
    "# 210: in TGT, running non-engaged condition\n",
    "idxs_210 = np.intersect1d(idxs_run_ev, idxs_tgt_ev)\n",
    "idxs_210 = np.intersect1d(idxs_210, idxs_bU_ev)\n",
    "\n",
    "# 211: in TGT, running engaged - should not happen!\n",
    "idxs_211 = np.intersect1d(idxs_run_ev, idxs_tgt_ev)\n",
    "idxs_211 = np.intersect1d(idxs_211, idxs_tgt_succ_state_ev)\n",
    "\n",
    "print('NO STIMULUS')\n",
    "print(len(idxs_000), len(idxs_001), len(idxs_010), len(idxs_011))\n",
    "print('BGR STIMULUS')\n",
    "print(len(idxs_100), len(idxs_101), len(idxs_110), len(idxs_111))\n",
    "print('TGT STIMULUS')\n",
    "print(len(idxs_200), len(idxs_201), len(idxs_210), len(idxs_211))"
   ]
  },
  {
   "cell_type": "code",
   "execution_count": 240,
   "id": "f1813b06",
   "metadata": {
    "scrolled": false
   },
   "outputs": [
    {
     "name": "stderr",
     "output_type": "stream",
     "text": [
      "/tmp/ipykernel_2537791/1256366796.py:122: UserWarning: This figure includes Axes that are not compatible with tight_layout, so results might be incorrect.\n",
      "  fig.tight_layout()\n"
     ]
    },
    {
     "data": {
      "image/png": "[encoded data removed]",
      "text/plain": [
       "<Figure size 396x396 with 3 Axes>"
      ]
     },
     "metadata": {
      "needs_background": "light"
     },
     "output_type": "display_data"
    }
   ],
   "source": [
    "from matplotlib.lines import Line2D\n",
    "\n",
    "margin = 5\n",
    "sigma = 0.3\n",
    "clr_scheme = custom\n",
    "\n",
    "fig = plt.figure(figsize=(5.5, 5.5))\n",
    "# https://matplotlib.org/stable/gallery/lines_bars_and_markers/scatter_hist.html\n",
    "gs = fig.add_gridspec(2, 2,  width_ratios=(4, 1), height_ratios=(1, 4), left=0.1, right=0.9, \\\n",
    "                      bottom=0.1, top=0.9, wspace=0.05, hspace=0.05)\n",
    "\n",
    "# selection\n",
    "#idxs_all = [idxs_sil_ev, idxs_bgr_ev, idxs_suc_ev, idxs_000, idxs_001, idxs_010]\n",
    "#idxs_all = [idxs_sil_ev, idxs_bgr_ev, idxs_suc_ev, idxs_100, idxs_101, idxs_110]\n",
    "#idxs_all = [idxs_sil_ev, idxs_bgr_ev, idxs_suc_ev, idxs_200, idxs_201, idxs_210]\n",
    "alphas   = [0.2, 0.1, 0.1]\n",
    "\n",
    "# No stimulus, STA, AL\n",
    "idxs_all, title = [idxs_000, idxs_001], 'No stimulus'\n",
    "colors   = [clr_scheme['silence'], clr_scheme['engagement']]\n",
    "labels   = ['Stationary', 'Stationary, Engaged']\n",
    "\n",
    "# No stimulus, RUN, PH\n",
    "idxs_all, title = [idxs_000, idxs_010], 'No stimulus'  \n",
    "colors   = [clr_scheme['silence'], clr_scheme['locomotion']]\n",
    "labels   = ['Stationary', 'Running']\n",
    "\n",
    "# # # Background, STA, AL\n",
    "# idxs_all, title = [idxs_100, idxs_101], 'Background'  \n",
    "# colors   = [clr_scheme['background'], clr_scheme['engagement']]\n",
    "# labels   = ['Stationary', 'Stationary, engaged']\n",
    "\n",
    "# # Background, RUN, PH\n",
    "# idxs_all, title = [idxs_100, idxs_110], 'Background'  \n",
    "# colors   = [clr_scheme['background'], clr_scheme['locomotion']]\n",
    "# labels   = ['Stationary', 'Running']\n",
    "\n",
    "\n",
    "# --------- scatter plots ---------\n",
    "\n",
    "ax = fig.add_subplot(gs[1, 0])\n",
    "\n",
    "legend_elements = [\n",
    "    Line2D([0], [0], marker='.', linestyle='None', color=colors[0], markersize=10, label=labels[0]),\n",
    "    Line2D([0], [0], marker='.', linestyle='None', color=colors[1], markersize=10, label=labels[1]),\n",
    "    #Line2D([0], [0], marker='.', linestyle='None', color=colors[2], markersize=10, label=labels[2]),\n",
    "]\n",
    "\n",
    "# get contours\n",
    "extent = get_extent(fit, margin=margin)\n",
    "d_map  = density_map(fit, extent, sigma=sigma, bin_count=100)\n",
    "levels = np.linspace(0.1*d_map.max(), d_map.max(), 2)\n",
    "CS_fit = ax.contour(d_map.T, levels, origin='lower', linewidths=2, extent=extent)\n",
    "ax.clear()\n",
    "\n",
    "# scatter plot\n",
    "for i, idxs in enumerate(idxs_all):\n",
    "    ax.scatter(fit[idxs][:, 0], fit[idxs][:, 1], alpha=alphas[i], color=colors[i], label=labels[i])\n",
    "    #ax.scatter(fit[:, 0], fit[:, 1], alpha=0.1, c=np.log(speed[sound_events[:, 2].astype(np.int32)]), cmap='seismic')\n",
    "\n",
    "# regression line for no stimulus\n",
    "# res = stats.linregress(fit[idxs_sil_ev][:, 0], fit[idxs_sil_ev][:, 1])\n",
    "# x = np.array([fit[idxs_sil_ev][:, 0].min(), 1])\n",
    "# ax.plot(x, res.intercept + res.slope*x, color='black', alpha=0.8, ls='--')\n",
    "\n",
    "# ylims\n",
    "x_min, x_max = -1, 3\n",
    "y_min, y_max = -1, 1\n",
    "ax.set_xlim(x_min, x_max)\n",
    "ax.set_ylim(y_min, y_max)\n",
    "\n",
    "ax.set_xlabel('Evoked, PC1', fontsize=14)\n",
    "ax.set_ylabel('Sustained, PC1', fontsize=14)\n",
    "ax.legend(handles=legend_elements)\n",
    "ax.axhline(0, color='black', lw=1.3)\n",
    "#ax.axvline(0, color='black', lw=1.3)\n",
    "ax.grid()\n",
    "\n",
    "# plot contours\n",
    "for path in CS_fit.collections[0].get_paths():\n",
    "    verts = path.vertices\n",
    "    ax.plot(verts[:,0], verts[:,1], ls='--', color='black')\n",
    "\n",
    "# --------- evoked histograms ---------\n",
    "\n",
    "x = np.linspace(x_min, x_max, 100)\n",
    "\n",
    "p_val = stats.mannwhitneyu(fit[idxs_all[0]][:, 0], fit[idxs_all[1]][:, 0]).pvalue\n",
    "legend_elements = [\n",
    "    Line2D([0], [0], marker='.', linestyle='None', color='tab:orange', markersize=10, label='%s' % pval2text(p_val)),\n",
    "]\n",
    "\n",
    "ax = fig.add_subplot(gs[0, 0])\n",
    "for i, idxs in enumerate(idxs_all):\n",
    "    density = stats.kde.gaussian_kde(fit[idxs][:, 0])\n",
    "    ax.plot(x, density(x), color=colors[i], lw=2)\n",
    "    ax.axvline(np.median(fit[idxs][:, 0]), ls='--', color=colors[i], lw=2)\n",
    "ax.set_xticks([])\n",
    "#ax.legend(handles=legend_elements)\n",
    "ax.set_title('%s (%d units)' % (title, unit_mx_ev.shape[1]), fontsize=14)\n",
    "\n",
    "# --------- sustained histograms ---------\n",
    "\n",
    "y = np.linspace(y_min, y_max, 100)\n",
    "\n",
    "p_val = stats.mannwhitneyu(fit[idxs_all[0]][:, 1], fit[idxs_all[1]][:, 1]).pvalue\n",
    "#p_val2 = stats.mannwhitneyu(fit[idxs_all[0]][:, 1], fit[idxs_all[2]][:, 1]).pvalue\n",
    "#print(p_val1, p_val2)\n",
    "legend_elements = [\n",
    "    Line2D([0], [0], marker='.', linestyle='None', color=colors[1], markersize=10, label='%s' % pval2text(p_val)),\n",
    "    #Line2D([0], [0], marker='.', linestyle='None', color=colors[2], markersize=10, label='%s' % pval2text(p_val2)),\n",
    "]\n",
    "\n",
    "ax = fig.add_subplot(gs[1, 1])\n",
    "for i, idxs in enumerate(idxs_all):\n",
    "    density = stats.kde.gaussian_kde(fit[idxs][:, 1])\n",
    "    ax.plot(density(y), y, color=colors[i], lw=2)\n",
    "    ax.axhline(np.median(fit[idxs][:, 1]), ls='--', color=colors[i], lw=2)\n",
    "ax.legend(handles=legend_elements)\n",
    "ax.set_yticks([])\n",
    "\n",
    "fig.tight_layout()\n",
    "#fig.savefig(os.path.join(rep_path, '%s_110.png' % session[-19:-6]), dpi=300)"
   ]
  },
  {
   "cell_type": "code",
   "execution_count": 1,
   "id": "1d361d7b",
   "metadata": {},
   "outputs": [
    {
     "name": "stdout",
     "output_type": "stream",
     "text": [
      "#808080\n"
     ]
    },
    {
     "ename": "NameError",
     "evalue": "name 'plt' is not defined",
     "output_type": "error",
     "traceback": [
      "\u001b[0;31m---------------------------------------------------------------------------\u001b[0m",
      "\u001b[0;31mNameError\u001b[0m                                 Traceback (most recent call last)",
      "\u001b[0;32m/tmp/ipykernel_2784954/1901081885.py\u001b[0m in \u001b[0;36m<module>\u001b[0;34m\u001b[0m\n\u001b[1;32m      3\u001b[0m \u001b[0mprint\u001b[0m\u001b[0;34m(\u001b[0m\u001b[0mmatplotlib\u001b[0m\u001b[0;34m.\u001b[0m\u001b[0mcolors\u001b[0m\u001b[0;34m.\u001b[0m\u001b[0mcnames\u001b[0m\u001b[0;34m[\u001b[0m\u001b[0;34m\"grey\"\u001b[0m\u001b[0;34m]\u001b[0m\u001b[0;34m)\u001b[0m\u001b[0;34m\u001b[0m\u001b[0;34m\u001b[0m\u001b[0m\n\u001b[1;32m      4\u001b[0m \u001b[0;34m\u001b[0m\u001b[0m\n\u001b[0;32m----> 5\u001b[0;31m \u001b[0;32mfor\u001b[0m \u001b[0mc\u001b[0m \u001b[0;32min\u001b[0m \u001b[0mplt\u001b[0m\u001b[0;34m.\u001b[0m\u001b[0mcm\u001b[0m\u001b[0;34m.\u001b[0m\u001b[0mtab10\u001b[0m\u001b[0;34m.\u001b[0m\u001b[0mcolors\u001b[0m\u001b[0;34m:\u001b[0m\u001b[0;34m\u001b[0m\u001b[0;34m\u001b[0m\u001b[0m\n\u001b[0m\u001b[1;32m      6\u001b[0m     \u001b[0mprint\u001b[0m\u001b[0;34m(\u001b[0m\u001b[0mmatplotlib\u001b[0m\u001b[0;34m.\u001b[0m\u001b[0mcolors\u001b[0m\u001b[0;34m.\u001b[0m\u001b[0mto_hex\u001b[0m\u001b[0;34m(\u001b[0m\u001b[0mc\u001b[0m\u001b[0;34m)\u001b[0m\u001b[0;34m)\u001b[0m\u001b[0;34m\u001b[0m\u001b[0;34m\u001b[0m\u001b[0m\n",
      "\u001b[0;31mNameError\u001b[0m: name 'plt' is not defined"
     ]
    }
   ],
   "source": [
    "import matplotlib\n",
    "\n",
    "print(matplotlib.colors.cnames[\"grey\"])\n",
    "\n",
    "for c in plt.cm.tab10.colors: \n",
    "    print(matplotlib.colors.to_hex(c))"
   ]
  },
  {
   "cell_type": "code",
   "execution_count": 238,
   "id": "83ede4a3",
   "metadata": {},
   "outputs": [
    {
     "data": {
      "image/png": "[encoded data removed]",
      "text/plain": [
       "<Figure size 432x288 with 1 Axes>"
      ]
     },
     "metadata": {
      "needs_background": "light"
     },
     "output_type": "display_data"
    }
   ],
   "source": [
    "vibrant = {\n",
    "    'silence': '#A6CEE3',  # Soft Blue\n",
    "    'background': '#1F78B4',  # Teal\n",
    "    'locomotion': '#FF7F00',  # Orange\n",
    "    'engagement': '#6A3D9A', # Deep Purple\n",
    "    'Gold': '#B15928', \n",
    "    'Coral': '#FB9A99'\n",
    "}\n",
    "\n",
    "modern  = {'Charcoal': '#2E3440', 'Deep Indigo': '#4C566A', 'Soft Cyan': '#8FBCBB', \\\n",
    "           'Muted Orange': '#D08770', 'Light Teal': '#81A1C1'}\n",
    "\n",
    "nature  = {'Deep Teal': '#005F6A', 'Warm Ochre': '#D08C60', 'Forest Green': '#3B6C44',\\\n",
    "            'Soft Mint': '#A0DAB2', 'Pale Sand': '#F0E2B6'}\n",
    "\n",
    "classic = {\n",
    "    'silence': '#72A7CF', # Light Blue\n",
    "    'background': '#1F4E79', # Dark Blue\n",
    "    'locomotion': '#A43820', # Dark Red\n",
    "    'engagement': '#3A772F', # Dark Green\n",
    "    'Light Red': '#D16E5A', \n",
    "    'Light Green': '#89C77F'\n",
    "}\n",
    "\n",
    "custom = {\n",
    "    'silence': '#808080',  # Grey\n",
    "    'background': '#1f77b4',  # tab:blue\n",
    "    'target': '#ff7f0e', # tab\"orange\n",
    "    'locomotion': '#d62728',  # tab:red\n",
    "    'engagement': '#2ca02c', # tab:green\n",
    "    'Coral': '#FB9A99'\n",
    "}\n",
    "    \n",
    "fig, ax = plt.subplots()\n",
    "for i, (clr_name, clr_hex) in enumerate(custom.items()):\n",
    "    ax.axhline(i, color=clr_hex, lw=20)"
   ]
  }
 ],
 "metadata": {
  "kernelspec": {
   "display_name": "Python 3 (ipykernel)",
   "language": "python",
   "name": "python3"
  },
  "language_info": {
   "codemirror_mode": {
    "name": "ipython",
    "version": 3
   },
   "file_extension": ".py",
   "mimetype": "text/x-python",
   "name": "python",
   "nbconvert_exporter": "python",
   "pygments_lexer": "ipython3",
   "version": "3.8.10"
  }
 },
 "nbformat": 4,
 "nbformat_minor": 5
}
