{
 "cells": [
  {
   "cell_type": "code",
   "execution_count": 1,
   "id": "f2257716-5981-4ef1-91e7-63cc53ae6e4d",
   "metadata": {},
   "outputs": [],
   "source": [
    "import sys, os\n",
    "sys.path.append(os.path.join(os.getcwd(), '..'))\n",
    "sys.path.append(os.path.join(os.getcwd(), '..', '..'))\n",
    "sys.path.append(os.path.join(os.getcwd(), '..', '..', '..', 'pplSIT', 'workflow'))\n",
    "sys.path.append(os.path.join(os.getcwd(), '..', '..', '..', 'pplSIT', 'workflow', 'utils'))"
   ]
  },
  {
   "cell_type": "code",
   "execution_count": 2,
   "id": "4f059902-58b5-4f0c-a1ed-ae93f771a875",
   "metadata": {},
   "outputs": [],
   "source": [
    "%matplotlib inline\n",
    "\n",
    "import os\n",
    "import h5py\n",
    "import json\n",
    "import numpy as np\n",
    "import matplotlib.pyplot as plt\n",
    "\n",
    "from utils.neurosuite import get_unit_names_sorted"
   ]
  },
  {
   "cell_type": "code",
   "execution_count": 10,
   "id": "d6fc61b3-eb1f-4ba1-9862-a35b9338bacf",
   "metadata": {},
   "outputs": [],
   "source": [
    "#source  = '/Users/andrey/nevermind/AG_Pecka/data/processed/'\n",
    "source  = '/home/sobolev/nevermind/AG_Pecka/data/processed/'\n",
    "session = '013608_ppcSIT_2025-01-16_09-49-21'\n",
    "\n",
    "animal      = session.split('_')[0]\n",
    "meta_file   = os.path.join(source, animal, session, 'meta.h5')\n",
    "units_file  = os.path.join(source, animal, session, 'units.h5')\n",
    "probe_file  = os.path.join(source, animal, session, 'kilosort', 'probe.json')"
   ]
  },
  {
   "cell_type": "code",
   "execution_count": 12,
   "id": "125947d0-524e-482b-a263-d459dd9a00a2",
   "metadata": {},
   "outputs": [],
   "source": [
    "# reading events and spiking data\n",
    "with h5py.File(meta_file, 'r') as f:\n",
    "    tl = np.array(f['processed']['timeline'])\n",
    "    sound_events = np.array(f['processed']['sound_events'])\n",
    "    cfg = json.loads(f['processed'].attrs['parameters'])\n",
    "    tgt_mx = np.array(f['processed']['target_matrix'])\n",
    "\n",
    "spike_times = {}\n",
    "anat_pos = {}\n",
    "with h5py.File(units_file, 'r') as f:\n",
    "    unit_names = get_unit_names_sorted([name for name in f])\n",
    "    for unit_name in f:\n",
    "        spike_times[unit_name] = np.array(f[unit_name]['spike_times'])\n",
    "        anat_pos[unit_name] = np.array(f[unit_name]['anatomical_position'])\n",
    "        \n",
    "with open(probe_file, 'r') as f:\n",
    "    probe = json.loads(f.read())"
   ]
  },
  {
   "cell_type": "code",
   "execution_count": 27,
   "id": "a2df453f",
   "metadata": {},
   "outputs": [
    {
     "data": {
      "image/png": "[encoded data removed]",
      "text/plain": [
       "<Figure size 288x432 with 1 Axes>"
      ]
     },
     "metadata": {
      "needs_background": "light"
     },
     "output_type": "display_data"
    }
   ],
   "source": [
    "depths = np.array(probe['yc'])\n",
    "y_poss = np.array(list(anat_pos.values()))[:, 1]\n",
    "bins = np.linspace(depths.min(), depths.max(), 50)\n",
    "\n",
    "fig, ax = plt.subplots(1, 1, figsize=(4, 6))\n",
    "_ = ax.hist(y_poss, bins=bins, orientation=\"horizontal\")\n",
    "#ax.set_ylim()"
   ]
  }
 ],
 "metadata": {
  "kernelspec": {
   "display_name": "Python 3 (ipykernel)",
   "language": "python",
   "name": "python3"
  },
  "language_info": {
   "codemirror_mode": {
    "name": "ipython",
    "version": 3
   },
   "file_extension": ".py",
   "mimetype": "text/x-python",
   "name": "python",
   "nbconvert_exporter": "python",
   "pygments_lexer": "ipython3",
   "version": "3.8.10"
  }
 },
 "nbformat": 4,
 "nbformat_minor": 5
}
