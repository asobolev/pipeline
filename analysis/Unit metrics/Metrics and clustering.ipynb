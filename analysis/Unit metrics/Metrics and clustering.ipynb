{
 "cells": [
  {
   "cell_type": "code",
   "execution_count": 1,
   "id": "b35fb42f-55fd-467d-b1a7-3ad06f62a44d",
   "metadata": {},
   "outputs": [],
   "source": [
    "import sys, os\n",
    "sys.path.append(os.path.join(os.getcwd(), '..'))\n",
    "sys.path.append(os.path.join(os.getcwd(), '..', '..'))\n",
    "sys.path.append(os.path.join(os.getcwd(), '..', '..', '..', 'pplSIT', 'workflow', 'utils'))"
   ]
  },
  {
   "cell_type": "code",
   "execution_count": 2,
   "id": "48c71edb-2222-48b6-afbc-aeb46440e6d9",
   "metadata": {},
   "outputs": [],
   "source": [
    "%matplotlib inline\n",
    "\n",
    "from sessions import selected_013608\n",
    "from imports import *\n",
    "from scipy import stats"
   ]
  },
  {
   "cell_type": "code",
   "execution_count": 3,
   "id": "906bd136-e8dc-4698-9812-2a54f1c927f9",
   "metadata": {},
   "outputs": [
    {
     "data": {
      "text/plain": [
       "['013608_ppcSIT_2025-01-06_13-20-52',\n",
       " '013608_ppcSIT_2025-01-07_08-47-27',\n",
       " '013608_ppcSIT_2025-01-07_15-38-23',\n",
       " '013608_ppcSIT_2025-01-09_09-09-55',\n",
       " '013608_ppcSIT_2025-01-10_09-25-04',\n",
       " '013608_ppcSIT_2025-01-13_14-01-40',\n",
       " '013608_ppcSIT_2025-01-14_10-20-14',\n",
       " '013608_ppcSIT_2025-01-15_14-56-18',\n",
       " '013608_ppcSIT_2025-01-16_09-49-21',\n",
       " '013608_ppcSIT_2025-01-17_10-07-00',\n",
       " '013608_ppcSIT_2025-01-20_09-38-20',\n",
       " '013608_ppcSIT_2025-01-21_08-50-02',\n",
       " '013608_ppcSIT_2025-01-22_12-59-00',\n",
       " '013608_ppcSIT_2025-01-23_08-46-51',\n",
       " '013608_ppcSIT_2025-01-24_08-19-45',\n",
       " '013608_ppcSIT_2025-01-27_09-00-20']"
      ]
     },
     "execution_count": 3,
     "metadata": {},
     "output_type": "execute_result"
    }
   ],
   "source": [
    "#source = '/home/sobolev/nevermind/AG_Pecka/data/processed/'\n",
    "source = '/Users/andrey/nevermind/AG_Pecka/data/processed/'\n",
    "\n",
    "selected = selected_013608\n",
    "selected"
   ]
  },
  {
   "cell_type": "code",
   "execution_count": 4,
   "id": "24829bea-58f7-420c-b7c5-c6ce8eebf2a6",
   "metadata": {},
   "outputs": [],
   "source": [
    "session = '013608_ppcSIT_2025-01-23_08-46-51'"
   ]
  },
  {
   "cell_type": "code",
   "execution_count": 5,
   "id": "12270f5c-df60-4797-91ae-8c3e965124b7",
   "metadata": {},
   "outputs": [],
   "source": [
    "animal = session.split('_')[0]\n",
    "\n",
    "s_path     = os.path.join(source, animal, session)\n",
    "meta_file  = os.path.join(s_path, 'meta.h5')\n",
    "unit_file  = os.path.join(s_path, 'units.h5')\n",
    "\n",
    "with h5py.File(meta_file, 'r') as f:\n",
    "    tl = np.array(f['processed']['timeline'])"
   ]
  },
  {
   "cell_type": "code",
   "execution_count": 7,
   "id": "6bc6957c-25ee-4fda-87bd-768d4009a528",
   "metadata": {},
   "outputs": [
    {
     "name": "stdout",
     "output_type": "stream",
     "text": [
      "['anatomical_position', 'field_center_of_firing', 'field_center_of_mass', 'field_patches', 'firing_rate_maps', 'inst_rate', 'occupancy_center_of_mass', 'occupancy_information', 'occupancy_maps', 'occupancy_patches', 'peak_firing_rate', 'selectivity', 'sparsity', 'spatial_information', 'spike_idxs', 'spike_times']\n",
      "['anatomical_position', 'field_center_of_firing', 'field_center_of_mass', 'field_patches', 'firing_rate_maps', 'inst_rate', 'occupancy_center_of_mass', 'occupancy_information', 'occupancy_maps', 'occupancy_patches', 'peak_firing_rate', 'selectivity', 'sparsity', 'spatial_information', 'spike_idxs', 'spike_times']\n"
     ]
    }
   ],
   "source": [
    "single_units, spike_times = {}, {}\n",
    "with h5py.File(unit_file, 'r') as f:\n",
    "    unit_names = [x for x in f]\n",
    "    for unit_name in unit_names[:2]:\n",
    "        print([x for x in f[unit_name]])"
   ]
  },
  {
   "cell_type": "code",
   "execution_count": null,
   "id": "86ade25d-51b2-43c7-b292-afd91f6fcde4",
   "metadata": {},
   "outputs": [],
   "source": []
  }
 ],
 "metadata": {
  "kernelspec": {
   "display_name": "Python 3 (ipykernel)",
   "language": "python",
   "name": "python3"
  },
  "language_info": {
   "codemirror_mode": {
    "name": "ipython",
    "version": 3
   },
   "file_extension": ".py",
   "mimetype": "text/x-python",
   "name": "python",
   "nbconvert_exporter": "python",
   "pygments_lexer": "ipython3",
   "version": "3.8.10"
  }
 },
 "nbformat": 4,
 "nbformat_minor": 5
}
