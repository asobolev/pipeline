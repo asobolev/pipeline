{
 "cells": [
  {
   "cell_type": "code",
   "execution_count": 1,
   "id": "afdb26cb",
   "metadata": {},
   "outputs": [],
   "source": [
    "import sys, os\n",
    "sys.path.append(os.path.join(os.getcwd(), '..'))\n",
    "sys.path.append(os.path.join(os.getcwd(), '..', '..'))"
   ]
  },
  {
   "cell_type": "code",
   "execution_count": 22,
   "id": "6afe19e4",
   "metadata": {},
   "outputs": [],
   "source": [
    "%matplotlib inline\n",
    "\n",
    "import pandas as pd\n",
    "from session.sessions import selected_009266, selected_008229, selected_009265\n",
    "from imports import *\n",
    "from scipy import stats\n",
    "from loading import load_session_data\n",
    "from target import get_spike_counts\n",
    "from statsmodels.formula.api import ols, glm\n",
    "from sklearn.model_selection import train_test_split\n",
    "from sklearn import decomposition\n",
    "\n",
    "np.set_printoptions(suppress=True)"
   ]
  },
  {
   "cell_type": "code",
   "execution_count": 4,
   "id": "dc5880ac",
   "metadata": {},
   "outputs": [
    {
     "data": {
      "application/javascript": [
       "IPython.OutputArea.prototype._should_scroll = function(lines) {\n",
       "    return false;\n",
       "}\n"
      ],
      "text/plain": [
       "<IPython.core.display.Javascript object>"
      ]
     },
     "metadata": {},
     "output_type": "display_data"
    }
   ],
   "source": [
    "%%javascript\n",
    "IPython.OutputArea.prototype._should_scroll = function(lines) {\n",
    "    return false;\n",
    "}"
   ]
  },
  {
   "cell_type": "code",
   "execution_count": 164,
   "id": "00e63bee",
   "metadata": {},
   "outputs": [
    {
     "data": {
      "text/plain": [
       "'009266_hippoSIT_2023-04-17_17-04-17'"
      ]
     },
     "execution_count": 164,
     "metadata": {},
     "output_type": "execute_result"
    }
   ],
   "source": [
    "# s1 = selected_009266[:4]\n",
    "# s2 = selected_009266[-5:]\n",
    "# selected = s1 + s2  # sessions that have GLM AEP unit fits\n",
    "# selected\n",
    "session = selected_009266[0]\n",
    "session"
   ]
  },
  {
   "cell_type": "code",
   "execution_count": 171,
   "id": "b19c6935",
   "metadata": {},
   "outputs": [],
   "source": [
    "session_data = load_session_data(session)\n",
    "\n",
    "tl = session_data['tl']\n",
    "trials = session_data['trials']\n",
    "cfg = session_data['cfg']\n",
    "areas = session_data['areas']\n",
    "aeps = session_data['aeps']\n",
    "aeps_events = session_data['aeps_events']\n",
    "AEP_metrics_lims = session_data['AEP_metrics_lims']\n",
    "AEP_metrics_raw = session_data['AEP_metrics_raw']\n",
    "AEP_metrics_norm = session_data['AEP_metrics_norm']\n",
    "spike_times = session_data['spike_times']\n",
    "unit_names = session_data['unit_names']"
   ]
  },
  {
   "cell_type": "markdown",
   "id": "2e82d385",
   "metadata": {},
   "source": [
    "## Build GLM fit params matrix"
   ]
  },
  {
   "cell_type": "code",
   "execution_count": 165,
   "id": "3c1df053",
   "metadata": {},
   "outputs": [],
   "source": [
    "animal = session.split('_')[0]\n",
    "aeps_pop_file = os.path.join(source, animal, session, 'AEPs_pop.h5')\n",
    "\n",
    "# get number of units / AEP metrics\n",
    "with h5py.File(aeps_pop_file, 'r') as f:\n",
    "    metrics_count = len([grp for grp in f])\n",
    "    for grp in f:\n",
    "        unit_count = np.array(f[grp]['glm_fit_params']).shape[0] - 1\n",
    "        break\n",
    "\n",
    "# retrieve GLM fit matrix\n",
    "AEP_targets = ['P1', 'N1', 'P2', 'P3']  # ensure order\n",
    "glm_mx = np.zeros([unit_count, metrics_count])\n",
    "with h5py.File(aeps_pop_file, 'r') as f:\n",
    "    for i, grp in enumerate(AEP_targets):\n",
    "        if not grp in f:\n",
    "            continue\n",
    "        glm_mx[:, i] = np.array(f[grp]['glm_fit_params'])[1:]  # don't forget first is intercept"
   ]
  },
  {
   "cell_type": "markdown",
   "id": "9bae9645",
   "metadata": {},
   "source": [
    "## Reconstruct AEPs - 1: linear comb of individual micro- response profiles"
   ]
  },
  {
   "cell_type": "code",
   "execution_count": 169,
   "id": "0b931332",
   "metadata": {},
   "outputs": [],
   "source": [
    "# for 51 bins = 10ms bins\n",
    "bin_idxs = {\n",
    "    'P1': np.array([0, 1, 2]),\n",
    "    'N1': np.array([3, 4, 5, 6, 7]),\n",
    "    'P2': np.array([8, 9, 10]),\n",
    "    'P3': np.array([11, 12, 13, 14, 15, 16, 17, 18, 19, 20])\n",
    "}\n",
    "\n",
    "for key, val in bin_idxs.items():\n",
    "    bin_idxs[key] = np.concatenate([val, val + 25])"
   ]
  },
  {
   "cell_type": "code",
   "execution_count": 170,
   "id": "69c69b7b",
   "metadata": {},
   "outputs": [],
   "source": [
    "def get_transform_vector(bin_idxs, glm_coeffs, length=50):\n",
    "    \"\"\"\n",
    "    glm_coeffs - 4 coeffs given P1, N1, P2, P3\n",
    "    psth - 50x array of spiking profile\n",
    "    bin_idxs - indexes of bins to apply transform coeffs\n",
    "    \"\"\"\n",
    "    AEP_targets = ['P1', 'N1', 'P2', 'P3']  # ensure order\n",
    "    t_vector = np.zeros(length)\n",
    "    \n",
    "    for i, metric in enumerate(AEP_targets):\n",
    "        t_vector[bin_idxs[metric]] = glm_coeffs[i]\n",
    "    return t_vector"
   ]
  },
  {
   "cell_type": "code",
   "execution_count": 172,
   "id": "a74662d4",
   "metadata": {},
   "outputs": [],
   "source": [
    "hw, bc = 0.25, 51\n",
    "sel_units = [unit_name for unit_name in unit_names if int(unit_name[0]) < 3]\n",
    "\n",
    "psths = np.zeros([len(sel_units), bc - 1])\n",
    "for i, unit_name in enumerate(sel_units):  # note BGR only\n",
    "    bins, psths[i] = get_spike_counts(spike_times[unit_name], aeps_events[aeps_events[:, 1] == 1][:, 0], hw, bc)"
   ]
  },
  {
   "cell_type": "code",
   "execution_count": 174,
   "id": "7197f2c2",
   "metadata": {
    "scrolled": false
   },
   "outputs": [
    {
     "data": {
      "text/plain": [
       "(-0.25, 0.25)"
      ]
     },
     "execution_count": 174,
     "metadata": {},
     "output_type": "execute_result"
    },
    {
     "data": {
      "image/png": "[encoded data removed]",
      "text/plain": [
       "<Figure size 288x216 with 1 Axes>"
      ]
     },
     "metadata": {
      "needs_background": "light"
     },
     "output_type": "display_data"
    }
   ],
   "source": [
    "# plot any PSTH\n",
    "fig, ax = plt.subplots(1, 1, figsize=(4, 3))\n",
    "ax.hist(bins[1:], bins=bins, weights=psths[10], edgecolor='black', color='black', alpha=0.5, label='Backgr.')\n",
    "ax.axvline(0, color='black', ls='--')\n",
    "ax.axvspan(0, 0.05, alpha=0.3, color='gray')\n",
    "ax.set_title(unit_name, fontsize=14)\n",
    "ax.legend(loc='upper right', prop={'size': 10})\n",
    "ax.set_xlim(-hw, hw)"
   ]
  },
  {
   "cell_type": "code",
   "execution_count": 175,
   "id": "794efa2f",
   "metadata": {},
   "outputs": [
    {
     "data": {
      "text/plain": [
       "<matplotlib.image.AxesImage at 0x7fc8940f1040>"
      ]
     },
     "execution_count": 175,
     "metadata": {},
     "output_type": "execute_result"
    },
    {
     "data": {
      "image/png": "[encoded data removed]",
      "text/plain": [
       "<Figure size 432x288 with 1 Axes>"
      ]
     },
     "metadata": {
      "needs_background": "light"
     },
     "output_type": "display_data"
    }
   ],
   "source": [
    "plt.imshow(psths)"
   ]
  },
  {
   "cell_type": "code",
   "execution_count": 176,
   "id": "2ecce82b",
   "metadata": {},
   "outputs": [],
   "source": [
    "# build transform vector matrix\n",
    "t_vec_mx = np.zeros([len(sel_units), bc - 1])\n",
    "\n",
    "for i, glm_coeffs in enumerate(glm_mx):\n",
    "    t_vec_mx[i] = get_transform_vector(bin_idxs, glm_coeffs)"
   ]
  },
  {
   "cell_type": "code",
   "execution_count": 177,
   "id": "aa6ff6ef",
   "metadata": {},
   "outputs": [
    {
     "data": {
      "text/plain": [
       "(-0.25, 0.25)"
      ]
     },
     "execution_count": 177,
     "metadata": {},
     "output_type": "execute_result"
    },
    {
     "data": {
      "image/png": "[encoded data removed]",
      "text/plain": [
       "<Figure size 288x216 with 1 Axes>"
      ]
     },
     "metadata": {
      "needs_background": "light"
     },
     "output_type": "display_data"
    }
   ],
   "source": [
    "idx = 2\n",
    "counts_scaled = psths[idx] * t_vec_mx[idx]\n",
    "\n",
    "fig, ax = plt.subplots(1, 1, figsize=(4, 3))\n",
    "ax.hist(bins[1:], bins=bins, weights=counts_scaled, edgecolor='black', color='black', alpha=0.5, label='Backgr.')\n",
    "ax.axvline(0, color='black', ls='--')\n",
    "ax.axvspan(0, 0.05, alpha=0.3, color='gray')\n",
    "ax.set_title(unit_name, fontsize=14)\n",
    "ax.legend(loc='upper right', prop={'size': 10})\n",
    "ax.set_xlim(-hw, hw)"
   ]
  },
  {
   "cell_type": "code",
   "execution_count": 178,
   "id": "7725550f",
   "metadata": {},
   "outputs": [
    {
     "data": {
      "text/plain": [
       "<matplotlib.image.AxesImage at 0x7fc88df00730>"
      ]
     },
     "execution_count": 178,
     "metadata": {},
     "output_type": "execute_result"
    },
    {
     "data": {
      "image/png": "[encoded data removed]",
      "text/plain": [
       "<Figure size 432x288 with 1 Axes>"
      ]
     },
     "metadata": {
      "needs_background": "light"
     },
     "output_type": "display_data"
    }
   ],
   "source": [
    "plt.imshow(t_vec_mx)"
   ]
  },
  {
   "cell_type": "code",
   "execution_count": 179,
   "id": "a8a950cb",
   "metadata": {},
   "outputs": [
    {
     "data": {
      "text/plain": [
       "(-0.25, 0.25)"
      ]
     },
     "execution_count": 179,
     "metadata": {},
     "output_type": "execute_result"
    },
    {
     "data": {
      "image/png": "[encoded data removed]",
      "text/plain": [
       "<Figure size 288x216 with 1 Axes>"
      ]
     },
     "metadata": {
      "needs_background": "light"
     },
     "output_type": "display_data"
    }
   ],
   "source": [
    "profile = (psths * t_vec_mx).sum(axis=0)\n",
    "\n",
    "fig, ax = plt.subplots(1, 1, figsize=(4, 3))\n",
    "ax.hist(bins[1:], bins=bins, weights=profile, edgecolor='black', color='black', alpha=0.5)\n",
    "ax.axvline(0, color='black', ls='--')\n",
    "ax.axvspan(0, 0.05, alpha=0.3, color='gray')\n",
    "ax.set_title('Pop. response from PSTH', fontsize=14)\n",
    "ax.set_xlim(-hw, hw)"
   ]
  },
  {
   "cell_type": "markdown",
   "id": "a9b46482",
   "metadata": {},
   "source": [
    "## Reconstruct AEPs 2: population responses to individual AEPs"
   ]
  },
  {
   "cell_type": "code",
   "execution_count": 196,
   "id": "975a1ccc",
   "metadata": {},
   "outputs": [],
   "source": [
    "hw, bc = 0.25, 51\n",
    "sel_units = [unit_name for unit_name in unit_names if int(unit_name[0]) < 3]\n",
    "\n",
    "bins = np.linspace(-hw, hw, bc)\n",
    "pulse_times = aeps_events[aeps_events[:, 1] == 1][:, 0]  # Note BGR only\n",
    "\n",
    "# population responses to each AEP\n",
    "pop_resp_mx = np.zeros([len(pulse_times), bc - 1])\n",
    "for i, t_pulse in enumerate(pulse_times):\n",
    "    curr_pop_resp = np.zeros([len(sel_units), bc - 1])\n",
    "    for j, unit in enumerate(sel_units):\n",
    "        spk_times = spike_times[unit]\n",
    "        p_spikes  = spk_times[(spk_times > t_pulse - hw) & (spk_times < t_pulse + hw)]\n",
    "        counts, _ = np.histogram(p_spikes - t_pulse, bins=bins)\n",
    "        curr_pop_resp[j] = counts\n",
    "        \n",
    "    # multiply (or not) by transformation matrix with GLM coeffs\n",
    "    curr_pop_resp = curr_pop_resp * t_vec_mx\n",
    "    pop_resp_mx[i] = curr_pop_resp.sum(axis=0) / len(sel_units)"
   ]
  },
  {
   "cell_type": "code",
   "execution_count": 197,
   "id": "cf9ed79b",
   "metadata": {},
   "outputs": [
    {
     "data": {
      "text/plain": [
       "(-0.25, 0.25)"
      ]
     },
     "execution_count": 197,
     "metadata": {},
     "output_type": "execute_result"
    },
    {
     "data": {
      "image/png": "[encoded data removed]",
      "text/plain": [
       "<Figure size 288x216 with 1 Axes>"
      ]
     },
     "metadata": {
      "needs_background": "light"
     },
     "output_type": "display_data"
    }
   ],
   "source": [
    "profile = pop_resp_mx.sum(axis=0)\n",
    "\n",
    "fig, ax = plt.subplots(1, 1, figsize=(4, 3))\n",
    "ax.hist(bins[1:], bins=bins, weights=profile, edgecolor='black', color='black', alpha=0.5)\n",
    "ax.axvline(0, color='black', ls='--')\n",
    "ax.axvspan(0, 0.05, alpha=0.3, color='gray')\n",
    "ax.set_title('Average pop. response', fontsize=14)\n",
    "ax.set_xlim(-hw, hw)"
   ]
  },
  {
   "cell_type": "code",
   "execution_count": null,
   "id": "6502c328",
   "metadata": {},
   "outputs": [],
   "source": [
    "# maybe multiply each unit response by GLM fit"
   ]
  },
  {
   "cell_type": "code",
   "execution_count": null,
   "id": "2c12026b",
   "metadata": {},
   "outputs": [],
   "source": [
    "#     for grp in f:\n",
    "#         collected[grp] = {}\n",
    "#         collected[grp]['corr_glm_fit_orig'] = np.array(f[grp]['corr_glm_fit_orig'])\n",
    "#         collected[grp]['glm_fit_params']    = np.array(f[grp]['glm_fit_params'])\n",
    "#         collected[grp]['glm_fit_pvalues']   = np.array(f[grp]['glm_fit_pvalues'])\n",
    "#         collected[grp]['corr_glm_fit_shuf'] = np.array(f[grp]['corr_glm_fit_shuf'])\n",
    "#         collected[grp]['corr_glm_fit_chun'] = np.array(f[grp]['corr_glm_fit_chun'])"
   ]
  }
 ],
 "metadata": {
  "kernelspec": {
   "display_name": "Python 3 (ipykernel)",
   "language": "python",
   "name": "python3"
  },
  "language_info": {
   "codemirror_mode": {
    "name": "ipython",
    "version": 3
   },
   "file_extension": ".py",
   "mimetype": "text/x-python",
   "name": "python",
   "nbconvert_exporter": "python",
   "pygments_lexer": "ipython3",
   "version": "3.8.10"
  }
 },
 "nbformat": 4,
 "nbformat_minor": 5
}
