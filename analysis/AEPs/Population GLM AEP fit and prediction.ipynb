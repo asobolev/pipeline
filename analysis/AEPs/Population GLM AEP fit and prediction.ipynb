{
 "cells": [
  {
   "cell_type": "code",
   "execution_count": 1,
   "id": "afdb26cb",
   "metadata": {},
   "outputs": [],
   "source": [
    "import sys, os\n",
    "sys.path.append(os.path.join(os.getcwd(), '..'))\n",
    "sys.path.append(os.path.join(os.getcwd(), '..', '..'))"
   ]
  },
  {
   "cell_type": "code",
   "execution_count": 2,
   "id": "6afe19e4",
   "metadata": {},
   "outputs": [],
   "source": [
    "%matplotlib inline\n",
    "\n",
    "import pandas as pd\n",
    "from session.sessions import selected_009266, selected_008229, selected_009265\n",
    "from imports import *\n",
    "from scipy import stats\n",
    "from loading import load_session_data\n",
    "from target import get_spike_counts\n",
    "from statsmodels.formula.api import ols, glm\n",
    "from sklearn.model_selection import train_test_split\n",
    "\n",
    "np.set_printoptions(suppress=True)"
   ]
  },
  {
   "cell_type": "code",
   "execution_count": 3,
   "id": "dc5880ac",
   "metadata": {},
   "outputs": [
    {
     "data": {
      "application/javascript": [
       "IPython.OutputArea.prototype._should_scroll = function(lines) {\n",
       "    return false;\n",
       "}\n"
      ],
      "text/plain": [
       "<IPython.core.display.Javascript object>"
      ]
     },
     "metadata": {},
     "output_type": "display_data"
    }
   ],
   "source": [
    "%%javascript\n",
    "IPython.OutputArea.prototype._should_scroll = function(lines) {\n",
    "    return false;\n",
    "}"
   ]
  },
  {
   "cell_type": "markdown",
   "id": "a9c1688b",
   "metadata": {},
   "source": [
    "## Build unit response to AEP matrix "
   ]
  },
  {
   "cell_type": "code",
   "execution_count": 4,
   "id": "bd7b1836",
   "metadata": {},
   "outputs": [],
   "source": [
    "def build_AEP_unit_AM(session, area, AEP_target, ev_type=1):\n",
    "    session_data = load_session_data(session)\n",
    "    spike_times  = session_data['spike_times']\n",
    "    unit_names   = session_data['unit_names']\n",
    "    aeps_events  = session_data['aeps_events']\n",
    "    AEP_metrics_lims = session_data['AEP_metrics_lims']\n",
    "    AEP_metrics_raw  = session_data['AEP_metrics_raw']\n",
    "    AEP_metrics_norm = session_data['AEP_metrics_norm']\n",
    "\n",
    "    if area == 'A1':\n",
    "        sel_units = [unit for unit in unit_names if int(unit[0]) < 3]\n",
    "    else:\n",
    "        sel_units = unit_names  # all units\n",
    "\n",
    "    # background only\n",
    "    aeps_bgr_idxs   = np.where(aeps_events[:, 1] == ev_type)[0]\n",
    "    aeps_bgr_events = aeps_events[aeps_bgr_idxs]\n",
    "\n",
    "    win_l = AEP_metrics_lims[area][AEP_target][0] / 1000  # ms to s\n",
    "    win_r = AEP_metrics_lims[area][AEP_target][1] / 1000  # ms to s\n",
    "    unit_act_matrix = np.zeros([len(aeps_bgr_events), len(sel_units)])\n",
    "    for i, aep_event in enumerate(aeps_bgr_events):\n",
    "        t_l = aep_event[0] + win_l\n",
    "        t_r = aep_event[0] + win_r #+ 0.05\n",
    "\n",
    "        for j, unit_name in enumerate(sel_units):\n",
    "            spks = spike_times[unit_name]\n",
    "            unit_act_matrix[i, j] = len(spks[(spks > t_l) & (spks < t_r)])\n",
    "\n",
    "    AEP_tgt_responses = AEP_metrics_norm[area][AEP_target][aeps_bgr_idxs]\n",
    "    \n",
    "    return unit_act_matrix, AEP_tgt_responses"
   ]
  },
  {
   "cell_type": "markdown",
   "id": "4b9d4983",
   "metadata": {},
   "source": [
    "## GLM fit and prediction"
   ]
  },
  {
   "cell_type": "code",
   "execution_count": 5,
   "id": "316ed7ab",
   "metadata": {},
   "outputs": [],
   "source": [
    "def get_GLM_and_prediction(unit_AM, AEP_responses, test_size=0.33, bin_width=10, glm_min_pval=0.95):\n",
    "    \"\"\"\n",
    "    unit_AM       - unit activity matrix (spikes counts to certain part of AEP responses)\n",
    "    AEP_responses - target AEP component values to unit_AM\n",
    "    test_size     - how much to split train / test\n",
    "    bin_width     - number of AEPs to sum spikes\n",
    "    glm_min_pval  - criteria (GLM fit p-val) to include units for prediction\n",
    "    \"\"\"\n",
    "\n",
    "    # separate train / test\n",
    "    X_train, X_test, y_train, y_test = train_test_split(unit_AM, AEP_responses, test_size=test_size)\n",
    "    \n",
    "    # divide train in groups by AEP_target value to get more spikes from each unit -> grouped AM\n",
    "    bin_count = int(np.ceil(len(y_train)/bin_width))\n",
    "    bins = np.linspace(0, bin_width * bin_count, bin_count + 1, dtype=np.int16)\n",
    "    sort_idxs = np.argsort(y_train)\n",
    "\n",
    "    # build sorted train datasets\n",
    "    X_sorted = X_train[sort_idxs]\n",
    "    y_sorted = y_train[sort_idxs]\n",
    "\n",
    "    # compute averaged activity matrix\n",
    "    X_grouped = np.zeros([len(bins) - 1, unit_AM.shape[1]])\n",
    "    y_grouped = np.zeros(len(bins) - 1)\n",
    "    for i in range(len(bins) - 1):\n",
    "        # FIXME!! HERE SHOULD BE PCA first PC and not just a sum!!!???\n",
    "        X_grouped[i] = X_sorted[bins[i]:bins[i + 1]].sum(axis=0) / bin_width\n",
    "        y_grouped[i] = y_sorted[bins[i]:bins[i + 1]].mean()\n",
    "        \n",
    "    # z-score - doesnt really change much\n",
    "    #X_grouped = stats.zscore(X_grouped, axis=0)\n",
    "    \n",
    "    # train glm to get contributions of each unit\n",
    "    data = np.column_stack([y_grouped, X_grouped])\n",
    "    columns = ['state'] + [\"x%d\" % x for x in range(X_grouped.shape[1])]\n",
    "    AM_df = pd.DataFrame(data, columns=columns)\n",
    "\n",
    "    model = glm('state ~ ' + ' + '.join(columns[1:]), data=AM_df).fit()\n",
    "    #model.summary()\n",
    "    \n",
    "    # \n",
    "    glm_coeffs = dict([(i, coef) for i, coef in enumerate(model.params[1:]) if model.pvalues[1:][i] < glm_min_pval])\n",
    "    #if len(glm_coeffs) == 0:\n",
    "    #    return 0, 0, model.params, model.pvalues\n",
    "    AEP_target_fit = np.zeros(len(y_test))\n",
    "    for idx, coef in glm_coeffs.items():\n",
    "        AEP_target_fit += coef * X_test[:, idx]\n",
    "\n",
    "    corr, pval = stats.pearsonr(AEP_target_fit, y_test)\n",
    "    \n",
    "    return corr, pval, model.params, model.pvalues"
   ]
  },
  {
   "cell_type": "markdown",
   "id": "1aa90a93",
   "metadata": {},
   "source": [
    "## Compute original, shuffled and random splits"
   ]
  },
  {
   "cell_type": "code",
   "execution_count": 9,
   "id": "20ac1923",
   "metadata": {},
   "outputs": [
    {
     "data": {
      "text/plain": [
       "['009265_hippoSIT_2023-02-24_09-53-26',\n",
       " '009265_hippoSIT_2023-02-24_17-22-46',\n",
       " '009265_hippoSIT_2023-02-27_10-18-32',\n",
       " '009265_hippoSIT_2023-02-27_15-33-46',\n",
       " '009265_hippoSIT_2023-02-28_09-16-50',\n",
       " '009265_hippoSIT_2023-02-28_13-16-10',\n",
       " '009265_hippoSIT_2023-02-28_20-45-04',\n",
       " '009265_hippoSIT_2023-03-01_10-46-12',\n",
       " '009265_hippoSIT_2023-03-02_09-32-54',\n",
       " '009265_hippoSIT_2023-03-02_16-27-42',\n",
       " '009265_hippoSIT_2023-03-02_20-11-35',\n",
       " '009265_hippoSIT_2023-03-03_09-37-07',\n",
       " '009265_hippoSIT_2023-03-03_16-00-47',\n",
       " '009265_hippoSIT_2023-03-04_11-12-04',\n",
       " '009265_hippoSIT_2023-03-05_11-52-17',\n",
       " '009265_hippoSIT_2023-03-05_18-31-32',\n",
       " '009265_hippoSIT_2023-03-08_18-10-07',\n",
       " '009265_hippoSIT_2023-03-09_20-03-08',\n",
       " '009265_hippoSIT_2023-03-10_09-57-34',\n",
       " '009265_hippoSIT_2023-04-13_09-54-39',\n",
       " '009265_hippoSIT_2023-04-20_11-39-02']"
      ]
     },
     "execution_count": 9,
     "metadata": {},
     "output_type": "execute_result"
    }
   ],
   "source": [
    "sessions = [s for s in selected_009265.keys()]\n",
    "sessions.sort()\n",
    "sessions"
   ]
  },
  {
   "cell_type": "code",
   "execution_count": 21,
   "id": "2040487b",
   "metadata": {},
   "outputs": [
    {
     "data": {
      "text/plain": [
       "['009265_hippoSIT_2023-02-28_20-45-04',\n",
       " '009265_hippoSIT_2023-03-01_10-46-12',\n",
       " '009265_hippoSIT_2023-03-02_09-32-54',\n",
       " '009265_hippoSIT_2023-03-02_16-27-42',\n",
       " '009265_hippoSIT_2023-03-02_20-11-35',\n",
       " '009265_hippoSIT_2023-03-03_09-37-07',\n",
       " '009265_hippoSIT_2023-03-03_16-00-47',\n",
       " '009265_hippoSIT_2023-03-04_11-12-04',\n",
       " '009265_hippoSIT_2023-03-05_11-52-17',\n",
       " '009265_hippoSIT_2023-03-05_18-31-32',\n",
       " '009265_hippoSIT_2023-03-08_18-10-07',\n",
       " '009265_hippoSIT_2023-03-09_20-03-08',\n",
       " '009265_hippoSIT_2023-03-10_09-57-34',\n",
       " '009265_hippoSIT_2023-04-13_09-54-39',\n",
       " '009265_hippoSIT_2023-04-20_11-39-02']"
      ]
     },
     "execution_count": 21,
     "metadata": {},
     "output_type": "execute_result"
    }
   ],
   "source": [
    "selected = sessions[6:]\n",
    "selected"
   ]
  },
  {
   "cell_type": "code",
   "execution_count": 22,
   "id": "892982bc",
   "metadata": {},
   "outputs": [
    {
     "name": "stdout",
     "output_type": "stream",
     "text": [
      "P1 done\n",
      "N1 done\n",
      "P2 done\n",
      "P3 done\n",
      "009265_hippoSIT_2023-02-28_20-45-04 done\n",
      "P1 done\n",
      "N1 done\n",
      "P2 done\n",
      "P3 done\n",
      "009265_hippoSIT_2023-03-01_10-46-12 done\n",
      "P1 done\n",
      "N1 done\n",
      "P2 done\n",
      "P3 done\n",
      "009265_hippoSIT_2023-03-02_09-32-54 done\n",
      "P1 done\n",
      "N1 done\n",
      "P2 done\n",
      "P3 done\n",
      "009265_hippoSIT_2023-03-02_16-27-42 done\n",
      "P1 done\n",
      "N1 done\n",
      "P2 done\n",
      "P3 done\n",
      "009265_hippoSIT_2023-03-02_20-11-35 done\n",
      "P1 done\n",
      "N1 done\n",
      "P2 done\n",
      "P3 done\n",
      "009265_hippoSIT_2023-03-03_09-37-07 done\n",
      "P1 done\n",
      "N1 done\n",
      "P2 done\n",
      "P3 done\n",
      "009265_hippoSIT_2023-03-03_16-00-47 done\n",
      "P1 done\n",
      "N1 done\n",
      "P2 done\n",
      "P3 done\n",
      "009265_hippoSIT_2023-03-04_11-12-04 done\n",
      "P1 done\n",
      "N1 done\n",
      "P2 done\n",
      "P3 done\n",
      "009265_hippoSIT_2023-03-05_11-52-17 done\n",
      "P1 done\n",
      "N1 done\n",
      "P2 done\n",
      "P3 done\n",
      "009265_hippoSIT_2023-03-05_18-31-32 done\n",
      "P1 done\n",
      "N1 done\n",
      "P2 done\n",
      "P3 done\n",
      "009265_hippoSIT_2023-03-08_18-10-07 done\n",
      "P1 done\n",
      "N1 done\n",
      "P2 done\n",
      "P3 done\n",
      "009265_hippoSIT_2023-03-09_20-03-08 done\n",
      "P1 done\n",
      "N1 done\n",
      "P2 done\n",
      "P3 done\n",
      "009265_hippoSIT_2023-03-10_09-57-34 done\n",
      "P1 done\n",
      "N1 done\n",
      "P2 done\n",
      "P3 done\n",
      "009265_hippoSIT_2023-04-13_09-54-39 done\n",
      "P1 done\n",
      "N1 done\n",
      "P2 done\n",
      "P3 done\n",
      "009265_hippoSIT_2023-04-20_11-39-02 done\n"
     ]
    }
   ],
   "source": [
    "AEP_targets = ['P1', 'N1', 'P2', 'P3']\n",
    "area = 'A1'\n",
    "iter_count = 1000\n",
    "\n",
    "for session in selected:\n",
    "    animal = session.split('_')[0]\n",
    "    aeps_pop_file = os.path.join(source, animal, session, 'AEPs_pop.h5')\n",
    "\n",
    "    collected = {}\n",
    "    for AEP_target in AEP_targets:\n",
    "        unit_AM, AEP_responses = build_AEP_unit_AM(session, area, AEP_target)\n",
    "\n",
    "        # compute original\n",
    "        corr, pval, params, pvalues = get_GLM_and_prediction(unit_AM, AEP_responses)\n",
    "\n",
    "        # compute shuffled\n",
    "        corr_mx_shuf = np.zeros([iter_count, 2])  # coeff, pval for each shuffle\n",
    "        for i in range(iter_count):\n",
    "            unit_AM_s = unit_AM.copy()\n",
    "            np.random.shuffle(unit_AM_s)\n",
    "            corr_s, pval_s, _, _ = get_GLM_and_prediction(unit_AM_s, AEP_responses)\n",
    "            corr_mx_shuf[i] = (corr_s, pval_s)\n",
    "            del unit_AM_s\n",
    "\n",
    "        # compute chunked or just diff train / split?\n",
    "        corr_mx_chun = np.zeros([iter_count, 2])\n",
    "        for i in range(iter_count):\n",
    "            corr_s, pval_s, _, _ = get_GLM_and_prediction(unit_AM, AEP_responses)  # just diff train / split\n",
    "            corr_mx_chun[i] = (corr_s, pval_s)\n",
    "\n",
    "        with h5py.File(aeps_pop_file, 'a') as f:\n",
    "            if not AEP_target in f:\n",
    "                f.create_group(AEP_target)\n",
    "            tgt_grp = f[AEP_target]\n",
    "\n",
    "            for val in ['corr_glm_fit_orig', 'glm_fit_params', 'glm_fit_pvalues', 'corr_glm_fit_shuf', 'corr_glm_fit_chun']:\n",
    "                if val in tgt_grp:\n",
    "                    del tgt_grp[val]\n",
    "\n",
    "            tgt_grp.create_dataset('corr_glm_fit_orig', data=np.array([corr, pval]))\n",
    "            tgt_grp.create_dataset('glm_fit_params', data=params)\n",
    "            tgt_grp.create_dataset('glm_fit_pvalues', data=pvalues)\n",
    "            tgt_grp.create_dataset('corr_glm_fit_shuf', data=corr_mx_shuf)\n",
    "            tgt_grp.create_dataset('corr_glm_fit_chun', data=corr_mx_chun)\n",
    "\n",
    "        print(\"%s done\" % AEP_target)\n",
    "    print(\"%s done\" % session)"
   ]
  },
  {
   "cell_type": "markdown",
   "id": "f1ed030b",
   "metadata": {},
   "source": [
    "## Train on BGR (66%), predict on BGR (33%)"
   ]
  },
  {
   "cell_type": "code",
   "execution_count": 25,
   "id": "65edce7e",
   "metadata": {
    "scrolled": false
   },
   "outputs": [
    {
     "data": {
      "image/png": "[encoded data removed]",
      "text/plain": [
       "<Figure size 1152x288 with 4 Axes>"
      ]
     },
     "metadata": {
      "needs_background": "light"
     },
     "output_type": "display_data"
    }
   ],
   "source": [
    "session = selected[3]\n",
    "animal = session.split('_')[0]\n",
    "aeps_pop_file = os.path.join(source, animal, session, 'AEPs_pop.h5')\n",
    "\n",
    "collected = {}\n",
    "with h5py.File(aeps_pop_file, 'r') as f:\n",
    "    for grp in f:\n",
    "        collected[grp] = {}\n",
    "        collected[grp]['corr_glm_fit_orig'] = np.array(f[grp]['corr_glm_fit_orig'])\n",
    "        collected[grp]['glm_fit_params']    = np.array(f[grp]['glm_fit_params'])\n",
    "        collected[grp]['glm_fit_pvalues']   = np.array(f[grp]['glm_fit_pvalues'])\n",
    "        collected[grp]['corr_glm_fit_shuf'] = np.array(f[grp]['corr_glm_fit_shuf'])\n",
    "        collected[grp]['corr_glm_fit_chun'] = np.array(f[grp]['corr_glm_fit_chun'])\n",
    "\n",
    "bins = np.linspace(-1, 1, 50)\n",
    "cols = len(collected.keys())\n",
    "\n",
    "fig, axes = plt.subplots(1, cols, figsize=(4*cols, 4))\n",
    "\n",
    "for i, AEP_target in enumerate(AEP_targets):\n",
    "    if not AEP_target in collected:\n",
    "        continue\n",
    "    \n",
    "    corr = collected[AEP_target]['corr_glm_fit_orig'][0]\n",
    "    pval = collected[AEP_target]['corr_glm_fit_orig'][1]\n",
    "    corr_mx_shuf = collected[AEP_target]['corr_glm_fit_shuf']\n",
    "    corr_mx_chun = collected[AEP_target]['corr_glm_fit_chun']\n",
    "    \n",
    "    min_pval = 0.99  # select some or all\n",
    "    coeffs_shuf = corr_mx_shuf[corr_mx_shuf[:, 1] < min_pval][:, 0]\n",
    "    coeffs_chun = corr_mx_chun[corr_mx_chun[:, 1] < min_pval][:, 0]\n",
    "\n",
    "    ax = axes[i]\n",
    "    ax.hist(coeffs_shuf, bins=bins, alpha=0.6, density=True, label='shuffle', color='tab:blue')\n",
    "    ax.hist(coeffs_chun, bins=bins, alpha=0.6, density=True, label='predict.', color='red')\n",
    "    ax.axvspan(np.percentile(coeffs_shuf, 5), np.percentile(coeffs_shuf, 95), alpha=0.3, color='gray')\n",
    "    ax.axvspan(np.percentile(coeffs_chun, 5), np.percentile(coeffs_chun, 95), alpha=0.3, color='red')\n",
    "    ax.axvline(coeffs_chun.mean(), color='black', ls='--', label='original')\n",
    "    ax.set_xlim(-0.7, 0.7)\n",
    "    ax.grid()\n",
    "    ax.legend(loc='upper left')\n",
    "    ax.set_xlabel('Corr. coeff. predict by pop.', fontsize=14)\n",
    "    ax.set_title('%s (%.2f, p=%.2f)' % (AEP_target, coeffs_chun.mean(), pval), fontsize=14)\n",
    "    \n",
    "    if i == 0:\n",
    "        ax.set_ylabel('%s (%d units)' % (session[-19:-6], len(collected[grp]['glm_fit_params']) - 1), fontsize=14)\n",
    "        \n",
    "fig.savefig(os.path.join(report, 'pop2AEP', '%s_pop2AEP_corrs.pdf' % session[-19:-6]))"
   ]
  },
  {
   "cell_type": "markdown",
   "id": "f4890a39",
   "metadata": {},
   "source": [
    "## Train on BGR (66%), predict on TGT"
   ]
  },
  {
   "cell_type": "code",
   "execution_count": 19,
   "id": "36193aee",
   "metadata": {},
   "outputs": [
    {
     "name": "stdout",
     "output_type": "stream",
     "text": [
      "009265_hippoSIT_2023-02-28_13-16-10\n",
      "[[0.13893852 0.00018228]\n",
      " [0.11741286 0.00158766]\n",
      " [0.15678308 0.0000235 ]\n",
      " [0.16209042 0.00001221]]\n"
     ]
    }
   ],
   "source": [
    "for session in selected:\n",
    "    animal = session.split('_')[0]\n",
    "    aeps_pop_file = os.path.join(source, animal, session, 'AEPs_pop.h5')\n",
    "\n",
    "    collected = {}\n",
    "    with h5py.File(aeps_pop_file, 'r') as f:\n",
    "        for grp in f:\n",
    "            collected[grp] = {}\n",
    "            #collected[grp]['corr_glm_fit_orig'] = np.array(f[grp]['corr_glm_fit_orig'])\n",
    "            collected[grp]['glm_fit_params']    = np.array(f[grp]['glm_fit_params'])\n",
    "            collected[grp]['glm_fit_pvalues']   = np.array(f[grp]['glm_fit_pvalues'])\n",
    "            collected[grp]['corr_glm_fit_shuf'] = np.array(f[grp]['corr_glm_fit_shuf'])\n",
    "            #collected[grp]['corr_glm_fit_chun'] = np.array(f[grp]['corr_glm_fit_chun'])\n",
    "\n",
    "\n",
    "    results = np.zeros([len(AEP_targets), 2])\n",
    "    for i, AEP_target in enumerate(AEP_targets):\n",
    "        # target only AM\n",
    "        unit_AM, AEP_responses = build_AEP_unit_AM(session, area, AEP_target, ev_type=2)\n",
    "        glm_coeffs = collected[AEP_target]['glm_fit_params'][1:]  # don't forget intercept\n",
    "\n",
    "        AEP_target_fit = np.zeros(len(AEP_responses))\n",
    "        for j, coef in enumerate(glm_coeffs):\n",
    "            AEP_target_fit += coef * unit_AM[:, j]\n",
    "\n",
    "        results[i] = stats.pearsonr(AEP_target_fit, AEP_responses)\n",
    "        \n",
    "    print(session)\n",
    "    print(results)"
   ]
  },
  {
   "cell_type": "markdown",
   "id": "2fcb3c1f",
   "metadata": {},
   "source": [
    "## Cross-session stats"
   ]
  },
  {
   "cell_type": "code",
   "execution_count": 34,
   "id": "ed6d9be1",
   "metadata": {},
   "outputs": [
    {
     "data": {
      "text/plain": [
       "['009265_hippoSIT_2023-02-28_13-16-10',\n",
       " '009265_hippoSIT_2023-02-28_20-45-04',\n",
       " '009265_hippoSIT_2023-03-01_10-46-12',\n",
       " '009265_hippoSIT_2023-03-02_09-32-54',\n",
       " '009265_hippoSIT_2023-03-02_16-27-42',\n",
       " '009265_hippoSIT_2023-03-02_20-11-35',\n",
       " '009265_hippoSIT_2023-03-03_09-37-07',\n",
       " '009265_hippoSIT_2023-03-03_16-00-47',\n",
       " '009265_hippoSIT_2023-03-04_11-12-04',\n",
       " '009265_hippoSIT_2023-03-05_11-52-17',\n",
       " '009265_hippoSIT_2023-03-05_18-31-32',\n",
       " '009265_hippoSIT_2023-03-08_18-10-07',\n",
       " '009265_hippoSIT_2023-03-09_20-03-08',\n",
       " '009265_hippoSIT_2023-03-10_09-57-34']"
      ]
     },
     "execution_count": 34,
     "metadata": {},
     "output_type": "execute_result"
    }
   ],
   "source": [
    "selected = sessions[5:-2]\n",
    "selected"
   ]
  },
  {
   "cell_type": "code",
   "execution_count": 35,
   "id": "5f3cf5b5",
   "metadata": {
    "scrolled": true
   },
   "outputs": [
    {
     "data": {
      "text/plain": [
       "Text(0, 0.5, 'Corr. coeff. predict by population')"
      ]
     },
     "execution_count": 35,
     "metadata": {},
     "output_type": "execute_result"
    },
    {
     "data": {
      "image/png": "[encoded data removed]",
      "text/plain": [
       "<Figure size 360x504 with 1 Axes>"
      ]
     },
     "metadata": {
      "needs_background": "light"
     },
     "output_type": "display_data"
    }
   ],
   "source": [
    "fig, ax = plt.subplots(1,1, figsize=(5, 7))\n",
    "\n",
    "perc_shuf = np.zeros([len(selected), 2])  # max shuffled percentiles\n",
    "for j, session in enumerate(selected):\n",
    "    animal = session.split('_')[0]\n",
    "    aeps_pop_file = os.path.join(source, animal, session, 'AEPs_pop.h5')\n",
    "    \n",
    "    corr_vals = np.zeros(len(AEP_targets))\n",
    "    perc_curr = np.zeros([len(AEP_targets), 2])\n",
    "    unit_no = 0\n",
    "    with h5py.File(aeps_pop_file, 'r') as f:\n",
    "        for i, AEP_target in enumerate(AEP_targets):\n",
    "            unit_no = len(np.array(f[AEP_target]['glm_fit_pvalues'])) - 1\n",
    "            corr_mx = np.array(f[AEP_target]['corr_glm_fit_chun'])\n",
    "            corr_vals[i] = corr_mx[:, 0].mean()\n",
    "            \n",
    "            coeffs_shuf = np.array(f[AEP_target]['corr_glm_fit_shuf'])[:, 0]\n",
    "            perc_curr[i] = np.array([np.percentile(coeffs_shuf, 5), np.percentile(coeffs_shuf, 95)])\n",
    "    perc_shuf[j] = perc_curr.max(axis=0)\n",
    "            \n",
    "    x_vals = np.arange(len(corr_vals)) + 1 #+ np.random.rand(len(corr_vals)) * 0.2 - 0.1\n",
    "    \n",
    "    ax.scatter(x_vals, corr_vals, s=3*unit_no, label=\"%d units\" % unit_no)\n",
    "    ax.plot(x_vals, corr_vals)\n",
    "    \n",
    "ax.set_ylim(-0.7, 0.7)\n",
    "ax.set_xlim(0.5, 6)\n",
    "ax.axhline(0, color='black')\n",
    "ax.grid()\n",
    "ax.set_xticks(x_vals)\n",
    "ax.set_xticklabels(AEP_targets, fontsize=14)\n",
    "ax.axhline(perc_shuf[:, 0].min(), ls='--', color='black', label='shuffle')\n",
    "ax.axhline(perc_shuf[:, 1].max(), ls='--', color='black')\n",
    "ax.axhspan(perc_shuf[:, 0].min(), perc_shuf[:, 1].max(), alpha=0.3, color='black')\n",
    "ax.legend(loc='upper right')\n",
    "ax.set_ylabel('Corr. coeff. predict by population', fontsize=14)"
   ]
  },
  {
   "cell_type": "code",
   "execution_count": null,
   "id": "c03e6ac0",
   "metadata": {},
   "outputs": [],
   "source": []
  },
  {
   "cell_type": "code",
   "execution_count": null,
   "id": "a764f209",
   "metadata": {},
   "outputs": [],
   "source": []
  },
  {
   "cell_type": "markdown",
   "id": "9a0c1d78",
   "metadata": {},
   "source": [
    "## Development"
   ]
  },
  {
   "cell_type": "markdown",
   "id": "d48ad348",
   "metadata": {},
   "source": [
    "### Session data"
   ]
  },
  {
   "cell_type": "code",
   "execution_count": 825,
   "id": "3d199339",
   "metadata": {
    "scrolled": true
   },
   "outputs": [
    {
     "data": {
      "text/plain": [
       "['009266_hippoSIT_2023-04-17_17-04-17',\n",
       " '009266_hippoSIT_2023-04-18_10-10-37',\n",
       " '009266_hippoSIT_2023-04-18_17-03-10',\n",
       " '009266_hippoSIT_2023-04-19_10-33-51',\n",
       " '009266_hippoSIT_2023-04-20_08-57-39',\n",
       " '009266_hippoSIT_2023-04-20_15-24-14',\n",
       " '009266_hippoSIT_2023-04-21_08-43-00',\n",
       " '009266_hippoSIT_2023-04-21_13-12-31',\n",
       " '009266_hippoSIT_2023-04-24_10-08-11',\n",
       " '009266_hippoSIT_2023-04-24_16-56-55',\n",
       " '009266_hippoSIT_2023-04-26_08-20-17',\n",
       " '009266_hippoSIT_2023-05-02_12-22-14',\n",
       " '009266_hippoSIT_2023-05-04_19-47-15',\n",
       " '009266_hippoSIT_2023-05-22_09-27-22',\n",
       " '009266_hippoSIT_2023-05-23_09-18-05',\n",
       " '009266_hippoSIT_2023-05-25_15-55-57',\n",
       " '009266_hippoSIT_2023-06-14_08-21-23',\n",
       " '009266_hippoSIT_2023-06-19_08-58-35']"
      ]
     },
     "execution_count": 825,
     "metadata": {},
     "output_type": "execute_result"
    }
   ],
   "source": [
    "selected_009266"
   ]
  },
  {
   "cell_type": "code",
   "execution_count": 826,
   "id": "dbf7c2c6",
   "metadata": {},
   "outputs": [
    {
     "data": {
      "text/plain": [
       "'009266_hippoSIT_2023-05-22_09-27-22'"
      ]
     },
     "execution_count": 826,
     "metadata": {},
     "output_type": "execute_result"
    }
   ],
   "source": [
    "session = selected_009266[-5]\n",
    "\n",
    "session_data = load_session_data(session)\n",
    "\n",
    "tl = session_data['tl']\n",
    "trials = session_data['trials']\n",
    "cfg = session_data['cfg']\n",
    "areas = session_data['areas']\n",
    "aeps = session_data['aeps']\n",
    "aeps_events = session_data['aeps_events']\n",
    "AEP_metrics_lims = session_data['AEP_metrics_lims']\n",
    "AEP_metrics_raw = session_data['AEP_metrics_raw']\n",
    "AEP_metrics_norm = session_data['AEP_metrics_norm']\n",
    "tgt_matrix = session_data['tgt_matrix']\n",
    "single_units = session_data['single_units']\n",
    "spike_times = session_data['spike_times']\n",
    "unit_names = session_data['unit_names']\n",
    "animal = session_data['animal']\n",
    "aeps_file = session_data['aeps_file']\n",
    "h5_file = session_data['h5_file']\n",
    "report_path = session_data['report_path']\n",
    "session"
   ]
  },
  {
   "cell_type": "markdown",
   "id": "dad28126",
   "metadata": {},
   "source": [
    "### GLM coeffs for each unit"
   ]
  },
  {
   "cell_type": "code",
   "execution_count": 830,
   "id": "10c53370",
   "metadata": {},
   "outputs": [],
   "source": [
    "# build activity matrix (spike counts) for each AEP in a AEP_target range\n",
    "session = selected_009266[-5]\n",
    "AEP_target = 'P3'\n",
    "area = 'A1'\n",
    "\n",
    "unit_act_matrix, AEP_tgt_responses = build_AEP_unit_AM(session, area, AEP_target)"
   ]
  },
  {
   "cell_type": "code",
   "execution_count": 848,
   "id": "9784c6aa",
   "metadata": {},
   "outputs": [
    {
     "data": {
      "text/plain": [
       "Text(0.5, 0, 'AEP Metric Dynamics')"
      ]
     },
     "execution_count": 848,
     "metadata": {},
     "output_type": "execute_result"
    },
    {
     "data": {
      "image/png": "[encoded data removed]",
      "text/plain": [
       "<Figure size 504x216 with 1 Axes>"
      ]
     },
     "metadata": {
      "needs_background": "light"
     },
     "output_type": "display_data"
    }
   ],
   "source": [
    "fig, ax = plt.subplots(1,1, figsize=(7, 3))\n",
    "\n",
    "ax.plot(AEP_tgt_responses)\n",
    "ax.set_xlim(0, 4000)\n",
    "ax.set_ylim(-1.5, 1.5)\n",
    "ax.set_xlabel('AEP Metric Dynamics', fontsize=14)"
   ]
  },
  {
   "cell_type": "code",
   "execution_count": 847,
   "id": "d1f64242",
   "metadata": {
    "scrolled": true
   },
   "outputs": [
    {
     "data": {
      "text/plain": [
       "Text(0, 0.5, 'AEP #')"
      ]
     },
     "execution_count": 847,
     "metadata": {},
     "output_type": "execute_result"
    },
    {
     "data": {
      "image/png": "[encoded data removed]",
      "text/plain": [
       "<Figure size 720x288 with 1 Axes>"
      ]
     },
     "metadata": {
      "needs_background": "light"
     },
     "output_type": "display_data"
    }
   ],
   "source": [
    "fig, ax = plt.subplots(1,1, figsize=(10, 4))\n",
    "\n",
    "ax.imshow(unit_act_matrix[:50])\n",
    "ax.set_xlabel('Unit #', fontsize=14)\n",
    "ax.set_ylabel('AEP #', fontsize=14)"
   ]
  },
  {
   "cell_type": "code",
   "execution_count": 835,
   "id": "5ec762c5",
   "metadata": {},
   "outputs": [
    {
     "data": {
      "text/plain": [
       "((3429, 65), (3429,))"
      ]
     },
     "execution_count": 835,
     "metadata": {},
     "output_type": "execute_result"
    }
   ],
   "source": [
    "# separate train / test\n",
    "X_train, X_test, y_train, y_test = train_test_split(unit_act_matrix, AEP_tgt_responses, test_size=0.33)\n",
    "X_train.shape, y_train.shape"
   ]
  },
  {
   "cell_type": "code",
   "execution_count": 836,
   "id": "43a2dd94",
   "metadata": {},
   "outputs": [
    {
     "data": {
      "text/plain": [
       "(343, 65)"
      ]
     },
     "execution_count": 836,
     "metadata": {},
     "output_type": "execute_result"
    }
   ],
   "source": [
    "# divide train in groups by AEP_target value to get more spikes from each unit -> grouped AM\n",
    "bin_width = 10  # number of AEPs to sum spikes\n",
    "\n",
    "bin_count = int(np.ceil(len(y_train)/bin_width))\n",
    "bins = np.linspace(0, bin_width * bin_count, bin_count + 1, dtype=np.int16)\n",
    "sort_idxs = np.argsort(y_train)\n",
    "\n",
    "# build sorted train datasets\n",
    "X_sorted = X_train[sort_idxs]\n",
    "y_sorted = y_train[sort_idxs]\n",
    "\n",
    "# compute averaged activity matrix\n",
    "X_grouped = np.zeros([len(bins) - 1, unit_act_matrix.shape[1]])\n",
    "y_grouped = np.zeros(len(bins) - 1)\n",
    "for i in range(len(bins) - 1):\n",
    "    X_grouped[i] = X_sorted[bins[i]:bins[i + 1]].sum(axis=0) / bin_width\n",
    "    y_grouped[i] = y_sorted[bins[i]:bins[i + 1]].mean()\n",
    "\n",
    "# z-score\n",
    "#X_grouped = stats.zscore(X_grouped, axis=0)\n",
    "X_grouped.shape"
   ]
  },
  {
   "cell_type": "code",
   "execution_count": 839,
   "id": "403363bf",
   "metadata": {
    "scrolled": true
   },
   "outputs": [
    {
     "data": {
      "text/plain": [
       "<matplotlib.image.AxesImage at 0x7eff5fc463d0>"
      ]
     },
     "execution_count": 839,
     "metadata": {},
     "output_type": "execute_result"
    },
    {
     "data": {
      "image/png": "[encoded data removed]",
      "text/plain": [
       "<Figure size 432x288 with 1 Axes>"
      ]
     },
     "metadata": {
      "needs_background": "light"
     },
     "output_type": "display_data"
    }
   ],
   "source": [
    "plt.imshow(X_grouped[:50])\n",
    "#plt.plot(y_grouped)"
   ]
  },
  {
   "cell_type": "code",
   "execution_count": 840,
   "id": "a44678d4",
   "metadata": {
    "scrolled": true
   },
   "outputs": [
    {
     "data": {
      "text/html": [
       "<table class=\"simpletable\">\n",
       "<caption>Generalized Linear Model Regression Results</caption>\n",
       "<tr>\n",
       "  <th>Dep. Variable:</th>         <td>state</td>      <th>  No. Observations:  </th>  <td>   343</td> \n",
       "</tr>\n",
       "<tr>\n",
       "  <th>Model:</th>                  <td>GLM</td>       <th>  Df Residuals:      </th>  <td>   277</td> \n",
       "</tr>\n",
       "<tr>\n",
       "  <th>Model Family:</th>        <td>Gaussian</td>     <th>  Df Model:          </th>  <td>    65</td> \n",
       "</tr>\n",
       "<tr>\n",
       "  <th>Link Function:</th>       <td>identity</td>     <th>  Scale:             </th> <td> 0.12597</td>\n",
       "</tr>\n",
       "<tr>\n",
       "  <th>Method:</th>                <td>IRLS</td>       <th>  Log-Likelihood:    </th> <td> -94.740</td>\n",
       "</tr>\n",
       "<tr>\n",
       "  <th>Date:</th>            <td>Tue, 17 Oct 2023</td> <th>  Deviance:          </th> <td>  34.893</td>\n",
       "</tr>\n",
       "<tr>\n",
       "  <th>Time:</th>                <td>17:59:34</td>     <th>  Pearson chi2:      </th>  <td>  34.9</td> \n",
       "</tr>\n",
       "<tr>\n",
       "  <th>No. Iterations:</th>          <td>3</td>        <th>  Pseudo R-squ. (CS):</th>  <td>0.8205</td> \n",
       "</tr>\n",
       "<tr>\n",
       "  <th>Covariance Type:</th>     <td>nonrobust</td>    <th>                     </th>     <td> </td>   \n",
       "</tr>\n",
       "</table>\n",
       "<table class=\"simpletable\">\n",
       "<tr>\n",
       "      <td></td>         <th>coef</th>     <th>std err</th>      <th>z</th>      <th>P>|z|</th>  <th>[0.025</th>    <th>0.975]</th>  \n",
       "</tr>\n",
       "<tr>\n",
       "  <th>Intercept</th> <td>    1.8101</td> <td>    0.112</td> <td>   16.222</td> <td> 0.000</td> <td>    1.591</td> <td>    2.029</td>\n",
       "</tr>\n",
       "<tr>\n",
       "  <th>x0</th>        <td>    0.4245</td> <td>    0.244</td> <td>    1.742</td> <td> 0.081</td> <td>   -0.053</td> <td>    0.902</td>\n",
       "</tr>\n",
       "<tr>\n",
       "  <th>x1</th>        <td>   -0.3366</td> <td>    0.112</td> <td>   -3.005</td> <td> 0.003</td> <td>   -0.556</td> <td>   -0.117</td>\n",
       "</tr>\n",
       "<tr>\n",
       "  <th>x2</th>        <td>   -0.0552</td> <td>    0.145</td> <td>   -0.381</td> <td> 0.703</td> <td>   -0.339</td> <td>    0.229</td>\n",
       "</tr>\n",
       "<tr>\n",
       "  <th>x3</th>        <td>   -0.3395</td> <td>    0.136</td> <td>   -2.505</td> <td> 0.012</td> <td>   -0.605</td> <td>   -0.074</td>\n",
       "</tr>\n",
       "<tr>\n",
       "  <th>x4</th>        <td>   -0.0553</td> <td>    0.202</td> <td>   -0.274</td> <td> 0.784</td> <td>   -0.451</td> <td>    0.340</td>\n",
       "</tr>\n",
       "<tr>\n",
       "  <th>x5</th>        <td>   -0.1821</td> <td>    0.122</td> <td>   -1.495</td> <td> 0.135</td> <td>   -0.421</td> <td>    0.057</td>\n",
       "</tr>\n",
       "<tr>\n",
       "  <th>x6</th>        <td>   -0.1961</td> <td>    0.132</td> <td>   -1.489</td> <td> 0.136</td> <td>   -0.454</td> <td>    0.062</td>\n",
       "</tr>\n",
       "<tr>\n",
       "  <th>x7</th>        <td>   -0.1327</td> <td>    0.197</td> <td>   -0.675</td> <td> 0.500</td> <td>   -0.518</td> <td>    0.253</td>\n",
       "</tr>\n",
       "<tr>\n",
       "  <th>x8</th>        <td>   -0.0750</td> <td>    0.143</td> <td>   -0.525</td> <td> 0.600</td> <td>   -0.355</td> <td>    0.205</td>\n",
       "</tr>\n",
       "<tr>\n",
       "  <th>x9</th>        <td>   -0.2052</td> <td>    0.145</td> <td>   -1.411</td> <td> 0.158</td> <td>   -0.490</td> <td>    0.080</td>\n",
       "</tr>\n",
       "<tr>\n",
       "  <th>x10</th>       <td>   -0.5321</td> <td>    0.168</td> <td>   -3.172</td> <td> 0.002</td> <td>   -0.861</td> <td>   -0.203</td>\n",
       "</tr>\n",
       "<tr>\n",
       "  <th>x11</th>       <td>   -0.2208</td> <td>    0.082</td> <td>   -2.699</td> <td> 0.007</td> <td>   -0.381</td> <td>   -0.060</td>\n",
       "</tr>\n",
       "<tr>\n",
       "  <th>x12</th>       <td>    0.0171</td> <td>    0.135</td> <td>    0.126</td> <td> 0.900</td> <td>   -0.248</td> <td>    0.283</td>\n",
       "</tr>\n",
       "<tr>\n",
       "  <th>x13</th>       <td>   -0.1129</td> <td>    0.176</td> <td>   -0.643</td> <td> 0.520</td> <td>   -0.457</td> <td>    0.231</td>\n",
       "</tr>\n",
       "<tr>\n",
       "  <th>x14</th>       <td>   -0.1382</td> <td>    0.170</td> <td>   -0.811</td> <td> 0.417</td> <td>   -0.472</td> <td>    0.196</td>\n",
       "</tr>\n",
       "<tr>\n",
       "  <th>x15</th>       <td>   -0.4071</td> <td>    0.130</td> <td>   -3.141</td> <td> 0.002</td> <td>   -0.661</td> <td>   -0.153</td>\n",
       "</tr>\n",
       "<tr>\n",
       "  <th>x16</th>       <td>    0.1253</td> <td>    0.174</td> <td>    0.719</td> <td> 0.472</td> <td>   -0.216</td> <td>    0.466</td>\n",
       "</tr>\n",
       "<tr>\n",
       "  <th>x17</th>       <td>   -0.0866</td> <td>    0.096</td> <td>   -0.902</td> <td> 0.367</td> <td>   -0.275</td> <td>    0.102</td>\n",
       "</tr>\n",
       "<tr>\n",
       "  <th>x18</th>       <td>   -0.1203</td> <td>    0.125</td> <td>   -0.959</td> <td> 0.337</td> <td>   -0.366</td> <td>    0.125</td>\n",
       "</tr>\n",
       "<tr>\n",
       "  <th>x19</th>       <td>    0.2525</td> <td>    0.164</td> <td>    1.535</td> <td> 0.125</td> <td>   -0.070</td> <td>    0.575</td>\n",
       "</tr>\n",
       "<tr>\n",
       "  <th>x20</th>       <td>   -0.5063</td> <td>    0.217</td> <td>   -2.332</td> <td> 0.020</td> <td>   -0.932</td> <td>   -0.081</td>\n",
       "</tr>\n",
       "<tr>\n",
       "  <th>x21</th>       <td>    0.2507</td> <td>    0.166</td> <td>    1.509</td> <td> 0.131</td> <td>   -0.075</td> <td>    0.576</td>\n",
       "</tr>\n",
       "<tr>\n",
       "  <th>x22</th>       <td>   -0.0450</td> <td>    0.155</td> <td>   -0.290</td> <td> 0.772</td> <td>   -0.349</td> <td>    0.259</td>\n",
       "</tr>\n",
       "<tr>\n",
       "  <th>x23</th>       <td>   -0.3405</td> <td>    0.173</td> <td>   -1.967</td> <td> 0.049</td> <td>   -0.680</td> <td>   -0.001</td>\n",
       "</tr>\n",
       "<tr>\n",
       "  <th>x24</th>       <td>   -0.1545</td> <td>    0.235</td> <td>   -0.658</td> <td> 0.511</td> <td>   -0.615</td> <td>    0.306</td>\n",
       "</tr>\n",
       "<tr>\n",
       "  <th>x25</th>       <td>    0.0962</td> <td>    0.140</td> <td>    0.689</td> <td> 0.491</td> <td>   -0.177</td> <td>    0.370</td>\n",
       "</tr>\n",
       "<tr>\n",
       "  <th>x26</th>       <td>    0.0556</td> <td>    0.176</td> <td>    0.317</td> <td> 0.752</td> <td>   -0.289</td> <td>    0.400</td>\n",
       "</tr>\n",
       "<tr>\n",
       "  <th>x27</th>       <td>   -0.4976</td> <td>    0.142</td> <td>   -3.501</td> <td> 0.000</td> <td>   -0.776</td> <td>   -0.219</td>\n",
       "</tr>\n",
       "<tr>\n",
       "  <th>x28</th>       <td>   -0.3468</td> <td>    0.128</td> <td>   -2.706</td> <td> 0.007</td> <td>   -0.598</td> <td>   -0.096</td>\n",
       "</tr>\n",
       "<tr>\n",
       "  <th>x29</th>       <td>   -0.4084</td> <td>    0.129</td> <td>   -3.167</td> <td> 0.002</td> <td>   -0.661</td> <td>   -0.156</td>\n",
       "</tr>\n",
       "<tr>\n",
       "  <th>x30</th>       <td>   -0.1672</td> <td>    0.120</td> <td>   -1.393</td> <td> 0.164</td> <td>   -0.403</td> <td>    0.068</td>\n",
       "</tr>\n",
       "<tr>\n",
       "  <th>x31</th>       <td>    0.1145</td> <td>    0.202</td> <td>    0.566</td> <td> 0.571</td> <td>   -0.282</td> <td>    0.511</td>\n",
       "</tr>\n",
       "<tr>\n",
       "  <th>x32</th>       <td>    0.0971</td> <td>    0.130</td> <td>    0.747</td> <td> 0.455</td> <td>   -0.158</td> <td>    0.352</td>\n",
       "</tr>\n",
       "<tr>\n",
       "  <th>x33</th>       <td>   -0.0812</td> <td>    0.150</td> <td>   -0.540</td> <td> 0.589</td> <td>   -0.376</td> <td>    0.213</td>\n",
       "</tr>\n",
       "<tr>\n",
       "  <th>x34</th>       <td>   -0.1402</td> <td>    0.171</td> <td>   -0.818</td> <td> 0.413</td> <td>   -0.476</td> <td>    0.196</td>\n",
       "</tr>\n",
       "<tr>\n",
       "  <th>x35</th>       <td>   -0.0681</td> <td>    0.102</td> <td>   -0.665</td> <td> 0.506</td> <td>   -0.269</td> <td>    0.133</td>\n",
       "</tr>\n",
       "<tr>\n",
       "  <th>x36</th>       <td>   -0.1822</td> <td>    0.144</td> <td>   -1.262</td> <td> 0.207</td> <td>   -0.465</td> <td>    0.101</td>\n",
       "</tr>\n",
       "<tr>\n",
       "  <th>x37</th>       <td>   -0.0938</td> <td>    0.201</td> <td>   -0.467</td> <td> 0.641</td> <td>   -0.488</td> <td>    0.300</td>\n",
       "</tr>\n",
       "<tr>\n",
       "  <th>x38</th>       <td>   -0.0502</td> <td>    0.211</td> <td>   -0.238</td> <td> 0.812</td> <td>   -0.463</td> <td>    0.363</td>\n",
       "</tr>\n",
       "<tr>\n",
       "  <th>x39</th>       <td>    0.0431</td> <td>    0.221</td> <td>    0.195</td> <td> 0.846</td> <td>   -0.391</td> <td>    0.477</td>\n",
       "</tr>\n",
       "<tr>\n",
       "  <th>x40</th>       <td>   -0.0229</td> <td>    0.118</td> <td>   -0.195</td> <td> 0.845</td> <td>   -0.254</td> <td>    0.208</td>\n",
       "</tr>\n",
       "<tr>\n",
       "  <th>x41</th>       <td>   -0.1182</td> <td>    0.212</td> <td>   -0.556</td> <td> 0.578</td> <td>   -0.535</td> <td>    0.298</td>\n",
       "</tr>\n",
       "<tr>\n",
       "  <th>x42</th>       <td>   -0.1354</td> <td>    0.140</td> <td>   -0.970</td> <td> 0.332</td> <td>   -0.409</td> <td>    0.138</td>\n",
       "</tr>\n",
       "<tr>\n",
       "  <th>x43</th>       <td>   -0.0759</td> <td>    0.114</td> <td>   -0.665</td> <td> 0.506</td> <td>   -0.300</td> <td>    0.148</td>\n",
       "</tr>\n",
       "<tr>\n",
       "  <th>x44</th>       <td>   -0.2507</td> <td>    0.163</td> <td>   -1.536</td> <td> 0.125</td> <td>   -0.571</td> <td>    0.069</td>\n",
       "</tr>\n",
       "<tr>\n",
       "  <th>x45</th>       <td>    0.1851</td> <td>    0.206</td> <td>    0.896</td> <td> 0.370</td> <td>   -0.220</td> <td>    0.590</td>\n",
       "</tr>\n",
       "<tr>\n",
       "  <th>x46</th>       <td>   -0.2552</td> <td>    0.182</td> <td>   -1.401</td> <td> 0.161</td> <td>   -0.612</td> <td>    0.102</td>\n",
       "</tr>\n",
       "<tr>\n",
       "  <th>x47</th>       <td>    0.0009</td> <td>    0.220</td> <td>    0.004</td> <td> 0.997</td> <td>   -0.430</td> <td>    0.432</td>\n",
       "</tr>\n",
       "<tr>\n",
       "  <th>x48</th>       <td>   -0.2027</td> <td>    0.181</td> <td>   -1.117</td> <td> 0.264</td> <td>   -0.558</td> <td>    0.153</td>\n",
       "</tr>\n",
       "<tr>\n",
       "  <th>x49</th>       <td>   -0.0751</td> <td>    0.149</td> <td>   -0.503</td> <td> 0.615</td> <td>   -0.368</td> <td>    0.218</td>\n",
       "</tr>\n",
       "<tr>\n",
       "  <th>x50</th>       <td>   -0.1316</td> <td>    0.045</td> <td>   -2.898</td> <td> 0.004</td> <td>   -0.221</td> <td>   -0.043</td>\n",
       "</tr>\n",
       "<tr>\n",
       "  <th>x51</th>       <td>   -0.0376</td> <td>    0.224</td> <td>   -0.168</td> <td> 0.867</td> <td>   -0.476</td> <td>    0.401</td>\n",
       "</tr>\n",
       "<tr>\n",
       "  <th>x52</th>       <td>   -0.7098</td> <td>    0.222</td> <td>   -3.196</td> <td> 0.001</td> <td>   -1.145</td> <td>   -0.274</td>\n",
       "</tr>\n",
       "<tr>\n",
       "  <th>x53</th>       <td>   -0.0015</td> <td>    0.128</td> <td>   -0.012</td> <td> 0.991</td> <td>   -0.252</td> <td>    0.249</td>\n",
       "</tr>\n",
       "<tr>\n",
       "  <th>x54</th>       <td>    0.0121</td> <td>    0.129</td> <td>    0.093</td> <td> 0.926</td> <td>   -0.242</td> <td>    0.266</td>\n",
       "</tr>\n",
       "<tr>\n",
       "  <th>x55</th>       <td>   -0.1471</td> <td>    0.163</td> <td>   -0.902</td> <td> 0.367</td> <td>   -0.466</td> <td>    0.172</td>\n",
       "</tr>\n",
       "<tr>\n",
       "  <th>x56</th>       <td>    0.0510</td> <td>    0.182</td> <td>    0.281</td> <td> 0.779</td> <td>   -0.305</td> <td>    0.407</td>\n",
       "</tr>\n",
       "<tr>\n",
       "  <th>x57</th>       <td>    0.2485</td> <td>    0.166</td> <td>    1.496</td> <td> 0.135</td> <td>   -0.077</td> <td>    0.574</td>\n",
       "</tr>\n",
       "<tr>\n",
       "  <th>x58</th>       <td>    0.0495</td> <td>    0.047</td> <td>    1.065</td> <td> 0.287</td> <td>   -0.042</td> <td>    0.141</td>\n",
       "</tr>\n",
       "<tr>\n",
       "  <th>x59</th>       <td>   -0.0953</td> <td>    0.191</td> <td>   -0.500</td> <td> 0.617</td> <td>   -0.469</td> <td>    0.278</td>\n",
       "</tr>\n",
       "<tr>\n",
       "  <th>x60</th>       <td>    0.1807</td> <td>    0.227</td> <td>    0.797</td> <td> 0.426</td> <td>   -0.264</td> <td>    0.625</td>\n",
       "</tr>\n",
       "<tr>\n",
       "  <th>x61</th>       <td>   -0.2797</td> <td>    0.178</td> <td>   -1.571</td> <td> 0.116</td> <td>   -0.629</td> <td>    0.069</td>\n",
       "</tr>\n",
       "<tr>\n",
       "  <th>x62</th>       <td>   -0.4369</td> <td>    0.164</td> <td>   -2.664</td> <td> 0.008</td> <td>   -0.758</td> <td>   -0.115</td>\n",
       "</tr>\n",
       "<tr>\n",
       "  <th>x63</th>       <td>    0.0359</td> <td>    0.189</td> <td>    0.190</td> <td> 0.849</td> <td>   -0.335</td> <td>    0.407</td>\n",
       "</tr>\n",
       "<tr>\n",
       "  <th>x64</th>       <td>   -0.4961</td> <td>    0.170</td> <td>   -2.913</td> <td> 0.004</td> <td>   -0.830</td> <td>   -0.162</td>\n",
       "</tr>\n",
       "</table>"
      ],
      "text/plain": [
       "<class 'statsmodels.iolib.summary.Summary'>\n",
       "\"\"\"\n",
       "                 Generalized Linear Model Regression Results                  \n",
       "==============================================================================\n",
       "Dep. Variable:                  state   No. Observations:                  343\n",
       "Model:                            GLM   Df Residuals:                      277\n",
       "Model Family:                Gaussian   Df Model:                           65\n",
       "Link Function:               identity   Scale:                         0.12597\n",
       "Method:                          IRLS   Log-Likelihood:                -94.740\n",
       "Date:                Tue, 17 Oct 2023   Deviance:                       34.893\n",
       "Time:                        17:59:34   Pearson chi2:                     34.9\n",
       "No. Iterations:                     3   Pseudo R-squ. (CS):             0.8205\n",
       "Covariance Type:            nonrobust                                         \n",
       "==============================================================================\n",
       "                 coef    std err          z      P>|z|      [0.025      0.975]\n",
       "------------------------------------------------------------------------------\n",
       "Intercept      1.8101      0.112     16.222      0.000       1.591       2.029\n",
       "x0             0.4245      0.244      1.742      0.081      -0.053       0.902\n",
       "x1            -0.3366      0.112     -3.005      0.003      -0.556      -0.117\n",
       "x2            -0.0552      0.145     -0.381      0.703      -0.339       0.229\n",
       "x3            -0.3395      0.136     -2.505      0.012      -0.605      -0.074\n",
       "x4            -0.0553      0.202     -0.274      0.784      -0.451       0.340\n",
       "x5            -0.1821      0.122     -1.495      0.135      -0.421       0.057\n",
       "x6            -0.1961      0.132     -1.489      0.136      -0.454       0.062\n",
       "x7            -0.1327      0.197     -0.675      0.500      -0.518       0.253\n",
       "x8            -0.0750      0.143     -0.525      0.600      -0.355       0.205\n",
       "x9            -0.2052      0.145     -1.411      0.158      -0.490       0.080\n",
       "x10           -0.5321      0.168     -3.172      0.002      -0.861      -0.203\n",
       "x11           -0.2208      0.082     -2.699      0.007      -0.381      -0.060\n",
       "x12            0.0171      0.135      0.126      0.900      -0.248       0.283\n",
       "x13           -0.1129      0.176     -0.643      0.520      -0.457       0.231\n",
       "x14           -0.1382      0.170     -0.811      0.417      -0.472       0.196\n",
       "x15           -0.4071      0.130     -3.141      0.002      -0.661      -0.153\n",
       "x16            0.1253      0.174      0.719      0.472      -0.216       0.466\n",
       "x17           -0.0866      0.096     -0.902      0.367      -0.275       0.102\n",
       "x18           -0.1203      0.125     -0.959      0.337      -0.366       0.125\n",
       "x19            0.2525      0.164      1.535      0.125      -0.070       0.575\n",
       "x20           -0.5063      0.217     -2.332      0.020      -0.932      -0.081\n",
       "x21            0.2507      0.166      1.509      0.131      -0.075       0.576\n",
       "x22           -0.0450      0.155     -0.290      0.772      -0.349       0.259\n",
       "x23           -0.3405      0.173     -1.967      0.049      -0.680      -0.001\n",
       "x24           -0.1545      0.235     -0.658      0.511      -0.615       0.306\n",
       "x25            0.0962      0.140      0.689      0.491      -0.177       0.370\n",
       "x26            0.0556      0.176      0.317      0.752      -0.289       0.400\n",
       "x27           -0.4976      0.142     -3.501      0.000      -0.776      -0.219\n",
       "x28           -0.3468      0.128     -2.706      0.007      -0.598      -0.096\n",
       "x29           -0.4084      0.129     -3.167      0.002      -0.661      -0.156\n",
       "x30           -0.1672      0.120     -1.393      0.164      -0.403       0.068\n",
       "x31            0.1145      0.202      0.566      0.571      -0.282       0.511\n",
       "x32            0.0971      0.130      0.747      0.455      -0.158       0.352\n",
       "x33           -0.0812      0.150     -0.540      0.589      -0.376       0.213\n",
       "x34           -0.1402      0.171     -0.818      0.413      -0.476       0.196\n",
       "x35           -0.0681      0.102     -0.665      0.506      -0.269       0.133\n",
       "x36           -0.1822      0.144     -1.262      0.207      -0.465       0.101\n",
       "x37           -0.0938      0.201     -0.467      0.641      -0.488       0.300\n",
       "x38           -0.0502      0.211     -0.238      0.812      -0.463       0.363\n",
       "x39            0.0431      0.221      0.195      0.846      -0.391       0.477\n",
       "x40           -0.0229      0.118     -0.195      0.845      -0.254       0.208\n",
       "x41           -0.1182      0.212     -0.556      0.578      -0.535       0.298\n",
       "x42           -0.1354      0.140     -0.970      0.332      -0.409       0.138\n",
       "x43           -0.0759      0.114     -0.665      0.506      -0.300       0.148\n",
       "x44           -0.2507      0.163     -1.536      0.125      -0.571       0.069\n",
       "x45            0.1851      0.206      0.896      0.370      -0.220       0.590\n",
       "x46           -0.2552      0.182     -1.401      0.161      -0.612       0.102\n",
       "x47            0.0009      0.220      0.004      0.997      -0.430       0.432\n",
       "x48           -0.2027      0.181     -1.117      0.264      -0.558       0.153\n",
       "x49           -0.0751      0.149     -0.503      0.615      -0.368       0.218\n",
       "x50           -0.1316      0.045     -2.898      0.004      -0.221      -0.043\n",
       "x51           -0.0376      0.224     -0.168      0.867      -0.476       0.401\n",
       "x52           -0.7098      0.222     -3.196      0.001      -1.145      -0.274\n",
       "x53           -0.0015      0.128     -0.012      0.991      -0.252       0.249\n",
       "x54            0.0121      0.129      0.093      0.926      -0.242       0.266\n",
       "x55           -0.1471      0.163     -0.902      0.367      -0.466       0.172\n",
       "x56            0.0510      0.182      0.281      0.779      -0.305       0.407\n",
       "x57            0.2485      0.166      1.496      0.135      -0.077       0.574\n",
       "x58            0.0495      0.047      1.065      0.287      -0.042       0.141\n",
       "x59           -0.0953      0.191     -0.500      0.617      -0.469       0.278\n",
       "x60            0.1807      0.227      0.797      0.426      -0.264       0.625\n",
       "x61           -0.2797      0.178     -1.571      0.116      -0.629       0.069\n",
       "x62           -0.4369      0.164     -2.664      0.008      -0.758      -0.115\n",
       "x63            0.0359      0.189      0.190      0.849      -0.335       0.407\n",
       "x64           -0.4961      0.170     -2.913      0.004      -0.830      -0.162\n",
       "==============================================================================\n",
       "\"\"\""
      ]
     },
     "execution_count": 840,
     "metadata": {},
     "output_type": "execute_result"
    }
   ],
   "source": [
    "# train glm to get contributions of each unit\n",
    "data = np.column_stack([y_grouped, X_grouped])\n",
    "columns = ['state'] + [\"x%d\" % x for x in range(X_grouped.shape[1])]\n",
    "AM_df = pd.DataFrame(data, columns=columns)\n",
    "\n",
    "model = glm('state ~ ' + ' + '.join(columns[1:]), data=AM_df).fit()\n",
    "model.summary()"
   ]
  },
  {
   "cell_type": "code",
   "execution_count": 634,
   "id": "edb886a0",
   "metadata": {},
   "outputs": [
    {
     "data": {
      "text/plain": [
       "[('1-14', 0.09925939654667804),\n",
       " ('1-15', 0.0066333163164266525),\n",
       " ('1-19', 0.7445549970736053),\n",
       " ('1-21', 0.22602096764005608),\n",
       " ('1-30', 0.16821075220576664),\n",
       " ('1-5', 0.19036168037760826),\n",
       " ('1-8', 0.24611992493154178)]"
      ]
     },
     "execution_count": 634,
     "metadata": {},
     "output_type": "execute_result"
    }
   ],
   "source": [
    "# significant units and pvalues\n",
    "sign_unit_idxs = [i for i, pval in enumerate(model.pvalues[1:]) if pval < 0.05]\n",
    "[(unit, model.pvalues[i]) for i, unit in enumerate(sel_units) if i in sign_unit_idxs]"
   ]
  },
  {
   "cell_type": "code",
   "execution_count": 635,
   "id": "ed89c43a",
   "metadata": {},
   "outputs": [
    {
     "data": {
      "text/plain": [
       "(0.1674229026734218, 1.1872138798050364e-12)"
      ]
     },
     "execution_count": 635,
     "metadata": {},
     "output_type": "execute_result"
    }
   ],
   "source": [
    "# PART 2 - test\n",
    "\n",
    "# Try how much single population response with GLM coeffs can predict AEP_target value\n",
    "# try bootstrapping by splitting train / test randomly 1000 times\n",
    "\n",
    "glm_coeffs = dict([(i, coef) for i, coef in enumerate(model.params[1:]) if model.pvalues[1:][i] < 0.95])\n",
    "#if len(glm_coeffs) == 0:\n",
    "#    return 0, 0, model.params, model.pvalues\n",
    "AEP_target_fit = np.zeros(len(y_test))\n",
    "for idx, coef in glm_coeffs.items():\n",
    "    AEP_target_fit += coef * X_test[:, idx]\n",
    "\n",
    "corr, pval = stats.pearsonr(AEP_target_fit, y_test)\n",
    "corr, pval"
   ]
  },
  {
   "cell_type": "code",
   "execution_count": 636,
   "id": "c2d63c32",
   "metadata": {},
   "outputs": [
    {
     "data": {
      "text/plain": [
       "[<matplotlib.lines.Line2D at 0x7eff68b536d0>]"
      ]
     },
     "execution_count": 636,
     "metadata": {},
     "output_type": "execute_result"
    },
    {
     "data": {
      "image/png": "[encoded data removed]",
      "text/plain": [
       "<Figure size 432x288 with 1 Axes>"
      ]
     },
     "metadata": {
      "needs_background": "light"
     },
     "output_type": "display_data"
    }
   ],
   "source": [
    "idx_l, idx_r = 0, 100\n",
    "plt.plot(stats.zscore(AEP_target_fit)[idx_l:idx_r])\n",
    "plt.plot(y_test[idx_l:idx_r])"
   ]
  },
  {
   "cell_type": "code",
   "execution_count": null,
   "id": "cfcbd67e",
   "metadata": {},
   "outputs": [],
   "source": []
  }
 ],
 "metadata": {
  "kernelspec": {
   "display_name": "Python 3 (ipykernel)",
   "language": "python",
   "name": "python3"
  },
  "language_info": {
   "codemirror_mode": {
    "name": "ipython",
    "version": 3
   },
   "file_extension": ".py",
   "mimetype": "text/x-python",
   "name": "python",
   "nbconvert_exporter": "python",
   "pygments_lexer": "ipython3",
   "version": "3.8.10"
  }
 },
 "nbformat": 4,
 "nbformat_minor": 5
}
