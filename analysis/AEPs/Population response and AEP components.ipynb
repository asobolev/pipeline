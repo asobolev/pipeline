{
 "cells": [
  {
   "cell_type": "code",
   "execution_count": 2,
   "id": "afdb26cb",
   "metadata": {},
   "outputs": [],
   "source": [
    "import sys, os\n",
    "sys.path.append(os.path.join(os.getcwd(), '..'))\n",
    "sys.path.append(os.path.join(os.getcwd(), '..', '..'))"
   ]
  },
  {
   "cell_type": "code",
   "execution_count": 3,
   "id": "6afe19e4",
   "metadata": {},
   "outputs": [],
   "source": [
    "%matplotlib inline\n",
    "\n",
    "from session.sessions import selected_009266, selected_008229\n",
    "from imports import *\n",
    "from scipy import stats\n",
    "from loading import load_session_data\n",
    "from target import get_spike_counts\n",
    "np.set_printoptions(suppress=True)"
   ]
  },
  {
   "cell_type": "code",
   "execution_count": 4,
   "id": "dc5880ac",
   "metadata": {},
   "outputs": [
    {
     "data": {
      "application/javascript": [
       "IPython.OutputArea.prototype._should_scroll = function(lines) {\n",
       "    return false;\n",
       "}\n"
      ],
      "text/plain": [
       "<IPython.core.display.Javascript object>"
      ]
     },
     "metadata": {},
     "output_type": "display_data"
    }
   ],
   "source": [
    "%%javascript\n",
    "IPython.OutputArea.prototype._should_scroll = function(lines) {\n",
    "    return false;\n",
    "}"
   ]
  },
  {
   "cell_type": "markdown",
   "id": "d48ad348",
   "metadata": {},
   "source": [
    "## Session data"
   ]
  },
  {
   "cell_type": "code",
   "execution_count": 5,
   "id": "3d199339",
   "metadata": {
    "scrolled": true
   },
   "outputs": [
    {
     "data": {
      "text/plain": [
       "['009266_hippoSIT_2023-04-17_17-04-17',\n",
       " '009266_hippoSIT_2023-04-18_10-10-37',\n",
       " '009266_hippoSIT_2023-04-18_17-03-10',\n",
       " '009266_hippoSIT_2023-04-19_10-33-51',\n",
       " '009266_hippoSIT_2023-04-20_08-57-39',\n",
       " '009266_hippoSIT_2023-04-20_15-24-14',\n",
       " '009266_hippoSIT_2023-04-21_08-43-00',\n",
       " '009266_hippoSIT_2023-04-21_13-12-31',\n",
       " '009266_hippoSIT_2023-04-24_10-08-11',\n",
       " '009266_hippoSIT_2023-04-24_16-56-55',\n",
       " '009266_hippoSIT_2023-04-26_08-20-17',\n",
       " '009266_hippoSIT_2023-05-02_12-22-14',\n",
       " '009266_hippoSIT_2023-05-04_19-47-15',\n",
       " '009266_hippoSIT_2023-05-22_09-27-22',\n",
       " '009266_hippoSIT_2023-05-23_09-18-05',\n",
       " '009266_hippoSIT_2023-05-25_15-55-57',\n",
       " '009266_hippoSIT_2023-06-14_08-21-23',\n",
       " '009266_hippoSIT_2023-06-19_08-58-35']"
      ]
     },
     "execution_count": 5,
     "metadata": {},
     "output_type": "execute_result"
    }
   ],
   "source": [
    "selected_009266"
   ]
  },
  {
   "cell_type": "code",
   "execution_count": 107,
   "id": "dbf7c2c6",
   "metadata": {},
   "outputs": [
    {
     "data": {
      "text/plain": [
       "'009266_hippoSIT_2023-04-19_10-33-51'"
      ]
     },
     "execution_count": 107,
     "metadata": {},
     "output_type": "execute_result"
    }
   ],
   "source": [
    "session = selected_009266[3]\n",
    "\n",
    "session_data = load_session_data(session)\n",
    "\n",
    "tl = session_data['tl']\n",
    "trials = session_data['trials']\n",
    "cfg = session_data['cfg']\n",
    "areas = session_data['areas']\n",
    "aeps = session_data['aeps']\n",
    "aeps_events = session_data['aeps_events']\n",
    "AEP_metrics_lims = session_data['AEP_metrics_lims']\n",
    "AEP_metrics_raw = session_data['AEP_metrics_raw']\n",
    "AEP_metrics_norm = session_data['AEP_metrics_norm']\n",
    "tgt_matrix = session_data['tgt_matrix']\n",
    "single_units = session_data['single_units']\n",
    "spike_times = session_data['spike_times']\n",
    "unit_names = session_data['unit_names']\n",
    "animal = session_data['animal']\n",
    "aeps_file = session_data['aeps_file']\n",
    "h5_file = session_data['h5_file']\n",
    "report_path = session_data['report_path']\n",
    "session"
   ]
  },
  {
   "cell_type": "markdown",
   "id": "c3e87122",
   "metadata": {},
   "source": [
    "## Z-scored population PSTH"
   ]
  },
  {
   "cell_type": "code",
   "execution_count": 108,
   "id": "c3753218",
   "metadata": {},
   "outputs": [],
   "source": [
    "aeps_tl_idxs = []  # idxs to timeline for AEP events\n",
    "for event_t in aeps_events[:, 0]:  # AEP event times\n",
    "    event_idx = (np.abs(tl[:, 0] - event_t)).argmin()\n",
    "    aeps_tl_idxs.append(event_idx)\n",
    "aeps_tl_idxs = np.array(aeps_tl_idxs)"
   ]
  },
  {
   "cell_type": "code",
   "execution_count": 109,
   "id": "50118337",
   "metadata": {},
   "outputs": [],
   "source": [
    "sel_units = [unit for unit in unit_names if int(unit[0]) < 3]\n",
    "#sel_units = [unit for unit in unit_names if int(unit[0]) > 2]\n",
    "sel_units = unit_names  # all units\n",
    "\n",
    "bin_size = 0.01  # sec\n",
    "step = 0.005  # sec \n",
    "t_start, t_end = int(tl[0][0]), int(tl[-1][0])\n",
    "bc = int((t_end - t_start) / bin_size) + 1\n",
    "exp_coef = round(bin_size/step)\n",
    "bins = np.linspace(t_start, t_end, bc)\n",
    "unit_act_matrix = np.zeros([len(sel_units), len(bins) * exp_coef])\n",
    "\n",
    "for i, unit in enumerate(sel_units):\n",
    "    spikes = spike_times[unit]\n",
    "    for offset in range(exp_coef):\n",
    "        bins = np.linspace(t_start + offset*step, t_end + offset*step, bc)\n",
    "        vals, _ = np.histogram(spikes, bins=bins)\n",
    "        idxs = np.arange(offset, (bc - 1) * exp_coef, exp_coef)\n",
    "        unit_act_matrix[i][idxs] = vals\n",
    "        \n",
    "for i, unit_data in enumerate(unit_act_matrix):\n",
    "    unit_act_matrix[i] = stats.zscore(unit_data)"
   ]
  },
  {
   "cell_type": "code",
   "execution_count": 110,
   "id": "5fbc3587",
   "metadata": {
    "scrolled": false
   },
   "outputs": [
    {
     "data": {
      "text/plain": [
       "<matplotlib.image.AxesImage at 0x7fa6dd013ca0>"
      ]
     },
     "execution_count": 110,
     "metadata": {},
     "output_type": "execute_result"
    },
    {
     "data": {
      "image/png": "[encoded data removed]",
      "text/plain": [
       "<Figure size 1080x360 with 1 Axes>"
      ]
     },
     "metadata": {
      "needs_background": "light"
     },
     "output_type": "display_data"
    }
   ],
   "source": [
    "# first seconds\n",
    "fig, ax = plt.subplots(1, 1, figsize=(15, 5))\n",
    "ax.imshow(unit_act_matrix[:, 0:300])"
   ]
  },
  {
   "cell_type": "code",
   "execution_count": 111,
   "id": "10f0c586",
   "metadata": {},
   "outputs": [],
   "source": [
    "hw = 0.25   # secs\n",
    "psth_matrix  = np.zeros([len(aeps_tl_idxs), 2*int(hw/step)])\n",
    "\n",
    "unit_act_matrix_idxs = np.array([int(x) for x in aeps_tl_idxs*bin_size*(bin_size/step)])\n",
    "for i, am_idx in enumerate(unit_act_matrix_idxs):\n",
    "    pop_response = unit_act_matrix[:, am_idx - int(hw/step):am_idx + int(hw/step)].sum(axis=0)\n",
    "    if len(pop_response) == psth_matrix.shape[1]:\n",
    "        psth_matrix[i] = pop_response"
   ]
  },
  {
   "cell_type": "code",
   "execution_count": 112,
   "id": "10a5c21c",
   "metadata": {
    "scrolled": true
   },
   "outputs": [
    {
     "data": {
      "text/plain": [
       "(-0.25, 0.25)"
      ]
     },
     "execution_count": 112,
     "metadata": {},
     "output_type": "execute_result"
    },
    {
     "data": {
      "image/png": "[encoded data removed]",
      "text/plain": [
       "<Figure size 720x360 with 1 Axes>"
      ]
     },
     "metadata": {
      "needs_background": "light"
     },
     "output_type": "display_data"
    }
   ],
   "source": [
    "fig, ax = plt.subplots(1, 1, figsize=(10, 5))\n",
    "\n",
    "weights_all  = psth_matrix.sum(axis=0)\n",
    "\n",
    "bins = np.linspace(-hw + bin_size, hw + bin_size, psth_matrix.shape[1])\n",
    "ax.hist(bins, bins=bins, weights=weights_all, edgecolor='black', color='green', alpha=0.8, label='Pop. response')\n",
    "ax.axvline(0, color='black', ls='--')\n",
    "ax.set_title(\"Population response at target onset\", fontsize=14)\n",
    "ax.grid()\n",
    "ax.set_xlim(-hw, hw)"
   ]
  },
  {
   "cell_type": "code",
   "execution_count": 113,
   "id": "553259f0",
   "metadata": {},
   "outputs": [
    {
     "data": {
      "text/plain": [
       "[<matplotlib.lines.Line2D at 0x7fa6dc8cd9d0>]"
      ]
     },
     "execution_count": 113,
     "metadata": {},
     "output_type": "execute_result"
    },
    {
     "data": {
      "image/png": "[encoded data removed]",
      "text/plain": [
       "<Figure size 432x288 with 1 Axes>"
      ]
     },
     "metadata": {
      "needs_background": "light"
     },
     "output_type": "display_data"
    }
   ],
   "source": [
    "plt.plot(psth_matrix.sum(axis=0))"
   ]
  },
  {
   "cell_type": "code",
   "execution_count": 83,
   "id": "542e3b24",
   "metadata": {},
   "outputs": [],
   "source": [
    "# separate by behav fit\n",
    "# moseq_file = os.path.join(source, animal, session, 'moseq.h5')\n",
    "# with h5py.File(moseq_file, 'r') as f:\n",
    "#     behav_fit_AL = np.array(f['behav_fit_AL'])\n",
    "    \n",
    "# behav_fit_AL[:, 1] = stats.zscore(behav_fit_AL[:, 1])\n",
    "# idxs_behav_fit = [np.abs(behav_fit_AL[:, 0] - r[0]).argmin() for r in tgt_matrix]\n",
    "# idxs_high = np.where(behav_fit_AL[idxs_behav_fit][:, 1] > 0)[0]\n",
    "# idxs_low  = np.where(behav_fit_AL[idxs_behav_fit][:, 1] < 0)[0]\n",
    "\n",
    "\n",
    "# separate y success / miss\n",
    "idxs_high = np.where(tgt_matrix[:, 4] == 1)[0]\n",
    "idxs_low  = np.where(tgt_matrix[:, 4] == 0)[0]\n",
    "\n",
    "\n",
    "# separate by AEPs metrics (first TGT pulse)\n",
    "#area, metric = 'A1', 'P1'\n",
    "#AEP_metrics_norm[area][metric]\n",
    "\n",
    "\n",
    "weights_all  = psth_matrix.sum(axis=0)\n",
    "weights_high = psth_matrix[idxs_high].sum(axis=0) / len(idxs_high)\n",
    "weights_low  = psth_matrix[idxs_low].sum(axis=0) / len(idxs_low)"
   ]
  },
  {
   "cell_type": "code",
   "execution_count": 13,
   "id": "9461e7f2",
   "metadata": {},
   "outputs": [
    {
     "data": {
      "text/plain": [
       "(-7.0, 7.0)"
      ]
     },
     "execution_count": 13,
     "metadata": {},
     "output_type": "execute_result"
    },
    {
     "data": {
      "image/png": "[encoded data removed]",
      "text/plain": [
       "<Figure size 720x360 with 1 Axes>"
      ]
     },
     "metadata": {
      "needs_background": "light"
     },
     "output_type": "display_data"
    }
   ],
   "source": [
    "fig, ax = plt.subplots(1, 1, figsize=(10, 5))\n",
    "\n",
    "bins = np.linspace(-7 + bin_size, 7 + bin_size, psth_matrix.shape[1])\n",
    "ax.hist(bins, bins=bins, weights=weights_high, edgecolor='black', color='green', alpha=0.8, label='High')\n",
    "ax.hist(bins, bins=bins, weights=weights_low, edgecolor='black', color='black', alpha=0.5, label='Low')\n",
    "ax.axvline(0, color='black', ls='--')\n",
    "ax.set_title(\"Population response at target onset\", fontsize=14)\n",
    "ax.grid()\n",
    "ax.set_xlim(-hw, hw)"
   ]
  },
  {
   "cell_type": "code",
   "execution_count": null,
   "id": "6379d015",
   "metadata": {},
   "outputs": [],
   "source": []
  }
 ],
 "metadata": {
  "kernelspec": {
   "display_name": "Python 3 (ipykernel)",
   "language": "python",
   "name": "python3"
  },
  "language_info": {
   "codemirror_mode": {
    "name": "ipython",
    "version": 3
   },
   "file_extension": ".py",
   "mimetype": "text/x-python",
   "name": "python",
   "nbconvert_exporter": "python",
   "pygments_lexer": "ipython3",
   "version": "3.8.10"
  }
 },
 "nbformat": 4,
 "nbformat_minor": 5
}
