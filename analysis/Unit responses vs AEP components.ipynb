{
 "cells": [
  {
   "cell_type": "code",
   "execution_count": 20,
   "id": "4e5cbaac",
   "metadata": {},
   "outputs": [],
   "source": [
    "%matplotlib inline\n",
    "\n",
    "from imports import *\n",
    "from matplotlib.patches import ConnectionPatch\n",
    "from scipy.stats import pearsonr\n",
    "from scipy.stats import linregress\n",
    "from target import build_tgt_matrix\n",
    "np.set_printoptions(suppress=True)"
   ]
  },
  {
   "cell_type": "code",
   "execution_count": 2,
   "id": "55cdec3e",
   "metadata": {},
   "outputs": [
    {
     "data": {
      "application/javascript": [
       "IPython.OutputArea.prototype._should_scroll = function(lines) {\n",
       "    return false;\n",
       "}\n"
      ],
      "text/plain": [
       "<IPython.core.display.Javascript object>"
      ]
     },
     "metadata": {},
     "output_type": "display_data"
    }
   ],
   "source": [
    "%%javascript\n",
    "IPython.OutputArea.prototype._should_scroll = function(lines) {\n",
    "    return false;\n",
    "}"
   ]
  },
  {
   "cell_type": "code",
   "execution_count": 4,
   "id": "b2b7d52f",
   "metadata": {},
   "outputs": [],
   "source": [
    "source = '/home/sobolev/nevermind/Andrey/data'\n",
    "report = '/home/sobolev/nevermind/Andrey/analysis/PSTH'\n",
    "\n",
    "selected_sessions = [\n",
    "# new PPC sessions\n",
    "'009266_hippoSIT_2023-04-17_17-04-17',  # ch17, 20 + 55 correction, 5067 events. Showcase for N2 / N3 mod in target\n",
    "'009266_hippoSIT_2023-04-18_10-10-37',  # ch17, 10 + 55 correction, 5682 events\n",
    "'009266_hippoSIT_2023-04-18_17-03-10',  # ch17, 6 + 55 correction, 5494 events: FIXME very weird 1-2nd in target, find out\n",
    "'009266_hippoSIT_2023-04-19_10-33-51',  # ch17, 4 + 55 correction, 6424 events: very weird 1-2nd in target, find out\n",
    "'009266_hippoSIT_2023-04-20_08-57-39',  # ch1, 1 + 55 correction, 6424 events. Showcase for N2 / N3 mod in target\n",
    "'009266_hippoSIT_2023-04-24_16-56-55',  # ch17, 5 + 55* correction, 6165 events, frequency\n",
    "'009266_hippoSIT_2023-04-26_08-20-17',  # ch17, 12 + 55* correction, 6095 events, duration - showcase for N2 \n",
    "'009266_hippoSIT_2023-05-02_12-22-14',  # ch20, 10 + 55 correction, 5976 events, FIXME very weird 1-2nd in target, find out\n",
    "'009266_hippoSIT_2023-05-04_09-11-06',  # ch17, 5 + 55* correction, 4487 events, coma session with baseline AEPs\n",
    "'009266_hippoSIT_2023-05-04_19-47-15',  # ch20, 2 + 55 correction, 5678 events, duration\n",
    "\n",
    "# Old PPC sessions\n",
    "'008229_hippoSIT_2022-05-17_21-44-43',  # chs: 0, 31, 54, 56\n",
    "'008229_hippoSIT_2022-05-16_20-36-44',  # chs: 0, 56\n",
    "'008229_hippoSIT_2022-05-20_15-54-39',  # chs: 0, 56\n",
    "'008229_hippoSIT_2022-05-18_14-36-18',  # chs: 0, 56\n",
    "]\n",
    "\n",
    "session = selected_sessions[0]\n",
    "area = 'A1'\n",
    "\n",
    "animal      = session.split('_')[0]\n",
    "sessionpath = os.path.join(source, animal, session)\n",
    "aeps_file   = os.path.join(sessionpath, 'AEPs.h5')\n",
    "h5name      = os.path.join(sessionpath, session + '.h5')\n",
    "report_path = os.path.join(report, session)\n",
    "if not os.path.exists(report_path):\n",
    "    os.makedirs(report_path)"
   ]
  },
  {
   "cell_type": "code",
   "execution_count": 89,
   "id": "d431ce76",
   "metadata": {},
   "outputs": [],
   "source": [
    "def get_spike_counts_per_AEP(spk_times, pulse_times, off_start, off_end):\n",
    "    collected = []\n",
    "    for t_pulse in pulse_times:\n",
    "        selected = spk_times[(spk_times > t_pulse + off_start) & (spk_times < t_pulse + off_end)]\n",
    "        collected.append(len(selected))\n",
    "    return np.array(collected)"
   ]
  },
  {
   "cell_type": "code",
   "execution_count": 90,
   "id": "2642bee9",
   "metadata": {},
   "outputs": [],
   "source": [
    "def plot_scatter_by_metric(metric, example_units):\n",
    "    unit_count = np.array([len(vals) for vals in example_units.values()]).sum()\n",
    "    rows = int(np.ceil(unit_count/3))\n",
    "    fig = plt.figure(figsize=(15, rows*4))\n",
    "    count = 0\n",
    "\n",
    "    for session, unit_ids in example_units.items():\n",
    "        # read AEP events\n",
    "        animal    = session.split('_')[0]\n",
    "        aeps_file = os.path.join(source, animal, session, 'AEPs.h5')\n",
    "        with h5py.File(aeps_file, 'r') as f:\n",
    "            aeps_events = np.array(f['aeps_events'])\n",
    "            aeps = np.array(f[area]['aeps'])\n",
    "\n",
    "        # TODO find better way. Remove outliers\n",
    "        aeps[aeps > 5000]  =  5000\n",
    "        aeps[aeps < -5000] = -5000\n",
    "\n",
    "        # read single units\n",
    "        spike_times = {}\n",
    "        h5_file = os.path.join(source, animal, session, session + '.h5')\n",
    "        with h5py.File(h5_file, 'r') as f:\n",
    "            for unit_id in unit_ids:\n",
    "                spike_times[unit_id] = np.array(f['units'][unit_id][H5NAMES.spike_times['name']])\n",
    "\n",
    "        # load metrics\n",
    "        AEP_metrics_lims = {}\n",
    "        AEP_metrics_raw  = {}\n",
    "        AEP_metrics_norm = {}\n",
    "        with h5py.File(aeps_file, 'r') as f:\n",
    "            grp = f[area]\n",
    "            for metric_name in grp['raw']:\n",
    "                AEP_metrics_raw[metric_name]  = np.array(grp['raw'][metric_name])\n",
    "                AEP_metrics_norm[metric_name] = np.array(grp['norm'][metric_name])\n",
    "                AEP_metrics_lims[metric_name] = [int(x) for x in grp['raw'][metric_name].attrs['limits'].split(',')]\n",
    "        \n",
    "        # separate high / low AEP metric states\n",
    "        predictor = AEP_metrics_norm[metric]\n",
    "        low_state_idxs  = np.where(predictor < predictor.mean())[0]\n",
    "        high_state_idxs = np.where(predictor > predictor.mean())[0]\n",
    "        \n",
    "        for unit_id in unit_ids:\n",
    "            off_start = float(AEP_metrics_lims[metric][0]) / 1000  # in ms\n",
    "            off_end   = float(AEP_metrics_lims[metric][1]) / 1000  # in ms\n",
    "            print(off_start, off_end)\n",
    "            spikes_per_AEP_low  = get_spike_counts_per_AEP(spike_times[unit_id], aeps_events[low_state_idxs][:, 0], off_start, off_end)\n",
    "            spikes_per_AEP_high = get_spike_counts_per_AEP(spike_times[unit_id], aeps_events[high_state_idxs][:, 0], off_start, off_end)\n",
    "\n",
    "            slope, intercept, r_val, p_val, _ = linregress(spikes_per_AEP_high, AEP_metrics_norm[metric][high_state_idxs])\n",
    "            rl = lambda x: x*slope + intercept\n",
    "            x1, x2 = spikes_per_AEP_high.min(), spikes_per_AEP_high.max()\n",
    "\n",
    "            ax = fig.add_subplot(rows, 3, count+1)\n",
    "            ax.scatter(spikes_per_AEP_low, AEP_metrics_norm[metric][low_state_idxs], alpha=0.3, color='black')\n",
    "            ax.scatter(spikes_per_AEP_high, AEP_metrics_norm[metric][high_state_idxs], alpha=0.3, color='red')\n",
    "            #ax.plot([x1, x2], [rl(x1), rl(x2)])\n",
    "            #ax.set_xlim(0, 30)\n",
    "            ax.set_title(\"%s - R: %.2f, P: %.4f\" % (unit_id, r_val, p_val), fontsize=14)\n",
    "            count += 1"
   ]
  },
  {
   "cell_type": "markdown",
   "id": "df5f9305",
   "metadata": {},
   "source": [
    "## On-units vs AEPs P1"
   ]
  },
  {
   "cell_type": "code",
   "execution_count": 79,
   "id": "888f07ae",
   "metadata": {},
   "outputs": [
    {
     "data": {
      "text/plain": [
       "2"
      ]
     },
     "execution_count": 79,
     "metadata": {},
     "output_type": "execute_result"
    }
   ],
   "source": [
    "example_units = {\n",
    "    '009266_hippoSIT_2023-04-17_17-04-17': [\n",
    "        '1-2', '1-3', '1-4', '1-5', '1-6', '1-9', '1-12', '1-13', '1-15', '2-2', '2-3'\n",
    "    ],\n",
    "    '009266_hippoSIT_2023-04-18_10-10-37': [\n",
    "        '1-2', '1-3', '1-4', '1-9', '1-10', '2-2', '2-5', '2-7', '2-8', '2-11', '2-12'\n",
    "    ],\n",
    "    '009266_hippoSIT_2023-04-18_17-03-10': [\n",
    "        '1-2', '1-3', '1-6', '1-8', '1-9', '1-10', '1-12', '1-13', '2-2', '2-5', '2-6'\n",
    "    ],\n",
    "}\n",
    "\n",
    "example_units = {\n",
    "    '009266_hippoSIT_2023-04-17_17-04-17': [\n",
    "        '1-2', '1-3'\n",
    "    ]\n",
    "}\n",
    "\n",
    "unit_count = np.array([len(vals) for vals in example_units.values()]).sum()\n",
    "unit_count"
   ]
  },
  {
   "cell_type": "code",
   "execution_count": 80,
   "id": "1d437a99",
   "metadata": {},
   "outputs": [
    {
     "name": "stdout",
     "output_type": "stream",
     "text": [
      "0.015 0.025\n",
      "0.015 0.025\n"
     ]
    },
    {
     "data": {
      "image/png": "[encoded data removed]",
      "text/plain": [
       "<Figure size 1080x288 with 2 Axes>"
      ]
     },
     "metadata": {
      "needs_background": "light"
     },
     "output_type": "display_data"
    }
   ],
   "source": [
    "plot_scatter_by_metric('P1', example_units)"
   ]
  },
  {
   "cell_type": "code",
   "execution_count": 58,
   "id": "d01f8b2a",
   "metadata": {},
   "outputs": [
    {
     "data": {
      "text/plain": [
       "2"
      ]
     },
     "execution_count": 58,
     "metadata": {},
     "output_type": "execute_result"
    }
   ],
   "source": [
    "example_units = {\n",
    "    '009266_hippoSIT_2023-04-17_17-04-17': [\n",
    "        '1-2', '1-6', '1-9', '1-10', '1-11', '1-13', '1-15'\n",
    "    ],\n",
    "    '009266_hippoSIT_2023-04-18_10-10-37': [\n",
    "        '1-5', '1-8', '2-3', '2-10', '2-12'\n",
    "    ],\n",
    "    '009266_hippoSIT_2023-04-18_17-03-10': [\n",
    "        '1-2', '1-7', '1-11', '1-12', '1-16', '1-18', '2-3', '2-5', '2-9'\n",
    "    ],\n",
    "}\n",
    "\n",
    "example_units = {\n",
    "    '009266_hippoSIT_2023-04-18_10-10-37': [\n",
    "        '2-3'\n",
    "    ],\n",
    "    '009266_hippoSIT_2023-04-18_17-03-10': [\n",
    "        '2-9'\n",
    "    ],\n",
    "}\n",
    "\n",
    "unit_count = np.array([len(vals) for vals in example_units.values()]).sum()\n",
    "unit_count"
   ]
  },
  {
   "cell_type": "code",
   "execution_count": 84,
   "id": "9383213a",
   "metadata": {},
   "outputs": [
    {
     "name": "stdout",
     "output_type": "stream",
     "text": [
      "0.03 0.075\n",
      "0.03 0.075\n"
     ]
    },
    {
     "data": {
      "image/png": "[encoded data removed]",
      "text/plain": [
       "<Figure size 1080x288 with 2 Axes>"
      ]
     },
     "metadata": {
      "needs_background": "light"
     },
     "output_type": "display_data"
    }
   ],
   "source": [
    "plot_scatter_by_metric('N1', example_units)"
   ]
  },
  {
   "cell_type": "code",
   "execution_count": 42,
   "id": "8d878aef",
   "metadata": {},
   "outputs": [
    {
     "data": {
      "text/plain": [
       "32"
      ]
     },
     "execution_count": 42,
     "metadata": {},
     "output_type": "execute_result"
    }
   ],
   "source": [
    "example_units = {\n",
    "    '009266_hippoSIT_2023-04-17_17-04-17': [\n",
    "        '1-7', '1-10', '1-11', '1-12', '1-13', '1-14',\n",
    "    ],\n",
    "    '009266_hippoSIT_2023-04-18_10-10-37': [\n",
    "        '1-3', '1-6', '1-8', '2-2', '2-3', '2-4', '2-6', '2-9', '2-10', '2-11', '2-13', '2-14', \n",
    "    ],\n",
    "    '009266_hippoSIT_2023-04-18_17-03-10': [\n",
    "        '1-13', '1-18', '2-11', '2-2', '2-3', '2-4', '2-6', '2-7', '2-9'\n",
    "    ],\n",
    "    '009266_hippoSIT_2023-04-19_10-33-51': [\n",
    "        '1-2', '1-3', '2-2', '2-5', '2-6'\n",
    "    ]\n",
    "}\n",
    "\n",
    "unit_count = np.array([len(vals) for vals in example_units.values()]).sum()\n",
    "unit_count"
   ]
  },
  {
   "cell_type": "code",
   "execution_count": 85,
   "id": "b3e65eb4",
   "metadata": {},
   "outputs": [
    {
     "name": "stdout",
     "output_type": "stream",
     "text": [
      "0.075 0.095\n",
      "0.075 0.095\n"
     ]
    },
    {
     "data": {
      "image/png": "[encoded data removed]",
      "text/plain": [
       "<Figure size 1080x288 with 2 Axes>"
      ]
     },
     "metadata": {
      "needs_background": "light"
     },
     "output_type": "display_data"
    }
   ],
   "source": [
    "plot_scatter_by_metric('P2', example_units)"
   ]
  },
  {
   "cell_type": "code",
   "execution_count": 44,
   "id": "d2b8431d",
   "metadata": {},
   "outputs": [
    {
     "data": {
      "text/plain": [
       "42"
      ]
     },
     "execution_count": 44,
     "metadata": {},
     "output_type": "execute_result"
    }
   ],
   "source": [
    "example_units = {\n",
    "    '009266_hippoSIT_2023-04-17_17-04-17': [\n",
    "        '1-3', '1-7', '1-12'\n",
    "    ],\n",
    "    '009266_hippoSIT_2023-04-18_10-10-37': [\n",
    "        '1-2', '1-3', '1-4', '1-5', '1-6', '1-7', '1-8', '1-9', '2-2', '2-4', '2-5', '2-6', '2-9', '2-13', '2-14', \n",
    "    ],\n",
    "    '009266_hippoSIT_2023-04-18_17-03-10': [\n",
    "        '1-5', '1-8', '1-13', '1-14', '1-16', '1-18', '2-2', '2-8', '2-9'\n",
    "    ],\n",
    "    '009266_hippoSIT_2023-04-19_10-33-51': [\n",
    "        '1-2', '1-3', '1-4', '1-5', '1-7', '1-8', '1-9', '1-10', '1-11', '1-12', '1-13', '1-14', '1-16', \\\n",
    "        '1-19', '2-4'\n",
    "    ]\n",
    "}\n",
    "\n",
    "unit_count = np.array([len(vals) for vals in example_units.values()]).sum()\n",
    "unit_count"
   ]
  },
  {
   "cell_type": "code",
   "execution_count": 86,
   "id": "3ab54cf6",
   "metadata": {},
   "outputs": [
    {
     "name": "stdout",
     "output_type": "stream",
     "text": [
      "0.095 0.175\n",
      "0.095 0.175\n"
     ]
    },
    {
     "data": {
      "image/png": "[encoded data removed]",
      "text/plain": [
       "<Figure size 1080x288 with 2 Axes>"
      ]
     },
     "metadata": {
      "needs_background": "light"
     },
     "output_type": "display_data"
    }
   ],
   "source": [
    "plot_scatter_by_metric('P3', example_units)"
   ]
  },
  {
   "cell_type": "code",
   "execution_count": null,
   "id": "19414c55",
   "metadata": {},
   "outputs": [],
   "source": []
  }
 ],
 "metadata": {
  "kernelspec": {
   "display_name": "Python 3 (ipykernel)",
   "language": "python",
   "name": "python3"
  },
  "language_info": {
   "codemirror_mode": {
    "name": "ipython",
    "version": 3
   },
   "file_extension": ".py",
   "mimetype": "text/x-python",
   "name": "python",
   "nbconvert_exporter": "python",
   "pygments_lexer": "ipython3",
   "version": "3.8.10"
  }
 },
 "nbformat": 4,
 "nbformat_minor": 5
}
