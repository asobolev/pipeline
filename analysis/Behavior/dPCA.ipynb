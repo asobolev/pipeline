{
 "cells": [
  {
   "cell_type": "code",
   "execution_count": 1,
   "id": "bca0a270",
   "metadata": {},
   "outputs": [],
   "source": [
    "from numpy import *\n",
    "from numpy.random import rand, randn, randint\n",
    "from dPCA import dPCA"
   ]
  },
  {
   "cell_type": "code",
   "execution_count": 2,
   "id": "1fef3742",
   "metadata": {},
   "outputs": [],
   "source": [
    "# number of neurons, time-points and stimuli\n",
    "N,T,S = 100, 250, 6\n",
    "\n",
    "# noise-level and number of trials in each condition\n",
    "noise, n_samples = 0.2, 10\n",
    "\n",
    "# build two latent factors\n",
    "zt = (arange(T)/float(T))\n",
    "zs = (arange(S)/float(S))\n",
    "\n",
    "# build trial-by trial data\n",
    "trialR = noise*randn(n_samples,N,S,T)\n",
    "trialR += randn(N)[None,:,None,None]*zt[None,None,None,:]\n",
    "trialR += randn(N)[None,:,None,None]*zs[None,None,:,None]\n",
    "\n",
    "# trial-average data\n",
    "R = mean(trialR,0)\n",
    "\n",
    "# center data\n",
    "R -= mean(R.reshape((N,-1)),1)[:,None,None]"
   ]
  },
  {
   "cell_type": "code",
   "execution_count": null,
   "id": "eaa5ef01",
   "metadata": {},
   "outputs": [],
   "source": [
    "# create a dataset for dPCA\n",
    "# n, r, s, t = neuron, run/rest, state, time\n",
    "\n"
   ]
  }
 ],
 "metadata": {
  "kernelspec": {
   "display_name": "pysit",
   "language": "python",
   "name": "pysit"
  },
  "language_info": {
   "codemirror_mode": {
    "name": "ipython",
    "version": 3
   },
   "file_extension": ".py",
   "mimetype": "text/x-python",
   "name": "python",
   "nbconvert_exporter": "python",
   "pygments_lexer": "ipython3",
   "version": "3.10.13"
  }
 },
 "nbformat": 4,
 "nbformat_minor": 5
}
