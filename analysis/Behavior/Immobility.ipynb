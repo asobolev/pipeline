{
 "cells": [
  {
   "cell_type": "code",
   "execution_count": 18,
   "id": "43770aa5",
   "metadata": {},
   "outputs": [
    {
     "data": {
      "application/javascript": [
       "IPython.OutputArea.prototype._should_scroll = function(lines) {\n",
       "    return false;\n",
       "}\n"
      ],
      "text/plain": [
       "<IPython.core.display.Javascript object>"
      ]
     },
     "metadata": {},
     "output_type": "display_data"
    }
   ],
   "source": [
    "%%javascript\n",
    "IPython.OutputArea.prototype._should_scroll = function(lines) {\n",
    "    return false;\n",
    "}"
   ]
  },
  {
   "cell_type": "code",
   "execution_count": 41,
   "id": "be839ba9",
   "metadata": {},
   "outputs": [],
   "source": [
    "import sys, os\n",
    "sys.path.append(os.path.join(os.getcwd(), '..'))\n",
    "sys.path.append(os.path.join(os.getcwd(), '..', '..'))\n",
    "sys.path.append(os.path.join(os.getcwd(), '..', '..', '..', 'pplSIT', 'workflow'))\n",
    "sys.path.append(os.path.join(os.getcwd(), '..', '..', '..', 'pplSIT', 'workflow', 'utils'))"
   ]
  },
  {
   "cell_type": "code",
   "execution_count": 42,
   "id": "aac60902",
   "metadata": {},
   "outputs": [],
   "source": [
    "%matplotlib inline\n",
    "\n",
    "import os\n",
    "import h5py\n",
    "import json\n",
    "import numpy as np\n",
    "import matplotlib.pyplot as plt\n",
    "\n",
    "from analysis.sessions import selected_013608\n",
    "from utils.neurosuite import get_unit_names_sorted"
   ]
  },
  {
   "cell_type": "code",
   "execution_count": 43,
   "id": "40b8c524",
   "metadata": {},
   "outputs": [],
   "source": [
    "def get_idxs_as_periods(idxs_events):\n",
    "    if len(idxs_events) == 0:\n",
    "        return np.array([])\n",
    "        \n",
    "    idxs_to_idxs = np.where(np.diff(idxs_events) > 1)[0]\n",
    "    if len(idxs_to_idxs) == 0:\n",
    "        return np.array([idxs_events[0], idxs_events[-1]])\n",
    "    \n",
    "    # periods - indices to TL where was silent\n",
    "    periods       = np.zeros([len(idxs_to_idxs) + 1, 2])\n",
    "    periods[0]    = np.array([0, idxs_to_idxs[0]])\n",
    "    periods[1:-1] = np.column_stack([idxs_to_idxs[:-1] + 1, idxs_to_idxs[1:]])\n",
    "    periods[-1]   = np.array([idxs_to_idxs[-1]+1, len(idxs_events) - 1])\n",
    "    periods       = periods.astype(np.int32)\n",
    "    \n",
    "    periods_ev = []\n",
    "    for per in periods:\n",
    "        periods_ev.append([idxs_events[per[0]], idxs_events[per[1]]])\n",
    "    return np.array(periods_ev, dtype=np.int32)"
   ]
  },
  {
   "cell_type": "code",
   "execution_count": 80,
   "id": "16bdb83d",
   "metadata": {},
   "outputs": [
    {
     "data": {
      "text/plain": [
       "['013608_ppcSIT_2025-01-06_13-20-52']"
      ]
     },
     "execution_count": 80,
     "metadata": {},
     "output_type": "execute_result"
    }
   ],
   "source": [
    "#source  = '/Users/andrey/sandbox/'\n",
    "source  = '/home/sobolev/nevermind/AG_Pecka/data/processed/'\n",
    "#source  = '/mnt/nevermind.data-share/ag-grothe/AG_Pecka/data/processed/'\n",
    "\n",
    "#session = '013608_ppcSIT_2025-01-23_08-46-51'  # HPC\n",
    "\n",
    "selected_013608[:1]"
   ]
  },
  {
   "cell_type": "code",
   "execution_count": 125,
   "id": "21f58c19",
   "metadata": {},
   "outputs": [],
   "source": [
    "speed_max = 0.04  # m/s\n",
    "\n",
    "for session in selected_013608[:1]:\n",
    "    animal      = session.split('_')[0]\n",
    "    meta_file   = os.path.join(source, animal, session, 'meta.h5')\n",
    "    units_file  = os.path.join(source, animal, session, 'units.h5')\n",
    "    \n",
    "    # reading events and spiking data\n",
    "    with h5py.File(meta_file, 'r') as f:\n",
    "        tl = np.array(f['processed']['timeline'])\n",
    "        sound_events = np.array(f['processed']['sound_events'])\n",
    "        cfg = json.loads(f['processed'].attrs['parameters'])\n",
    "        tgt_mx = np.array(f['processed']['target_matrix'])\n",
    "        \n",
    "    speed_ev = tl[sound_events[:, 2].astype(np.int32)][:, 3]\n",
    "    idxs_sta_ev = np.where(speed_ev < speed_max)[0]\n",
    "    idxs_bgr_ev = np.where(sound_events[:, 1] == 1)[0]\n",
    "    idxs_sil_ev = np.where(sound_events[:, 1] == 0)[0]\n",
    "    idxs_tgt_ev = np.where(sound_events[:, 1] == 2)[0]\n",
    "    idxs_di1_ev = np.where(sound_events[:, 1] == 3)[0]\n",
    "    idxs_di2_ev = np.where(sound_events[:, 1] == 4)[0]\n",
    "\n",
    "    periods_sta_bgr_ev = get_idxs_as_periods(np.intersect1d(idxs_sta_ev, idxs_bgr_ev))\n",
    "    \n",
    "    spike_times = {}\n",
    "    inst_rates = {}\n",
    "    with h5py.File(units_file, 'r') as f:\n",
    "        unit_names = get_unit_names_sorted([name for name in f])\n",
    "        for unit_name in f:\n",
    "            spike_times[unit_name] = np.array(f[unit_name]['spike_times'])\n",
    "            inst_rates[unit_name] = np.array(f[unit_name]['inst_rate'])"
   ]
  },
  {
   "cell_type": "code",
   "execution_count": 82,
   "id": "43b8174a",
   "metadata": {},
   "outputs": [
    {
     "data": {
      "text/plain": [
       "(0.0, 1000.0)"
      ]
     },
     "execution_count": 82,
     "metadata": {},
     "output_type": "execute_result"
    },
    {
     "data": {
      "image/png": "[encoded data removed]",
      "text/plain": [
       "<Figure size 1080x216 with 1 Axes>"
      ]
     },
     "metadata": {
      "needs_background": "light"
     },
     "output_type": "display_data"
    }
   ],
   "source": [
    "fig, ax = plt.subplots(1, 1, figsize=(15, 3))\n",
    "ax.plot(speed_ev)\n",
    "for period in periods_sta_bgr_ev:\n",
    "    ax.plot(period, np.ones(2), color='red')\n",
    "ax.set_xlim(0, 1000)"
   ]
  },
  {
   "cell_type": "code",
   "execution_count": 83,
   "id": "61ce19b9",
   "metadata": {
    "scrolled": true
   },
   "outputs": [
    {
     "data": {
      "text/plain": [
       "(array([127., 107.,  61.,  56.,  36.,  28.,  34.,  19.,  13.,   8.,  13.,\n",
       "          7.,   5.,   6.,   1.,   4.,   6.,   0.,   4.,   2.,   1.,   1.,\n",
       "          1.,   0.,   2.,   0.,   2.,   2.,   1.,   0.,   0.,   1.,   1.,\n",
       "          0.,   0.,   1.,   0.,   0.,   0.,   0.]),\n",
       " array([ 0.,  1.,  2.,  3.,  4.,  5.,  6.,  7.,  8.,  9., 10., 11., 12.,\n",
       "        13., 14., 15., 16., 17., 18., 19., 20., 21., 22., 23., 24., 25.,\n",
       "        26., 27., 28., 29., 30., 31., 32., 33., 34., 35., 36., 37., 38.,\n",
       "        39., 40.]),\n",
       " <BarContainer object of 40 artists>)"
      ]
     },
     "execution_count": 83,
     "metadata": {},
     "output_type": "execute_result"
    },
    {
     "data": {
      "image/png": "[encoded data removed]",
      "text/plain": [
       "<Figure size 432x288 with 1 Axes>"
      ]
     },
     "metadata": {
      "needs_background": "light"
     },
     "output_type": "display_data"
    }
   ],
   "source": [
    "plt.hist(np.diff(periods_sta_bgr_ev, axis=1), bins=np.linspace(0, 40, 41))"
   ]
  },
  {
   "cell_type": "code",
   "execution_count": 84,
   "id": "b90f759f",
   "metadata": {},
   "outputs": [],
   "source": [
    "# filter by speed 0.04\n",
    "# then compute periods in events space\n",
    "# then hist"
   ]
  },
  {
   "cell_type": "code",
   "execution_count": 85,
   "id": "3946c702",
   "metadata": {},
   "outputs": [
    {
     "data": {
      "text/plain": [
       "17"
      ]
     },
     "execution_count": 85,
     "metadata": {},
     "output_type": "execute_result"
    }
   ],
   "source": [
    "# how many?\n",
    "len(np.where(np.diff(periods_sta, axis=1) > 12)[0])"
   ]
  },
  {
   "cell_type": "code",
   "execution_count": 122,
   "id": "e3d974e5",
   "metadata": {},
   "outputs": [],
   "source": [
    "bins_back = 8\n",
    "bins_fut  = 16\n",
    "periods_filt = periods_sta_bgr_ev[np.where(np.diff(periods_sta_bgr_ev, axis=1) > 12)[0]]\n",
    "#periods_filt = periods_sta_bgr_ev\n",
    "\n",
    "st = spike_times['1-137']\n",
    "collected = np.zeros([len(periods_filt), bins_back + bins_fut])\n",
    "for i, period in enumerate(periods_filt):\n",
    "    if not period[0] - bins_back > 0:  # too early\n",
    "        continue\n",
    "        \n",
    "    bc = np.array([period[1] - period[0], bins_fut]).min()\n",
    "    bins = np.arange(period[0] - bins_back, period[0] + bc + 1)\n",
    "    \n",
    "    bc_to_add = (bins_back + bins_fut) - len(bins) + 1\n",
    "    bins_to_add = np.array([np.nan for x in range(bc_to_add)])\n",
    "    \n",
    "    \n",
    "    counts, _ = np.histogram(st, bins=sound_events[bins][:, 0])\n",
    "    \n",
    "    #print(period, bins, bins_to_add)\n",
    "    collected[i] = np.concatenate([counts, bins_to_add])"
   ]
  },
  {
   "cell_type": "code",
   "execution_count": 127,
   "id": "9ebe4edf",
   "metadata": {},
   "outputs": [],
   "source": [
    "hist_bins = np.arange(-bins_back, bins_fut)\n",
    "hist_counts = np.zeros(collected.shape[1])\n",
    "for i, bin_vals in enumerate(collected.T):\n",
    "    spike_count = np.nansum(bin_vals)\n",
    "    per_count = len(bin_vals) - np.isnan(bin_vals).sum()\n",
    "    hist_counts[i] = (spike_count / per_count) / 0.25"
   ]
  },
  {
   "cell_type": "code",
   "execution_count": 128,
   "id": "4b4c8998",
   "metadata": {},
   "outputs": [
    {
     "data": {
      "text/plain": [
       "<BarContainer object of 24 artists>"
      ]
     },
     "execution_count": 128,
     "metadata": {},
     "output_type": "execute_result"
    },
    {
     "data": {
      "image/png": "[encoded data removed]",
      "text/plain": [
       "<Figure size 432x288 with 1 Axes>"
      ]
     },
     "metadata": {
      "needs_background": "light"
     },
     "output_type": "display_data"
    }
   ],
   "source": [
    "plt.bar(hist_bins, hist_counts)"
   ]
  },
  {
   "cell_type": "code",
   "execution_count": 126,
   "id": "edb27f90",
   "metadata": {},
   "outputs": [
    {
     "data": {
      "text/plain": [
       "array([[ 1.        , -0.35051242],\n",
       "       [-0.35051242,  1.        ]])"
      ]
     },
     "execution_count": 126,
     "metadata": {},
     "output_type": "execute_result"
    }
   ],
   "source": [
    "# speed corr\n",
    "np.corrcoef(inst_rates['1-137'], tl[:, 3])"
   ]
  },
  {
   "cell_type": "code",
   "execution_count": 131,
   "id": "8cd0f974",
   "metadata": {},
   "outputs": [],
   "source": [
    "idxs_vectors_ev = periods_filt[:, 0]"
   ]
  },
  {
   "cell_type": "code",
   "execution_count": null,
   "id": "5925cd44",
   "metadata": {},
   "outputs": [],
   "source": [
    "# try diff offsets\n",
    "corr_medians = []\n",
    "pulses_rel = [x for x in range(-15, 40)]\n",
    "for offset in pulses_rel:\n",
    "    corr_mx_t = np.zeros([len(idxs_vectors_ev), len(idxs_vectors_ev)])\n",
    "    for i, idx_1 in enumerate(idxs_vectors_ev):\n",
    "        for j, idx_2 in enumerate(idxs_vectors_ev):\n",
    "            corr_mx_t[i][j] = np.corrcoef(unit_mx[idx_1+offset], unit_mx[idx_2+offset])[0][1]\n",
    "            \n",
    "    corrs = corr_mx_t.flatten()\n",
    "    corrs = corrs[corrs < 0.9]\n",
    "    corr_medians.append(np.median(corrs))"
   ]
  }
 ],
 "metadata": {
  "kernelspec": {
   "display_name": "Python 3 (ipykernel)",
   "language": "python",
   "name": "python3"
  },
  "language_info": {
   "codemirror_mode": {
    "name": "ipython",
    "version": 3
   },
   "file_extension": ".py",
   "mimetype": "text/x-python",
   "name": "python",
   "nbconvert_exporter": "python",
   "pygments_lexer": "ipython3",
   "version": "3.8.10"
  }
 },
 "nbformat": 4,
 "nbformat_minor": 5
}
