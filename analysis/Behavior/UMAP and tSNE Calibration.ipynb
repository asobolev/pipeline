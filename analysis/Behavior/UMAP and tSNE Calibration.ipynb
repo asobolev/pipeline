{
 "cells": [
  {
   "cell_type": "code",
   "execution_count": 7,
   "id": "4001a375",
   "metadata": {},
   "outputs": [],
   "source": [
    "import sys, os\n",
    "sys.path.append(os.path.join(os.getcwd(), '..'))\n",
    "sys.path.append(os.path.join(os.getcwd(), '..', '..'))\n",
    "\n",
    "sys.path.append(os.path.join(os.getcwd(), '..', '..', '..', 'pplSIT', 'workflow', 'utils'))"
   ]
  },
  {
   "cell_type": "code",
   "execution_count": 11,
   "id": "570920e2",
   "metadata": {},
   "outputs": [],
   "source": [
    "%matplotlib inline\n",
    "\n",
    "from session.sessions import selected_009266, selected_008229, selected_009265\n",
    "from imports import *\n",
    "from loading import load_session_data\n",
    "from behavior import get_behav_units\n",
    "from population import unit_response_matrix, activity_at_phase\n",
    "\n",
    "from scipy import stats\n",
    "from scipy import signal\n",
    "from sklearn.preprocessing import StandardScaler, MinMaxScaler\n",
    "from sklearn import decomposition\n",
    "from sklearn.cluster import DBSCAN\n",
    "\n",
    "from umap import UMAP  # conda install -c conda-forge umap-learn\n",
    "from sklearn.manifold import TSNE"
   ]
  },
  {
   "cell_type": "code",
   "execution_count": 3,
   "id": "26ba4176",
   "metadata": {},
   "outputs": [
    {
     "data": {
      "application/javascript": [
       "IPython.OutputArea.prototype._should_scroll = function(lines) {\n",
       "    return false;\n",
       "}\n"
      ],
      "text/plain": [
       "<IPython.core.display.Javascript object>"
      ]
     },
     "metadata": {},
     "output_type": "display_data"
    }
   ],
   "source": [
    "%%javascript\n",
    "IPython.OutputArea.prototype._should_scroll = function(lines) {\n",
    "    return false;\n",
    "}"
   ]
  },
  {
   "cell_type": "code",
   "execution_count": 13,
   "id": "4daf16cf",
   "metadata": {
    "scrolled": true
   },
   "outputs": [
    {
     "data": {
      "text/plain": [
       "['009265_hippoSIT_2023-03-09_20-03-08', '009265_hippoSIT_2023-03-05_11-52-17']"
      ]
     },
     "execution_count": 13,
     "metadata": {},
     "output_type": "execute_result"
    }
   ],
   "source": [
    "source = '/home/sobolev/nevermind_ag-grothe/AG_Pecka/data/processed/'\n",
    "source = '/home/sobolev/nevermind/AG_Pecka/data/processed/'\n",
    "\n",
    "sessions = [s for s in selected_009266.keys()]\n",
    "#sessions = [s for s in selected_009265.keys()]\n",
    "#sessions = [s for s in selected_008229.keys()]\n",
    "sessions.sort()\n",
    "\n",
    "try:\n",
    "    sessions.remove('009266_hippoSIT_2023-04-20_15-24-14')\n",
    "except:\n",
    "    pass\n",
    "try:\n",
    "    sessions.remove('009265_hippoSIT_2023-02-27_10-18-32')\n",
    "    sessions.remove('009265_hippoSIT_2023-02-27_15-33-46')\n",
    "except:\n",
    "    pass\n",
    "\n",
    "# special for 009265\n",
    "#sessions = sessions[7:-1]\n",
    "\n",
    "selected = [\n",
    "    '009265_hippoSIT_2023-03-09_20-03-08',\n",
    "    '009265_hippoSIT_2023-03-05_11-52-17'\n",
    "]\n",
    "selected"
   ]
  },
  {
   "cell_type": "code",
   "execution_count": 14,
   "id": "a79a90e7",
   "metadata": {},
   "outputs": [],
   "source": [
    "def get_ratio_matrix(moseq, tl, win_l=2, step=1, s_rate=100, syl_num=10):\n",
    "    idxs_srm_tl = np.arange(0, len(tl), int(step*s_rate))\n",
    "    syl_ratio_mx = np.zeros([len(idxs_srm_tl), syl_num])\n",
    "    for k, idx in enumerate(idxs_srm_tl):\n",
    "        curr_syls = moseq[:, 1][idx:idx + int(win_l*s_rate)]  # second column is syllables reindexed\n",
    "        for j in np.arange(syl_num):\n",
    "            syl_ratio_mx[k, j] = np.sum(curr_syls == j) / int(win_l*s_rate)\n",
    "\n",
    "    # roll 1 step to match\n",
    "    syl_ratio_mx = np.roll(syl_ratio_mx, 1, axis=0)\n",
    "    syl_ratio_mx[0] = syl_ratio_mx[1]\n",
    "    \n",
    "    return syl_ratio_mx, idxs_srm_tl"
   ]
  },
  {
   "cell_type": "markdown",
   "id": "5e6efd25",
   "metadata": {},
   "source": [
    "## t-SNE / UMAP for first 10 syllables"
   ]
  },
  {
   "cell_type": "code",
   "execution_count": 21,
   "id": "afac7c90",
   "metadata": {
    "scrolled": false
   },
   "outputs": [
    {
     "name": "stderr",
     "output_type": "stream",
     "text": [
      "/home/sobolev/projects/pySIT/lib/python3.8/site-packages/sklearn/manifold/_t_sne.py:800: FutureWarning: The default initialization in TSNE will change from 'random' to 'pca' in 1.2.\n",
      "  warnings.warn(\n",
      "/home/sobolev/projects/pySIT/lib/python3.8/site-packages/sklearn/manifold/_t_sne.py:810: FutureWarning: The default learning rate in TSNE will change from 200.0 to 'auto' in 1.2.\n",
      "  warnings.warn(\n",
      "/home/sobolev/projects/pySIT/lib/python3.8/site-packages/sklearn/manifold/_t_sne.py:800: FutureWarning: The default initialization in TSNE will change from 'random' to 'pca' in 1.2.\n",
      "  warnings.warn(\n",
      "/home/sobolev/projects/pySIT/lib/python3.8/site-packages/sklearn/manifold/_t_sne.py:810: FutureWarning: The default learning rate in TSNE will change from 200.0 to 'auto' in 1.2.\n",
      "  warnings.warn(\n",
      "/home/sobolev/projects/pySIT/lib/python3.8/site-packages/sklearn/manifold/_t_sne.py:800: FutureWarning: The default initialization in TSNE will change from 'random' to 'pca' in 1.2.\n",
      "  warnings.warn(\n",
      "/home/sobolev/projects/pySIT/lib/python3.8/site-packages/sklearn/manifold/_t_sne.py:810: FutureWarning: The default learning rate in TSNE will change from 200.0 to 'auto' in 1.2.\n",
      "  warnings.warn(\n",
      "/home/sobolev/projects/pySIT/lib/python3.8/site-packages/sklearn/manifold/_t_sne.py:800: FutureWarning: The default initialization in TSNE will change from 'random' to 'pca' in 1.2.\n",
      "  warnings.warn(\n",
      "/home/sobolev/projects/pySIT/lib/python3.8/site-packages/sklearn/manifold/_t_sne.py:810: FutureWarning: The default learning rate in TSNE will change from 200.0 to 'auto' in 1.2.\n",
      "  warnings.warn(\n",
      "/home/sobolev/projects/pySIT/lib/python3.8/site-packages/umap/umap_.py:1943: UserWarning: n_jobs value -1 overridden to 1 by setting random_state. Use no seed for parallelism.\n",
      "  warn(f\"n_jobs value {self.n_jobs} overridden to 1 by setting random_state. Use no seed for parallelism.\")\n",
      "/home/sobolev/projects/pySIT/lib/python3.8/site-packages/umap/umap_.py:1943: UserWarning: n_jobs value -1 overridden to 1 by setting random_state. Use no seed for parallelism.\n",
      "  warn(f\"n_jobs value {self.n_jobs} overridden to 1 by setting random_state. Use no seed for parallelism.\")\n",
      "/home/sobolev/projects/pySIT/lib/python3.8/site-packages/umap/umap_.py:1943: UserWarning: n_jobs value -1 overridden to 1 by setting random_state. Use no seed for parallelism.\n",
      "  warn(f\"n_jobs value {self.n_jobs} overridden to 1 by setting random_state. Use no seed for parallelism.\")\n",
      "/home/sobolev/projects/pySIT/lib/python3.8/site-packages/umap/umap_.py:1943: UserWarning: n_jobs value -1 overridden to 1 by setting random_state. Use no seed for parallelism.\n",
      "  warn(f\"n_jobs value {self.n_jobs} overridden to 1 by setting random_state. Use no seed for parallelism.\")\n"
     ]
    },
    {
     "name": "stdout",
     "output_type": "stream",
     "text": [
      "009265_hippoSIT_2023-03-09_20-03-08\n"
     ]
    },
    {
     "name": "stderr",
     "output_type": "stream",
     "text": [
      "/home/sobolev/projects/pySIT/lib/python3.8/site-packages/sklearn/manifold/_t_sne.py:800: FutureWarning: The default initialization in TSNE will change from 'random' to 'pca' in 1.2.\n",
      "  warnings.warn(\n",
      "/home/sobolev/projects/pySIT/lib/python3.8/site-packages/sklearn/manifold/_t_sne.py:810: FutureWarning: The default learning rate in TSNE will change from 200.0 to 'auto' in 1.2.\n",
      "  warnings.warn(\n",
      "/home/sobolev/projects/pySIT/lib/python3.8/site-packages/sklearn/manifold/_t_sne.py:800: FutureWarning: The default initialization in TSNE will change from 'random' to 'pca' in 1.2.\n",
      "  warnings.warn(\n",
      "/home/sobolev/projects/pySIT/lib/python3.8/site-packages/sklearn/manifold/_t_sne.py:810: FutureWarning: The default learning rate in TSNE will change from 200.0 to 'auto' in 1.2.\n",
      "  warnings.warn(\n",
      "/home/sobolev/projects/pySIT/lib/python3.8/site-packages/sklearn/manifold/_t_sne.py:800: FutureWarning: The default initialization in TSNE will change from 'random' to 'pca' in 1.2.\n",
      "  warnings.warn(\n",
      "/home/sobolev/projects/pySIT/lib/python3.8/site-packages/sklearn/manifold/_t_sne.py:810: FutureWarning: The default learning rate in TSNE will change from 200.0 to 'auto' in 1.2.\n",
      "  warnings.warn(\n",
      "/home/sobolev/projects/pySIT/lib/python3.8/site-packages/sklearn/manifold/_t_sne.py:800: FutureWarning: The default initialization in TSNE will change from 'random' to 'pca' in 1.2.\n",
      "  warnings.warn(\n",
      "/home/sobolev/projects/pySIT/lib/python3.8/site-packages/sklearn/manifold/_t_sne.py:810: FutureWarning: The default learning rate in TSNE will change from 200.0 to 'auto' in 1.2.\n",
      "  warnings.warn(\n",
      "/home/sobolev/projects/pySIT/lib/python3.8/site-packages/umap/umap_.py:1943: UserWarning: n_jobs value -1 overridden to 1 by setting random_state. Use no seed for parallelism.\n",
      "  warn(f\"n_jobs value {self.n_jobs} overridden to 1 by setting random_state. Use no seed for parallelism.\")\n",
      "/home/sobolev/projects/pySIT/lib/python3.8/site-packages/umap/umap_.py:1943: UserWarning: n_jobs value -1 overridden to 1 by setting random_state. Use no seed for parallelism.\n",
      "  warn(f\"n_jobs value {self.n_jobs} overridden to 1 by setting random_state. Use no seed for parallelism.\")\n",
      "/home/sobolev/projects/pySIT/lib/python3.8/site-packages/umap/umap_.py:1943: UserWarning: n_jobs value -1 overridden to 1 by setting random_state. Use no seed for parallelism.\n",
      "  warn(f\"n_jobs value {self.n_jobs} overridden to 1 by setting random_state. Use no seed for parallelism.\")\n",
      "/home/sobolev/projects/pySIT/lib/python3.8/site-packages/umap/umap_.py:1943: UserWarning: n_jobs value -1 overridden to 1 by setting random_state. Use no seed for parallelism.\n",
      "  warn(f\"n_jobs value {self.n_jobs} overridden to 1 by setting random_state. Use no seed for parallelism.\")\n"
     ]
    },
    {
     "name": "stdout",
     "output_type": "stream",
     "text": [
      "009265_hippoSIT_2023-03-05_11-52-17\n"
     ]
    }
   ],
   "source": [
    "umap_dists        = [0.1, 0.3, 0.5, 0.7]\n",
    "perplexities      = [20, 50, 70, 100]\n",
    "umap_fits         = {}\n",
    "tsne_fits         = {}\n",
    "idxs_srm_succ_all = {}\n",
    "idxs_srm_fail_all = {}\n",
    "win_l, step = 2, 0.25  # in seconds\n",
    "    \n",
    "for i, session in enumerate(selected):\n",
    "    # load data\n",
    "    animal = session.split('_')[0]\n",
    "    s_path           = os.path.join(source, animal, session)\n",
    "    moseq_file       = os.path.join(source, animal, session, 'MoSeq.h5')\n",
    "    meta_file        = os.path.join(source, animal, session, 'meta.h5')\n",
    "    moseq_class_file = os.path.join(source, animal, session, 'analysis', 'MoSeq_WX.h5')\n",
    "    \n",
    "    with h5py.File(moseq_file, 'r') as f:\n",
    "        moseq = np.array(f['moseq'])\n",
    "        headers = list(f['moseq'].attrs['headers'])\n",
    "\n",
    "    with h5py.File(meta_file, 'r') as f:\n",
    "        tl = np.array(f['processed']['timeline'])\n",
    "        tgt_mx = np.array(f['processed']['target_matrix'])\n",
    "        events = np.array(f['processed']['sound_events'])\n",
    "        \n",
    "    syl_ratio_mx, idxs_srm_tl = get_ratio_matrix(moseq, tl, win_l=win_l, step=step)\n",
    "    \n",
    "    w_mx = []\n",
    "    for phase in [1, 2, 3, 4]:\n",
    "        w_pca = activity_at_phase(s_path, phase, do_pca=True)\n",
    "        w_mx.append(w_pca) # stay in events space\n",
    "    w_mx = np.column_stack(w_mx)\n",
    "    \n",
    "    l_events = len(events)\n",
    "    combined_mx = np.column_stack([syl_ratio_mx[:l_events], w_mx[:l_events]])\n",
    "\n",
    "    # indices of syllable ratio matrix when animal was successfully sitting\n",
    "    # in the island\n",
    "    idxs_srm_succ = []\n",
    "    for tgt_rec in tgt_mx[tgt_mx[:, 4] == 1]:\n",
    "        tl_l, tl_r = tgt_rec[2], tgt_rec[3]\n",
    "        idxs_srm_succ += list(np.where((idxs_srm_tl > tl_l) & (idxs_srm_tl < tl_r))[0])\n",
    "    idxs_srm_succ_all[session] = idxs_srm_succ\n",
    "    \n",
    "    idxs_srm_fail = []\n",
    "    for tgt_rec in tgt_mx[tgt_mx[:, 4] == 0]:\n",
    "        tl_l, tl_r = tgt_rec[2], tgt_rec[3]\n",
    "        idxs_srm_fail += list(np.where((idxs_srm_tl > tl_l) & (idxs_srm_tl < tl_r))[0])\n",
    "    idxs_srm_fail_all[session] = idxs_srm_fail\n",
    "        \n",
    "    tsne_fits[session] = {}\n",
    "    for perp in perplexities:\n",
    "        tsne = TSNE(n_components=2, perplexity=perp, random_state=0)\n",
    "        tsne_fit = tsne.fit_transform(combined_mx)\n",
    "        tsne_fits[session][perp] = tsne_fit\n",
    "        \n",
    "    umap_fits[session] = {}\n",
    "    for dist in umap_dists:\n",
    "        umap_2d = UMAP(n_components=2, n_neighbors=30, min_dist=dist, random_state=0)\n",
    "        umap_fit = umap_2d.fit_transform(combined_mx)\n",
    "        umap_fits[session][dist] = umap_fit\n",
    "\n",
    "    with h5py.File(moseq_class_file, 'w') as f:\n",
    "        f.create_dataset('syl_ratio_mx', data=syl_ratio_mx)\n",
    "        f.create_dataset('idxs_srm_tl', data=idxs_srm_tl)\n",
    "        f.create_group('tSNE')\n",
    "        for perp in perplexities:\n",
    "            f['tSNE'].create_dataset(str(perp), data=tsne_fits[session][perp])\n",
    "        f.create_group('UMAP')\n",
    "        for dist in umap_dists:\n",
    "            f['UMAP'].create_dataset(str(dist), data=umap_fits[session][dist])\n",
    "        \n",
    "    print(session)"
   ]
  },
  {
   "cell_type": "code",
   "execution_count": 20,
   "id": "c7e18306",
   "metadata": {},
   "outputs": [
    {
     "data": {
      "text/plain": [
       "(9599, 14)"
      ]
     },
     "execution_count": 20,
     "metadata": {},
     "output_type": "execute_result"
    }
   ],
   "source": [
    "l_events = len(events)\n",
    "\n",
    "combined_mx = np.column_stack([syl_ratio_mx[:l_events], w_mx[:l_events]])\n",
    "combined_mx.shape"
   ]
  },
  {
   "cell_type": "code",
   "execution_count": null,
   "id": "1b94ed02",
   "metadata": {},
   "outputs": [],
   "source": []
  }
 ],
 "metadata": {
  "kernelspec": {
   "display_name": "Python 3 (ipykernel)",
   "language": "python",
   "name": "python3"
  },
  "language_info": {
   "codemirror_mode": {
    "name": "ipython",
    "version": 3
   },
   "file_extension": ".py",
   "mimetype": "text/x-python",
   "name": "python",
   "nbconvert_exporter": "python",
   "pygments_lexer": "ipython3",
   "version": "3.8.10"
  }
 },
 "nbformat": 4,
 "nbformat_minor": 5
}
