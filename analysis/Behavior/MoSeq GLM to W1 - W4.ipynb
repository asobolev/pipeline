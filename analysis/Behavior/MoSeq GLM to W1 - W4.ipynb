{
 "cells": [
  {
   "cell_type": "code",
   "execution_count": 1,
   "id": "4001a375",
   "metadata": {},
   "outputs": [],
   "source": [
    "import sys, os\n",
    "sys.path.append(os.path.join(os.getcwd(), '..'))\n",
    "sys.path.append(os.path.join(os.getcwd(), '..', '..'))\n",
    "sys.path.append(os.path.join(os.getcwd(), '..', '..', '..', 'pplSIT', 'workflow', 'utils'))"
   ]
  },
  {
   "cell_type": "code",
   "execution_count": 2,
   "id": "570920e2",
   "metadata": {},
   "outputs": [],
   "source": [
    "%matplotlib inline\n",
    "\n",
    "from session.sessions import selected_009266, selected_008229, selected_009265\n",
    "from imports import *\n",
    "from loading import load_session_data\n",
    "from behavior import get_behav_units\n",
    "from scipy import stats\n",
    "from scipy import signal\n",
    "from sklearn.preprocessing import StandardScaler, MinMaxScaler\n",
    "from sklearn import decomposition\n",
    "from sklearn.cluster import DBSCAN\n",
    "from statsmodels.formula.api import ols, glm\n",
    "from sklearn.model_selection import train_test_split\n",
    "from population import unit_response_matrix, activity_at_phase\n",
    "\n",
    "import pandas as pd"
   ]
  },
  {
   "cell_type": "code",
   "execution_count": 3,
   "id": "26ba4176",
   "metadata": {},
   "outputs": [
    {
     "data": {
      "application/javascript": [
       "IPython.OutputArea.prototype._should_scroll = function(lines) {\n",
       "    return false;\n",
       "}\n"
      ],
      "text/plain": [
       "<IPython.core.display.Javascript object>"
      ]
     },
     "metadata": {},
     "output_type": "display_data"
    }
   ],
   "source": [
    "%%javascript\n",
    "IPython.OutputArea.prototype._should_scroll = function(lines) {\n",
    "    return false;\n",
    "}"
   ]
  },
  {
   "cell_type": "code",
   "execution_count": 4,
   "id": "4daf16cf",
   "metadata": {
    "scrolled": true
   },
   "outputs": [
    {
     "data": {
      "text/plain": [
       "['009266_hippoSIT_2023-04-17_17-04-17', '009266_hippoSIT_2023-04-18_10-10-37']"
      ]
     },
     "execution_count": 4,
     "metadata": {},
     "output_type": "execute_result"
    }
   ],
   "source": [
    "source = '/home/sobolev/nevermind/AG_Pecka/data/processed/'\n",
    "\n",
    "sessions = [s for s in selected_009266.keys()]\n",
    "#sessions = [s for s in selected_009265.keys()]\n",
    "#sessions = [s for s in selected_008229.keys()]\n",
    "sessions.sort()\n",
    "\n",
    "selected = sessions[:2]\n",
    "try:\n",
    "    selected.remove('009266_hippoSIT_2023-04-20_15-24-14')\n",
    "except:\n",
    "    pass\n",
    "selected"
   ]
  },
  {
   "cell_type": "code",
   "execution_count": 5,
   "id": "c3501bc7",
   "metadata": {},
   "outputs": [],
   "source": [
    "def get_GLM_and_prediction(syl_ratio_mx, pop_at_phase, test_size=0.33, glm_min_pval=0.95):\n",
    "\n",
    "    # separate train / test\n",
    "    X_train, X_test, y_train, y_test = train_test_split(syl_ratio_mx, pop_at_phase, test_size=test_size)\n",
    "    \n",
    "    # train glm to get contributions of each syllable\n",
    "    data = np.column_stack([y_train, X_train])\n",
    "    columns = ['state'] + [\"x%d\" % x for x in range(X_train.shape[1])]\n",
    "    AM_df = pd.DataFrame(data, columns=columns)\n",
    "\n",
    "    model = glm('state ~ ' + ' + '.join(columns[1:]), data=AM_df).fit()\n",
    "    #model.summary()\n",
    "    \n",
    "    glm_coeffs = dict([(i, coef) for i, coef in enumerate(model.params[1:]) if model.pvalues[1:][i] < glm_min_pval])\n",
    "    #if len(glm_coeffs) == 0:\n",
    "    #    return 0, 0, model.params, model.pvalues\n",
    "    target_fit = np.zeros(len(y_test))\n",
    "    for idx, coef in glm_coeffs.items():\n",
    "        target_fit += coef * X_test[:, idx]\n",
    "\n",
    "    corr, pval = stats.pearsonr(target_fit, y_test)\n",
    "    \n",
    "    return corr, pval, model.params, model.pvalues"
   ]
  },
  {
   "cell_type": "code",
   "execution_count": 6,
   "id": "d0dd41e8",
   "metadata": {
    "scrolled": true
   },
   "outputs": [
    {
     "name": "stdout",
     "output_type": "stream",
     "text": [
      "W1 - original: 0.09, 0.000; shuffled: 0.03, 0.246\n",
      "W2 - original: 0.32, 0.000; shuffled: -0.03, 0.223\n",
      "W3 - original: 0.35, 0.000; shuffled: 0.00, 0.932\n",
      "W4 - original: 0.44, 0.000; shuffled: 0.04, 0.146\n",
      "009266_hippoSIT_2023-04-17_17-04-17 done\n",
      "W1 - original: 0.14, 0.000; shuffled: 0.00, 0.976\n",
      "W2 - original: 0.32, 0.000; shuffled: 0.02, 0.423\n",
      "W3 - original: 0.24, 0.000; shuffled: 0.01, 0.707\n",
      "W4 - original: 0.53, 0.000; shuffled: 0.01, 0.669\n",
      "009266_hippoSIT_2023-04-18_10-10-37 done\n"
     ]
    }
   ],
   "source": [
    "iter_count = 100\n",
    "\n",
    "for i, session in enumerate(selected):\n",
    "    animal = session.split('_')[0]\n",
    "    s_path           = os.path.join(source, animal, session)\n",
    "    meta_file        = os.path.join(source, animal, session, 'meta.h5')\n",
    "    moseq_file       = os.path.join(source, animal, session, 'MoSeq.h5')\n",
    "    moseq_class_file = os.path.join(source, animal, session, 'analysis', 'MoSeq_tSNE_UMAP.h5')\n",
    "    moseq_fit_file   = os.path.join(source, animal, session, 'analysis', 'MoSeq_W1-W4_GLM.h5')\n",
    "    \n",
    "    with h5py.File(meta_file, 'r') as f:\n",
    "        tl = np.array(f['processed']['timeline'])\n",
    "        tgt_mx = np.array(f['processed']['target_matrix'])\n",
    "        events = np.array(f['processed']['sound_events'])\n",
    "    with h5py.File(moseq_class_file, 'r') as f:\n",
    "        syl_ratio_mx = np.array(f['syl_ratio_mx'])\n",
    "        idxs_srm_tl  = np.array(f['idxs_srm_tl'])\n",
    "    with h5py.File(moseq_file, 'r') as f:\n",
    "        moseq = np.array(f['moseq'])\n",
    "        \n",
    "    width = 70  # 100 points ~= 1 sec with at 100Hz\n",
    "    kernel = signal.gaussian(width, std=(width) / 7.2)\n",
    "    dx = np.sqrt(np.square(np.diff(moseq[:, 3])) + np.square(np.diff(moseq[:, 4])))\n",
    "    dt = np.diff(moseq[:, 0])\n",
    "    speed = np.concatenate([dx/dt, [dx[-1]/dt[-1]]])\n",
    "    speed_smooth = np.convolve(speed, kernel, 'same') / kernel.sum()\n",
    "    \n",
    "    for j, phase in enumerate([1, 2, 3, 4]):\n",
    "        w_pca = activity_at_phase(s_path, phase, do_pca=True)\n",
    "        w_int = np.interp(tl[idxs_srm_tl][:, 0], events[:, 0], w_pca)\n",
    "\n",
    "        pred = syl_ratio_mx\n",
    "        pred = np.column_stack([syl_ratio_mx, speed_smooth[idxs_srm_tl]])\n",
    "        \n",
    "        # original\n",
    "        corr, pval, params, pvalues = get_GLM_and_prediction(pred, w_int)\n",
    "        \n",
    "        # diff train / split\n",
    "        corr_mx_chun = np.zeros([iter_count, 2])\n",
    "        for k in range(iter_count):\n",
    "            corr_s, pval_s, _, _ = get_GLM_and_prediction(pred, w_int)\n",
    "            corr_mx_chun[k] = (corr_s, pval_s)\n",
    "            \n",
    "        # shuffled\n",
    "        corr_mx_shuf = np.zeros([iter_count, 2])  # coeff, pval for each shuffle\n",
    "        for k in range(iter_count):\n",
    "            syl_ratio_mx_s = pred.copy()\n",
    "            np.random.shuffle(syl_ratio_mx_s)\n",
    "            corr_s, pval_s, _, _ = get_GLM_and_prediction(syl_ratio_mx_s, w_int)\n",
    "            corr_mx_shuf[k] = (corr_s, pval_s)\n",
    "        \n",
    "        grp_name = 'W' + str(j+1)\n",
    "        with h5py.File(moseq_fit_file, 'a') as f:\n",
    "            if not grp_name in f:\n",
    "                f.create_group(grp_name)\n",
    "            tgt_grp = f[grp_name]\n",
    "\n",
    "            for val in ['corr_glm_fit_orig', 'glm_fit_params', 'glm_fit_pvalues', 'corr_glm_fit_shuf', 'corr_glm_fit_chun']:\n",
    "                if val in tgt_grp:\n",
    "                    del tgt_grp[val]\n",
    "\n",
    "            tgt_grp.create_dataset('corr_glm_fit_orig', data=np.array([corr, pval]))\n",
    "            tgt_grp.create_dataset('glm_fit_params',    data=params)\n",
    "            tgt_grp.create_dataset('glm_fit_pvalues',   data=pvalues)\n",
    "            tgt_grp.create_dataset('corr_glm_fit_shuf', data=corr_mx_shuf)\n",
    "            tgt_grp.create_dataset('corr_glm_fit_chun', data=corr_mx_chun)\n",
    "        \n",
    "        print(\"W%d - original: %.2f, %.3f; shuffled: %.2f, %.3f\" % (j+1, corr, pval, corr_s, pval_s))\n",
    "    print(session + ' done')"
   ]
  },
  {
   "cell_type": "code",
   "execution_count": 45,
   "id": "01044e30",
   "metadata": {},
   "outputs": [
    {
     "data": {
      "image/png": "[encoded data removed]",
      "text/plain": [
       "<Figure size 1152x576 with 8 Axes>"
      ]
     },
     "metadata": {
      "needs_background": "light"
     },
     "output_type": "display_data"
    }
   ],
   "source": [
    "rows = len(selected)\n",
    "cols = 4\n",
    "size = 4\n",
    "fig, axes = plt.subplots(rows, cols, figsize=(size*cols, size*rows))\n",
    "bins = np.linspace(-1, 1, 50)\n",
    "\n",
    "for i, session in enumerate(selected):\n",
    "    animal = session.split('_')[0]\n",
    "    s_path           = os.path.join(source, animal, session)\n",
    "    meta_file        = os.path.join(source, animal, session, 'meta.h5')\n",
    "    moseq_fit_file   = os.path.join(source, animal, session, 'analysis', 'MoSeq_W1-W4_GLM.h5')\n",
    "    \n",
    "    collected = {}\n",
    "    with h5py.File(moseq_fit_file, 'r') as f:\n",
    "        for grp in f:\n",
    "            collected[grp] = {}\n",
    "            collected[grp]['corr_glm_fit_orig'] = np.array(f[grp]['corr_glm_fit_orig'])\n",
    "            collected[grp]['glm_fit_params']    = np.array(f[grp]['glm_fit_params'])\n",
    "            collected[grp]['glm_fit_pvalues']   = np.array(f[grp]['glm_fit_pvalues'])\n",
    "            collected[grp]['corr_glm_fit_shuf'] = np.array(f[grp]['corr_glm_fit_shuf'])\n",
    "            collected[grp]['corr_glm_fit_chun'] = np.array(f[grp]['corr_glm_fit_chun'])\n",
    "\n",
    "    for j, w_i in enumerate(collected.keys()):\n",
    "        corr = collected[w_i]['corr_glm_fit_orig'][0]\n",
    "        pval = collected[w_i]['corr_glm_fit_orig'][1]\n",
    "        corr_mx_shuf = collected[w_i]['corr_glm_fit_shuf']\n",
    "        corr_mx_chun = collected[w_i]['corr_glm_fit_chun']\n",
    "\n",
    "        min_pval = 0.99  # select some or all\n",
    "        coeffs_shuf = corr_mx_shuf[corr_mx_shuf[:, 1] < min_pval][:, 0]\n",
    "        coeffs_chun = corr_mx_chun[corr_mx_chun[:, 1] < min_pval][:, 0]\n",
    "\n",
    "        ax = axes[i][j]\n",
    "        ax.hist(coeffs_shuf, bins=bins, alpha=0.6, density=True, label='shuffle', color='tab:blue')\n",
    "        ax.hist(coeffs_chun, bins=bins, alpha=0.6, density=True, label='predict.', color='red')\n",
    "        ax.axvspan(np.percentile(coeffs_shuf, 5), np.percentile(coeffs_shuf, 95), alpha=0.3, color='gray')\n",
    "        ax.axvspan(np.percentile(coeffs_chun, 5), np.percentile(coeffs_chun, 95), alpha=0.3, color='red')\n",
    "        ax.axvline(coeffs_chun.mean(), color='black', ls='--', label='original')\n",
    "        ax.set_xlim(-0.7, 0.7)\n",
    "        ax.grid()\n",
    "        ax.legend(loc='upper left')\n",
    "        ax.set_title('%s (%.2f, p=%.2f)' % (w_i, coeffs_chun.mean(), pval), fontsize=14)\n",
    "\n",
    "        if j == 0:\n",
    "            ax.set_ylabel('%s' % session[-19:-6], fontsize=14)\n"
   ]
  },
  {
   "cell_type": "markdown",
   "id": "b53a1d2e",
   "metadata": {},
   "source": [
    "## TODO: GLM profiles for diff sessions - are they correlated?"
   ]
  },
  {
   "cell_type": "code",
   "execution_count": null,
   "id": "3fe23ac6",
   "metadata": {},
   "outputs": [],
   "source": []
  },
  {
   "cell_type": "code",
   "execution_count": null,
   "id": "8b26aafe",
   "metadata": {},
   "outputs": [],
   "source": []
  },
  {
   "cell_type": "code",
   "execution_count": null,
   "id": "0bd036ed",
   "metadata": {},
   "outputs": [],
   "source": []
  }
 ],
 "metadata": {
  "kernelspec": {
   "display_name": "Python 3 (ipykernel)",
   "language": "python",
   "name": "python3"
  },
  "language_info": {
   "codemirror_mode": {
    "name": "ipython",
    "version": 3
   },
   "file_extension": ".py",
   "mimetype": "text/x-python",
   "name": "python",
   "nbconvert_exporter": "python",
   "pygments_lexer": "ipython3",
   "version": "3.8.10"
  }
 },
 "nbformat": 4,
 "nbformat_minor": 5
}
