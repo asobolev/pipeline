{
 "cells": [
  {
   "cell_type": "code",
   "execution_count": 1,
   "id": "4001a375",
   "metadata": {},
   "outputs": [],
   "source": [
    "import sys, os\n",
    "sys.path.append(os.path.join(os.getcwd(), '..'))\n",
    "sys.path.append(os.path.join(os.getcwd(), '..', '..'))"
   ]
  },
  {
   "cell_type": "code",
   "execution_count": 5,
   "id": "570920e2",
   "metadata": {},
   "outputs": [],
   "source": [
    "%matplotlib inline\n",
    "\n",
    "from session.sessions import selected_009266, selected_008229, selected_009265, selected_57\n",
    "from imports import *\n",
    "from loading import load_session_data\n",
    "from target import get_spike_counts, build_tgt_matrix, build_silence_matrix\n",
    "from scipy import stats\n",
    "from scipy import signal\n",
    "import pandas as pd\n",
    "from functools import reduce\n",
    "from statsmodels.formula.api import ols, glm\n",
    "from postprocessing.spiketrain import instantaneous_rate"
   ]
  },
  {
   "cell_type": "code",
   "execution_count": 6,
   "id": "26ba4176",
   "metadata": {},
   "outputs": [
    {
     "data": {
      "application/javascript": [
       "IPython.OutputArea.prototype._should_scroll = function(lines) {\n",
       "    return false;\n",
       "}\n"
      ],
      "text/plain": [
       "<IPython.core.display.Javascript object>"
      ]
     },
     "metadata": {},
     "output_type": "display_data"
    }
   ],
   "source": [
    "%%javascript\n",
    "IPython.OutputArea.prototype._should_scroll = function(lines) {\n",
    "    return false;\n",
    "}"
   ]
  },
  {
   "cell_type": "markdown",
   "id": "62751662",
   "metadata": {},
   "source": [
    "## 01 - Syllable ratio matrix"
   ]
  },
  {
   "cell_type": "code",
   "execution_count": 7,
   "id": "dd986c29",
   "metadata": {},
   "outputs": [
    {
     "data": {
      "text/plain": [
       "['57_SIT_2023-12-18_14-07-34',\n",
       " '57_SIT_2023-12-22_14-08-07',\n",
       " '57_SIT_2023-12-22_14-43-58',\n",
       " '57_SIT_2023-12-22_17-37-18',\n",
       " '57_SIT_2023-12-23_14-21-01',\n",
       " '57_SIT_2023-12-28_16-43-28',\n",
       " '57_SIT_2023-12-29_11-06-26',\n",
       " '57_SIT_2023-12-29_11-40-14',\n",
       " '57_SIT_2023-12-29_12-11-46',\n",
       " '57_SIT_2024-01-02_14-43-18',\n",
       " '57_SIT_2024-01-02_16-38-05',\n",
       " '57_SIT_2024-01-02_17-10-09',\n",
       " '57_SIT_2024-01-03_19-22-18',\n",
       " '57_SIT_2024-01-03_19-54-59',\n",
       " '57_SIT_2024-01-04_14-16-22',\n",
       " '57_SIT_2024-01-04_14-52-59',\n",
       " '57_SIT_2024-01-05_14-35-49',\n",
       " '57_SIT_2024-01-05_15-08-34',\n",
       " '57_SIT_2024-01-06_16-52-40',\n",
       " '57_SIT_2024-01-06_17-25-35',\n",
       " '57_SIT_2024-01-07_19-23-28',\n",
       " '57_SIT_2024-01-08_15-51-26',\n",
       " '57_SIT_2024-01-12_13-23-02',\n",
       " '57_SIT_2024-01-15_13-45-22',\n",
       " '57_SIT_2024-01-15_14-34-48']"
      ]
     },
     "execution_count": 7,
     "metadata": {},
     "output_type": "execute_result"
    }
   ],
   "source": [
    "#source = '/home/sobolev/nevermind_ag-grothe/AG_Pecka/data/processed/'\n",
    "source = '/home/sobolev/nevermind/AG_Pecka/data/processed/'\n",
    "\n",
    "sessions = selected_57\n",
    "sessions.sort()\n",
    "sessions"
   ]
  },
  {
   "cell_type": "code",
   "execution_count": 15,
   "id": "63c25725",
   "metadata": {},
   "outputs": [
    {
     "name": "stdout",
     "output_type": "stream",
     "text": [
      "Session 009265_hippoSIT_2023-02-27_10-18-32 done\n",
      "Session 009265_hippoSIT_2023-02-27_15-33-46 done\n",
      "Session 009265_hippoSIT_2023-02-28_09-16-50 done\n",
      "Session 009265_hippoSIT_2023-02-28_13-16-10 done\n",
      "Session 009265_hippoSIT_2023-02-28_20-45-04 done\n",
      "Session 009265_hippoSIT_2023-03-01_10-46-12 done\n",
      "Session 009265_hippoSIT_2023-03-02_09-32-54 done\n",
      "Session 009265_hippoSIT_2023-03-02_16-27-42 done\n",
      "Session 009265_hippoSIT_2023-03-02_20-11-35 done\n",
      "Session 009265_hippoSIT_2023-03-03_09-37-07 done\n",
      "Session 009265_hippoSIT_2023-03-03_16-00-47 done\n",
      "Session 009265_hippoSIT_2023-03-04_11-12-04 done\n",
      "Session 009265_hippoSIT_2023-03-05_11-52-17 done\n",
      "Session 009265_hippoSIT_2023-03-05_18-31-32 done\n",
      "Session 009265_hippoSIT_2023-03-08_18-10-07 done\n",
      "Session 009265_hippoSIT_2023-03-09_20-03-08 done\n",
      "Session 009265_hippoSIT_2023-03-10_09-57-34 done\n",
      "Session 009265_hippoSIT_2023-04-13_09-54-39 done\n",
      "Session 009265_hippoSIT_2023-04-20_11-39-02 done\n"
     ]
    }
   ],
   "source": [
    "win_l   = 2    # seconds\n",
    "step    = 1    # seconds\n",
    "s_rate  = 100  # Hz\n",
    "syl_num = 10\n",
    "\n",
    "for i, session in enumerate(selected_sessions):\n",
    "    session_data = load_session_data(session, load_aeps=False)\n",
    "    moseq_file = session_data['moseq_file']\n",
    "    moseq      = session_data['moseq']\n",
    "    #animal = session.split('_')[0]\n",
    "    #moseq_file = os.path.join(source, animal, session, 'moseq.h5')  # can be _full.h5 for dark sessions\n",
    "    \n",
    "    # build syllable ratio matrix\n",
    "    idxs_srm_tl = np.arange(0, len(session_data['tl']), step*s_rate)\n",
    "    syl_ratio_mx = np.zeros([len(idxs_srm_tl), syl_num])\n",
    "    for k, idx in enumerate(idxs_srm_tl):\n",
    "        curr_syls = moseq['syllables reindexed'][idx:idx + win_l*s_rate]\n",
    "        for j in np.arange(syl_num):\n",
    "            syl_ratio_mx[k, j] = np.sum(curr_syls == j) / (win_l*s_rate)\n",
    "    \n",
    "    # roll 1 sec to match\n",
    "    syl_ratio_mx = np.roll(syl_ratio_mx, step, axis=0)\n",
    "    syl_ratio_mx[0] = syl_ratio_mx[1]\n",
    "    \n",
    "    with h5py.File(moseq_file, 'a') as f:\n",
    "        if 'syl_ratio_mx' in f:\n",
    "            del f['syl_ratio_mx']\n",
    "        if 'idxs_srm_tl' in f:\n",
    "            del f['idxs_srm_tl']\n",
    "        \n",
    "        id_h5 = f.create_dataset('idxs_srm_tl', data=idxs_srm_tl)\n",
    "        ds_h5 = f.create_dataset('syl_ratio_mx', data=syl_ratio_mx)\n",
    "        ds_h5.attrs['win_l']    = win_l\n",
    "        ds_h5.attrs['step']     = step\n",
    "        ds_h5.attrs['syl_num']  = syl_num\n",
    "       \n",
    "    print(\"Session %s done\" % session)"
   ]
  },
  {
   "cell_type": "code",
   "execution_count": 9,
   "id": "ea4c1611",
   "metadata": {},
   "outputs": [
    {
     "data": {
      "text/plain": [
       "[]"
      ]
     },
     "execution_count": 9,
     "metadata": {},
     "output_type": "execute_result"
    },
    {
     "data": {
      "image/png": "[encoded data removed]",
      "text/plain": [
       "<Figure size 1152x288 with 1 Axes>"
      ]
     },
     "metadata": {},
     "output_type": "display_data"
    }
   ],
   "source": [
    "# check syll ratio matrix\n",
    "session = selected_sessions[0]\n",
    "session_data = load_session_data(session, load_aeps=False)\n",
    "tl = session_data['tl']\n",
    "moseq_file   = session_data['moseq_file']\n",
    "with h5py.File(moseq_file, 'r') as f:\n",
    "    syl_ratio_mx  = np.array(f['syl_ratio_mx'])\n",
    "    idxs_srm_tl   = np.array(f['idxs_srm_tl'])\n",
    "\n",
    "t1, t2 = 0, 200\n",
    "\n",
    "#colors_bold = [plt.cm.tab20(2*i) for i in range(10)]\n",
    "#colors_tran = [plt.cm.tab20(2*i + 1) for i in range(10)]\n",
    "#colors = colors_bold + colors_tran\n",
    "\n",
    "fig, ax = plt.subplots(1, 1, figsize=(16, 4))\n",
    "\n",
    "# syllable ratios\n",
    "idxs_to_idxs = np.where((tl[idxs_srm_tl][:, 0] > t1) & (tl[idxs_srm_tl][:, 0] < t2))[0]\n",
    "idxs_sel = idxs_srm_tl[idxs_to_idxs]\n",
    "bottom = np.zeros(len(idxs_sel))\n",
    "for i, syl_ratio in enumerate(syl_ratio_mx[idxs_to_idxs].T):\n",
    "    ax.bar(tl[idxs_sel][:, 0], syl_ratio, 0.7, bottom=bottom, label='Syll. # %s' % str(i+1))\n",
    "    bottom += syl_ratio\n",
    "ax.set_xlim(t1, t2)\n",
    "ax.set_title('Behavior composition', fontsize=14)\n",
    "ax.set_ylabel('Syllable ratios, %', fontsize=14)\n",
    "ax.legend(loc='upper right')\n",
    "ax.set_xticks([])\n",
    "ax.set_yticks([])"
   ]
  },
  {
   "cell_type": "markdown",
   "id": "00026926",
   "metadata": {},
   "source": [
    "## 02 - Unit corr with shuffled behavior"
   ]
  },
  {
   "cell_type": "code",
   "execution_count": 8,
   "id": "15a9c3c4",
   "metadata": {},
   "outputs": [],
   "source": [
    "def get_corr_to_syll_ratios(i_rate_binned, syl_ratio_mx):\n",
    "    data = np.column_stack([i_rate_binned, syl_ratio_mx])\n",
    "    columns = ['state'] + [\"x%d\" % x for x in range(syl_ratio_mx.shape[1])]\n",
    "    syl_ratio_df = pd.DataFrame(data, columns=columns)\n",
    "\n",
    "    model = glm('state ~ ' + ' + '.join(columns[1:]), data=syl_ratio_df).fit()\n",
    "\n",
    "    glm_coeffs = dict([(i, coef) for i, coef in enumerate(model.params[1:]) if model.pvalues[1:][i] < 0.05])\n",
    "    if len(glm_coeffs) == 0:\n",
    "        return 0, 0, model.params, model.pvalues\n",
    "    behav_fit = np.zeros(len(syl_ratio_mx))\n",
    "    for idx, coef in glm_coeffs.items():\n",
    "        behav_fit += coef * syl_ratio_mx[:, idx]\n",
    "        \n",
    "    corr, pval = stats.pearsonr(behav_fit, i_rate_binned)\n",
    "    return corr, pval, model.params, model.pvalues"
   ]
  },
  {
   "cell_type": "code",
   "execution_count": 13,
   "id": "49886b72",
   "metadata": {
    "scrolled": true
   },
   "outputs": [
    {
     "data": {
      "text/plain": [
       "['57_SIT_2024-01-04_14-16-22', '57_SIT_2024-01-04_14-52-59']"
      ]
     },
     "execution_count": 13,
     "metadata": {},
     "output_type": "execute_result"
    }
   ],
   "source": [
    "sessions = selected_57\n",
    "sessions.sort()\n",
    "selected = sessions[:3]\n",
    "selected = [\n",
    "    \"57_SIT_2024-01-04_14-16-22\",\n",
    "    \"57_SIT_2024-01-04_14-52-59\",\n",
    "]\n",
    "selected"
   ]
  },
  {
   "cell_type": "code",
   "execution_count": 19,
   "id": "b84f375f",
   "metadata": {},
   "outputs": [
    {
     "name": "stdout",
     "output_type": "stream",
     "text": [
      "1-10; 1-11; 1-12; 1-13; 1-14; 1-15; 1-16; 1-17; 1-18; 1-19; 1-2; 1-3; 1-4; 1-5; 1-6; 1-7; 1-8; 1-9; 2-10; 2-11; 2-12; 2-13; 2-14; 2-15; 2-16; 2-17; 2-2; 2-3; 2-4; 2-5; 2-6; 2-7; 2-8; 2-9; Session 57_SIT_2024-01-04_14-16-22 done\n",
      "1-10; 1-11; 1-12; 1-13; 1-14; 1-15; 1-2; 1-3; 1-4; 1-5; 1-6; 1-7; 1-8; 1-9; 2-10; 2-11; 2-2; 2-3; 2-4; 2-5; 2-6; 2-7; 2-8; 2-9; Session 57_SIT_2024-01-04_14-52-59 done\n"
     ]
    }
   ],
   "source": [
    "iter_count = 100\n",
    "\n",
    "for session in selected:\n",
    "    animal = session.split('_')[0]\n",
    "    units_file = os.path.join(source, animal, session, 'units.h5')\n",
    "    moseq_file = os.path.join(source, animal, session, 'analysis', 'MoSeq_tSNE_UMAP.h5')\n",
    "    moseq_units_glm = os.path.join(source, animal, session, 'analysis', 'MoSeq_units_GLM.h5')\n",
    "    \n",
    "    # load syll ratio matrix/tl_idxs\n",
    "    with h5py.File(moseq_file, 'r') as f:\n",
    "        syl_ratio_mx  = np.array(f['syl_ratio_mx'])\n",
    "        idxs_srm_tl   = np.array(f['idxs_srm_tl'])\n",
    "\n",
    "    # special processing for dark sessions - remove dark\n",
    "#     if session_data['animal'].startswith('0082'):\n",
    "#         tl = session_data['tl']\n",
    "#         idxs_light   = np.where((tl[idxs_srm_tl][:, 0] < 600) | (tl[idxs_srm_tl][:, 0] > 1800))[0]\n",
    "#         idxs_srm_tl  = idxs_srm_tl[idxs_light]\n",
    "#         syl_ratio_mx = syl_ratio_mx[idxs_light]\n",
    "\n",
    "    # load units\n",
    "    unit_names, single_units, spike_times = [], {}, {}\n",
    "    with h5py.File(units_file, 'r') as f:\n",
    "        unit_names = [x for x in f]\n",
    "    with h5py.File(units_file, 'r') as f:\n",
    "        for unit_name in unit_names:\n",
    "            spike_times[unit_name] = np.array(f[unit_name][H5NAMES.spike_times['name']])\n",
    "            single_units[unit_name] = np.array(f[unit_name][H5NAMES.inst_rate['name']])\n",
    "            #single_units[unit_name] = instantaneous_rate(unit_times, tl[:, 0], k_width=50)\n",
    "                \n",
    "    # create an empty MoSeq units GLM file\n",
    "    with h5py.File(moseq_units_glm, 'a') as f:\n",
    "        if not 'units' in f:\n",
    "            f.create_group('units')\n",
    "\n",
    "    for name, i_rate in single_units.items():\n",
    "#         if not name == '1-4':\n",
    "#             continue        \n",
    "        \n",
    "        i_rate_binned = i_rate[idxs_srm_tl]\n",
    "\n",
    "        # compute original\n",
    "        corr, pval, params, pvalues = get_corr_to_syll_ratios(i_rate_binned, syl_ratio_mx)\n",
    "\n",
    "        # compute shuffled\n",
    "        corr_mx = np.zeros([iter_count, 2])  # coeff, pval for each shuffle\n",
    "        for i in range(iter_count):\n",
    "            srm = syl_ratio_mx.copy()\n",
    "            np.random.shuffle(srm)\n",
    "            corr_s, pval_s, _, _ = get_corr_to_syll_ratios(i_rate_binned, srm)\n",
    "            corr_mx[i] = (corr_s, pval_s)\n",
    "            del srm\n",
    "\n",
    "        with h5py.File(moseq_units_glm, 'a') as f:\n",
    "            if not name in f['units']:\n",
    "                f['units'].create_group(name)\n",
    "            unit_grp = f['units'][name]\n",
    "\n",
    "            if 'corr_glm_fit_orig' in unit_grp:\n",
    "                del unit_grp['corr_glm_fit_orig']\n",
    "            if 'corr_glm_fit_shuffled' in unit_grp:\n",
    "                del unit_grp['corr_glm_fit_shuffled']\n",
    "            if 'glm_fit_params' in unit_grp:\n",
    "                del unit_grp['glm_fit_params']\n",
    "            if 'glm_fit_pvalues' in unit_grp:\n",
    "                del unit_grp['glm_fit_pvalues']\n",
    "\n",
    "            unit_grp.create_dataset('corr_glm_fit_orig', data=np.array([corr, pval]))\n",
    "            unit_grp.create_dataset('corr_glm_fit_shuffled', data=corr_mx)\n",
    "            unit_grp.create_dataset('glm_fit_params', data=params)\n",
    "            unit_grp.create_dataset('glm_fit_pvalues', data=pvalues)\n",
    "\n",
    "        print(name + '; ', end='')\n",
    "        \n",
    "    print('Session %s done' % session)"
   ]
  },
  {
   "cell_type": "markdown",
   "id": "80a03160",
   "metadata": {},
   "source": [
    "## 03 - Unit / GLM predictions for train / split"
   ]
  },
  {
   "cell_type": "code",
   "execution_count": 20,
   "id": "db8ca96f",
   "metadata": {
    "scrolled": true
   },
   "outputs": [
    {
     "name": "stdout",
     "output_type": "stream",
     "text": [
      "1-10; 1-11; 1-12; 1-13; 1-14; 1-15; 1-16; 1-17; 1-18; 1-19; 1-2; 1-3; 1-4; 1-5; 1-6; 1-7; 1-8; 1-9; 2-10; 2-11; 2-12; 2-13; 2-14; 2-15; 2-16; 2-17; 2-2; 2-3; 2-4; 2-5; 2-6; 2-7; 2-8; 2-9; Session 57_SIT_2024-01-04_14-16-22 done\n",
      "1-10; 1-11; 1-12; 1-13; 1-14; 1-15; 1-2; 1-3; 1-4; 1-5; 1-6; 1-7; 1-8; 1-9; 2-10; 2-11; 2-2; 2-3; 2-4; 2-5; 2-6; 2-7; 2-8; 2-9; Session 57_SIT_2024-01-04_14-52-59 done\n"
     ]
    }
   ],
   "source": [
    "iter_count = 100\n",
    "\n",
    "for session in selected:\n",
    "    animal = session.split('_')[0]\n",
    "    units_file = os.path.join(source, animal, session, 'units.h5')\n",
    "    moseq_file = os.path.join(source, animal, session, 'analysis', 'MoSeq_tSNE_UMAP.h5')\n",
    "    moseq_units_glm = os.path.join(source, animal, session, 'analysis', 'MoSeq_units_GLM.h5')\n",
    "    \n",
    "    # load syll ratio matrix/tl_idxs\n",
    "    with h5py.File(moseq_file, 'r') as f:\n",
    "        syl_ratio_mx  = np.array(f['syl_ratio_mx'])\n",
    "        idxs_srm_tl   = np.array(f['idxs_srm_tl'])\n",
    "\n",
    "    # load units\n",
    "    unit_names, single_units, spike_times = [], {}, {}\n",
    "    with h5py.File(units_file, 'r') as f:\n",
    "        unit_names = [x for x in f]\n",
    "    with h5py.File(units_file, 'r') as f:\n",
    "        for unit_name in unit_names:\n",
    "            spike_times[unit_name] = np.array(f[unit_name][H5NAMES.spike_times['name']])\n",
    "            single_units[unit_name] = np.array(f[unit_name][H5NAMES.inst_rate['name']])\n",
    "            #single_units[unit_name] = instantaneous_rate(unit_times, tl[:, 0], k_width=50)\n",
    "        \n",
    "    # second do train GLM on 50/50% of chunk-shuffled data\n",
    "    chunk_size  = 5  # seconds, syll_ratio_mx is sampled 4 Hz\n",
    "    chunk_count = int(len(syl_ratio_mx)/chunk_size)\n",
    "    split_ratio = 0.5\n",
    "\n",
    "    for name, i_rate in single_units.items():\n",
    "#         if not name == '6-3':\n",
    "#             continue\n",
    "        \n",
    "        i_rate_binned = i_rate[idxs_srm_tl]\n",
    "\n",
    "        # split into chunks\n",
    "        syll_chunks   = np.array(np.array_split(syl_ratio_mx[:chunk_count*chunk_size], chunk_count))\n",
    "        i_rate_chunks = np.array(np.array_split(i_rate_binned[:chunk_count*chunk_size], chunk_count))\n",
    "\n",
    "        # compute chunked\n",
    "        corr_tr_mx = np.zeros([iter_count, 2])  # coeff, pval for each random chunking\n",
    "        glm_cf_mx = np.zeros([iter_count, syl_ratio_mx.shape[1] + 1])  # + intercept  !!\n",
    "        glm_pv_mx = np.zeros([iter_count, syl_ratio_mx.shape[1] + 1])  # + intercept  !!\n",
    "        for i in range(iter_count):\n",
    "            # random indices\n",
    "            idxs_ch_rand = np.random.choice(np.arange(chunk_count).astype(np.int32), chunk_count, replace=False)\n",
    "\n",
    "            # randomized behav / unit firing\n",
    "            i_rate_rand = i_rate_chunks[idxs_ch_rand].flatten()\n",
    "            syll_chunks_rand = syll_chunks[idxs_ch_rand]\n",
    "            syll_chunks_rand = syll_chunks_rand.reshape(-1, syll_chunks_rand.shape[-1])\n",
    "\n",
    "            # build train, split\n",
    "            idx_split = int(split_ratio*len(syll_chunks_rand))\n",
    "            data = np.column_stack([i_rate_rand[:idx_split], syll_chunks_rand[:idx_split]])\n",
    "            columns = ['state'] + [\"x%d\" % x for x in range(syll_chunks_rand.shape[1])]\n",
    "            syl_ratio_df = pd.DataFrame(data, columns=columns)\n",
    "\n",
    "            if (syl_ratio_df['state'] == 0).all():\n",
    "                continue\n",
    "\n",
    "            model = glm('state ~ ' + ' + '.join(columns[1:]), data=syl_ratio_df).fit()\n",
    "\n",
    "            glm_cf_mx[i] = model.params\n",
    "            glm_pv_mx[i] = model.pvalues\n",
    "\n",
    "            glm_coeffs = dict([(i, coef) for i, coef in enumerate(model.params[1:]) if model.pvalues[1:][i] < 0.95])\n",
    "            if not len(glm_coeffs) == 0:\n",
    "                behav_fit = np.zeros(len(syll_chunks_rand[-idx_split:]))\n",
    "                for idx, coef in glm_coeffs.items():\n",
    "                    behav_fit += coef * syll_chunks_rand[-idx_split:][:, idx]\n",
    "                if not (np.diff(behav_fit) == 0).all():\n",
    "                    corr_tr_mx[i] = stats.pearsonr(behav_fit, i_rate_rand[-idx_split:])\n",
    "\n",
    "        with h5py.File(moseq_units_glm, 'a') as f:\n",
    "            if not 'units' in f:\n",
    "                f.create_group('units')\n",
    "            if not name in f['units']:\n",
    "                f['units'].create_group(name)\n",
    "            unit_grp = f['units'][name]\n",
    "\n",
    "            if 'corr_glm_fit_train_test' in unit_grp:\n",
    "                del unit_grp['corr_glm_fit_train_test']\n",
    "            if 'glm_cf_mx' in unit_grp:\n",
    "                del unit_grp['glm_cf_mx']\n",
    "            if 'glm_pv_mx' in unit_grp:\n",
    "                del unit_grp['glm_pv_mx']\n",
    "\n",
    "            unit_grp.create_dataset('corr_glm_fit_train_test', data=corr_tr_mx)\n",
    "            unit_grp.create_dataset('glm_cf_mx', data=glm_cf_mx)\n",
    "            unit_grp.create_dataset('glm_pv_mx', data=glm_pv_mx)\n",
    "        print(name + '; ', end='')\n",
    "    \n",
    "    print('Session %s done' % session)"
   ]
  },
  {
   "cell_type": "markdown",
   "id": "b2334e37",
   "metadata": {},
   "source": [
    "## Test - shuffled VS original syll ratios"
   ]
  },
  {
   "cell_type": "code",
   "execution_count": 58,
   "id": "a4feeb51",
   "metadata": {},
   "outputs": [],
   "source": [
    "unit = '6-3'\n",
    "\n",
    "session = list(selected_009265.keys())[10]\n",
    "\n",
    "session_data = load_session_data(session, load_aeps=False)\n",
    "moseq_file = session_data['moseq_file']\n",
    "\n",
    "with h5py.File(moseq_file, 'r') as f:\n",
    "    grp = f['units'][unit]\n",
    "    corr_glm_fit_orig       = np.array(grp['corr_glm_fit_orig'])\n",
    "    corr_glm_fit_shuffled   = np.array(grp['corr_glm_fit_shuffled'])\n",
    "    corr_glm_fit_train_test = np.array(grp['corr_glm_fit_train_test'])"
   ]
  },
  {
   "cell_type": "code",
   "execution_count": 59,
   "id": "99d14146",
   "metadata": {},
   "outputs": [
    {
     "data": {
      "text/plain": [
       "Text(0.5, 1.0, 'Unit 6-3 (0.42)')"
      ]
     },
     "execution_count": 59,
     "metadata": {},
     "output_type": "execute_result"
    },
    {
     "data": {
      "image/png": "[encoded data removed]",
      "text/plain": [
       "<Figure size 288x216 with 1 Axes>"
      ]
     },
     "metadata": {
      "needs_background": "light"
     },
     "output_type": "display_data"
    }
   ],
   "source": [
    "fig, ax = plt.subplots(1,1, figsize=(4, 3))\n",
    "\n",
    "coeffs_shuf = corr_glm_fit_shuffled[corr_glm_fit_shuffled[:, 1] < 0.95][:, 0]\n",
    "coeffs_chun = corr_glm_fit_train_test[corr_glm_fit_train_test[:, 1] < 0.95][:, 0]\n",
    "bins = np.linspace(-1, 1, 50)\n",
    "\n",
    "ax.hist(coeffs_shuf, bins=bins, alpha=0.6, density=True, label='shuffle', color='tab:blue')\n",
    "ax.hist(coeffs_chun, bins=bins, alpha=0.6, density=True, label='predict.', color='red')\n",
    "ax.axvspan(np.percentile(coeffs_shuf, 5), np.percentile(coeffs_shuf, 95), alpha=0.3, color='gray')\n",
    "ax.axvspan(np.percentile(coeffs_chun, 5), np.percentile(coeffs_chun, 95), alpha=0.3, color='red')\n",
    "ax.axvline(corr_glm_fit_orig[0], color='black', ls='--', label='original')\n",
    "ax.set_xlim(-0.8, 0.8)\n",
    "ax.grid()\n",
    "ax.legend(loc='upper left')\n",
    "ax.set_title('Unit %s (%.2f)' % (unit, corr_glm_fit_orig[0]), fontsize=14)"
   ]
  },
  {
   "cell_type": "code",
   "execution_count": null,
   "id": "df33355f",
   "metadata": {},
   "outputs": [],
   "source": []
  }
 ],
 "metadata": {
  "kernelspec": {
   "display_name": "Python 3 (ipykernel)",
   "language": "python",
   "name": "python3"
  },
  "language_info": {
   "codemirror_mode": {
    "name": "ipython",
    "version": 3
   },
   "file_extension": ".py",
   "mimetype": "text/x-python",
   "name": "python",
   "nbconvert_exporter": "python",
   "pygments_lexer": "ipython3",
   "version": "3.8.10"
  }
 },
 "nbformat": 4,
 "nbformat_minor": 5
}
