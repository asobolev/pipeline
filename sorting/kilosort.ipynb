{
 "cells": [
  {
   "cell_type": "code",
   "execution_count": 24,
   "id": "4cb081c5",
   "metadata": {},
   "outputs": [],
   "source": [
    "import os, json\n",
    "import pandas as pd\n",
    "import numpy as np\n",
    "\n",
    "from kilosort.io import load_probe"
   ]
  },
  {
   "cell_type": "code",
   "execution_count": 12,
   "id": "89b4cc61",
   "metadata": {},
   "outputs": [],
   "source": [
    "source = '/home/sobolev/nevermind/AG_Pecka/data/processed/013608/013608_ppcSIT_2025-01-09_09-09-55/kilosort'\n",
    "\n",
    "labels_path = os.path.join(source, 'cluster_KSLabel.tsv')"
   ]
  },
  {
   "cell_type": "code",
   "execution_count": 13,
   "id": "ed1e33b3",
   "metadata": {},
   "outputs": [
    {
     "data": {
      "text/html": [
       "<div>\n",
       "<style scoped>\n",
       "    .dataframe tbody tr th:only-of-type {\n",
       "        vertical-align: middle;\n",
       "    }\n",
       "\n",
       "    .dataframe tbody tr th {\n",
       "        vertical-align: top;\n",
       "    }\n",
       "\n",
       "    .dataframe thead th {\n",
       "        text-align: right;\n",
       "    }\n",
       "</style>\n",
       "<table border=\"1\" class=\"dataframe\">\n",
       "  <thead>\n",
       "    <tr style=\"text-align: right;\">\n",
       "      <th></th>\n",
       "      <th>cluster_id</th>\n",
       "      <th>KSLabel</th>\n",
       "    </tr>\n",
       "  </thead>\n",
       "  <tbody>\n",
       "    <tr>\n",
       "      <th>0</th>\n",
       "      <td>0</td>\n",
       "      <td>mua</td>\n",
       "    </tr>\n",
       "    <tr>\n",
       "      <th>1</th>\n",
       "      <td>1</td>\n",
       "      <td>good</td>\n",
       "    </tr>\n",
       "    <tr>\n",
       "      <th>2</th>\n",
       "      <td>2</td>\n",
       "      <td>good</td>\n",
       "    </tr>\n",
       "    <tr>\n",
       "      <th>3</th>\n",
       "      <td>3</td>\n",
       "      <td>mua</td>\n",
       "    </tr>\n",
       "    <tr>\n",
       "      <th>4</th>\n",
       "      <td>4</td>\n",
       "      <td>good</td>\n",
       "    </tr>\n",
       "    <tr>\n",
       "      <th>...</th>\n",
       "      <td>...</td>\n",
       "      <td>...</td>\n",
       "    </tr>\n",
       "    <tr>\n",
       "      <th>356</th>\n",
       "      <td>356</td>\n",
       "      <td>mua</td>\n",
       "    </tr>\n",
       "    <tr>\n",
       "      <th>357</th>\n",
       "      <td>357</td>\n",
       "      <td>mua</td>\n",
       "    </tr>\n",
       "    <tr>\n",
       "      <th>358</th>\n",
       "      <td>358</td>\n",
       "      <td>mua</td>\n",
       "    </tr>\n",
       "    <tr>\n",
       "      <th>359</th>\n",
       "      <td>359</td>\n",
       "      <td>mua</td>\n",
       "    </tr>\n",
       "    <tr>\n",
       "      <th>360</th>\n",
       "      <td>360</td>\n",
       "      <td>mua</td>\n",
       "    </tr>\n",
       "  </tbody>\n",
       "</table>\n",
       "<p>361 rows × 2 columns</p>\n",
       "</div>"
      ],
      "text/plain": [
       "     cluster_id KSLabel\n",
       "0             0     mua\n",
       "1             1    good\n",
       "2             2    good\n",
       "3             3     mua\n",
       "4             4    good\n",
       "..          ...     ...\n",
       "356         356     mua\n",
       "357         357     mua\n",
       "358         358     mua\n",
       "359         359     mua\n",
       "360         360     mua\n",
       "\n",
       "[361 rows x 2 columns]"
      ]
     },
     "execution_count": 13,
     "metadata": {},
     "output_type": "execute_result"
    }
   ],
   "source": [
    "labels = pd.read_csv(labels_path, sep='\\t', header=0)\n",
    "labels"
   ]
  },
  {
   "cell_type": "code",
   "execution_count": 14,
   "id": "5db414c4",
   "metadata": {},
   "outputs": [
    {
     "data": {
      "text/html": [
       "<div>\n",
       "<style scoped>\n",
       "    .dataframe tbody tr th:only-of-type {\n",
       "        vertical-align: middle;\n",
       "    }\n",
       "\n",
       "    .dataframe tbody tr th {\n",
       "        vertical-align: top;\n",
       "    }\n",
       "\n",
       "    .dataframe thead th {\n",
       "        text-align: right;\n",
       "    }\n",
       "</style>\n",
       "<table border=\"1\" class=\"dataframe\">\n",
       "  <thead>\n",
       "    <tr style=\"text-align: right;\">\n",
       "      <th></th>\n",
       "      <th>cluster_id</th>\n",
       "      <th>KSLabel</th>\n",
       "    </tr>\n",
       "  </thead>\n",
       "  <tbody>\n",
       "    <tr>\n",
       "      <th>1</th>\n",
       "      <td>1</td>\n",
       "      <td>good</td>\n",
       "    </tr>\n",
       "    <tr>\n",
       "      <th>2</th>\n",
       "      <td>2</td>\n",
       "      <td>good</td>\n",
       "    </tr>\n",
       "    <tr>\n",
       "      <th>4</th>\n",
       "      <td>4</td>\n",
       "      <td>good</td>\n",
       "    </tr>\n",
       "    <tr>\n",
       "      <th>5</th>\n",
       "      <td>5</td>\n",
       "      <td>good</td>\n",
       "    </tr>\n",
       "    <tr>\n",
       "      <th>6</th>\n",
       "      <td>6</td>\n",
       "      <td>good</td>\n",
       "    </tr>\n",
       "    <tr>\n",
       "      <th>...</th>\n",
       "      <td>...</td>\n",
       "      <td>...</td>\n",
       "    </tr>\n",
       "    <tr>\n",
       "      <th>346</th>\n",
       "      <td>346</td>\n",
       "      <td>good</td>\n",
       "    </tr>\n",
       "    <tr>\n",
       "      <th>352</th>\n",
       "      <td>352</td>\n",
       "      <td>good</td>\n",
       "    </tr>\n",
       "    <tr>\n",
       "      <th>353</th>\n",
       "      <td>353</td>\n",
       "      <td>good</td>\n",
       "    </tr>\n",
       "    <tr>\n",
       "      <th>354</th>\n",
       "      <td>354</td>\n",
       "      <td>good</td>\n",
       "    </tr>\n",
       "    <tr>\n",
       "      <th>355</th>\n",
       "      <td>355</td>\n",
       "      <td>good</td>\n",
       "    </tr>\n",
       "  </tbody>\n",
       "</table>\n",
       "<p>94 rows × 2 columns</p>\n",
       "</div>"
      ],
      "text/plain": [
       "     cluster_id KSLabel\n",
       "1             1    good\n",
       "2             2    good\n",
       "4             4    good\n",
       "5             5    good\n",
       "6             6    good\n",
       "..          ...     ...\n",
       "346         346    good\n",
       "352         352    good\n",
       "353         353    good\n",
       "354         354    good\n",
       "355         355    good\n",
       "\n",
       "[94 rows x 2 columns]"
      ]
     },
     "execution_count": 14,
     "metadata": {},
     "output_type": "execute_result"
    }
   ],
   "source": [
    "labels[labels['KSLabel'] == 'good']"
   ]
  },
  {
   "cell_type": "code",
   "execution_count": 28,
   "id": "607b4a6d",
   "metadata": {},
   "outputs": [],
   "source": [
    "ks_path = '/home/sobolev/nevermind/AG_Pecka/data/processed/013608/013608_ppcSIT_2025-01-09_09-09-55/kilosort'"
   ]
  },
  {
   "cell_type": "code",
   "execution_count": 71,
   "id": "2dc976d9",
   "metadata": {},
   "outputs": [],
   "source": [
    "# load probe configuration\n",
    "with open(os.path.join(ks_path, 'probe.json'), 'r') as json_file:  \n",
    "    probe = json.load(json_file)\n",
    "\n",
    "channels = probe['chanMap']\n",
    "ch_shank_map = np.array(probe['kcoords'], dtype=np.int16) + 1\n",
    "shanks = np.unique(ch_shank_map)\n",
    "\n",
    "# load kilosorted spike times / clusters / templates / positions / labels\n",
    "s_times   = np.load(os.path.join(ks_path, 'spike_times.npy'))  # all spike times of all clusters (1D array)\n",
    "s_clust   = np.load(os.path.join(ks_path, 'spike_clusters.npy'))  # IDs of clusters for each spike\n",
    "templates = np.load(os.path.join(ks_path, 'templates.npy'))  # cluster (unit), timepoints, channel\n",
    "ch_pos    = np.load(os.path.join(ks_path, 'channel_positions.npy'))  # cluster (unit), timepoints, channel\n",
    "ks_labels = pd.read_csv(os.path.join(ks_path, 'cluster_KSLabel.tsv'), sep='\\t', header=0)  # cluster, good / mua\n",
    "\n",
    "template_maxchans = np.abs(templates).max(axis=1).argmax(axis=1)  # channel with highest AP amplitude for each unit\n",
    "clu_ch_mapping    = ch_shank_map[template_maxchans]\n",
    "clu_pos_mapping   = ch_pos[template_maxchans]\n",
    "\n",
    "# 'good' units\n",
    "good_idxs = np.where(ks_labels['KSLabel'] == 'good')[0]\n",
    "\n",
    "all_units = {}\n",
    "all_pos = {}\n",
    "for shank in shanks:\n",
    "    clu_idxs = np.where(clu_ch_mapping == shank)[0]\n",
    "    sel_clusters = np.intersect1d(good_idxs, clu_idxs)\n",
    "    \n",
    "    spiketrains = {}\n",
    "    for clu_id in sel_clusters:\n",
    "        spiketrains[clu_id] = s_times[np.where(s_clust == clu_id)[0]]\n",
    "        \n",
    "    all_units[shank] = spiketrains\n",
    "    all_pos[shank] = clu_pos_mapping[sel_clusters]\n"
   ]
  },
  {
   "cell_type": "code",
   "execution_count": 62,
   "id": "c203d858",
   "metadata": {},
   "outputs": [
    {
     "data": {
      "text/plain": [
       "dict_keys([66, 81, 101, 128, 129, 130, 131, 140, 141, 142, 152, 186, 187, 236, 237, 238, 239, 254, 255, 257, 266, 267, 268, 269, 287, 289, 296, 298, 345, 346])"
      ]
     },
     "execution_count": 62,
     "metadata": {},
     "output_type": "execute_result"
    }
   ],
   "source": [
    "all_units[4].keys()"
   ]
  },
  {
   "cell_type": "code",
   "execution_count": 75,
   "id": "7adb781a",
   "metadata": {},
   "outputs": [
    {
     "data": {
      "text/plain": [
       "array([[   8., 2760.],\n",
       "       [   8., 2760.],\n",
       "       [   8., 2760.],\n",
       "       [   8., 2760.],\n",
       "       [   8., 2760.],\n",
       "       [   8., 2760.],\n",
       "       [   8., 2805.],\n",
       "       [   8., 2775.],\n",
       "       [   8., 2805.],\n",
       "       [   8., 2775.],\n",
       "       [   8., 2790.],\n",
       "       [   8., 2820.],\n",
       "       [   8., 2850.],\n",
       "       [   8., 2850.],\n",
       "       [   8., 2835.],\n",
       "       [   8., 3210.],\n",
       "       [   8., 3225.],\n",
       "       [   8., 3540.],\n",
       "       [   8., 4185.]], dtype=float32)"
      ]
     },
     "execution_count": 75,
     "metadata": {},
     "output_type": "execute_result"
    }
   ],
   "source": [
    "all_pos[1]"
   ]
  },
  {
   "cell_type": "code",
   "execution_count": 77,
   "id": "7876d70f",
   "metadata": {},
   "outputs": [],
   "source": [
    "with open(os.path.join('/tmp', 'probe.json'), 'w') as f:\n",
    "    f.write(json.dumps(probe, indent=2))"
   ]
  },
  {
   "cell_type": "code",
   "execution_count": null,
   "id": "c1bdc3f7",
   "metadata": {},
   "outputs": [],
   "source": []
  }
 ],
 "metadata": {
  "kernelspec": {
   "display_name": "Python 3 (ipykernel)",
   "language": "python",
   "name": "python3"
  },
  "language_info": {
   "codemirror_mode": {
    "name": "ipython",
    "version": 3
   },
   "file_extension": ".py",
   "mimetype": "text/x-python",
   "name": "python",
   "nbconvert_exporter": "python",
   "pygments_lexer": "ipython3",
   "version": "3.8.10"
  }
 },
 "nbformat": 4,
 "nbformat_minor": 5
}
