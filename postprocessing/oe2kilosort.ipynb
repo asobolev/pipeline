{
 "cells": [
  {
   "cell_type": "code",
   "execution_count": 1,
   "id": "4cba9e8c",
   "metadata": {},
   "outputs": [],
   "source": [
    "import os, json\n",
    "import numpy as np\n",
    "import xml.etree.ElementTree as ET"
   ]
  },
  {
   "cell_type": "code",
   "execution_count": 2,
   "id": "5dd53660",
   "metadata": {},
   "outputs": [],
   "source": [
    "s_path = '/home/sobolev/nevermind/AG_Pecka/data/raw/013608/013608_ppcSIT_2025-01-09_09-09-55'\n",
    "\n",
    "oe_xml_path = os.path.join(s_path, '2025-01-09_09-13-01', 'Record Node 102', 'settings.xml')\n",
    "ks_path     = os.path.join(s_path, 'kilosort.json')"
   ]
  },
  {
   "cell_type": "code",
   "execution_count": 9,
   "id": "c2432bbc",
   "metadata": {},
   "outputs": [],
   "source": [
    "root = ET.parse(oe_xml_path).getroot()\n",
    "\n",
    "onebox = [x for x in root.findall('SIGNALCHAIN')[0].findall('PROCESSOR') if dict(x.items())['name'] == 'OneBox'][0]\n",
    "\n",
    "# get sampling rate from probe settings\n",
    "probe_stream = [x for x in onebox.findall('STREAM') if dict(x.items())['name'] == 'ProbeA'][0]\n",
    "sample_rate = float(probe_stream.attrib['sample_rate'])"
   ]
  },
  {
   "cell_type": "code",
   "execution_count": 40,
   "id": "cb3e80bc",
   "metadata": {},
   "outputs": [],
   "source": [
    "probe = onebox.findall('EDITOR')[0].findall('NP_PROBE')[0]\n",
    "channels = probe.findall('CHANNELS')[0]\n",
    "x_pos = probe.findall('ELECTRODE_XPOS')[0]\n",
    "y_pos = probe.findall('ELECTRODE_YPOS')[0]\n",
    "\n",
    "# build kilosort probe dict\n",
    "# as of python 3.7 dicts are ordered, so assume \n",
    "# channels / coordinates go in the same order\n",
    "kilosort = {\n",
    "    'chanMap': [int(ch[2:]) for ch in channels.attrib.keys()],\n",
    "    'xc': [float(x)/1000 for x in x_pos.attrib.values()],\n",
    "    'yc': [float(y)/1000 for y in y_pos.attrib.values()],\n",
    "    'kcoords': [int(desc.split(':')[1]) for ch, desc in channels.attrib.items()],\n",
    "    'n_chan': len(channels.attrib)\n",
    "}"
   ]
  },
  {
   "cell_type": "code",
   "execution_count": 39,
   "id": "19123d64",
   "metadata": {},
   "outputs": [
    {
     "data": {
      "text/plain": [
       "384"
      ]
     },
     "execution_count": 39,
     "metadata": {},
     "output_type": "execute_result"
    }
   ],
   "source": [
    "len(channels.attrib)"
   ]
  },
  {
   "cell_type": "code",
   "execution_count": null,
   "id": "01dde159",
   "metadata": {},
   "outputs": [],
   "source": []
  }
 ],
 "metadata": {
  "kernelspec": {
   "display_name": "Python 3 (ipykernel)",
   "language": "python",
   "name": "python3"
  },
  "language_info": {
   "codemirror_mode": {
    "name": "ipython",
    "version": 3
   },
   "file_extension": ".py",
   "mimetype": "text/x-python",
   "name": "python",
   "nbconvert_exporter": "python",
   "pygments_lexer": "ipython3",
   "version": "3.8.10"
  }
 },
 "nbformat": 4,
 "nbformat_minor": 5
}
