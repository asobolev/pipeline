{
 "cells": [
  {
   "cell_type": "code",
   "execution_count": 18,
   "id": "65b06782",
   "metadata": {},
   "outputs": [],
   "source": [
    "import os, json\n",
    "import numpy as np\n",
    "import xml.etree.ElementTree as ET"
   ]
  },
  {
   "cell_type": "code",
   "execution_count": 19,
   "id": "96741ff8-3c79-4d12-9152-8a74927cd427",
   "metadata": {},
   "outputs": [],
   "source": [
    "# how to make a link on windows to the remote share\n",
    "# mklink /d code Z:\\Andrey\\code"
   ]
  },
  {
   "cell_type": "code",
   "execution_count": 20,
   "id": "d4831a93",
   "metadata": {},
   "outputs": [],
   "source": [
    "def imro2numpy(imro_path):\n",
    "    \"\"\"\n",
    "    read the IMRO text file and convert it\n",
    "    into a numpy matrix (int32) of the IMRO format:\n",
    "    virtual channel ID, shank ID, bank ID, reference ID, \n",
    "    electrode ID (0-1279, sequential numbering from the tip of the probe)\n",
    "    \"\"\"\n",
    "    with open(imro_path, 'r') as f:\n",
    "        imro_text = f.read()\n",
    "\n",
    "    idx_last_br = imro_text.rfind(')')\n",
    "    imro_text = imro_text[1:idx_last_br]  # remove leading / trailing brackets\n",
    "    imro_recs = imro_text.split(')(')[1:]  # ignore first element - not a channel\n",
    "\n",
    "    imro_mx = np.zeros([len(imro_recs), 5], dtype=np.int32)\n",
    "    for i, channel_text in enumerate(imro_recs):\n",
    "        imro_mx[i] = np.array(channel_text.split(' '))\n",
    "\n",
    "    return imro_mx"
   ]
  },
  {
   "cell_type": "code",
   "execution_count": 21,
   "id": "75108ebc",
   "metadata": {},
   "outputs": [],
   "source": [
    "def imro2oe_xml(imro_path, oe_original_path, oe_sorted_path, sections=None):\n",
    "    \"\"\"\n",
    "    imro_path           path to the IMRO configuration file\n",
    "    oe_original_path    path to the OpenEphys XML file with channel mapping\n",
    "    oe_sorted_path      path to the resulting OpenEphys XML file with re-sorted channel map\n",
    "    sections            a list of electrode number(s) by which to separate sorted chanels\n",
    "                        into groups, if needed.\n",
    "    \"\"\"\n",
    "    imro_mx = imro2numpy(imro_path)\n",
    "\n",
    "    # add user-defined separation into sections of channels\n",
    "    imro_mxs = np.column_stack([imro_mx, np.zeros(len(imro_mx), dtype=np.int32)])\n",
    "    if sections is not None:\n",
    "        for i, section_sep in enumerate(sections):\n",
    "            for idx in np.where(imro_mxs[:, 4] > section_sep)[0]:\n",
    "                imro_mxs[idx, 5] = i+1\n",
    "\n",
    "    # sorting order: sections, shanks, electrodes\n",
    "    # apply reverse order for electrodes as they are labeled from the tip (bottom)\n",
    "    imro_sorted = imro_mxs[np.lexsort((-imro_mxs[:, 4], imro_mxs[:, 1], imro_mxs[:, 5]))]\n",
    "\n",
    "    # updating channels in the XML channel map\n",
    "    root = ET.parse(oe_original_path).getroot()\n",
    "    ch_map = [x for x in root.findall('SIGNALCHAIN')[0].findall('PROCESSOR') if dict(x.items())['name'] == 'Channel Map'][0]\n",
    "    channels = list(list(ch_map.findall('CUSTOM_PARAMETERS')[0])[0])  # taking the first \"stream\"\n",
    "    \n",
    "    for i, ch_num in enumerate(imro_sorted[:, 0]):\n",
    "        channels[i].attrib['index'] = str(ch_num)\n",
    "        \n",
    "    # write to a new XML file\n",
    "    tree = ET.ElementTree(root)\n",
    "    tree.write(oe_sorted_path, xml_declaration=True, method='xml', encoding='UTF-8')\n",
    "    \n",
    "    return imro_sorted"
   ]
  },
  {
   "cell_type": "code",
   "execution_count": 22,
   "id": "0b089ad1",
   "metadata": {},
   "outputs": [],
   "source": [
    "import numpy as np\n",
    "\n",
    "\n",
    "def imro2oe_ch_map(imro_path, where, sections=None):\n",
    "    \"\"\"\n",
    "    imro_path           path to the IMRO configuration file (should exist)\n",
    "    where               path to a folder where to create the resulting OpenEphys JSON file \n",
    "                            with re-sorted channel map\n",
    "    sections            a list of electrode number(s) by which to separate sorted channels\n",
    "                            into groups, if needed.\n",
    "    \"\"\"\n",
    "    \n",
    "    def imro2numpy(imro_path):\n",
    "        \"\"\"\n",
    "        read the IMRO text file and convert it\n",
    "        into a numpy matrix (int32) of the IMRO format:\n",
    "        virtual channel ID, shank ID, bank ID, reference ID, \n",
    "        electrode ID (0-1279, sequential numbering from the tip of the probe)\n",
    "        \"\"\"\n",
    "        with open(imro_path, 'r') as f:\n",
    "            imro_text = f.read()\n",
    "\n",
    "        idx_last_br = imro_text.rfind(')')\n",
    "        imro_text = imro_text[1:idx_last_br]  # remove leading / trailing brackets\n",
    "        imro_recs = imro_text.split(')(')[1:]  # ignore first element - not a channel\n",
    "\n",
    "        imro_mx = np.zeros([len(imro_recs), 5], dtype=np.int32)\n",
    "        for i, channel_text in enumerate(imro_recs):\n",
    "            imro_mx[i] = np.array(channel_text.split(' '))\n",
    "\n",
    "        return imro_mx\n",
    "    \n",
    "    imro_mx = imro2numpy(imro_path)\n",
    "\n",
    "    # add user-defined separation into sections of channels\n",
    "    imro_mxs = np.column_stack([imro_mx, np.zeros(len(imro_mx), dtype=np.int32)])\n",
    "    if sections is not None:\n",
    "        for i, section_sep in enumerate(sections):\n",
    "            for idx in np.where(imro_mxs[:, 4] > section_sep)[0]:\n",
    "                imro_mxs[idx, 5] = i+1\n",
    "\n",
    "    # sorting order: sections, shanks, electrodes\n",
    "    # apply reverse order for electrodes as they are labeled from the tip (bottom)\n",
    "    imro_sorted = imro_mxs[np.lexsort((-imro_mxs[:, 4], imro_mxs[:, 1], imro_mxs[:, 5]))]\n",
    "\n",
    "    # resulting channel map dict\n",
    "    ch_map = {'0': {'mapping': [], 'enabled': []}}\n",
    "    ch_map['0']['mapping'] = [int(x) for x in imro_sorted[:, 0]] + [len(imro_sorted)]  # manually add ADC channel\n",
    "    ch_map['0']['enabled'] = [True for x in range(len(imro_sorted) + 1)]\n",
    "    \n",
    "    # write to file\n",
    "    f_name = os.path.basename(imro_path).split('.')[0] + '.json'\n",
    "    with open(os.path.join(where, f_name), 'w') as f:\n",
    "        f.write(json.dumps(ch_map, indent=2))\n",
    "    \n",
    "    return ch_map"
   ]
  },
  {
   "cell_type": "code",
   "execution_count": 23,
   "id": "a55ece7e",
   "metadata": {},
   "outputs": [],
   "source": [
    "class IMROHero:\n",
    "    \"\"\"\n",
    "    imro_path           path to the IMRO configuration file (should exist)\n",
    "    where               path to a folder where to create the resulting OpenEphys JSON file \n",
    "                            with re-sorted channel map\n",
    "    sections            a list of electrode number(s) by which to separate sorted chanels\n",
    "                            into groups, if needed.\n",
    "    \"\"\"\n",
    "    \n",
    "    def __init__(self, imro_path, where, sections=None):\n",
    "        self.imro_path = imro_path\n",
    "        self.where = where\n",
    "\n",
    "        # read the IMRO text file and convert it\n",
    "        # into a numpy matrix (int32) of the IMRO format:\n",
    "        # virtual channel ID, shank ID, bank ID, reference ID, \n",
    "        # electrode ID (0-1279, sequential numbering from the tip of the probe)\n",
    "        with open(imro_path, 'r') as f:\n",
    "            imro_text = f.read()\n",
    "\n",
    "        idx_last_br = imro_text.rfind(')')\n",
    "        imro_text = imro_text[1:idx_last_br]  # remove leading / trailing brackets\n",
    "        imro_recs = imro_text.split(')(')  \n",
    "        self.imro_first = imro_recs.pop(0)  # save first element - not a channel\n",
    "\n",
    "        imro_mx = np.zeros([len(imro_recs), 5], dtype=np.int32)\n",
    "        for i, channel_text in enumerate(imro_recs):\n",
    "            imro_mx[i] = np.array(channel_text.split(' '))\n",
    "\n",
    "        # add user-defined separation into sections of channels\n",
    "        imro_mxs = np.column_stack([imro_mx, np.zeros(len(imro_mx), dtype=np.int32)])\n",
    "        if sections is not None:\n",
    "            for i, section_sep in enumerate(sections):\n",
    "                for idx in np.where(imro_mxs[:, 4] > section_sep)[0]:\n",
    "                    imro_mxs[idx, 5] = i+1\n",
    "                    \n",
    "        self.imro_mx = imro_mxs\n",
    "        \n",
    "    def align_to_anatomy(self):\n",
    "        # sorting order: sections, shanks, electrodes\n",
    "        # apply reverse order for electrodes as they are labeled from the tip (bottom)\n",
    "        self.imro_mx = self.imro_mx[np.lexsort((-self.imro_mx[:, 4], self.imro_mx[:, 1], self.imro_mx[:, 5]))]\n",
    "\n",
    "    def to_oe_channel_map(self):\n",
    "        # resulting channel map dict\n",
    "        ch_map = {'0': {'mapping': [], 'enabled': []}}\n",
    "        ch_map['0']['mapping'] = [int(x) for x in self.imro_mx[:, 0]] + [len(self.imro_mx)]  # manually add ADC channel\n",
    "        ch_map['0']['enabled'] = [True for x in range(len(self.imro_mx) + 1)]\n",
    "\n",
    "        # write to file\n",
    "        f_name = os.path.basename(self.imro_path).split('.')[0] + '.json'\n",
    "        with open(os.path.join(self.where, f_name), 'w') as f:\n",
    "            f.write(json.dumps(ch_map, indent=2))\n",
    "    \n",
    "    def to_IMRO(self):\n",
    "        to_write = '(' + str(self.imro_first) + ')'\n",
    "        \n",
    "        for i, record in enumerate(self.imro_mx):\n",
    "            line = '(' + ' '.join([str(x) for x in [i, record[1], record[2], record[3], record[4]]]) + ')'\n",
    "            to_write += line\n",
    "            \n",
    "        # write to file\n",
    "        f_name = os.path.basename(self.imro_path).split('.')[0] + '_aligned.imro'\n",
    "        with open(os.path.join(self.where, f_name), 'w') as f:\n",
    "            f.write(to_write)"
   ]
  },
  {
   "cell_type": "code",
   "execution_count": 24,
   "id": "94ba3b04",
   "metadata": {},
   "outputs": [],
   "source": [
    "def align_to_anatomy(imro_path, where):\n",
    "    hero = IMROHero(imro_path, where)\n",
    "    hero.align_to_anatomy()\n",
    "    hero.to_IMRO()"
   ]
  },
  {
   "cell_type": "markdown",
   "id": "ec0477f5",
   "metadata": {},
   "source": [
    "## Generate OE channel maps / aligned IMRO"
   ]
  },
  {
   "cell_type": "code",
   "execution_count": 26,
   "id": "0f1a5312",
   "metadata": {
    "scrolled": true
   },
   "outputs": [
    {
     "name": "stdout",
     "output_type": "stream",
     "text": [
      "{'0': {'enabled': [True, True, True, True, True, True, True, True, True, True,\n",
      "                   True, True, True, True, True, True, True, True, True, True,\n",
      "                   True, True, True, True, True, True, True, True, True, True,\n",
      "                   True, True, True, True, True, True, True, True, True, True,\n",
      "                   True, True, True, True, True, True, True, True, True, True,\n",
      "                   True, True, True, True, True, True, True, True, True, True,\n",
      "                   True, True, True, True, True, True, True, True, True, True,\n",
      "                   True, True, True, True, True, True, True, True, True, True,\n",
      "                   True, True, True, True, True, True, True, True, True, True,\n",
      "                   True, True, True, True, True, True, True, True, True, True,\n",
      "                   True, True, True, True, True, True, True, True, True, True,\n",
      "                   True, True, True, True, True, True, True, True, True, True,\n",
      "                   True, True, True, True, True, True, True, True, True, True,\n",
      "                   True, True, True, True, True, True, True, True, True, True,\n",
      "                   True, True, True, True, True, True, True, True, True, True,\n",
      "                   True, True, True, True, True, True, True, True, True, True,\n",
      "                   True, True, True, True, True, True, True, True, True, True,\n",
      "                   True, True, True, True, True, True, True, True, True, True,\n",
      "                   True, True, True, True, True, True, True, True, True, True,\n",
      "                   True, True, True, True, True, True, True, True, True, True,\n",
      "                   True, True, True, True, True, True, True, True, True, True,\n",
      "                   True, True, True, True, True, True, True, True, True, True,\n",
      "                   True, True, True, True, True, True, True, True, True, True,\n",
      "                   True, True, True, True, True, True, True, True, True, True,\n",
      "                   True, True, True, True, True, True, True, True, True, True,\n",
      "                   True, True, True, True, True, True, True, True, True, True,\n",
      "                   True, True, True, True, True, True, True, True, True, True,\n",
      "                   True, True, True, True, True, True, True, True, True, True,\n",
      "                   True, True, True, True, True, True, True, True, True, True,\n",
      "                   True, True, True, True, True, True, True, True, True, True,\n",
      "                   True, True, True, True, True, True, True, True, True, True,\n",
      "                   True, True, True, True, True, True, True, True, True, True,\n",
      "                   True, True, True, True, True, True, True, True, True, True,\n",
      "                   True, True, True, True, True, True, True, True, True, True,\n",
      "                   True, True, True, True, True, True, True, True, True, True,\n",
      "                   True, True, True, True, True, True, True, True, True, True,\n",
      "                   True, True, True, True, True, True, True, True, True, True,\n",
      "                   True, True, True, True, True, True, True, True, True, True,\n",
      "                   True, True, True, True, True],\n",
      "       'mapping': [334, 332, 330, 328, 326, 324, 322, 320, 318, 316, 314, 312,\n",
      "                   310, 308, 306, 304, 302, 300, 298, 296, 294, 292, 290, 288,\n",
      "                   238, 236, 234, 232, 230, 228, 226, 224, 222, 220, 218, 216,\n",
      "                   214, 212, 210, 208, 206, 204, 202, 200, 198, 196, 194, 192,\n",
      "                   142, 140, 138, 136, 134, 132, 130, 128, 126, 124, 122, 120,\n",
      "                   118, 116, 114, 112, 110, 108, 106, 104, 102, 100, 98, 96, 46,\n",
      "                   44, 42, 40, 38, 36, 34, 32, 30, 28, 26, 24, 22, 20, 18, 16,\n",
      "                   14, 12, 10, 8, 6, 4, 2, 0, 382, 380, 378, 376, 374, 372, 370,\n",
      "                   368, 366, 364, 362, 360, 358, 356, 354, 352, 350, 348, 346,\n",
      "                   344, 342, 340, 338, 336, 286, 284, 282, 280, 278, 276, 274,\n",
      "                   272, 270, 268, 266, 264, 262, 260, 258, 256, 254, 252, 250,\n",
      "                   248, 246, 244, 242, 240, 190, 188, 186, 184, 182, 180, 178,\n",
      "                   176, 174, 172, 170, 168, 166, 164, 162, 160, 158, 156, 154,\n",
      "                   152, 150, 148, 146, 144, 94, 92, 90, 88, 86, 84, 82, 80, 78,\n",
      "                   76, 74, 72, 70, 68, 66, 64, 62, 60, 58, 56, 54, 52, 50, 48,\n",
      "                   143, 141, 139, 137, 135, 133, 131, 129, 127, 125, 123, 121,\n",
      "                   119, 117, 115, 113, 111, 109, 107, 105, 103, 101, 99, 97, 47,\n",
      "                   45, 43, 41, 39, 37, 35, 33, 31, 29, 27, 25, 23, 21, 19, 17,\n",
      "                   15, 13, 11, 9, 7, 5, 3, 1, 335, 333, 331, 329, 327, 325, 323,\n",
      "                   321, 319, 317, 315, 313, 311, 309, 307, 305, 303, 301, 299,\n",
      "                   297, 295, 293, 291, 289, 239, 237, 235, 233, 231, 229, 227,\n",
      "                   225, 223, 221, 219, 217, 215, 213, 211, 209, 207, 205, 203,\n",
      "                   201, 199, 197, 195, 193, 191, 189, 187, 185, 183, 181, 179,\n",
      "                   177, 175, 173, 171, 169, 167, 165, 163, 161, 159, 157, 155,\n",
      "                   153, 151, 149, 147, 145, 95, 93, 91, 89, 87, 85, 83, 81, 79,\n",
      "                   77, 75, 73, 71, 69, 67, 65, 63, 61, 59, 57, 55, 53, 51, 49,\n",
      "                   383, 381, 379, 377, 375, 373, 371, 369, 367, 365, 363, 361,\n",
      "                   359, 357, 355, 353, 351, 349, 347, 345, 343, 341, 339, 337,\n",
      "                   287, 285, 283, 281, 279, 277, 275, 273, 271, 269, 267, 265,\n",
      "                   263, 261, 259, 257, 255, 253, 251, 249, 247, 245, 243, 241,\n",
      "                   384]}}\n"
     ]
    }
   ],
   "source": [
    "import pprint\n",
    "\n",
    "#imro_path = os.path.join(\"Z:\\\\\", \"AG_Pecka\", \"data\", 'raw', '013608', 'config', 'imro', 'PPC_HPC_Thalamus.imro')\n",
    "#where     = os.path.join(\"Z:\\\\\", \"AG_Pecka\", \"data\", 'raw', '013608', 'config', 'mappings')\n",
    "\n",
    "imro_path = '/home/sobolev/nevermind/AG_Pecka/data/raw/014393/config/imro/HPC1.imro'\n",
    "where     = '/home/sobolev/nevermind/AG_Pecka/data/raw/014393/config/mappings'\n",
    "\n",
    "ch_map = imro2oe_ch_map(imro_path, where)\n",
    "\n",
    "pprint.pprint(ch_map, compact=True)"
   ]
  },
  {
   "cell_type": "code",
   "execution_count": 33,
   "id": "19ee5b50",
   "metadata": {},
   "outputs": [],
   "source": [
    "imro_path = '/home/sobolev/nevermind/AG_Pecka/data/raw/013608/sandbox/imro/4AB_single.imro'\n",
    "where     = '/home/sobolev/nevermind/AG_Pecka/data/raw/013608/sandbox/mappings'\n",
    "\n",
    "align_to_anatomy(imro_path, where)"
   ]
  },
  {
   "cell_type": "markdown",
   "id": "e0d5a312",
   "metadata": {},
   "source": [
    "## Create channel maps"
   ]
  },
  {
   "cell_type": "code",
   "execution_count": 17,
   "id": "83fb0821",
   "metadata": {},
   "outputs": [],
   "source": [
    "for idx in ['1AB', '2AB', '3AB', '4AB']:\n",
    "    imro_path = '/home/sobolev/nevermind/AG_Pecka/data/raw/013608/sandbox/imro/%s_single.imro' % idx\n",
    "    where     = '/home/sobolev/nevermind/AG_Pecka/data/raw/013608/sandbox/mappings'\n",
    "\n",
    "    ch_map = imro2oe_ch_map(imro_path, where)"
   ]
  },
  {
   "cell_type": "code",
   "execution_count": 152,
   "id": "2801d979",
   "metadata": {},
   "outputs": [
    {
     "data": {
      "text/plain": [
       "(384, 6)"
      ]
     },
     "execution_count": 152,
     "metadata": {},
     "output_type": "execute_result"
    }
   ],
   "source": [
    "imro_sorted.shape"
   ]
  },
  {
   "cell_type": "code",
   "execution_count": 141,
   "id": "1bbee7f5",
   "metadata": {},
   "outputs": [],
   "source": [
    "import json"
   ]
  },
  {
   "cell_type": "code",
   "execution_count": 143,
   "id": "100043de",
   "metadata": {},
   "outputs": [],
   "source": [
    "ch_map_path = '/home/sobolev/nevermind/AG_Pecka/data/raw/013608/sandbox/chmap_test.json'\n",
    "\n",
    "with open(ch_map_path, 'r') as f:\n",
    "    chmap = json.loads(f.read())"
   ]
  },
  {
   "cell_type": "markdown",
   "id": "9757ed51",
   "metadata": {},
   "source": [
    "## Visualize IMRO"
   ]
  },
  {
   "cell_type": "code",
   "execution_count": 12,
   "id": "7b2ced35",
   "metadata": {},
   "outputs": [],
   "source": [
    "import numpy as np\n",
    "import matplotlib.pyplot as plt"
   ]
  },
  {
   "cell_type": "code",
   "execution_count": 17,
   "id": "782c5dd5",
   "metadata": {},
   "outputs": [
    {
     "data": {
      "text/plain": [
       "(0.0, 5500.0)"
      ]
     },
     "execution_count": 17,
     "metadata": {},
     "output_type": "execute_result"
    },
    {
     "data": {
      "image/png": "[encoded data removed]",
      "text/plain": [
       "<Figure size 504x720 with 1 Axes>"
      ]
     },
     "metadata": {
      "needs_background": "light"
     },
     "output_type": "display_data"
    }
   ],
   "source": [
    "# works for 4 channel NP 2.0\n",
    "#imro_path = '/home/sobolev/nevermind/AG_Pecka/data/raw/013608/config/imro/HPC_AudThalamus.imro'\n",
    "#imro_path = '/home/sobolev/nevermind/AG_Pecka/data/raw/013608/config/imro/HPC_ALL.imro'\n",
    "imro_path = '/home/sobolev/nevermind/AG_Pecka/data/raw/014393/config/imro/HPC.imro'\n",
    "\n",
    "v_space = 15\n",
    "x_coords = [[8, 40], [258, 290], [508, 540], [758, 790]]\n",
    "y_coords = [v_space*x for x in range(640)]  # 15um vertical spacing, 640 channels each side\n",
    "\n",
    "fig, ax = plt.subplots(1, 1, figsize=(7, 10))\n",
    "\n",
    "# probe sites\n",
    "for shank in range(4):\n",
    "    x_l = x_coords[shank][0]\n",
    "    x_r = x_coords[shank][1]\n",
    "    \n",
    "    ax.scatter(x_l * np.ones(len(y_coords)), y_coords, s=5, color='grey')\n",
    "    ax.scatter(x_r * np.ones(len(y_coords)), y_coords, s=5, color='grey')\n",
    "    \n",
    "# 96 channels lines\n",
    "for i in range(6):\n",
    "    lw = 1 if i % 2 == 0 else 2\n",
    "    ax.axhline(v_space * (i+1) * 96, color='grey', lw=lw)\n",
    "\n",
    "    \n",
    "# IMRO\n",
    "imro_mx = imro2numpy(imro_path)\n",
    "pos_mx  = np.zeros([len(imro_mx), 2])\n",
    "for i, record in enumerate(imro_mx):\n",
    "    shank = int(record[1])\n",
    "    idx_x = int(record[4] % 2)\n",
    "    pos_mx[i] = x_coords[shank][idx_x], v_space * int(record[4] / 2)\n",
    "    \n",
    "ax.scatter(pos_mx[:, 0], pos_mx[:, 1], color='red')\n",
    "\n",
    "ax.set_ylim(0, 5500)"
   ]
  },
  {
   "cell_type": "code",
   "execution_count": 18,
   "id": "e7d412fd",
   "metadata": {
    "scrolled": true
   },
   "outputs": [
    {
     "data": {
      "text/plain": [
       "-29.0"
      ]
     },
     "execution_count": 18,
     "metadata": {},
     "output_type": "execute_result"
    }
   ],
   "source": [
    "192 - (pos_mx[:, 1].min() / 15 + 96)"
   ]
  }
 ],
 "metadata": {
  "kernelspec": {
   "display_name": "Python 3 (ipykernel)",
   "language": "python",
   "name": "python3"
  },
  "language_info": {
   "codemirror_mode": {
    "name": "ipython",
    "version": 3
   },
   "file_extension": ".py",
   "mimetype": "text/x-python",
   "name": "python",
   "nbconvert_exporter": "python",
   "pygments_lexer": "ipython3",
   "version": "3.8.10"
  }
 },
 "nbformat": 4,
 "nbformat_minor": 5
}
