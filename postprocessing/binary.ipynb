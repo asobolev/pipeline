{
 "cells": [
  {
   "cell_type": "code",
   "execution_count": 1,
   "id": "b718b32d",
   "metadata": {},
   "outputs": [],
   "source": [
    "import sys, os\n",
    "sys.path.append(os.path.join(os.getcwd(), '..'))\n",
    "sys.path.append(os.path.join(os.getcwd(), '..', '..'))\n",
    "sys.path.append(os.path.join(os.getcwd(), '..', '..', 'pplSIT', 'workflow'))\n",
    "sys.path.append(os.path.join(os.getcwd(), '..', '..', 'pplSIT', 'workflow', 'utils'))"
   ]
  },
  {
   "cell_type": "code",
   "execution_count": 2,
   "id": "a019d616",
   "metadata": {},
   "outputs": [
    {
     "name": "stderr",
     "output_type": "stream",
     "text": [
      "/home/sobolev/projects/pySIT/lib/python3.8/site-packages/scipy/__init__.py:146: UserWarning: A NumPy version >=1.16.5 and <1.23.0 is required for this version of SciPy (detected version 1.24.4\n",
      "  warnings.warn(f\"A NumPy version >={np_minversion} and <{np_maxversion}\"\n"
     ]
    }
   ],
   "source": [
    "import numpy as np\n",
    "import os\n",
    "import matplotlib.pyplot as plt\n",
    "\n",
    "from neurosuite import DatHero\n",
    "from scipy import signal"
   ]
  },
  {
   "cell_type": "code",
   "execution_count": 1,
   "id": "7697c567",
   "metadata": {},
   "outputs": [],
   "source": [
    "src_raw = '/home/sobolev/nevermind/AG_Pecka/data/raw/013608/sandbox/2024-12-20_12-05-35/Record Node 102/experiment1/recording1/continuous/OneBox-105.ProbeA'\n",
    "src_adc = '/home/sobolev/nevermind/AG_Pecka/data/raw/013608/sandbox/2024-12-20_12-05-35/Record Node 102/experiment1/recording1/continuous/OneBox-105.OneBox-ADC'"
   ]
  },
  {
   "cell_type": "code",
   "execution_count": 17,
   "id": "fa2ecc8e",
   "metadata": {},
   "outputs": [
    {
     "data": {
      "text/plain": [
       "(441515, 453954)"
      ]
     },
     "execution_count": 17,
     "metadata": {},
     "output_type": "execute_result"
    }
   ],
   "source": [
    "# read timestamps - number of samples\n",
    "ts_raw = np.load(os.path.join(src_raw, 'timestamps.npy'))\n",
    "ts_adc = np.load(os.path.join(src_adc, 'timestamps.npy'))\n",
    "\n",
    "ts_raw.shape[0], ts_adc.shape[0]"
   ]
  },
  {
   "cell_type": "code",
   "execution_count": 18,
   "id": "12397fd8",
   "metadata": {},
   "outputs": [
    {
     "data": {
      "text/plain": [
       "(384, 12)"
      ]
     },
     "execution_count": 18,
     "metadata": {},
     "output_type": "execute_result"
    }
   ],
   "source": [
    "# number of channels assuming each number in .dat is int16 (2 bytes)\n",
    "ch_num_raw = int(os.path.getsize(os.path.join(src_raw, 'continuous.dat')) / (2*ts_raw.shape[0]))\n",
    "ch_num_adc = int(os.path.getsize(os.path.join(src_adc, 'continuous.dat')) / (2*ts_adc.shape[0]))\n",
    "\n",
    "ch_num_raw, ch_num_adc"
   ]
  },
  {
   "cell_type": "code",
   "execution_count": 6,
   "id": "b85adae2",
   "metadata": {},
   "outputs": [
    {
     "data": {
      "text/plain": [
       "72003035"
      ]
     },
     "execution_count": 6,
     "metadata": {},
     "output_type": "execute_result"
    }
   ],
   "source": [
    "ts_path = '/home/sobolev/nevermind/AG_Pecka/data/raw/013608/013608_ppcSIT_2025-01-06_13-20-52/2025-01-06_13-23-26/Record Node 102/experiment1/recording1/continuous/OneBox-105.ProbeA/timestamps.npy'\n",
    "timestamps = np.load(ts_path)\n",
    "timestamps.shape[0]"
   ]
  },
  {
   "cell_type": "code",
   "execution_count": 7,
   "id": "d3b5fb40",
   "metadata": {},
   "outputs": [
    {
     "data": {
      "text/plain": [
       "2400.101166666667"
      ]
     },
     "execution_count": 7,
     "metadata": {},
     "output_type": "execute_result"
    }
   ],
   "source": [
    "timestamps.shape[0]/30000."
   ]
  },
  {
   "cell_type": "code",
   "execution_count": 4,
   "id": "e1a75d58",
   "metadata": {},
   "outputs": [
    {
     "name": "stdout",
     "output_type": "stream",
     "text": [
      "519.2193333333333\n",
      "1050.9635\n",
      "42.1412\n",
      "82.40023333333333\n",
      "261.77116666666666\n"
     ]
    }
   ],
   "source": [
    "src_raw = '/home/sobolev/nevermind/AG_Pecka/data/raw/013608/013608_ppcSIT_2025-01-05_15-41-37/2025-01-05_15-44-03/Record Node 102/experiment1'\n",
    "\n",
    "total_samples = 0\n",
    "for i in range(5):\n",
    "    ts_path = os.path.join(src_raw, 'recording' + str(i+1), 'continuous', 'OneBox-105.ProbeA', 'timestamps.npy')\n",
    "    sample_count = np.load(ts_path).shape[0]\n",
    "    \n",
    "    total_samples += sample_count\n",
    "    print(sample_count/30000.0)"
   ]
  },
  {
   "cell_type": "code",
   "execution_count": 5,
   "id": "eaee9e81",
   "metadata": {},
   "outputs": [
    {
     "data": {
      "text/plain": [
       "1956.4954333333333"
      ]
     },
     "execution_count": 5,
     "metadata": {},
     "output_type": "execute_result"
    }
   ],
   "source": [
    "total_samples/30000."
   ]
  },
  {
   "cell_type": "code",
   "execution_count": 14,
   "id": "b916354c",
   "metadata": {},
   "outputs": [
    {
     "data": {
      "text/plain": [
       "('timestamps.npy', 'OneBox-105.ProbeA')"
      ]
     },
     "execution_count": 14,
     "metadata": {},
     "output_type": "execute_result"
    }
   ],
   "source": [
    "ts_path = '/home/sobolev/nevermind/AG_Pecka/data/raw/013608/013608_ppcSIT_2025-01-06_13-20-52/2025-01-06_13-23-26/Record Node 102/experiment1/recording1/continuous/OneBox-105.ProbeA/timestamps.npy'\n",
    "\n",
    "os.path.basename(ts_path), os.path.basename(os.path.dirname(ts_path))"
   ]
  },
  {
   "cell_type": "code",
   "execution_count": 15,
   "id": "4d8bc0b9",
   "metadata": {},
   "outputs": [
    {
     "name": "stdout",
     "output_type": "stream",
     "text": [
      "/home/sobolev/nevermind/AG_Pecka/data/raw/013608/013608_ppcSIT_2025-01-06_13-20-52/ ['2025-01-06_13-23-26'] ['013608_ppcSIT_2025-01-06_13-20-52.h5', '013608_ppcSIT_2025-01-06_13-20-52.json', 'audio.mat5', 'events.csv', 'islands.csv', 'microphones.csv', 'positions.csv', 'raw.avi', 'raw.csv', 'sounds.csv', 'video.avi', 'video.csv']\n",
      "/home/sobolev/nevermind/AG_Pecka/data/raw/013608/013608_ppcSIT_2025-01-06_13-20-52/2025-01-06_13-23-26 ['Record Node 102'] []\n",
      "/home/sobolev/nevermind/AG_Pecka/data/raw/013608/013608_ppcSIT_2025-01-06_13-20-52/2025-01-06_13-23-26/Record Node 102 ['experiment1'] ['settings.xml']\n",
      "/home/sobolev/nevermind/AG_Pecka/data/raw/013608/013608_ppcSIT_2025-01-06_13-20-52/2025-01-06_13-23-26/Record Node 102/experiment1 ['recording1'] []\n",
      "/home/sobolev/nevermind/AG_Pecka/data/raw/013608/013608_ppcSIT_2025-01-06_13-20-52/2025-01-06_13-23-26/Record Node 102/experiment1/recording1 ['continuous', 'events'] ['structure.oebin', 'sync_messages.txt']\n",
      "/home/sobolev/nevermind/AG_Pecka/data/raw/013608/013608_ppcSIT_2025-01-06_13-20-52/2025-01-06_13-23-26/Record Node 102/experiment1/recording1/continuous ['OneBox-105.OneBox-ADC', 'OneBox-105.ProbeA'] []\n",
      "/home/sobolev/nevermind/AG_Pecka/data/raw/013608/013608_ppcSIT_2025-01-06_13-20-52/2025-01-06_13-23-26/Record Node 102/experiment1/recording1/continuous/OneBox-105.OneBox-ADC [] ['continuous.dat', 'sample_numbers.npy', 'timestamps.npy']\n",
      "/home/sobolev/nevermind/AG_Pecka/data/raw/013608/013608_ppcSIT_2025-01-06_13-20-52/2025-01-06_13-23-26/Record Node 102/experiment1/recording1/continuous/OneBox-105.ProbeA [] ['continuous.dat', 'sample_numbers.npy', 'timestamps.npy', 'continuous.xml', 'continuous.nrs']\n",
      "/home/sobolev/nevermind/AG_Pecka/data/raw/013608/013608_ppcSIT_2025-01-06_13-20-52/2025-01-06_13-23-26/Record Node 102/experiment1/recording1/events ['Crossing_Detector-106.OneBox-ADC', 'Crossing_Detector-106.ProbeA', 'MessageCenter', 'OneBox-105.OneBox-ADC', 'OneBox-105.ProbeA'] []\n",
      "/home/sobolev/nevermind/AG_Pecka/data/raw/013608/013608_ppcSIT_2025-01-06_13-20-52/2025-01-06_13-23-26/Record Node 102/experiment1/recording1/events/Crossing_Detector-106.OneBox-ADC ['TTL'] []\n",
      "/home/sobolev/nevermind/AG_Pecka/data/raw/013608/013608_ppcSIT_2025-01-06_13-20-52/2025-01-06_13-23-26/Record Node 102/experiment1/recording1/events/Crossing_Detector-106.OneBox-ADC/TTL [] ['full_words.npy', 'sample_numbers.npy', 'states.npy', 'timestamps.npy']\n",
      "/home/sobolev/nevermind/AG_Pecka/data/raw/013608/013608_ppcSIT_2025-01-06_13-20-52/2025-01-06_13-23-26/Record Node 102/experiment1/recording1/events/Crossing_Detector-106.ProbeA ['TTL'] []\n",
      "/home/sobolev/nevermind/AG_Pecka/data/raw/013608/013608_ppcSIT_2025-01-06_13-20-52/2025-01-06_13-23-26/Record Node 102/experiment1/recording1/events/Crossing_Detector-106.ProbeA/TTL [] ['full_words.npy', 'sample_numbers.npy', 'states.npy', 'timestamps.npy']\n",
      "/home/sobolev/nevermind/AG_Pecka/data/raw/013608/013608_ppcSIT_2025-01-06_13-20-52/2025-01-06_13-23-26/Record Node 102/experiment1/recording1/events/MessageCenter [] ['sample_numbers.npy', 'text.npy', 'timestamps.npy']\n",
      "/home/sobolev/nevermind/AG_Pecka/data/raw/013608/013608_ppcSIT_2025-01-06_13-20-52/2025-01-06_13-23-26/Record Node 102/experiment1/recording1/events/OneBox-105.OneBox-ADC ['TTL'] []\n",
      "/home/sobolev/nevermind/AG_Pecka/data/raw/013608/013608_ppcSIT_2025-01-06_13-20-52/2025-01-06_13-23-26/Record Node 102/experiment1/recording1/events/OneBox-105.OneBox-ADC/TTL [] ['full_words.npy', 'sample_numbers.npy', 'states.npy', 'timestamps.npy']\n",
      "/home/sobolev/nevermind/AG_Pecka/data/raw/013608/013608_ppcSIT_2025-01-06_13-20-52/2025-01-06_13-23-26/Record Node 102/experiment1/recording1/events/OneBox-105.ProbeA ['TTL'] []\n",
      "/home/sobolev/nevermind/AG_Pecka/data/raw/013608/013608_ppcSIT_2025-01-06_13-20-52/2025-01-06_13-23-26/Record Node 102/experiment1/recording1/events/OneBox-105.ProbeA/TTL [] ['full_words.npy', 'sample_numbers.npy', 'states.npy', 'timestamps.npy']\n"
     ]
    }
   ],
   "source": [
    "s_path = '/home/sobolev/nevermind/AG_Pecka/data/raw/013608/013608_ppcSIT_2025-01-06_13-20-52/'\n",
    "\n",
    "for dirpath, dirnames, filenames in os.walk(s_path):\n",
    "    print(dirpath, dirnames, filenames)\n",
    "    "
   ]
  },
  {
   "cell_type": "code",
   "execution_count": 17,
   "id": "91992803",
   "metadata": {},
   "outputs": [
    {
     "data": {
      "text/plain": [
       "164"
      ]
     },
     "execution_count": 17,
     "metadata": {},
     "output_type": "execute_result"
    }
   ],
   "source": [
    "dirname = '/home/sobolev/nevermind/AG_Pecka/data/raw/013608/013608_ppcSIT_2025-01-06_13-20-52/2025-01-06_13-23-26/Record Node 102/experiment1/recording1/continuous/OneBox-105.OneBox-ADC'\n",
    "\n",
    "dirname.find('OneBox-ADC')"
   ]
  },
  {
   "cell_type": "code",
   "execution_count": 18,
   "id": "01d6ccd4",
   "metadata": {},
   "outputs": [
    {
     "data": {
      "text/plain": [
       "72729045"
      ]
     },
     "execution_count": 18,
     "metadata": {},
     "output_type": "execute_result"
    }
   ],
   "source": [
    "ts_path = '/home/sobolev/nevermind/AG_Pecka/data/raw/013608/013608_ppcSIT_2025-01-07_08-47-27/2025-01-07_08-51-02/Record Node 102/experiment1/recording1/continuous/OneBox-105.OneBox-ADC/timestamps.npy'\n",
    "timestamps = np.load(ts_path)\n",
    "timestamps.shape[0]"
   ]
  },
  {
   "cell_type": "code",
   "execution_count": 29,
   "id": "e454c38d",
   "metadata": {},
   "outputs": [],
   "source": [
    "adc_path = '/home/sobolev/nevermind/AG_Pecka/data/raw/013608/013608_ppcSIT_2025-01-07_08-47-27/2025-01-07_08-51-02/Record Node 102/experiment1/recording1/continuous/OneBox-105.OneBox-ADC/continuous.dat'\n",
    "\n",
    "dh = DatHero(adc_path, s_rate=30300, ch_no=12)"
   ]
  },
  {
   "cell_type": "code",
   "execution_count": 30,
   "id": "fc3e30bd",
   "metadata": {},
   "outputs": [],
   "source": [
    "ch11 = dh.get_single_channel(11)"
   ]
  },
  {
   "cell_type": "code",
   "execution_count": 56,
   "id": "944538b4",
   "metadata": {},
   "outputs": [
    {
     "data": {
      "text/plain": [
       "<matplotlib.lines.Line2D at 0x7f6140cd23a0>"
      ]
     },
     "execution_count": 56,
     "metadata": {},
     "output_type": "execute_result"
    },
    {
     "data": {
      "image/png": "[encoded data removed]",
      "text/plain": [
       "<Figure size 432x288 with 1 Axes>"
      ]
     },
     "metadata": {
      "needs_background": "light"
     },
     "output_type": "display_data"
    }
   ],
   "source": [
    "fig, ax = plt.subplots(1, 1)\n",
    "ax.plot(data_smooth[:30000])\n",
    "ax.plot(ch11[:30000] - ch11.mean())\n",
    "ax.axhline(300)"
   ]
  },
  {
   "cell_type": "code",
   "execution_count": 52,
   "id": "10c77c1d",
   "metadata": {},
   "outputs": [],
   "source": [
    "s_rate = 30300\n",
    "event_th = 300\n",
    "\n",
    "# smoothing and thresholding\n",
    "kernel_width = s_rate / 100  # need to test if good enough for high frequencies\n",
    "kernel = signal.gaussian(kernel_width, std=(kernel_width) / 7.2)\n",
    "\n",
    "data_smooth = np.convolve(np.abs(ch11 - ch11.mean()), kernel, 'same') / kernel.sum()\n",
    "\n",
    "# TODO: make threshold dependent on noise levels between events\n",
    "idxs_high = np.where(data_smooth > event_th)[0]"
   ]
  },
  {
   "cell_type": "code",
   "execution_count": 53,
   "id": "9e85b1e3",
   "metadata": {},
   "outputs": [
    {
     "data": {
      "text/plain": [
       "array([    5157,     5158,     5159, ..., 72729042, 72729043, 72729044])"
      ]
     },
     "execution_count": 53,
     "metadata": {},
     "output_type": "execute_result"
    }
   ],
   "source": [
    "idxs_high"
   ]
  },
  {
   "cell_type": "code",
   "execution_count": 58,
   "id": "e9b63ff0",
   "metadata": {},
   "outputs": [
    {
     "data": {
      "text/plain": [
       "0.17017915196072764"
      ]
     },
     "execution_count": 58,
     "metadata": {},
     "output_type": "execute_result"
    }
   ],
   "source": [
    "timestamps[idxs_high[0]] - timestamps[0]"
   ]
  },
  {
   "cell_type": "code",
   "execution_count": 57,
   "id": "b5bb08c0",
   "metadata": {},
   "outputs": [
    {
     "data": {
      "text/plain": [
       "25.78407200109311"
      ]
     },
     "execution_count": 57,
     "metadata": {},
     "output_type": "execute_result"
    }
   ],
   "source": []
  },
  {
   "cell_type": "code",
   "execution_count": 59,
   "id": "fe45e89f",
   "metadata": {},
   "outputs": [
    {
     "data": {
      "text/plain": [
       "0.25101447105407715"
      ]
     },
     "execution_count": 59,
     "metadata": {},
     "output_type": "execute_result"
    }
   ],
   "source": [
    "1736236256.8858962 - 1736236256.6348817"
   ]
  },
  {
   "cell_type": "code",
   "execution_count": 61,
   "id": "9629dc4b",
   "metadata": {},
   "outputs": [
    {
     "data": {
      "text/plain": [
       "30303.25318983958"
      ]
     },
     "execution_count": 61,
     "metadata": {},
     "output_type": "execute_result"
    }
   ],
   "source": [
    "len(timestamps)/(timestamps[-1]-timestamps[0])"
   ]
  },
  {
   "cell_type": "code",
   "execution_count": 108,
   "id": "c424a4ec",
   "metadata": {},
   "outputs": [],
   "source": [
    "# detect sound events\n",
    "periods = []\n",
    "\n",
    "idxs_diff = np.diff(idxs_high)\n",
    "period_idxs = np.where((idxs_diff > 3))[0]\n",
    "\n",
    "for i, idx in enumerate(period_idxs):\n",
    "    if i == 0:\n",
    "        pair = (idxs_high[0], idxs_high[idx])\n",
    "    else:\n",
    "        pair = (idxs_high[period_idxs[i - 1] + 1], idxs_high[idx])\n",
    "    periods.append(pair)\n",
    "\n",
    "# add the last period (ignoring events that were still happening at the end of recording)\n",
    "#if not idxs_high[-1] == len(data_smooth):\n",
    "#    periods.append((idxs_high[period_idxs[-1] + 1], idxs_high[-1]))\n",
    "    \n",
    "periods = np.array(periods)"
   ]
  },
  {
   "cell_type": "code",
   "execution_count": 109,
   "id": "559fe51a",
   "metadata": {},
   "outputs": [],
   "source": [
    "p_begs = timestamps[periods[:, 0]] - timestamps[0]\n",
    "p_ends = timestamps[periods[:, 1]] - timestamps[0]\n",
    "\n",
    "period_times = np.column_stack([p_begs, p_ends])\n",
    "durations = np.diff(period_times, axis=1)\n",
    "durations = durations.T[0]"
   ]
  },
  {
   "cell_type": "code",
   "execution_count": 89,
   "id": "c33291f2",
   "metadata": {},
   "outputs": [],
   "source": [
    "ipis = np.diff(period_times[:500, 0])"
   ]
  },
  {
   "cell_type": "code",
   "execution_count": 92,
   "id": "92d7613f",
   "metadata": {},
   "outputs": [
    {
     "data": {
      "text/plain": [
       "<matplotlib.lines.Line2D at 0x7f613cd34940>"
      ]
     },
     "execution_count": 92,
     "metadata": {},
     "output_type": "execute_result"
    },
    {
     "data": {
      "image/png": "[encoded data removed]",
      "text/plain": [
       "<Figure size 432x288 with 1 Axes>"
      ]
     },
     "metadata": {
      "needs_background": "light"
     },
     "output_type": "display_data"
    }
   ],
   "source": [
    "fig, ax = plt.subplots(1, 1)\n",
    "ax.plot(ipis)\n",
    "ax.set_ylim(0.24, 0.26)\n",
    "ax.axhline(0.251, color='red')\n",
    "ax.axhline(0.249, color='red')"
   ]
  },
  {
   "cell_type": "code",
   "execution_count": 97,
   "id": "3edab395",
   "metadata": {},
   "outputs": [],
   "source": [
    "sounds_file = '/home/sobolev/nevermind/AG_Pecka/data/raw/013608/013608_ppcSIT_2025-01-07_08-47-27/sounds.csv'\n",
    "events_file = '/home/sobolev/nevermind/AG_Pecka/data/raw/013608/013608_ppcSIT_2025-01-07_08-47-27/events.csv'\n",
    "\n",
    "events_exp = np.loadtxt(events_file, skiprows=1, delimiter=',')\n",
    "events_csv = np.loadtxt(sounds_file, skiprows=1, delimiter=',')\n",
    "events_csv[:, 0] = events_csv[:, 0] - events_exp[0][0]"
   ]
  },
  {
   "cell_type": "code",
   "execution_count": 101,
   "id": "9907d4c4",
   "metadata": {},
   "outputs": [],
   "source": [
    "events_shifted = events_csv.copy()\n",
    "\n",
    "shift = events_csv[0][0] - period_times[0][0]\n",
    "events_shifted[:, 0] = events_csv[:, 0] - shift"
   ]
  },
  {
   "cell_type": "code",
   "execution_count": 114,
   "id": "5289f001",
   "metadata": {},
   "outputs": [
    {
     "data": {
      "text/plain": [
       "(array([[2.38016931e+03, 2.00000000e+00],\n",
       "        [2.38041932e+03, 2.00000000e+00],\n",
       "        [2.38066934e+03, 2.00000000e+00],\n",
       "        [2.38091935e+03, 2.00000000e+00],\n",
       "        [2.38116936e+03, 2.00000000e+00],\n",
       "        [2.38141938e+03, 2.00000000e+00],\n",
       "        [2.38166939e+03, 2.00000000e+00],\n",
       "        [2.38191941e+03, 2.00000000e+00],\n",
       "        [2.38216942e+03, 2.00000000e+00],\n",
       "        [2.38241944e+03, 2.00000000e+00],\n",
       "        [2.38266945e+03, 2.00000000e+00],\n",
       "        [2.38291946e+03, 2.00000000e+00],\n",
       "        [2.38316948e+03, 2.00000000e+00],\n",
       "        [2.38341949e+03, 2.00000000e+00],\n",
       "        [2.38366951e+03, 2.00000000e+00],\n",
       "        [2.38391952e+03, 2.00000000e+00],\n",
       "        [2.38416954e+03, 2.00000000e+00],\n",
       "        [2.38441955e+03, 2.00000000e+00],\n",
       "        [2.38466956e+03, 2.00000000e+00],\n",
       "        [2.38491958e+03, 2.00000000e+00],\n",
       "        [2.38516959e+03, 2.00000000e+00],\n",
       "        [2.38542061e+03, 2.00000000e+00],\n",
       "        [2.38566962e+03, 0.00000000e+00],\n",
       "        [2.38591964e+03, 0.00000000e+00],\n",
       "        [2.38616965e+03, 0.00000000e+00],\n",
       "        [2.38641966e+03, 0.00000000e+00],\n",
       "        [2.38666968e+03, 0.00000000e+00],\n",
       "        [2.38691969e+03, 0.00000000e+00],\n",
       "        [2.38716971e+03, 0.00000000e+00],\n",
       "        [2.38741972e+03, 0.00000000e+00]]),\n",
       " array([[2384.95744498, 2385.00608662],\n",
       "        [2385.20767252, 2385.25687515],\n",
       "        [2385.45863567, 2385.5078383 ]]))"
      ]
     },
     "execution_count": 114,
     "metadata": {},
     "output_type": "execute_result"
    }
   ],
   "source": [
    "events_shifted[-80:-50], period_times[-3:]"
   ]
  },
  {
   "cell_type": "code",
   "execution_count": 117,
   "id": "041da94a",
   "metadata": {},
   "outputs": [
    {
     "data": {
      "text/plain": [
       "0.03802807488182225"
      ]
     },
     "execution_count": 117,
     "metadata": {},
     "output_type": "execute_result"
    }
   ],
   "source": [
    "t_last_ADC = period_times[-1][0]\n",
    "t_last_sev = events_shifted[np.abs(t_last_ADC - events_shifted[:, 0]).argmin()][0]\n",
    "drift = t_last_ADC - t_last_sev\n",
    "drift"
   ]
  },
  {
   "cell_type": "code",
   "execution_count": null,
   "id": "6a27a7dc",
   "metadata": {},
   "outputs": [],
   "source": [
    "events_shifted[:, 0] = events_shifted[:, 0] + np.arange(len(events_shifted)) * drift/len(sounds)"
   ]
  },
  {
   "cell_type": "code",
   "execution_count": 119,
   "id": "8698def1",
   "metadata": {},
   "outputs": [
    {
     "data": {
      "text/plain": [
       "3.9612578001898174e-06"
      ]
     },
     "execution_count": 119,
     "metadata": {},
     "output_type": "execute_result"
    }
   ],
   "source": [
    "drift/len(events_shifted)"
   ]
  },
  {
   "cell_type": "code",
   "execution_count": 120,
   "id": "ca320d43",
   "metadata": {},
   "outputs": [],
   "source": [
    "import xml.etree.ElementTree as ET\n",
    "\n",
    "xml_path = '/home/sobolev/nevermind/AG_Pecka/data/raw/013608/neurosuite.xml'\n",
    "root = ET.parse(xml_path).getroot()\n"
   ]
  },
  {
   "cell_type": "code",
   "execution_count": 121,
   "id": "72826c0b",
   "metadata": {},
   "outputs": [
    {
     "data": {
      "text/plain": [
       "<Element 'parameters' at 0x7f613ccafc20>"
      ]
     },
     "execution_count": 121,
     "metadata": {},
     "output_type": "execute_result"
    }
   ],
   "source": [
    "root"
   ]
  },
  {
   "cell_type": "code",
   "execution_count": null,
   "id": "3c8d20b0",
   "metadata": {},
   "outputs": [],
   "source": [
    "1280, 1382"
   ]
  },
  {
   "cell_type": "markdown",
   "id": "f11f3918",
   "metadata": {},
   "source": [
    "## ADC sync load"
   ]
  },
  {
   "cell_type": "code",
   "execution_count": 7,
   "id": "844bda1c",
   "metadata": {},
   "outputs": [],
   "source": [
    "from sync import get_sound_events_from_ADC"
   ]
  },
  {
   "cell_type": "code",
   "execution_count": 44,
   "id": "a8c207db",
   "metadata": {},
   "outputs": [],
   "source": [
    "src = '/home/sobolev/nevermind/AG_Pecka/data/raw/013608/'\n",
    "session = '013608_ppcSIT_2025-01-07_08-47-27'\n",
    "\n",
    "adc_file    = os.path.join(src, session, 'ADC.dat')\n",
    "ts_file     = os.path.join(src, session, 'ADC_timestamps.npy')\n",
    "sounds_file = os.path.join(src, session, 'sounds.csv')\n",
    "events_file = os.path.join(src, session, 'events.csv')\n",
    "\n",
    "period_times, events_csv = get_sound_events_from_ADC(adc_file, ts_file, sounds_file, events_file)"
   ]
  },
  {
   "cell_type": "code",
   "execution_count": 45,
   "id": "9189f5c4",
   "metadata": {},
   "outputs": [
    {
     "data": {
      "text/plain": [
       "(0.08083531909334951, 0.03802411362403291)"
      ]
     },
     "execution_count": 45,
     "metadata": {},
     "output_type": "execute_result"
    }
   ],
   "source": [
    "sounds_orig = np.loadtxt(sounds_file, delimiter=',', skiprows=1)\n",
    "events_orig = np.loadtxt(events_file, delimiter=',', skiprows=1)\n",
    "\n",
    "sounds_orig[:, 0] -= events_orig[0][0]  # align to time 0\n",
    "\n",
    "offset = sounds_orig[0][0] - events_csv[0][0]\n",
    "drift  = events_csv[-1][0] - (sounds_orig[-1][0] - offset)\n",
    "\n",
    "offset, drift"
   ]
  },
  {
   "cell_type": "code",
   "execution_count": null,
   "id": "ff5a4dce",
   "metadata": {},
   "outputs": [],
   "source": [
    "# '013608_ppcSIT_2025-01-07_08-47-27': 0.08083531909334951, 0.03802411362403291\n",
    "# '013608_ppcSIT_2025-01-07_15-38-23':-0.020472738775724864, 0.040746191833477496\n",
    "# '013608_ppcSIT_2025-01-09_09-09-55': 0.08447748053428938, 0.0380512848169019\n",
    "# '013608_ppcSIT_2025-01-10_09-25-04': 0.09138712617100708, 0.03784250670696565\n",
    "# '013608_ppcSIT_2025-01-13_14-01-40': 0.06815272024032026, 0.03692050567224214\n",
    "# '013608_ppcSIT_2025-01-14_10-20-14': 0.07653741352392629, 0.03711944612996376"
   ]
  },
  {
   "cell_type": "code",
   "execution_count": 46,
   "id": "7ab1b442",
   "metadata": {},
   "outputs": [
    {
     "data": {
      "text/plain": [
       "0.08027801191257851"
      ]
     },
     "execution_count": 46,
     "metadata": {},
     "output_type": "execute_result"
    }
   ],
   "source": [
    "(0.07653741352392629 + 0.06815272024032026 + 0.09138712617100708 + 0.08447748053428938 + 0.08083531909334951)/5"
   ]
  },
  {
   "cell_type": "code",
   "execution_count": 52,
   "id": "8f66bff3",
   "metadata": {},
   "outputs": [
    {
     "data": {
      "text/plain": [
       "1.6666666666666667e-05"
      ]
     },
     "execution_count": 52,
     "metadata": {},
     "output_type": "execute_result"
    }
   ],
   "source": [
    "mean_offset = 0.08\n",
    "mean_drift  = 0.04\n",
    "\n",
    "drift_coeff = mean_drift / 2400.\n",
    "drift_coeff"
   ]
  },
  {
   "cell_type": "code",
   "execution_count": 54,
   "id": "ebad392c",
   "metadata": {},
   "outputs": [
    {
     "data": {
      "text/plain": [
       "1.6666e-05"
      ]
     },
     "execution_count": 54,
     "metadata": {},
     "output_type": "execute_result"
    }
   ],
   "source": [
    "0.000016666"
   ]
  },
  {
   "cell_type": "code",
   "execution_count": 33,
   "id": "0eea0f91",
   "metadata": {},
   "outputs": [
    {
     "data": {
      "text/plain": [
       "0.0599993317604065"
      ]
     },
     "execution_count": 33,
     "metadata": {},
     "output_type": "execute_result"
    }
   ],
   "source": [
    "# manual drift by default, in ms\n",
    "drift_coeff = 0.000025\n",
    "s_dur = events_orig[-1][0] - events_orig[0][0]\n",
    "\n",
    "s_dur * drift_coeff"
   ]
  },
  {
   "cell_type": "markdown",
   "id": "ce467af1",
   "metadata": {},
   "source": [
    "## Extract single channels from .DAT"
   ]
  },
  {
   "cell_type": "code",
   "execution_count": 3,
   "id": "e7b9a95d",
   "metadata": {},
   "outputs": [],
   "source": [
    "s_path = '/home/sobolev/nevermind/AG_Pecka/data/processed/009266/009266_hippoSIT_2023-04-20_08-57-39'\n",
    "dat_path = os.path.join(s_path, 'neurosuite', '009266_hippoSIT_2023-04-20_08-57-39.dat')\n",
    "\n",
    "\n",
    "dh = DatHero(dat_path, s_rate=30300, ch_no=64)"
   ]
  },
  {
   "cell_type": "code",
   "execution_count": 4,
   "id": "c16dcc95",
   "metadata": {},
   "outputs": [],
   "source": [
    "ch20 = dh.get_single_channel(20)"
   ]
  },
  {
   "cell_type": "code",
   "execution_count": 14,
   "id": "fafcfd7f",
   "metadata": {},
   "outputs": [
    {
     "data": {
      "text/plain": [
       "[<matplotlib.lines.Line2D at 0x7f5758146850>]"
      ]
     },
     "execution_count": 14,
     "metadata": {},
     "output_type": "execute_result"
    },
    {
     "data": {
      "image/png": "[encoded data removed]",
      "text/plain": [
       "<Figure size 1080x216 with 1 Axes>"
      ]
     },
     "metadata": {
      "needs_background": "light"
     },
     "output_type": "display_data"
    }
   ],
   "source": [
    "ch20_i16 = ch20.astype(np.int16)\n",
    "\n",
    "fig, ax = plt.subplots(1, 1, figsize=(15, 3))\n",
    "ax.plot(ch20_i16[:30000])"
   ]
  },
  {
   "cell_type": "code",
   "execution_count": 5,
   "id": "384fd1d6",
   "metadata": {},
   "outputs": [],
   "source": [
    "ch37 = dh.get_single_channel(37)"
   ]
  },
  {
   "cell_type": "code",
   "execution_count": 12,
   "id": "a280064a",
   "metadata": {},
   "outputs": [],
   "source": [
    "ch37_i16 = ch37.astype(np.int16)"
   ]
  },
  {
   "cell_type": "code",
   "execution_count": 13,
   "id": "d2954d36",
   "metadata": {},
   "outputs": [
    {
     "data": {
      "text/plain": [
       "[<matplotlib.lines.Line2D at 0x7f5758164be0>]"
      ]
     },
     "execution_count": 13,
     "metadata": {},
     "output_type": "execute_result"
    },
    {
     "data": {
      "image/png": "[encoded data removed]",
      "text/plain": [
       "<Figure size 1080x216 with 1 Axes>"
      ]
     },
     "metadata": {
      "needs_background": "light"
     },
     "output_type": "display_data"
    }
   ],
   "source": [
    "fig, ax = plt.subplots(1, 1, figsize=(15, 3))\n",
    "ax.plot(ch37_i16[:30000])"
   ]
  },
  {
   "cell_type": "code",
   "execution_count": 15,
   "id": "6886d2cb",
   "metadata": {},
   "outputs": [],
   "source": [
    "import h5py\n",
    "\n",
    "h5_path = '/home/sobolev/nevermind/Andrey/sandbox/LFP/signals.h5'\n",
    "\n",
    "with h5py.File(h5_path, 'w') as f:\n",
    "    f.create_dataset('ch20', data=ch20_i16)\n",
    "    f.create_dataset('ch37', data=ch37_i16)"
   ]
  },
  {
   "cell_type": "code",
   "execution_count": null,
   "id": "ce830577",
   "metadata": {},
   "outputs": [],
   "source": []
  }
 ],
 "metadata": {
  "kernelspec": {
   "display_name": "Python 3 (ipykernel)",
   "language": "python",
   "name": "python3"
  },
  "language_info": {
   "codemirror_mode": {
    "name": "ipython",
    "version": 3
   },
   "file_extension": ".py",
   "mimetype": "text/x-python",
   "name": "python",
   "nbconvert_exporter": "python",
   "pygments_lexer": "ipython3",
   "version": "3.8.10"
  }
 },
 "nbformat": 4,
 "nbformat_minor": 5
}
