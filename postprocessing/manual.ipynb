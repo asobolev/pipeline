{
 "cells": [
  {
   "cell_type": "code",
   "execution_count": 1,
   "id": "088396a2",
   "metadata": {},
   "outputs": [],
   "source": [
    "%matplotlib inline\n",
    "\n",
    "# include modules to the path\n",
    "import sys, os\n",
    "parent_dir = os.path.abspath(os.path.join(os.getcwd(), os.pardir))\n",
    "sys.path.append(parent_dir)\n",
    "sys.path.append(os.path.join(parent_dir, 'session'))\n",
    "\n",
    "import os\n",
    "import numpy as np\n",
    "import h5py, json\n",
    "\n",
    "from session.utils import get_sessions_list, get_sampling_rate, cleaned_epochs"
   ]
  },
  {
   "cell_type": "code",
   "execution_count": 2,
   "id": "ac3c2d93",
   "metadata": {},
   "outputs": [],
   "source": [
    "source = '/home/sobolev/nevermind/Andrey/data'\n",
    "animal = '009266'"
   ]
  },
  {
   "cell_type": "markdown",
   "id": "1a84fad3",
   "metadata": {},
   "source": [
    "## Manually patching JSON files"
   ]
  },
  {
   "cell_type": "code",
   "execution_count": 23,
   "id": "427b4f8e",
   "metadata": {},
   "outputs": [],
   "source": [
    "for session_name in os.listdir(os.path.join(source, animal)):\n",
    "    # file with session config\n",
    "    f_name = os.path.join(source, animal, session_name, session_name + '.json')\n",
    "\n",
    "    with open(f_name, 'r') as f:\n",
    "        cfg = json.load(f)\n",
    "\n",
    "    # update required fields\n",
    "    cfg['experiment']['timepoints'] = []\n",
    "    cfg['experiment']['light_events'] = []\n",
    "\n",
    "    with open(f_name, 'w', encoding='utf-8') as f:\n",
    "        json.dump(cfg, f, ensure_ascii=False, indent=4)"
   ]
  },
  {
   "cell_type": "markdown",
   "id": "432ced32",
   "metadata": {},
   "source": [
    "## Clean up"
   ]
  },
  {
   "cell_type": "code",
   "execution_count": 3,
   "id": "d450f34a",
   "metadata": {},
   "outputs": [
    {
     "name": "stdout",
     "output_type": "stream",
     "text": [
      "Removed 84 files\n"
     ]
    }
   ],
   "source": [
    "to_clean = ['fil', 'lfp', 'clu', 'fet', 'klg', 'res', 'spk', 'nrs', 'xml']\n",
    "\n",
    "count = 0\n",
    "sessions = [x for x in os.listdir(os.path.join(source, animal)) if os.path.isdir(os.path.join(source, animal, x))]\n",
    "for session_name in sessions:\n",
    "    for file_name in os.listdir(os.path.join(source, animal, session_name)):\n",
    "        for key in to_clean:\n",
    "            if file_name.find('.' + key) > 0:\n",
    "                os.remove(os.path.join(source, animal, session_name, file_name))\n",
    "                count += 1\n",
    "                \n",
    "print('Removed %s files' % count)"
   ]
  },
  {
   "cell_type": "code",
   "execution_count": 30,
   "id": "33c577a8",
   "metadata": {},
   "outputs": [
    {
     "data": {
      "text/plain": [
       "'foo'"
      ]
     },
     "execution_count": 30,
     "metadata": {},
     "output_type": "execute_result"
    }
   ],
   "source": [
    "def is_wrong(file_name):\n",
    "    keys = ['clu', 'fet', 'klg', 'res', 'spk', 'nrs', 'xml']\n",
    "    for key in keys:\n",
    "        if file_name.find('.' + key) > 0:\n",
    "            return True\n",
    "    return False\n",
    "\n",
    "from functools import reduce\n",
    "sessions = [x for x in os.listdir(os.path.join(source, animal)) if os.path.isdir(os.path.join(source, animal, x))]\n",
    "files_all = reduce(lambda x, y: x + y, [os.listdir(os.path.join(source, animal, session)) for session in sessions])\n",
    "'foo'"
   ]
  },
  {
   "cell_type": "markdown",
   "id": "99c7733e",
   "metadata": {},
   "source": [
    "## Put correct .XML"
   ]
  },
  {
   "cell_type": "code",
   "execution_count": 5,
   "id": "4389e7dd",
   "metadata": {},
   "outputs": [],
   "source": [
    "import shutil\n",
    "\n",
    "sessions = [x for x in os.listdir(os.path.join(source, animal)) if os.path.isdir(os.path.join(source, animal, x))]\n",
    "\n",
    "for session_name in sessions:\n",
    "    for file_name in os.listdir(os.path.join(source, animal, session_name)):\n",
    "        if file_name.find('.dat') > 0:\n",
    "            src = os.path.join(source, animal, 'default.xml')\n",
    "            dst = os.path.join(source, animal, session_name, session_name + '.xml')\n",
    "            shutil.copyfile(src, dst)"
   ]
  },
  {
   "cell_type": "code",
   "execution_count": 6,
   "id": "46229f4d",
   "metadata": {},
   "outputs": [
    {
     "data": {
      "text/plain": [
       "['009266_hippoSIT_2023-02-28_19-53-56',\n",
       " '009266_hippoSIT_2023-03-01_17-53-11',\n",
       " '009266_hippoSIT_2023-03-06_15-10-36',\n",
       " '009266_hippoSIT_2023-03-06_20-43-19',\n",
       " '009266_hippoSIT_2023-03-08_17-06-45',\n",
       " '009266_hippoSIT_2023-03-09_09-37-07',\n",
       " '009266_hippoSIT_2023-03-09_19-12-22']"
      ]
     },
     "execution_count": 6,
     "metadata": {},
     "output_type": "execute_result"
    }
   ],
   "source": [
    "sessions"
   ]
  },
  {
   "cell_type": "markdown",
   "id": "2c4b9cf9",
   "metadata": {},
   "source": [
    "## Sandbox"
   ]
  },
  {
   "cell_type": "code",
   "execution_count": 6,
   "id": "38cf5a2a",
   "metadata": {},
   "outputs": [
    {
     "data": {
      "text/plain": [
       "array([[   0., 2400.]])"
      ]
     },
     "execution_count": 6,
     "metadata": {},
     "output_type": "execute_result"
    }
   ],
   "source": [
    "session_name = os.listdir(os.path.join(source, animal))[-1]\n",
    "\n",
    "cleaned_epochs(os.path.join(source, animal, session_name))"
   ]
  },
  {
   "cell_type": "code",
   "execution_count": 7,
   "id": "e83d0e83",
   "metadata": {},
   "outputs": [
    {
     "data": {
      "text/plain": [
       "36"
      ]
     },
     "execution_count": 7,
     "metadata": {},
     "output_type": "execute_result"
    }
   ],
   "source": [
    "a1 = '009265_hippoSIT_2023-03-05_18-31-32.xml'\n",
    "a1.find('xml')"
   ]
  },
  {
   "cell_type": "code",
   "execution_count": null,
   "id": "a4a6c341",
   "metadata": {},
   "outputs": [],
   "source": []
  },
  {
   "cell_type": "code",
   "execution_count": null,
   "id": "07e63a0d",
   "metadata": {},
   "outputs": [],
   "source": []
  },
  {
   "cell_type": "markdown",
   "id": "1c19a7c7",
   "metadata": {},
   "source": [
    "## Copy H5 from selected sessions to a separate folder"
   ]
  },
  {
   "cell_type": "code",
   "execution_count": 5,
   "id": "4088437e",
   "metadata": {},
   "outputs": [],
   "source": [
    "import shutil\n",
    "\n",
    "source = '/home/sobolev/nevermind/Andrey/data'\n",
    "dest = '/home/sobolev/nevermind/Andrey/sandbox/export'\n",
    "\n",
    "selected_sessions = [\n",
    "'009266_hippoSIT_2023-04-17_17-04-17',  # ch17, 20 + 55 correction, 5067 events. Showcase for N2 / N3 mod in target\n",
    "'009266_hippoSIT_2023-04-18_10-10-37',  # ch17, 10 + 55 correction, 5682 events\n",
    "'009266_hippoSIT_2023-04-18_17-03-10',  # ch17, 6 + 55 correction, 5494 events: FIXME very weird 1-2nd in target, find out\n",
    "'009266_hippoSIT_2023-04-19_10-33-51',  # ch17, 4 + 55 correction, 6424 events: very weird 1-2nd in target, find out\n",
    "'009266_hippoSIT_2023-04-20_08-57-39',  # ch1, 1 + 55 correction, 6424 events. Showcase for N2 / N3 mod in target\n",
    "'009266_hippoSIT_2023-04-24_16-56-55',  # ch17, 5 + 55* correction, 6165 events, frequency\n",
    "'009266_hippoSIT_2023-04-26_08-20-17',  # ch17, 12 + 55* correction, 6095 events, duration - showcase for N2 \n",
    "'009266_hippoSIT_2023-05-02_12-22-14',  # ch20, 10 + 55 correction, 5976 events, FIXME very weird 1-2nd in target, find out\n",
    "'009266_hippoSIT_2023-05-04_09-11-06',  # ch17, 5 + 55* correction, 4487 events, coma session with baseline AEPs\n",
    "#'009266_hippoSIT_2023-05-04_19-47-15',  # ch20, 2 + 55 correction, 5678 events, duration\n",
    "]"
   ]
  },
  {
   "cell_type": "code",
   "execution_count": 4,
   "id": "acc69f31",
   "metadata": {},
   "outputs": [],
   "source": [
    "for session in selected_sessions:\n",
    "    animal      = session.split('_')[0]\n",
    "\n",
    "    # create folder\n",
    "    session_src = os.path.join(source, animal, session)\n",
    "    session_dst = os.path.join(dest, animal, session)\n",
    "    if not os.path.exists(session_dst):\n",
    "        os.makedirs(session_dst)\n",
    "        \n",
    "    # copy files\n",
    "    for f_name in ['AEPs.h5', session + '.h5']:\n",
    "        src = os.path.join(session_src, f_name)\n",
    "        dst = os.path.join(session_dst, f_name)\n",
    "        shutil.copyfile(src, dst)"
   ]
  },
  {
   "cell_type": "code",
   "execution_count": null,
   "id": "1df3ea9b",
   "metadata": {},
   "outputs": [],
   "source": []
  }
 ],
 "metadata": {
  "kernelspec": {
   "display_name": "Python 3 (ipykernel)",
   "language": "python",
   "name": "python3"
  },
  "language_info": {
   "codemirror_mode": {
    "name": "ipython",
    "version": 3
   },
   "file_extension": ".py",
   "mimetype": "text/x-python",
   "name": "python",
   "nbconvert_exporter": "python",
   "pygments_lexer": "ipython3",
   "version": "3.8.10"
  }
 },
 "nbformat": 4,
 "nbformat_minor": 5
}
