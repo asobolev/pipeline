{
 "cells": [
  {
   "cell_type": "code",
   "execution_count": 2,
   "id": "4cba9e8c",
   "metadata": {},
   "outputs": [],
   "source": [
    "import os, json\n",
    "import numpy as np\n",
    "import pandas as pd\n",
    "#import xml.etree.ElementTree as ET"
   ]
  },
  {
   "cell_type": "code",
   "execution_count": 14,
   "id": "5dd53660",
   "metadata": {},
   "outputs": [],
   "source": [
    "ks_path = '/home/sobolev/nevermind_ag-grothe/AG_Pecka/data/processed/013608/013608_ppcSIT_2025-01-06_13-20-52/kilosort'\n",
    "\n",
    "# load kilosorted spike times / clusters / templates / positions / labels\n",
    "s_times  = np.load(os.path.join(ks_path, 'spike_times.npy'))  # all spike times of all clusters (1D array)\n",
    "s_clust  = np.load(os.path.join(ks_path, 'spike_clusters.npy'))  # IDs of clusters for each spike\n",
    "clu_info = pd.read_csv(os.path.join(ks_path, 'cluster_info.tsv'), sep='\\t')"
   ]
  },
  {
   "cell_type": "code",
   "execution_count": 36,
   "id": "2cf4cb24",
   "metadata": {},
   "outputs": [],
   "source": [
    "all_units = {}\n",
    "unit_info = {}\n",
    "shanks = clu_info['sh'].unique()\n",
    "for shank in shanks:\n",
    "    clu_info_sh = clu_info[clu_info['sh'] == shank]\n",
    "\n",
    "    clu_info_sh_good = clu_info_sh[(clu_info_sh['KSLabel'] == 'good') | (clu_info_sh['group'] == 'good')]\n",
    "    clu_info_sh_good = clu_info_sh_good[clu_info_sh_good['group'] != 'noise']\n",
    "\n",
    "    spiketrains = {}\n",
    "    u_info_sh = {}\n",
    "    for i, record in clu_info_sh_good.iterrows():\n",
    "        clu_id = record['cluster_id']\n",
    "        spiketrains[clu_id] = s_times[np.where(s_clust == clu_id)[0]]\n",
    "\n",
    "        u_info_sh[clu_id] = np.array([\n",
    "            record['Amplitude'],\n",
    "            record['ContamPct'],\n",
    "            record['amp'],\n",
    "            record['ch'],\n",
    "            record['depth'],\n",
    "            record['fr'],\n",
    "            1 if record['KSLabel'] == 'good' else 2,\n",
    "        ])\n",
    "    \n",
    "    all_units[shank] = spiketrains\n",
    "    unit_info[shank] = u_info_sh"
   ]
  },
  {
   "cell_type": "code",
   "execution_count": 37,
   "id": "d7dfa9c1",
   "metadata": {},
   "outputs": [
    {
     "data": {
      "text/plain": [
       "array([1.27000000e+01, 1.20000000e+00, 6.62919556e+02, 3.90000000e+01,\n",
       "       2.44500000e+03, 2.75692546e+01, 1.00000000e+00])"
      ]
     },
     "execution_count": 37,
     "metadata": {},
     "output_type": "execute_result"
    }
   ],
   "source": [
    "unit_info[0][15]"
   ]
  },
  {
   "cell_type": "code",
   "execution_count": null,
   "id": "daab6cb2",
   "metadata": {},
   "outputs": [],
   "source": []
  }
 ],
 "metadata": {
  "kernelspec": {
   "display_name": "pysit",
   "language": "python",
   "name": "pysit"
  },
  "language_info": {
   "codemirror_mode": {
    "name": "ipython",
    "version": 3
   },
   "file_extension": ".py",
   "mimetype": "text/x-python",
   "name": "python",
   "nbconvert_exporter": "python",
   "pygments_lexer": "ipython3",
   "version": "3.10.13"
  }
 },
 "nbformat": 4,
 "nbformat_minor": 5
}
