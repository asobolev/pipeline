{
 "cells": [
  {
   "cell_type": "code",
   "execution_count": 248,
   "id": "5f7ded64",
   "metadata": {},
   "outputs": [],
   "source": [
    "import sys, os\n",
    "sys.path.append(os.path.join(os.getcwd(), '..'))\n",
    "sys.path.append(os.path.join(os.getcwd(), '..', '..'))\n",
    "sys.path.append(os.path.join(os.getcwd(), '..', 'analysis'))"
   ]
  },
  {
   "cell_type": "code",
   "execution_count": 249,
   "id": "c4461104",
   "metadata": {},
   "outputs": [],
   "source": [
    "%matplotlib inline\n",
    "\n",
    "import numpy as np\n",
    "import pandas as pd\n",
    "import os\n",
    "import h5py\n",
    "import json\n",
    "from scipy.stats import pearsonr\n",
    "from scipy.interpolate import interp1d\n",
    "from scipy import signal\n",
    "from functools import reduce\n",
    "from imports import *\n",
    "from analysis.loading import load_session_data\n",
    "from session.sessions import selected_009266, selected_008229, selected_009265\n",
    "\n",
    "import matplotlib.pyplot as plt"
   ]
  },
  {
   "cell_type": "code",
   "execution_count": 250,
   "id": "20f34373",
   "metadata": {},
   "outputs": [
    {
     "data": {
      "application/javascript": [
       "IPython.OutputArea.prototype._should_scroll = function(lines) {\n",
       "    return false;\n",
       "}\n"
      ],
      "text/plain": [
       "<IPython.core.display.Javascript object>"
      ]
     },
     "metadata": {},
     "output_type": "display_data"
    }
   ],
   "source": [
    "%%javascript\n",
    "IPython.OutputArea.prototype._should_scroll = function(lines) {\n",
    "    return false;\n",
    "}"
   ]
  },
  {
   "cell_type": "code",
   "execution_count": 251,
   "id": "98c1b317",
   "metadata": {},
   "outputs": [],
   "source": [
    "#selected_009266\n",
    "#selected_008229\n",
    "#selected_009265\n",
    "\n",
    "selected = [\n",
    "'009265_hippoSIT_2023-03-01_10-46-12',\n",
    "'009265_hippoSIT_2023-03-02_09-32-54',\n",
    "'009265_hippoSIT_2023-03-02_16-27-42',\n",
    "'009265_hippoSIT_2023-03-02_20-11-35',\n",
    "'009265_hippoSIT_2023-03-03_09-37-07',\n",
    "'009265_hippoSIT_2023-03-03_16-00-47',\n",
    "'009265_hippoSIT_2023-03-04_11-12-04',\n",
    "'009265_hippoSIT_2023-03-05_11-52-17',\n",
    "'009265_hippoSIT_2023-03-05_18-31-32',\n",
    "'009265_hippoSIT_2023-03-08_18-10-07',\n",
    "'009265_hippoSIT_2023-03-09_20-03-08',\n",
    "'009265_hippoSIT_2023-03-10_09-57-34',\n",
    "'009265_hippoSIT_2023-04-13_09-54-39',\n",
    "'009265_hippoSIT_2023-04-20_11-39-02',\n",
    "]"
   ]
  },
  {
   "cell_type": "markdown",
   "id": "733dd36d",
   "metadata": {},
   "source": [
    "## Read MoSeq source file"
   ]
  },
  {
   "cell_type": "code",
   "execution_count": 252,
   "id": "d6a24576",
   "metadata": {},
   "outputs": [
    {
     "data": {
      "text/plain": [
       "'/home/sobolev/nevermind/Andrey/data'"
      ]
     },
     "execution_count": 252,
     "metadata": {},
     "output_type": "execute_result"
    }
   ],
   "source": [
    "source"
   ]
  },
  {
   "cell_type": "code",
   "execution_count": 266,
   "id": "4ae08697",
   "metadata": {},
   "outputs": [
    {
     "name": "stdout",
     "output_type": "stream",
     "text": [
      "Found MoSeq file\n"
     ]
    }
   ],
   "source": [
    "#source = '/home/sobolev/nevermind/Miguel/MoSeq/TrainedModels/MoSeqProject_ALLhippoSIT/2023_01_22-16_22_54'\n",
    "#source = '/home/sobolev/nevermind/Andrey/analysis/DLC/MoSeq/10fps'\n",
    "source = '/home/sobolev/nevermind/Andrey/analysis/MoSeq/results'\n",
    "#source = '/mnt/nevermind.data-share/ag-grothe/Andrey/analysis/MoSeq/results'\n",
    "session = selected[13]\n",
    "\n",
    "filt = [s for s in os.listdir(source) if s.startswith(session)]\n",
    "if len(filt) > 0:\n",
    "    moseq_file = os.path.join(source, filt[0])\n",
    "    print(\"Found MoSeq file\")\n",
    "else:\n",
    "    print(\"No MoSeq file for that session\")"
   ]
  },
  {
   "cell_type": "code",
   "execution_count": 254,
   "id": "29f79622",
   "metadata": {
    "scrolled": true
   },
   "outputs": [
    {
     "data": {
      "text/html": [
       "<div>\n",
       "<style scoped>\n",
       "    .dataframe tbody tr th:only-of-type {\n",
       "        vertical-align: middle;\n",
       "    }\n",
       "\n",
       "    .dataframe tbody tr th {\n",
       "        vertical-align: top;\n",
       "    }\n",
       "\n",
       "    .dataframe thead th {\n",
       "        text-align: right;\n",
       "    }\n",
       "</style>\n",
       "<table border=\"1\" class=\"dataframe\">\n",
       "  <thead>\n",
       "    <tr style=\"text-align: right;\">\n",
       "      <th></th>\n",
       "      <th>syllables reindexed</th>\n",
       "      <th>syllables non-reindexed</th>\n",
       "      <th>centroid x</th>\n",
       "      <th>centroid y</th>\n",
       "      <th>heading</th>\n",
       "      <th>estimated left_eye x</th>\n",
       "      <th>estimated left_eye y</th>\n",
       "      <th>estimated right_eye x</th>\n",
       "      <th>estimated right_eye y</th>\n",
       "      <th>estimated left_ear x</th>\n",
       "      <th>...</th>\n",
       "      <th>estimated right_hip y</th>\n",
       "      <th>latent_state 0</th>\n",
       "      <th>latent_state 1</th>\n",
       "      <th>latent_state 2</th>\n",
       "      <th>latent_state 3</th>\n",
       "      <th>latent_state 4</th>\n",
       "      <th>latent_state 5</th>\n",
       "      <th>latent_state 6</th>\n",
       "      <th>latent_state 7</th>\n",
       "      <th>latent_state 8</th>\n",
       "    </tr>\n",
       "  </thead>\n",
       "  <tbody>\n",
       "    <tr>\n",
       "      <th>0</th>\n",
       "      <td>18</td>\n",
       "      <td>31</td>\n",
       "      <td>820.2806</td>\n",
       "      <td>418.1493</td>\n",
       "      <td>-0.4341</td>\n",
       "      <td>840.9380</td>\n",
       "      <td>408.5147</td>\n",
       "      <td>841.4222</td>\n",
       "      <td>413.7998</td>\n",
       "      <td>837.4897</td>\n",
       "      <td>...</td>\n",
       "      <td>455.4309</td>\n",
       "      <td>4.3794</td>\n",
       "      <td>-3.4450</td>\n",
       "      <td>-2.8555</td>\n",
       "      <td>6.6947</td>\n",
       "      <td>3.9485</td>\n",
       "      <td>-4.4517</td>\n",
       "      <td>2.9135</td>\n",
       "      <td>4.2440</td>\n",
       "      <td>-4.3708</td>\n",
       "    </tr>\n",
       "    <tr>\n",
       "      <th>1</th>\n",
       "      <td>18</td>\n",
       "      <td>31</td>\n",
       "      <td>822.2307</td>\n",
       "      <td>414.8923</td>\n",
       "      <td>-0.3182</td>\n",
       "      <td>841.6561</td>\n",
       "      <td>406.8895</td>\n",
       "      <td>833.2612</td>\n",
       "      <td>423.4839</td>\n",
       "      <td>838.8333</td>\n",
       "      <td>...</td>\n",
       "      <td>433.0694</td>\n",
       "      <td>-0.5961</td>\n",
       "      <td>-0.2045</td>\n",
       "      <td>-5.1898</td>\n",
       "      <td>-1.5694</td>\n",
       "      <td>0.6426</td>\n",
       "      <td>2.1901</td>\n",
       "      <td>-1.0122</td>\n",
       "      <td>2.1074</td>\n",
       "      <td>-0.3630</td>\n",
       "    </tr>\n",
       "    <tr>\n",
       "      <th>2</th>\n",
       "      <td>18</td>\n",
       "      <td>31</td>\n",
       "      <td>824.5801</td>\n",
       "      <td>413.0953</td>\n",
       "      <td>0.1703</td>\n",
       "      <td>839.9732</td>\n",
       "      <td>405.2259</td>\n",
       "      <td>837.9043</td>\n",
       "      <td>422.6200</td>\n",
       "      <td>825.7775</td>\n",
       "      <td>...</td>\n",
       "      <td>424.1787</td>\n",
       "      <td>-2.1762</td>\n",
       "      <td>0.7893</td>\n",
       "      <td>1.4437</td>\n",
       "      <td>-0.7228</td>\n",
       "      <td>-2.7279</td>\n",
       "      <td>0.0825</td>\n",
       "      <td>-2.3293</td>\n",
       "      <td>-0.5377</td>\n",
       "      <td>-0.4230</td>\n",
       "    </tr>\n",
       "    <tr>\n",
       "      <th>3</th>\n",
       "      <td>18</td>\n",
       "      <td>31</td>\n",
       "      <td>823.9743</td>\n",
       "      <td>414.9227</td>\n",
       "      <td>-0.0913</td>\n",
       "      <td>836.7239</td>\n",
       "      <td>405.6447</td>\n",
       "      <td>837.0373</td>\n",
       "      <td>422.2148</td>\n",
       "      <td>824.6690</td>\n",
       "      <td>...</td>\n",
       "      <td>427.6213</td>\n",
       "      <td>-2.2321</td>\n",
       "      <td>1.1391</td>\n",
       "      <td>0.1548</td>\n",
       "      <td>-0.9450</td>\n",
       "      <td>-2.1446</td>\n",
       "      <td>1.5696</td>\n",
       "      <td>-2.0151</td>\n",
       "      <td>0.4035</td>\n",
       "      <td>-0.2447</td>\n",
       "    </tr>\n",
       "    <tr>\n",
       "      <th>4</th>\n",
       "      <td>18</td>\n",
       "      <td>31</td>\n",
       "      <td>823.7985</td>\n",
       "      <td>415.7910</td>\n",
       "      <td>-0.1222</td>\n",
       "      <td>836.2926</td>\n",
       "      <td>405.6178</td>\n",
       "      <td>836.7954</td>\n",
       "      <td>423.3077</td>\n",
       "      <td>823.9783</td>\n",
       "      <td>...</td>\n",
       "      <td>429.2674</td>\n",
       "      <td>-2.2510</td>\n",
       "      <td>1.2411</td>\n",
       "      <td>-0.0395</td>\n",
       "      <td>-0.7373</td>\n",
       "      <td>-2.6170</td>\n",
       "      <td>1.4257</td>\n",
       "      <td>-2.6642</td>\n",
       "      <td>0.2269</td>\n",
       "      <td>-0.3372</td>\n",
       "    </tr>\n",
       "  </tbody>\n",
       "</table>\n",
       "<p>5 rows × 40 columns</p>\n",
       "</div>"
      ],
      "text/plain": [
       "   syllables reindexed  syllables non-reindexed  centroid x  centroid y  \\\n",
       "0                   18                       31    820.2806    418.1493   \n",
       "1                   18                       31    822.2307    414.8923   \n",
       "2                   18                       31    824.5801    413.0953   \n",
       "3                   18                       31    823.9743    414.9227   \n",
       "4                   18                       31    823.7985    415.7910   \n",
       "\n",
       "   heading  estimated left_eye x  estimated left_eye y  estimated right_eye x  \\\n",
       "0  -0.4341              840.9380              408.5147               841.4222   \n",
       "1  -0.3182              841.6561              406.8895               833.2612   \n",
       "2   0.1703              839.9732              405.2259               837.9043   \n",
       "3  -0.0913              836.7239              405.6447               837.0373   \n",
       "4  -0.1222              836.2926              405.6178               836.7954   \n",
       "\n",
       "   estimated right_eye y  estimated left_ear x  ...  estimated right_hip y  \\\n",
       "0               413.7998              837.4897  ...               455.4309   \n",
       "1               423.4839              838.8333  ...               433.0694   \n",
       "2               422.6200              825.7775  ...               424.1787   \n",
       "3               422.2148              824.6690  ...               427.6213   \n",
       "4               423.3077              823.9783  ...               429.2674   \n",
       "\n",
       "   latent_state 0  latent_state 1  latent_state 2  latent_state 3  \\\n",
       "0          4.3794         -3.4450         -2.8555          6.6947   \n",
       "1         -0.5961         -0.2045         -5.1898         -1.5694   \n",
       "2         -2.1762          0.7893          1.4437         -0.7228   \n",
       "3         -2.2321          1.1391          0.1548         -0.9450   \n",
       "4         -2.2510          1.2411         -0.0395         -0.7373   \n",
       "\n",
       "   latent_state 4  latent_state 5  latent_state 6  latent_state 7  \\\n",
       "0          3.9485         -4.4517          2.9135          4.2440   \n",
       "1          0.6426          2.1901         -1.0122          2.1074   \n",
       "2         -2.7279          0.0825         -2.3293         -0.5377   \n",
       "3         -2.1446          1.5696         -2.0151          0.4035   \n",
       "4         -2.6170          1.4257         -2.6642          0.2269   \n",
       "\n",
       "   latent_state 8  \n",
       "0         -4.3708  \n",
       "1         -0.3630  \n",
       "2         -0.4230  \n",
       "3         -0.2447  \n",
       "4         -0.3372  \n",
       "\n",
       "[5 rows x 40 columns]"
      ]
     },
     "execution_count": 254,
     "metadata": {},
     "output_type": "execute_result"
    }
   ],
   "source": [
    "ds = pd.read_csv(moseq_file)\n",
    "ds.head()"
   ]
  },
  {
   "cell_type": "markdown",
   "id": "ba4c8762",
   "metadata": {},
   "source": [
    "## Create moseq processed file in the session"
   ]
  },
  {
   "cell_type": "code",
   "execution_count": 255,
   "id": "e1135957",
   "metadata": {},
   "outputs": [],
   "source": [
    "source  = '/home/sobolev/nevermind/Andrey/data'\n",
    "#source = '/mnt/nevermind.data-share/ag-grothe/Andrey/data'\n",
    "\n",
    "animal      = session.split('_')[0]\n",
    "sessionpath = os.path.join(source, animal, session)\n",
    "h5_file     = os.path.join(sessionpath, session + '.h5')\n",
    "moseq_file  = os.path.join(sessionpath, 'moseq.h5')"
   ]
  },
  {
   "cell_type": "code",
   "execution_count": 256,
   "id": "57cd7a46",
   "metadata": {},
   "outputs": [],
   "source": [
    "with h5py.File(h5_file, 'r') as f:\n",
    "    tl = np.array(f['processed']['timeline'])  # time, X, Y, speed, etc.\n",
    "    trials = np.array(f['processed']['trial_idxs'])\n",
    "    cfg = json.loads(f['processed'].attrs['parameters'])"
   ]
  },
  {
   "cell_type": "code",
   "execution_count": 257,
   "id": "1992e8a7",
   "metadata": {},
   "outputs": [
    {
     "data": {
      "text/plain": [
       "((119997, 7), (35918, 40))"
      ]
     },
     "execution_count": 257,
     "metadata": {},
     "output_type": "execute_result"
    }
   ],
   "source": [
    "# compare lengths of timeline (~100Hz) and MoSeq detected coords / syllables\n",
    "ds1 = ds.copy()\n",
    "tl.shape, ds1.shape"
   ]
  },
  {
   "cell_type": "code",
   "execution_count": 258,
   "id": "d7456dfe",
   "metadata": {},
   "outputs": [],
   "source": [
    "# select only required columns\n",
    "#columns_to_drop = ['Unnamed: 0', 'session_name', 'uuid', 'onset']\n",
    "#ds1 = ds1.drop(columns=columns_to_drop)"
   ]
  },
  {
   "cell_type": "code",
   "execution_count": 259,
   "id": "d12f64b2",
   "metadata": {},
   "outputs": [],
   "source": [
    "def px_to_meters(cfg, x, y):  # convert pixels to meters\n",
    "    cfg_pos = cfg['position']\n",
    "    pixel_size = cfg_pos['floor_r_in_meters'] / float(cfg_pos['floor_radius'])\n",
    "    x_m = float(cfg_pos['arena_x'] - x) * pixel_size * (-1 if cfg_pos['flip_x'] else 1)\n",
    "    y_m = float(cfg_pos['arena_y'] - y) * pixel_size * (-1 if cfg_pos['flip_y'] else 1)\n",
    "    return x_m, y_m"
   ]
  },
  {
   "cell_type": "code",
   "execution_count": 260,
   "id": "15583cbc",
   "metadata": {},
   "outputs": [
    {
     "name": "stdout",
     "output_type": "stream",
     "text": [
      "Converted 14 variables\n"
     ]
    }
   ],
   "source": [
    "# convert pixels to meters in all variables\n",
    "variables = [x[:-2] for x in ds1.columns if x.find(' x') > 0]\n",
    "for variable in variables:\n",
    "    var_x, var_y = variable + ' x', variable + ' y'\n",
    "    converted = np.array([px_to_meters(cfg, x, y) for x, y in zip(ds[var_x], ds[var_y])])\n",
    "    ds1[var_x] = converted[:, 0]\n",
    "    ds1[var_y] = converted[:, 1]\n",
    "    \n",
    "print(\"Converted %d variables\" % len(variables))"
   ]
  },
  {
   "cell_type": "code",
   "execution_count": 261,
   "id": "4550d764",
   "metadata": {},
   "outputs": [],
   "source": [
    "# interpolate syllables assuming frames are evenly distributed\n",
    "t_start, t_end = tl[0][0], tl[-1][0]\n",
    "\n",
    "x_moseq = np.linspace(t_start, t_end, len(ds1))  # moseq timeline in seconds\n",
    "moseq_matrix = np.zeros((len(tl), len(ds1.columns)))  # collect moseq data into numpy array\n",
    "\n",
    "curr_idx = 0\n",
    "for i, t in enumerate(tl[:, 0]):\n",
    "    if curr_idx < len(x_moseq) - 1 and \\\n",
    "        np.abs(t - x_moseq[curr_idx]) > np.abs(t - x_moseq[curr_idx + 1]):\n",
    "        curr_idx += 1\n",
    "        \n",
    "    moseq_matrix[i] = np.array(ds1.iloc[curr_idx])"
   ]
  },
  {
   "cell_type": "code",
   "execution_count": 262,
   "id": "a620621a",
   "metadata": {},
   "outputs": [],
   "source": [
    "# create a DataFrame from it\n",
    "moseq_df = pd.DataFrame(moseq_matrix, columns=ds1.columns)"
   ]
  },
  {
   "cell_type": "code",
   "execution_count": 263,
   "id": "aab44ba2",
   "metadata": {
    "scrolled": false
   },
   "outputs": [
    {
     "data": {
      "text/plain": [
       "Text(0, 0.5, 'X Position')"
      ]
     },
     "execution_count": 263,
     "metadata": {},
     "output_type": "execute_result"
    },
    {
     "data": {
      "image/png": "[encoded data removed]",
      "text/plain": [
       "<Figure size 1080x216 with 1 Axes>"
      ]
     },
     "metadata": {
      "needs_background": "light"
     },
     "output_type": "display_data"
    }
   ],
   "source": [
    "# test centroid position\n",
    "fig, ax = plt.subplots(1, 1, figsize=(15, 3))\n",
    "ax.plot(tl[:, 1][:30000], label='Original')\n",
    "ax.plot(moseq_matrix[:, 2][:30000], label='DLC')\n",
    "ax.legend(loc='upper right')\n",
    "ax.set_xlabel('Time, samples (100 Hz)', fontsize=14)\n",
    "ax.set_ylabel('X Position', fontsize=14)"
   ]
  },
  {
   "cell_type": "code",
   "execution_count": 264,
   "id": "c59cec3a",
   "metadata": {},
   "outputs": [],
   "source": [
    "# save moseq data to the session folder\n",
    "with h5py.File(moseq_file, 'w') as f:\n",
    "    ds_h5 = f.create_dataset('moseq', data=moseq_matrix)\n",
    "    ds_h5.attrs['headers'] = ', '.join(list(ds1.columns))"
   ]
  },
  {
   "cell_type": "code",
   "execution_count": null,
   "id": "d9367434",
   "metadata": {},
   "outputs": [],
   "source": []
  }
 ],
 "metadata": {
  "kernelspec": {
   "display_name": "Python 3 (ipykernel)",
   "language": "python",
   "name": "python3"
  },
  "language_info": {
   "codemirror_mode": {
    "name": "ipython",
    "version": 3
   },
   "file_extension": ".py",
   "mimetype": "text/x-python",
   "name": "python",
   "nbconvert_exporter": "python",
   "pygments_lexer": "ipython3",
   "version": "3.8.10"
  }
 },
 "nbformat": 4,
 "nbformat_minor": 5
}
