{
 "cells": [
  {
   "cell_type": "code",
   "execution_count": 1,
   "id": "bf522899",
   "metadata": {},
   "outputs": [
    {
     "name": "stderr",
     "output_type": "stream",
     "text": [
      "2022-10-10 16:02:38.904952: I tensorflow/core/platform/cpu_feature_guard.cc:193] This TensorFlow binary is optimized with oneAPI Deep Neural Network Library (oneDNN) to use the following CPU instructions in performance-critical operations:  AVX2 FMA\n",
      "To enable them in other operations, rebuild TensorFlow with the appropriate compiler flags.\n",
      "2022-10-10 16:02:39.399716: W tensorflow/stream_executor/platform/default/dso_loader.cc:64] Could not load dynamic library 'libcudart.so.11.0'; dlerror: libcudart.so.11.0: cannot open shared object file: No such file or directory\n",
      "2022-10-10 16:02:39.399733: I tensorflow/stream_executor/cuda/cudart_stub.cc:29] Ignore above cudart dlerror if you do not have a GPU set up on your machine.\n",
      "2022-10-10 16:02:39.483069: E tensorflow/stream_executor/cuda/cuda_blas.cc:2981] Unable to register cuBLAS factory: Attempting to register factory for plugin cuBLAS when one has already been registered\n",
      "2022-10-10 16:02:40.497585: W tensorflow/stream_executor/platform/default/dso_loader.cc:64] Could not load dynamic library 'libnvinfer.so.7'; dlerror: libnvinfer.so.7: cannot open shared object file: No such file or directory\n",
      "2022-10-10 16:02:40.497653: W tensorflow/stream_executor/platform/default/dso_loader.cc:64] Could not load dynamic library 'libnvinfer_plugin.so.7'; dlerror: libnvinfer_plugin.so.7: cannot open shared object file: No such file or directory\n",
      "2022-10-10 16:02:40.497660: W tensorflow/compiler/tf2tensorrt/utils/py_utils.cc:38] TF-TRT Warning: Cannot dlopen some TensorRT libraries. If you would like to use Nvidia GPU with TensorRT, please make sure the missing libraries mentioned above are installed properly.\n"
     ]
    },
    {
     "name": "stdout",
     "output_type": "stream",
     "text": [
      "Loading DLC 2.2.2...\n"
     ]
    }
   ],
   "source": [
    "import deeplabcut\n",
    "import os"
   ]
  },
  {
   "cell_type": "code",
   "execution_count": 2,
   "id": "de7947d7",
   "metadata": {},
   "outputs": [],
   "source": [
    "where = '/home/sobolev/projects/sandbox/'\n",
    "video_folder = os.path.join(where, 'dlc_videos')\n",
    "config_path = os.path.join(where, 'ppc-sl-test-Andrey-2022-10-07', 'config.yaml')"
   ]
  },
  {
   "cell_type": "code",
   "execution_count": 8,
   "id": "6a45eac7",
   "metadata": {},
   "outputs": [
    {
     "name": "stdout",
     "output_type": "stream",
     "text": [
      "Created \"/home/sobolev/projects/sandbox/ppc-sl-test-Andrey-2022-10-07/videos\"\n",
      "Created \"/home/sobolev/projects/sandbox/ppc-sl-test-Andrey-2022-10-07/labeled-data\"\n",
      "Created \"/home/sobolev/projects/sandbox/ppc-sl-test-Andrey-2022-10-07/training-datasets\"\n",
      "Created \"/home/sobolev/projects/sandbox/ppc-sl-test-Andrey-2022-10-07/dlc-models\"\n",
      "2  videos from the directory /home/sobolev/projects/sandbox/dlc_videos were added to the project.\n",
      "Copying the videos\n",
      "/home/sobolev/projects/sandbox/ppc-sl-test-Andrey-2022-10-07/videos/video1.avi\n",
      "/home/sobolev/projects/sandbox/ppc-sl-test-Andrey-2022-10-07/videos/video2.avi\n",
      "Generated \"/home/sobolev/projects/sandbox/ppc-sl-test-Andrey-2022-10-07/config.yaml\"\n",
      "\n",
      "A new project with name ppc-sl-test-Andrey-2022-10-07 is created at /home/sobolev/projects/sandbox and a configurable file (config.yaml) is stored there. Change the parameters in this file to adapt to your project's needs.\n",
      " Once you have changed the configuration file, use the function 'extract_frames' to select frames for labeling.\n",
      ". [OPTIONAL] Use the function 'add_new_videos' to add new videos to your project (at any stage).\n"
     ]
    }
   ],
   "source": [
    "# create project\n",
    "config_path = deeplabcut.create_new_project(\n",
    "    project='ppc-sl-test',\n",
    "    experimenter='Andrey',\n",
    "    videos=[video_folder],\n",
    "    videotype='.avi',\n",
    "    copy_videos=True,\n",
    "    working_directory=where\n",
    ")"
   ]
  },
  {
   "cell_type": "code",
   "execution_count": 11,
   "id": "1b50cfd0",
   "metadata": {},
   "outputs": [
    {
     "name": "stdout",
     "output_type": "stream",
     "text": [
      "Config file read successfully.\n",
      "Extracting frames based on kmeans ...\n",
      "Kmeans-quantization based extracting of frames from 0.0  seconds to 599.92  seconds.\n",
      "Extracting and downsampling... 11999  frames from the video.\n"
     ]
    },
    {
     "name": "stderr",
     "output_type": "stream",
     "text": [
      "11999it [01:04, 187.24it/s]\n"
     ]
    },
    {
     "name": "stdout",
     "output_type": "stream",
     "text": [
      "Kmeans clustering ... (this might take a while)\n",
      "Extracting frames based on kmeans ...\n",
      "Kmeans-quantization based extracting of frames from 0.0  seconds to 599.98  seconds.\n",
      "Extracting and downsampling... 12000  frames from the video.\n"
     ]
    },
    {
     "name": "stderr",
     "output_type": "stream",
     "text": [
      "12000it [01:02, 192.97it/s]\n"
     ]
    },
    {
     "name": "stdout",
     "output_type": "stream",
     "text": [
      "Kmeans clustering ... (this might take a while)\n",
      "Frames were successfully extracted, for the videos listed in the config.yaml file.\n",
      "\n",
      "You can now label the frames using the function 'label_frames' (Note, you should label frames extracted from diverse videos (and many videos; we do not recommend training on single videos!)).\n"
     ]
    }
   ],
   "source": [
    "deeplabcut.extract_frames(project_path, userfeedback=False)"
   ]
  },
  {
   "cell_type": "code",
   "execution_count": 7,
   "id": "287fc106",
   "metadata": {},
   "outputs": [
    {
     "name": "stderr",
     "output_type": "stream",
     "text": [
      "\n",
      "(ipykernel_launcher.py:637066): Gtk-WARNING **: 13:38:19.243: Negative content height -9 (allocation 1, extents 5x5) while allocating gadget (node button, owner GtkToggleButton)\n",
      "\n",
      "(ipykernel_launcher.py:637066): Gtk-WARNING **: 13:49:07.267: Negative content height -9 (allocation 1, extents 5x5) while allocating gadget (node button, owner GtkToggleButton)\n",
      "\n",
      "(ipykernel_launcher.py:637066): Gtk-WARNING **: 13:49:07.299: Negative content height -9 (allocation 1, extents 5x5) while allocating gadget (node button, owner GtkToggleButton)\n",
      "\n",
      "(ipykernel_launcher.py:637066): Gtk-WARNING **: 13:49:07.315: Negative content height -9 (allocation 1, extents 5x5) while allocating gadget (node button, owner GtkToggleButton)\n",
      "\n",
      "(ipykernel_launcher.py:637066): Gtk-WARNING **: 13:49:07.333: Negative content height -9 (allocation 1, extents 5x5) while allocating gadget (node button, owner GtkToggleButton)\n",
      "\n",
      "(ipykernel_launcher.py:637066): Gtk-WARNING **: 13:49:07.348: Negative content height -9 (allocation 1, extents 5x5) while allocating gadget (node button, owner GtkToggleButton)\n",
      "\n",
      "(ipykernel_launcher.py:637066): Gtk-WARNING **: 13:49:07.363: Negative content height -9 (allocation 1, extents 5x5) while allocating gadget (node button, owner GtkToggleButton)\n",
      "\n",
      "(ipykernel_launcher.py:637066): Gtk-WARNING **: 13:49:07.381: Negative content height -9 (allocation 1, extents 5x5) while allocating gadget (node button, owner GtkToggleButton)\n",
      "\n",
      "(ipykernel_launcher.py:637066): Gtk-WARNING **: 13:49:07.396: Negative content height -9 (allocation 1, extents 5x5) while allocating gadget (node button, owner GtkToggleButton)\n",
      "\n",
      "(ipykernel_launcher.py:637066): Gtk-WARNING **: 13:49:07.414: Negative content height -9 (allocation 1, extents 5x5) while allocating gadget (node button, owner GtkToggleButton)\n",
      "\n",
      "(ipykernel_launcher.py:637066): Gtk-WARNING **: 13:49:07.430: Negative content height -9 (allocation 1, extents 5x5) while allocating gadget (node button, owner GtkToggleButton)\n",
      "\n",
      "(ipykernel_launcher.py:637066): Gtk-WARNING **: 13:49:07.448: Negative content height -9 (allocation 1, extents 5x5) while allocating gadget (node button, owner GtkToggleButton)\n",
      "\n",
      "(ipykernel_launcher.py:637066): Gtk-WARNING **: 13:58:03.072: Negative content height -9 (allocation 1, extents 5x5) while allocating gadget (node button, owner GtkToggleButton)\n"
     ]
    },
    {
     "name": "stdout",
     "output_type": "stream",
     "text": [
      "You can now check the labels, using 'check_labels' before proceeding. Then, you can use the function 'create_training_dataset' to create the training dataset.\n"
     ]
    }
   ],
   "source": [
    "deeplabcut.label_frames(config_path)"
   ]
  },
  {
   "cell_type": "code",
   "execution_count": 10,
   "id": "bede0381",
   "metadata": {},
   "outputs": [
    {
     "name": "stdout",
     "output_type": "stream",
     "text": [
      "Creating images with labels by Andrey.\n"
     ]
    },
    {
     "name": "stderr",
     "output_type": "stream",
     "text": [
      "100%|██████████████████████████████████████████████████████████████████████████████| 50/50 [00:07<00:00,  6.27it/s]\n",
      "100%|██████████████████████████████████████████████████████████████████████████████| 50/50 [00:08<00:00,  6.06it/s]"
     ]
    },
    {
     "name": "stdout",
     "output_type": "stream",
     "text": [
      "If all the labels are ok, then use the function 'create_training_dataset' to create the training dataset!\n"
     ]
    },
    {
     "name": "stderr",
     "output_type": "stream",
     "text": [
      "\n"
     ]
    },
    {
     "data": {
      "text/plain": [
       "(None,)"
      ]
     },
     "execution_count": 10,
     "metadata": {},
     "output_type": "execute_result"
    }
   ],
   "source": [
    "deeplabcut.check_labels(config_path),"
   ]
  },
  {
   "cell_type": "code",
   "execution_count": 11,
   "id": "9062dc3f",
   "metadata": {},
   "outputs": [
    {
     "name": "stdout",
     "output_type": "stream",
     "text": [
      "Downloading a ImageNet-pretrained model from http://download.tensorflow.org/models/resnet_v1_50_2016_08_28.tar.gz....\n",
      "The training dataset is successfully created. Use the function 'train_network' to start training. Happy training!\n"
     ]
    },
    {
     "data": {
      "text/plain": [
       "[(0.95,\n",
       "  1,\n",
       "  (array([26, 86,  2, 55, 75, 93, 16, 73, 54, 95, 53, 92, 78, 13,  7, 30, 22,\n",
       "          24, 33,  8, 43, 62,  3, 71, 45, 48,  6, 99, 82, 76, 60, 80, 90, 68,\n",
       "          51, 27, 18, 56, 63, 74,  1, 61, 42, 41,  4, 15, 17, 40, 38,  5, 91,\n",
       "          59,  0, 34, 28, 50, 11, 35, 23, 52, 10, 31, 66, 57, 79, 85, 32, 84,\n",
       "          14, 89, 19, 29, 49, 97, 98, 69, 20, 94, 72, 77, 25, 37, 81, 46, 39,\n",
       "          65, 58, 12, 88, 70, 87, 36, 21, 83,  9]),\n",
       "   array([96, 67, 64, 47, 44])))]"
      ]
     },
     "execution_count": 11,
     "metadata": {},
     "output_type": "execute_result"
    }
   ],
   "source": [
    "deeplabcut.create_training_dataset(config_path, num_shuffles=1)"
   ]
  },
  {
   "cell_type": "code",
   "execution_count": 13,
   "id": "8ea16a17",
   "metadata": {},
   "outputs": [
    {
     "name": "stderr",
     "output_type": "stream",
     "text": [
      "Config:\n",
      "{'all_joints': [[0], [1], [2]],\n",
      " 'all_joints_names': ['bodypart1', 'bodypart2', 'bodypart3'],\n",
      " 'alpha_r': 0.02,\n",
      " 'apply_prob': 0.5,\n",
      " 'batch_size': 1,\n",
      " 'contrast': {'clahe': True,\n",
      "              'claheratio': 0.1,\n",
      "              'histeq': True,\n",
      "              'histeqratio': 0.1},\n",
      " 'convolution': {'edge': False,\n",
      "                 'emboss': {'alpha': [0.0, 1.0], 'strength': [0.5, 1.5]},\n",
      "                 'embossratio': 0.1,\n",
      "                 'sharpen': False,\n",
      "                 'sharpenratio': 0.3},\n",
      " 'crop_pad': 0,\n",
      " 'cropratio': 0.4,\n",
      " 'dataset': 'training-datasets/iteration-0/UnaugmentedDataSet_ppc-sl-testOct7/ppc-sl-test_Andrey95shuffle1.mat',\n",
      " 'dataset_type': 'default',\n",
      " 'decay_steps': 30000,\n",
      " 'deterministic': False,\n",
      " 'display_iters': 1000,\n",
      " 'fg_fraction': 0.25,\n",
      " 'global_scale': 0.8,\n",
      " 'init_weights': '/home/sobolev/projects/pySIT/lib/python3.8/site-packages/deeplabcut/pose_estimation_tensorflow/models/pretrained/resnet_v1_50.ckpt',\n",
      " 'intermediate_supervision': False,\n",
      " 'intermediate_supervision_layer': 12,\n",
      " 'location_refinement': True,\n",
      " 'locref_huber_loss': True,\n",
      " 'locref_loss_weight': 0.05,\n",
      " 'locref_stdev': 7.2801,\n",
      " 'log_dir': 'log',\n",
      " 'lr_init': 0.0005,\n",
      " 'max_input_size': 1500,\n",
      " 'mean_pixel': [123.68, 116.779, 103.939],\n",
      " 'metadataset': 'training-datasets/iteration-0/UnaugmentedDataSet_ppc-sl-testOct7/Documentation_data-ppc-sl-test_95shuffle1.pickle',\n",
      " 'min_input_size': 64,\n",
      " 'mirror': False,\n",
      " 'multi_stage': False,\n",
      " 'multi_step': [[0.005, 10000],\n",
      "                [0.02, 430000],\n",
      "                [0.002, 730000],\n",
      "                [0.001, 1030000]],\n",
      " 'net_type': 'resnet_50',\n",
      " 'num_joints': 3,\n",
      " 'optimizer': 'sgd',\n",
      " 'pairwise_huber_loss': False,\n",
      " 'pairwise_predict': False,\n",
      " 'partaffinityfield_predict': False,\n",
      " 'pos_dist_thresh': 17,\n",
      " 'project_path': '/home/sobolev/projects/sandbox/ppc-sl-test-Andrey-2022-10-07',\n",
      " 'regularize': False,\n",
      " 'rotation': 25,\n",
      " 'rotratio': 0.4,\n",
      " 'save_iters': 50000,\n",
      " 'scale_jitter_lo': 0.5,\n",
      " 'scale_jitter_up': 1.25,\n",
      " 'scoremap_dir': 'test',\n",
      " 'shuffle': True,\n",
      " 'snapshot_prefix': '/home/sobolev/projects/sandbox/ppc-sl-test-Andrey-2022-10-07/dlc-models/iteration-0/ppc-sl-testOct7-trainset95shuffle1/train/snapshot',\n",
      " 'stride': 8.0,\n",
      " 'weigh_negatives': False,\n",
      " 'weigh_only_present_joints': False,\n",
      " 'weigh_part_predictions': False,\n",
      " 'weight_decay': 0.0001}\n"
     ]
    },
    {
     "name": "stdout",
     "output_type": "stream",
     "text": [
      "Selecting single-animal trainer\n",
      "Batch Size is 1\n",
      "Loading ImageNet-pretrained resnet_50\n",
      "Max_iters overwritten as 10000\n",
      "Training parameter:\n",
      "{'stride': 8.0, 'weigh_part_predictions': False, 'weigh_negatives': False, 'fg_fraction': 0.25, 'mean_pixel': [123.68, 116.779, 103.939], 'shuffle': True, 'snapshot_prefix': '/home/sobolev/projects/sandbox/ppc-sl-test-Andrey-2022-10-07/dlc-models/iteration-0/ppc-sl-testOct7-trainset95shuffle1/train/snapshot', 'log_dir': 'log', 'global_scale': 0.8, 'location_refinement': True, 'locref_stdev': 7.2801, 'locref_loss_weight': 0.05, 'locref_huber_loss': True, 'optimizer': 'sgd', 'intermediate_supervision': False, 'intermediate_supervision_layer': 12, 'regularize': False, 'weight_decay': 0.0001, 'crop_pad': 0, 'scoremap_dir': 'test', 'batch_size': 1, 'dataset_type': 'default', 'deterministic': False, 'mirror': False, 'pairwise_huber_loss': False, 'weigh_only_present_joints': False, 'partaffinityfield_predict': False, 'pairwise_predict': False, 'all_joints': [[0], [1], [2]], 'all_joints_names': ['bodypart1', 'bodypart2', 'bodypart3'], 'alpha_r': 0.02, 'apply_prob': 0.5, 'contrast': {'clahe': True, 'claheratio': 0.1, 'histeq': True, 'histeqratio': 0.1, 'gamma': False, 'sigmoid': False, 'log': False, 'linear': False}, 'convolution': {'edge': False, 'emboss': {'alpha': [0.0, 1.0], 'strength': [0.5, 1.5]}, 'embossratio': 0.1, 'sharpen': False, 'sharpenratio': 0.3}, 'cropratio': 0.4, 'dataset': 'training-datasets/iteration-0/UnaugmentedDataSet_ppc-sl-testOct7/ppc-sl-test_Andrey95shuffle1.mat', 'decay_steps': 30000, 'display_iters': 1000, 'init_weights': '/home/sobolev/projects/pySIT/lib/python3.8/site-packages/deeplabcut/pose_estimation_tensorflow/models/pretrained/resnet_v1_50.ckpt', 'lr_init': 0.0005, 'max_input_size': 1500, 'metadataset': 'training-datasets/iteration-0/UnaugmentedDataSet_ppc-sl-testOct7/Documentation_data-ppc-sl-test_95shuffle1.pickle', 'min_input_size': 64, 'multi_stage': False, 'multi_step': [[0.005, 10000], [0.02, 430000], [0.002, 730000], [0.001, 1030000]], 'net_type': 'resnet_50', 'num_joints': 3, 'pos_dist_thresh': 17, 'project_path': '/home/sobolev/projects/sandbox/ppc-sl-test-Andrey-2022-10-07', 'rotation': 25, 'rotratio': 0.4, 'save_iters': 50000, 'scale_jitter_lo': 0.5, 'scale_jitter_up': 1.25, 'covering': True, 'elastic_transform': True, 'motion_blur': True, 'motion_blur_params': {'k': 7, 'angle': (-90, 90)}}\n",
      "Starting training....\n"
     ]
    },
    {
     "name": "stderr",
     "output_type": "stream",
     "text": [
      "iteration: 1000 loss: 0.0155 lr: 0.005\n",
      "iteration: 2000 loss: 0.0075 lr: 0.005\n",
      "iteration: 3000 loss: 0.0061 lr: 0.005\n",
      "iteration: 4000 loss: 0.0055 lr: 0.005\n",
      "iteration: 5000 loss: 0.0052 lr: 0.005\n",
      "iteration: 6000 loss: 0.0048 lr: 0.005\n",
      "iteration: 7000 loss: 0.0046 lr: 0.005\n",
      "iteration: 8000 loss: 0.0044 lr: 0.005\n",
      "iteration: 9000 loss: 0.0043 lr: 0.005\n",
      "iteration: 10000 loss: 0.0041 lr: 0.005\n",
      "2022-10-07 19:42:29.986641: W tensorflow/core/kernels/queue_base.cc:277] _1_fifo_queue: Skipping cancelled enqueue attempt with queue not closed\n",
      "Exception in thread Thread-9:\n",
      "Traceback (most recent call last):\n",
      "  File \"/home/sobolev/projects/pySIT/lib/python3.8/site-packages/tensorflow/python/client/session.py\", line 1378, in _do_call\n",
      "    return fn(*args)\n",
      "  File \"/home/sobolev/projects/pySIT/lib/python3.8/site-packages/tensorflow/python/client/session.py\", line 1361, in _run_fn\n",
      "    return self._call_tf_sessionrun(options, feed_dict, fetch_list,\n",
      "  File \"/home/sobolev/projects/pySIT/lib/python3.8/site-packages/tensorflow/python/client/session.py\", line 1454, in _call_tf_sessionrun\n",
      "    return tf_session.TF_SessionRun_wrapper(self._session, options, feed_dict,\n",
      "tensorflow.python.framework.errors_impl.CancelledError: Enqueue operation was cancelled\n",
      "\t [[{{node fifo_queue_enqueue}}]]\n",
      "\n",
      "During handling of the above exception, another exception occurred:\n",
      "\n",
      "Traceback (most recent call last):\n",
      "  File \"/usr/lib/python3.8/threading.py\", line 932, in _bootstrap_inner\n",
      "    self.run()\n",
      "  File \"/usr/lib/python3.8/threading.py\", line 870, in run\n",
      "    self._target(*self._args, **self._kwargs)\n",
      "  File \"/home/sobolev/projects/pySIT/lib/python3.8/site-packages/deeplabcut/pose_estimation_tensorflow/core/train.py\", line 83, in load_and_enqueue\n",
      "    sess.run(enqueue_op, feed_dict=food)\n",
      "  File \"/home/sobolev/projects/pySIT/lib/python3.8/site-packages/tensorflow/python/client/session.py\", line 968, in run\n",
      "    result = self._run(None, fetches, feed_dict, options_ptr,\n",
      "  File \"/home/sobolev/projects/pySIT/lib/python3.8/site-packages/tensorflow/python/client/session.py\", line 1191, in _run\n",
      "    results = self._do_run(handle, final_targets, final_fetches,\n",
      "  File \"/home/sobolev/projects/pySIT/lib/python3.8/site-packages/tensorflow/python/client/session.py\", line 1371, in _do_run\n",
      "    return self._do_call(_run_fn, feeds, fetches, targets, options,\n",
      "  File \"/home/sobolev/projects/pySIT/lib/python3.8/site-packages/tensorflow/python/client/session.py\", line 1397, in _do_call\n",
      "    raise type(e)(node_def, op, message)  # pylint: disable=no-value-for-parameter\n",
      "tensorflow.python.framework.errors_impl.CancelledError: Graph execution error:\n",
      "\n",
      "Detected at node 'fifo_queue_enqueue' defined at (most recent call last):\n",
      "    File \"/usr/lib/python3.8/runpy.py\", line 194, in _run_module_as_main\n",
      "      return _run_code(code, main_globals, None,\n",
      "    File \"/usr/lib/python3.8/runpy.py\", line 87, in _run_code\n",
      "      exec(code, run_globals)\n",
      "    File \"/home/sobolev/projects/pySIT/lib/python3.8/site-packages/ipykernel_launcher.py\", line 16, in <module>\n",
      "      app.launch_new_instance()\n",
      "    File \"/home/sobolev/projects/pySIT/lib/python3.8/site-packages/traitlets/config/application.py\", line 845, in launch_instance\n",
      "      app.start()\n",
      "    File \"/home/sobolev/projects/pySIT/lib/python3.8/site-packages/ipykernel/kernelapp.py\", line 667, in start\n",
      "      self.io_loop.start()\n",
      "    File \"/home/sobolev/projects/pySIT/lib/python3.8/site-packages/tornado/platform/asyncio.py\", line 199, in start\n",
      "      self.asyncio_loop.run_forever()\n",
      "    File \"/usr/lib/python3.8/asyncio/base_events.py\", line 570, in run_forever\n",
      "      self._run_once()\n",
      "    File \"/usr/lib/python3.8/asyncio/base_events.py\", line 1859, in _run_once\n",
      "      handle._run()\n",
      "    File \"/usr/lib/python3.8/asyncio/events.py\", line 81, in _run\n",
      "      self._context.run(self._callback, *self._args)\n",
      "    File \"/home/sobolev/projects/pySIT/lib/python3.8/site-packages/ipykernel/kernelbase.py\", line 456, in dispatch_queue\n",
      "      await self.process_one()\n",
      "    File \"/home/sobolev/projects/pySIT/lib/python3.8/site-packages/ipykernel/kernelbase.py\", line 445, in process_one\n",
      "      await dispatch(*args)\n",
      "    File \"/home/sobolev/projects/pySIT/lib/python3.8/site-packages/ipykernel/kernelbase.py\", line 352, in dispatch_shell\n",
      "      await result\n",
      "    File \"/home/sobolev/projects/pySIT/lib/python3.8/site-packages/ipykernel/kernelbase.py\", line 647, in execute_request\n",
      "      reply_content = await reply_content\n",
      "    File \"/home/sobolev/projects/pySIT/lib/python3.8/site-packages/ipykernel/ipkernel.py\", line 345, in do_execute\n",
      "      res = shell.run_cell(code, store_history=store_history, silent=silent)\n",
      "    File \"/home/sobolev/projects/pySIT/lib/python3.8/site-packages/ipykernel/zmqshell.py\", line 532, in run_cell\n",
      "      return super(ZMQInteractiveShell, self).run_cell(*args, **kwargs)\n",
      "    File \"/home/sobolev/projects/pySIT/lib/python3.8/site-packages/IPython/core/interactiveshell.py\", line 2898, in run_cell\n",
      "      result = self._run_cell(\n",
      "    File \"/home/sobolev/projects/pySIT/lib/python3.8/site-packages/IPython/core/interactiveshell.py\", line 2944, in _run_cell\n",
      "      return runner(coro)\n",
      "    File \"/home/sobolev/projects/pySIT/lib/python3.8/site-packages/IPython/core/async_helpers.py\", line 68, in _pseudo_sync_runner\n",
      "      coro.send(None)\n",
      "    File \"/home/sobolev/projects/pySIT/lib/python3.8/site-packages/IPython/core/interactiveshell.py\", line 3169, in run_cell_async\n",
      "      has_raised = await self.run_ast_nodes(code_ast.body, cell_name,\n",
      "    File \"/home/sobolev/projects/pySIT/lib/python3.8/site-packages/IPython/core/interactiveshell.py\", line 3361, in run_ast_nodes\n",
      "      if (await self.run_code(code, result,  async_=asy)):\n",
      "    File \"/home/sobolev/projects/pySIT/lib/python3.8/site-packages/IPython/core/interactiveshell.py\", line 3441, in run_code\n",
      "      exec(code_obj, self.user_global_ns, self.user_ns)\n",
      "    File \"/tmp/ipykernel_637066/2130161337.py\", line 1, in <module>\n",
      "      deeplabcut.train_network(config_path, maxiters=10000)\n",
      "    File \"/home/sobolev/projects/pySIT/lib/python3.8/site-packages/deeplabcut/pose_estimation_tensorflow/training.py\", line 210, in train_network\n",
      "      train(\n",
      "    File \"/home/sobolev/projects/pySIT/lib/python3.8/site-packages/deeplabcut/pose_estimation_tensorflow/core/train.py\", line 168, in train\n",
      "      batch, enqueue_op, placeholders = setup_preloading(batch_spec)\n",
      "    File \"/home/sobolev/projects/pySIT/lib/python3.8/site-packages/deeplabcut/pose_estimation_tensorflow/core/train.py\", line 69, in setup_preloading\n",
      "      enqueue_op = q.enqueue(placeholders_list)\n",
      "Node: 'fifo_queue_enqueue'\n",
      "Enqueue operation was cancelled\n",
      "\t [[{{node fifo_queue_enqueue}}]]\n",
      "\n",
      "Original stack trace for 'fifo_queue_enqueue':\n",
      "  File \"/usr/lib/python3.8/runpy.py\", line 194, in _run_module_as_main\n",
      "    return _run_code(code, main_globals, None,\n",
      "  File \"/usr/lib/python3.8/runpy.py\", line 87, in _run_code\n",
      "    exec(code, run_globals)\n",
      "  File \"/home/sobolev/projects/pySIT/lib/python3.8/site-packages/ipykernel_launcher.py\", line 16, in <module>\n",
      "    app.launch_new_instance()\n",
      "  File \"/home/sobolev/projects/pySIT/lib/python3.8/site-packages/traitlets/config/application.py\", line 845, in launch_instance\n",
      "    app.start()\n",
      "  File \"/home/sobolev/projects/pySIT/lib/python3.8/site-packages/ipykernel/kernelapp.py\", line 667, in start\n",
      "    self.io_loop.start()\n",
      "  File \"/home/sobolev/projects/pySIT/lib/python3.8/site-packages/tornado/platform/asyncio.py\", line 199, in start\n",
      "    self.asyncio_loop.run_forever()\n",
      "  File \"/usr/lib/python3.8/asyncio/base_events.py\", line 570, in run_forever\n",
      "    self._run_once()\n",
      "  File \"/usr/lib/python3.8/asyncio/base_events.py\", line 1859, in _run_once\n",
      "    handle._run()\n",
      "  File \"/usr/lib/python3.8/asyncio/events.py\", line 81, in _run\n",
      "    self._context.run(self._callback, *self._args)\n",
      "  File \"/home/sobolev/projects/pySIT/lib/python3.8/site-packages/ipykernel/kernelbase.py\", line 456, in dispatch_queue\n",
      "    await self.process_one()\n",
      "  File \"/home/sobolev/projects/pySIT/lib/python3.8/site-packages/ipykernel/kernelbase.py\", line 445, in process_one\n",
      "    await dispatch(*args)\n",
      "  File \"/home/sobolev/projects/pySIT/lib/python3.8/site-packages/ipykernel/kernelbase.py\", line 352, in dispatch_shell\n",
      "    await result\n",
      "  File \"/home/sobolev/projects/pySIT/lib/python3.8/site-packages/ipykernel/kernelbase.py\", line 647, in execute_request\n",
      "    reply_content = await reply_content\n",
      "  File \"/home/sobolev/projects/pySIT/lib/python3.8/site-packages/ipykernel/ipkernel.py\", line 345, in do_execute\n",
      "    res = shell.run_cell(code, store_history=store_history, silent=silent)\n",
      "  File \"/home/sobolev/projects/pySIT/lib/python3.8/site-packages/ipykernel/zmqshell.py\", line 532, in run_cell\n",
      "    return super(ZMQInteractiveShell, self).run_cell(*args, **kwargs)\n",
      "  File \"/home/sobolev/projects/pySIT/lib/python3.8/site-packages/IPython/core/interactiveshell.py\", line 2898, in run_cell\n",
      "    result = self._run_cell(\n",
      "  File \"/home/sobolev/projects/pySIT/lib/python3.8/site-packages/IPython/core/interactiveshell.py\", line 2944, in _run_cell\n",
      "    return runner(coro)\n",
      "  File \"/home/sobolev/projects/pySIT/lib/python3.8/site-packages/IPython/core/async_helpers.py\", line 68, in _pseudo_sync_runner\n",
      "    coro.send(None)\n",
      "  File \"/home/sobolev/projects/pySIT/lib/python3.8/site-packages/IPython/core/interactiveshell.py\", line 3169, in run_cell_async\n",
      "    has_raised = await self.run_ast_nodes(code_ast.body, cell_name,\n",
      "  File \"/home/sobolev/projects/pySIT/lib/python3.8/site-packages/IPython/core/interactiveshell.py\", line 3361, in run_ast_nodes\n",
      "    if (await self.run_code(code, result,  async_=asy)):\n",
      "  File \"/home/sobolev/projects/pySIT/lib/python3.8/site-packages/IPython/core/interactiveshell.py\", line 3441, in run_code\n",
      "    exec(code_obj, self.user_global_ns, self.user_ns)\n",
      "  File \"/tmp/ipykernel_637066/2130161337.py\", line 1, in <module>\n",
      "    deeplabcut.train_network(config_path, maxiters=10000)\n",
      "  File \"/home/sobolev/projects/pySIT/lib/python3.8/site-packages/deeplabcut/pose_estimation_tensorflow/training.py\", line 210, in train_network\n",
      "    train(\n",
      "  File \"/home/sobolev/projects/pySIT/lib/python3.8/site-packages/deeplabcut/pose_estimation_tensorflow/core/train.py\", line 168, in train\n",
      "    batch, enqueue_op, placeholders = setup_preloading(batch_spec)\n",
      "  File \"/home/sobolev/projects/pySIT/lib/python3.8/site-packages/deeplabcut/pose_estimation_tensorflow/core/train.py\", line 69, in setup_preloading\n",
      "    enqueue_op = q.enqueue(placeholders_list)\n",
      "  File \"/home/sobolev/projects/pySIT/lib/python3.8/site-packages/tensorflow/python/ops/data_flow_ops.py\", line 346, in enqueue\n",
      "    return gen_data_flow_ops.queue_enqueue_v2(\n",
      "  File \"/home/sobolev/projects/pySIT/lib/python3.8/site-packages/tensorflow/python/ops/gen_data_flow_ops.py\", line 4063, in queue_enqueue_v2\n",
      "    _, _, _op, _outputs = _op_def_library._apply_op_helper(\n",
      "  File \"/home/sobolev/projects/pySIT/lib/python3.8/site-packages/tensorflow/python/framework/op_def_library.py\", line 797, in _apply_op_helper\n",
      "    op = g._create_op_internal(op_type_name, inputs, dtypes=None,\n",
      "  File \"/home/sobolev/projects/pySIT/lib/python3.8/site-packages/tensorflow/python/framework/ops.py\", line 3800, in _create_op_internal\n",
      "    ret = Operation(\n",
      "\n"
     ]
    },
    {
     "name": "stdout",
     "output_type": "stream",
     "text": [
      "The network is now trained and ready to evaluate. Use the function 'evaluate_network' to evaluate the network.\n"
     ]
    }
   ],
   "source": [
    "deeplabcut.train_network(config_path, maxiters=10000)"
   ]
  },
  {
   "cell_type": "code",
   "execution_count": 3,
   "id": "80fed887",
   "metadata": {},
   "outputs": [
    {
     "name": "stdout",
     "output_type": "stream",
     "text": [
      "Running  DLC_resnet50_ppc-sl-testOct7shuffle1_10000  with # of training iterations: 10000\n"
     ]
    },
    {
     "name": "stderr",
     "output_type": "stream",
     "text": [
      "/home/sobolev/projects/pySIT/lib/python3.8/site-packages/tensorflow/python/keras/engine/base_layer_v1.py:1694: UserWarning: `layer.apply` is deprecated and will be removed in a future version. Please use `layer.__call__` method instead.\n",
      "  warnings.warn('`layer.apply` is deprecated and '\n",
      "2022-10-10 16:02:56.728255: W tensorflow/stream_executor/platform/default/dso_loader.cc:64] Could not load dynamic library 'libcuda.so.1'; dlerror: libcuda.so.1: cannot open shared object file: No such file or directory\n",
      "2022-10-10 16:02:56.728662: W tensorflow/stream_executor/cuda/cuda_driver.cc:263] failed call to cuInit: UNKNOWN ERROR (303)\n",
      "2022-10-10 16:02:56.728738: I tensorflow/stream_executor/cuda/cuda_diagnostics.cc:156] kernel driver does not appear to be running on this host (agp-linux): /proc/driver/nvidia/version does not exist\n",
      "2022-10-10 16:02:56.729618: I tensorflow/core/platform/cpu_feature_guard.cc:193] This TensorFlow binary is optimized with oneAPI Deep Neural Network Library (oneDNN) to use the following CPU instructions in performance-critical operations:  AVX2 FMA\n",
      "To enable them in other operations, rebuild TensorFlow with the appropriate compiler flags.\n",
      "2022-10-10 16:02:56.765723: I tensorflow/compiler/mlir/mlir_graph_optimization_pass.cc:354] MLIR V1 optimization pass is not enabled\n"
     ]
    },
    {
     "name": "stdout",
     "output_type": "stream",
     "text": [
      "Running evaluation ...\n"
     ]
    },
    {
     "name": "stderr",
     "output_type": "stream",
     "text": [
      "100it [01:03,  1.56it/s]\n"
     ]
    },
    {
     "name": "stdout",
     "output_type": "stream",
     "text": [
      "Analysis is done and the results are stored (see evaluation-results) for snapshot:  snapshot-10000\n",
      "Results for 10000  training iterations: 95 1 train error: 12.64 pixels. Test error: 3.98  pixels.\n",
      "With pcutoff of 0.6  train error: 12.55 pixels. Test error: 3.28 pixels\n",
      "Thereby, the errors are given by the average distances between the labels by DLC and the scorer.\n",
      "Plotting...\n"
     ]
    },
    {
     "name": "stderr",
     "output_type": "stream",
     "text": [
      "100%|████████████████████████████████████████████████████████████████████████████| 100/100 [00:18<00:00,  5.33it/s]\n"
     ]
    },
    {
     "name": "stdout",
     "output_type": "stream",
     "text": [
      "The network is evaluated and the results are stored in the subdirectory 'evaluation_results'.\n",
      "Please check the results, then choose the best model (snapshot) for prediction. You can update the config.yaml file with the appropriate index for the 'snapshotindex'.\n",
      "Use the function 'analyze_video' to make predictions on new videos.\n",
      "Otherwise, consider adding more labeled-data and retraining the network (see DeepLabCut workflow Fig 2, Nath 2019)\n"
     ]
    },
    {
     "data": {
      "image/png": "[encoded data removed]",
      "text/plain": [
       "<Figure size 1024x768 with 1 Axes>"
      ]
     },
     "metadata": {
      "needs_background": "light"
     },
     "output_type": "display_data"
    }
   ],
   "source": [
    "deeplabcut.evaluate_network(config_path, plotting=True)"
   ]
  },
  {
   "cell_type": "code",
   "execution_count": 6,
   "id": "6140a8ba",
   "metadata": {},
   "outputs": [
    {
     "name": "stdout",
     "output_type": "stream",
     "text": [
      "Using snapshot-10000 for model /home/sobolev/projects/sandbox/ppc-sl-test-Andrey-2022-10-07/dlc-models/iteration-0/ppc-sl-testOct7-trainset95shuffle1\n",
      "Starting to analyze %  /home/sobolev/projects/sandbox/ppc-sl-test-Andrey-2022-10-07/videos/DLC-test1.avi\n",
      "Loading  /home/sobolev/projects/sandbox/ppc-sl-test-Andrey-2022-10-07/videos/DLC-test1.avi\n",
      "Duration of video [s]:  600.0 , recorded with  20.0 fps!\n",
      "Overall # of frames:  12000  found with (before cropping) frame dimensions:  1024 768\n",
      "Starting to extract posture\n"
     ]
    },
    {
     "name": "stderr",
     "output_type": "stream",
     "text": [
      "100%|██████████████████████████████████████████████████████████████████████| 12000/12000 [1:58:28<00:00,  1.69it/s]\n"
     ]
    },
    {
     "name": "stdout",
     "output_type": "stream",
     "text": [
      "Saving results in /home/sobolev/projects/sandbox/ppc-sl-test-Andrey-2022-10-07/videos...\n",
      "Saving csv poses!\n",
      "The videos are analyzed. Now your research can truly start! \n",
      " You can create labeled videos with 'create_labeled_video'\n",
      "If the tracking is not satisfactory for some videos, consider expanding the training set. You can use the function 'extract_outlier_frames' to extract a few representative outlier frames.\n"
     ]
    },
    {
     "data": {
      "text/plain": [
       "'DLC_resnet50_ppc-sl-testOct7shuffle1_10000'"
      ]
     },
     "execution_count": 6,
     "metadata": {},
     "output_type": "execute_result"
    }
   ],
   "source": [
    "video1_path = '/home/sobolev/projects/sandbox/ppc-sl-test-Andrey-2022-10-07/videos/DLC-test1.avi'\n",
    "deeplabcut.analyze_videos(config_path,[video1_path], shuffle=1, save_as_csv=True, videotype='.avi')"
   ]
  },
  {
   "cell_type": "code",
   "execution_count": 50,
   "id": "c365343c",
   "metadata": {},
   "outputs": [
    {
     "data": {
      "text/plain": [
       "(12000, 10)"
      ]
     },
     "execution_count": 50,
     "metadata": {},
     "output_type": "execute_result"
    }
   ],
   "source": [
    "# read data from .csv\n",
    "import numpy as np\n",
    "import h5py, json\n",
    "\n",
    "# this is the video from 008229_hippoSIT_2022-05-17_21-44-43\n",
    "res_path = '/home/sobolev/projects/sandbox/ppc-sl-test-Andrey-2022-10-07/videos'\n",
    "f_name = 'DLC-test1DLC_resnet50_ppc-sl-testOct7shuffle1_10000.csv'\n",
    "\n",
    "data = np.genfromtxt(os.path.join(res_path, f_name), delimiter=',', skip_header=3)\n",
    "data.shape  # idx, x1, y1, p1, x2, y2, p2, x3, y3, p3 "
   ]
  },
  {
   "cell_type": "code",
   "execution_count": 51,
   "id": "721f5918",
   "metadata": {},
   "outputs": [
    {
     "data": {
      "image/png": "[encoded data removed]",
      "text/plain": [
       "<Figure size 360x432 with 3 Axes>"
      ]
     },
     "metadata": {
      "needs_background": "light"
     },
     "output_type": "display_data"
    }
   ],
   "source": [
    "# detection probability distributions\n",
    "import matplotlib.pyplot as plt\n",
    "\n",
    "fig, axes = plt.subplots(3, 1, figsize=(5, 6))\n",
    "\n",
    "bins = 20\n",
    "titles = ['Nose', 'Body (red dot)', 'Tail']\n",
    "for i in range(3):\n",
    "    axes[i].hist(data[:, i*3 + 3], bins=bins, edgecolor='black', label=titles[i])\n",
    "    axes[i].legend(loc='upper left')\n",
    "axes[2].set_xlabel('Probability', fontsize=14)\n",
    "fig.tight_layout()"
   ]
  },
  {
   "cell_type": "code",
   "execution_count": 54,
   "id": "67cb1636",
   "metadata": {},
   "outputs": [],
   "source": [
    "# test quality with actual position tracking\n",
    "source = '/home/sobolev/nevermind/Andrey/data/008229/008229_hippoSIT_2022-05-17_21-44-43/'\n",
    "f_name = '008229_hippoSIT_2022-05-17_21-44-43.h5'\n",
    "h5name = os.path.join(source, f_name)\n",
    "\n",
    "with h5py.File(h5name, 'r') as f:\n",
    "    tl = np.array(f['processed']['timeline'])  # time, X, Y, speed, etc.\n",
    "    cfg = json.loads(f['processed'].attrs['parameters'])"
   ]
  },
  {
   "cell_type": "code",
   "execution_count": 73,
   "id": "2fda5cc7",
   "metadata": {},
   "outputs": [],
   "source": [
    "# convert DLC predictions to meters\n",
    "pos_cfg = cfg['position']\n",
    "pixel_size = pos_cfg['floor_r_in_meters'] / float(pos_cfg['floor_radius'])\n",
    "\n",
    "x1_m = (pos_cfg['arena_x'] - data[:, 1]) * pixel_size * (-1 if pos_cfg['flip_x'] else 1)\n",
    "y1_m = (pos_cfg['arena_y'] - data[:, 2]) * pixel_size * (-1 if pos_cfg['flip_y'] else 1)\n",
    "x2_m = (pos_cfg['arena_x'] - data[:, 4]) * pixel_size * (-1 if pos_cfg['flip_x'] else 1)\n",
    "y2_m = (pos_cfg['arena_y'] - data[:, 5]) * pixel_size * (-1 if pos_cfg['flip_y'] else 1)"
   ]
  },
  {
   "cell_type": "code",
   "execution_count": 123,
   "id": "0e7be248",
   "metadata": {},
   "outputs": [
    {
     "data": {
      "text/plain": [
       "Text(0.5, 1.0, 'Trajectory of animal center, example')"
      ]
     },
     "execution_count": 123,
     "metadata": {},
     "output_type": "execute_result"
    },
    {
     "data": {
      "image/png": "[encoded data removed]",
      "text/plain": [
       "<Figure size 504x504 with 1 Axes>"
      ]
     },
     "metadata": {
      "needs_background": "light"
     },
     "output_type": "display_data"
    }
   ],
   "source": [
    "# example original / reconstructed trajectories\n",
    "idx_start, idx_end = 1000, 1500\n",
    "\n",
    "fig = plt.figure(figsize=(7,7))\n",
    "ax = fig.add_subplot(111)\n",
    "ax.scatter(traj[:, 1][idx_start:idx_end], traj[:, 2][idx_start:idx_end], label='Tracking')\n",
    "ax.scatter(x2_m[idx_start:idx_end], y2_m[idx_start:idx_end], label='DeepLabCut')\n",
    "#ax.scatter(x1_m[idx_start:idx_end], y1_m[idx_start:idx_end], label='DeepLabCut - Nose')\n",
    "ax.set_xlim(-0.25, 0.25)\n",
    "ax.set_ylim(-0.25, 0.25)\n",
    "ax.legend(loc='upper left')\n",
    "ax.grid()\n",
    "ax.set_xlabel('X, m', fontsize=14)\n",
    "ax.set_ylabel('Y, m', fontsize=14)\n",
    "ax.set_title('Trajectory of animal center, example')"
   ]
  },
  {
   "cell_type": "code",
   "execution_count": 115,
   "id": "4fa39a2e",
   "metadata": {},
   "outputs": [],
   "source": [
    "from scipy import signal\n",
    "\n",
    "# head direction as an angle between bodypart1 and bodypart2\n",
    "x_hd = x1_m - x2_m\n",
    "y_hd = y1_m - y2_m\n",
    "phi = np.arctan2(y_hd, x_hd)\n",
    "\n",
    "# smooth it a bit\n",
    "#width = 40  # 100 points ~= 1 sec with at 100Hz\n",
    "#kernel = signal.gaussian(width, std=(width) / 7.2)\n",
    "#phi_smooth = np.convolve(phi, kernel, 'same') / kernel.sum()"
   ]
  },
  {
   "cell_type": "code",
   "execution_count": 125,
   "id": "870eb9e6",
   "metadata": {},
   "outputs": [
    {
     "data": {
      "text/plain": [
       "Text(0.5, 0, 'Time, sec')"
      ]
     },
     "execution_count": 125,
     "metadata": {},
     "output_type": "execute_result"
    },
    {
     "data": {
      "image/png": "[encoded data removed]",
      "text/plain": [
       "<Figure size 1152x432 with 2 Axes>"
      ]
     },
     "metadata": {
      "needs_background": "light"
     },
     "output_type": "display_data"
    }
   ],
   "source": [
    "# tl is sampled 100Hz, we need 20, so take every 5th\n",
    "idxs = np.arange(0, 5*len(data), 5)\n",
    "xlim_l, xlim_r = 0, 50\n",
    "\n",
    "fig = plt.figure(figsize=(16, 6))\n",
    "ax = fig.add_subplot(211)\n",
    "ax.plot(tl[:, 0], np.rad2deg(-tl[:, 4]))\n",
    "ax.set_xlim(xlim_l, xlim_r)\n",
    "ax.axhline(0, color='black', ls='--')\n",
    "ax.set_title('Head direction, example', fontsize=14)\n",
    "ax.set_ylabel('Tracking, deg', fontsize=14)\n",
    "\n",
    "ax = fig.add_subplot(212)\n",
    "ax.plot(tl[idxs][:, 0], np.rad2deg(phi), color='tab:orange')\n",
    "ax.set_xlim(xlim_l, xlim_r)\n",
    "ax.axhline(0, color='black', ls='--')\n",
    "ax.set_ylabel('DeepLabCut, deg', fontsize=14)\n",
    "ax.set_xlabel('Time, sec', fontsize=14)"
   ]
  },
  {
   "cell_type": "code",
   "execution_count": 71,
   "id": "59de93eb",
   "metadata": {},
   "outputs": [],
   "source": [
    "\n",
    "\n",
    "# distance between points\n",
    "diffs = np.sqrt(((traj[:, 1] - x_m)**2 + (traj[:, 2] - y_m)**2))\n",
    "\n",
    "#plt.hist(diffs, bins=20)"
   ]
  },
  {
   "cell_type": "code",
   "execution_count": null,
   "id": "30e7f9ba",
   "metadata": {},
   "outputs": [],
   "source": []
  }
 ],
 "metadata": {
  "kernelspec": {
   "display_name": "Python 3 (ipykernel)",
   "language": "python",
   "name": "python3"
  },
  "language_info": {
   "codemirror_mode": {
    "name": "ipython",
    "version": 3
   },
   "file_extension": ".py",
   "mimetype": "text/x-python",
   "name": "python",
   "nbconvert_exporter": "python",
   "pygments_lexer": "ipython3",
   "version": "3.8.10"
  }
 },
 "nbformat": 4,
 "nbformat_minor": 5
}
