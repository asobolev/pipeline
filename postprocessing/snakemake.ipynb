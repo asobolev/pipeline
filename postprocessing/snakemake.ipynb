{
 "cells": [
  {
   "cell_type": "code",
   "execution_count": 2,
   "id": "86537f20",
   "metadata": {},
   "outputs": [],
   "source": [
    "import subprocess, os\n",
    "import shutil"
   ]
  },
  {
   "cell_type": "markdown",
   "id": "84d28c2c",
   "metadata": {},
   "source": [
    "## Touch files for snakemake "
   ]
  },
  {
   "cell_type": "code",
   "execution_count": 4,
   "id": "1cf370e0",
   "metadata": {},
   "outputs": [],
   "source": [
    "# GPU-XXL\n",
    "#source = '/home/sobolev/nevermind_ag-grothe/AG_Pecka/data/processed/'\n",
    "\n",
    "# agp-linux\n",
    "source = '/home/sobolev/nevermind/AG_Pecka/data/processed/'\n",
    "\n",
    "#animal = '013829'\n",
    "#animal = '013608'\n",
    "#animal = '009266'\n",
    "animal = '009265'\n",
    "\n",
    "for session in os.listdir(os.path.join(source, animal)):\n",
    "\n",
    "    # session filter\n",
    "    # if not session == '013608_ppcSIT_2025-01-06_13-20-52':\n",
    "    #     continue\n",
    "\n",
    "    # kilosort\n",
    "    # dlc_path = os.path.join(source, animal, session, 'kilosort')\n",
    "    # if os.path.exists(dlc_path):\n",
    "    #     subprocess.run(['touch ' + os.path.join(dlc_path, '*')], shell=True)\n",
    "\n",
    "    # DLC\n",
    "    dlc_path = os.path.join(source, animal, session, 'dlc')\n",
    "    if os.path.exists(dlc_path):\n",
    "        subprocess.run(['touch ' + os.path.join(dlc_path, '*')], shell=True)\n",
    "    \n",
    "    # MoSeq\n",
    "    # moseq_path = os.path.join(source, animal, session, 'moseq')\n",
    "    # if os.path.exists(moseq_path):\n",
    "    #     print(moseq_path)\n",
    "    #     subprocess.run(['touch ' + os.path.join(moseq_path, '*')], shell=True)"
   ]
  },
  {
   "cell_type": "markdown",
   "id": "094605e4",
   "metadata": {},
   "source": [
    "## Delete files / folders (be careful!)"
   ]
  },
  {
   "cell_type": "code",
   "execution_count": 3,
   "id": "56ed5ba3",
   "metadata": {},
   "outputs": [
    {
     "name": "stdout",
     "output_type": "stream",
     "text": [
      "/home/sobolev/nevermind/AG_Pecka/data/raw/013608/013608_ppcSIT_2025-01-06_13-20-52/probe.json\n",
      "/home/sobolev/nevermind/AG_Pecka/data/raw/013608/013608_ppcSIT_2025-01-07_15-38-23/probe.json\n",
      "/home/sobolev/nevermind/AG_Pecka/data/raw/013608/013608_ppcSIT_2025-01-09_09-09-55/probe.json\n",
      "/home/sobolev/nevermind/AG_Pecka/data/raw/013608/013608_ppcSIT_2025-01-10_09-25-04/probe.json\n",
      "/home/sobolev/nevermind/AG_Pecka/data/raw/013608/013608_ppcSIT_2025-01-13_14-01-40/probe.json\n",
      "/home/sobolev/nevermind/AG_Pecka/data/raw/013608/013608_ppcSIT_2025-01-14_10-20-14/probe.json\n",
      "/home/sobolev/nevermind/AG_Pecka/data/raw/013608/013608_ppcSIT_2025-01-16_09-49-21/probe.json\n",
      "/home/sobolev/nevermind/AG_Pecka/data/raw/013608/013608_ppcSIT_2025-01-17_10-07-00/probe.json\n",
      "/home/sobolev/nevermind/AG_Pecka/data/raw/013608/013608_ppcSIT_2025-01-20_09-38-20/probe.json\n",
      "/home/sobolev/nevermind/AG_Pecka/data/raw/013608/013608_ppcSIT_2025-01-21_08-50-02/probe.json\n",
      "/home/sobolev/nevermind/AG_Pecka/data/raw/013608/013608_ppcSIT_2025-01-22_12-59-00/probe.json\n",
      "/home/sobolev/nevermind/AG_Pecka/data/raw/013608/013608_ppcSIT_2025-01-23_08-46-51/probe.json\n",
      "/home/sobolev/nevermind/AG_Pecka/data/raw/013608/013608_ppcSIT_2025-01-24_08-19-45/probe.json\n",
      "/home/sobolev/nevermind/AG_Pecka/data/raw/013608/013608_ppcSIT_2025-01-27_09-00-20/probe.json\n",
      "/home/sobolev/nevermind/AG_Pecka/data/raw/013608/013608_ppcSIT_2025-01-29_12-34-08/probe.json\n",
      "/home/sobolev/nevermind/AG_Pecka/data/raw/013608/013608_ppcSIT_2025-02-18_14-15-52/probe.json\n",
      "/home/sobolev/nevermind/AG_Pecka/data/raw/013608/013608_ppcSIT_2025-02-19_13-50-59/probe.json\n"
     ]
    }
   ],
   "source": [
    "# delete incorrect probe files\n",
    "source = '/home/sobolev/nevermind/AG_Pecka/data/raw/'\n",
    "animal = '013608'\n",
    "\n",
    "to_exclude = ['013608_ppcSIT_2025-01-15_14-56-18', '013608_ppcSIT_2025-01-07_08-47-27']\n",
    "\n",
    "for session in os.listdir(os.path.join(source, animal)):\n",
    "    probe_path = os.path.join(source, animal, session, 'probe.json')\n",
    "    \n",
    "    if os.path.exists(probe_path) and not session in to_exclude:\n",
    "        os.remove(probe_path)\n",
    "        print(probe_path)"
   ]
  },
  {
   "cell_type": "code",
   "execution_count": 6,
   "id": "dd16695b",
   "metadata": {},
   "outputs": [
    {
     "name": "stdout",
     "output_type": "stream",
     "text": [
      "/home/sobolev/nevermind/AG_Pecka/data/processed/013608/013608_ppcSIT_2025-01-06_13-20-52/kilosort\n",
      "/home/sobolev/nevermind/AG_Pecka/data/processed/013608/013608_ppcSIT_2025-01-09_09-09-55/kilosort\n",
      "/home/sobolev/nevermind/AG_Pecka/data/processed/013608/013608_ppcSIT_2025-01-10_09-25-04/kilosort\n",
      "/home/sobolev/nevermind/AG_Pecka/data/processed/013608/013608_ppcSIT_2025-01-07_15-38-23/kilosort\n",
      "/home/sobolev/nevermind/AG_Pecka/data/processed/013608/013608_ppcSIT_2025-01-13_14-01-40/kilosort\n",
      "/home/sobolev/nevermind/AG_Pecka/data/processed/013608/013608_ppcSIT_2025-01-14_10-20-14/kilosort\n",
      "/home/sobolev/nevermind/AG_Pecka/data/processed/013608/013608_ppcSIT_2025-01-16_09-49-21/kilosort\n",
      "/home/sobolev/nevermind/AG_Pecka/data/processed/013608/013608_ppcSIT_2025-01-17_10-07-00/kilosort\n",
      "/home/sobolev/nevermind/AG_Pecka/data/processed/013608/013608_ppcSIT_2025-01-20_09-38-20/kilosort\n",
      "/home/sobolev/nevermind/AG_Pecka/data/processed/013608/013608_ppcSIT_2025-01-21_08-50-02/kilosort\n",
      "/home/sobolev/nevermind/AG_Pecka/data/processed/013608/013608_ppcSIT_2025-01-22_12-59-00/kilosort\n",
      "/home/sobolev/nevermind/AG_Pecka/data/processed/013608/013608_ppcSIT_2025-01-23_08-46-51/kilosort\n",
      "/home/sobolev/nevermind/AG_Pecka/data/processed/013608/013608_ppcSIT_2025-01-24_08-19-45/kilosort\n",
      "/home/sobolev/nevermind/AG_Pecka/data/processed/013608/013608_ppcSIT_2025-01-27_09-00-20/kilosort\n",
      "/home/sobolev/nevermind/AG_Pecka/data/processed/013608/013608_ppcSIT_2025-01-29_12-34-08/kilosort\n",
      "/home/sobolev/nevermind/AG_Pecka/data/processed/013608/013608_ppcSIT_2025-02-18_14-15-52/kilosort\n",
      "/home/sobolev/nevermind/AG_Pecka/data/processed/013608/013608_ppcSIT_2025-02-19_13-50-59/kilosort\n"
     ]
    }
   ],
   "source": [
    "# delete incorrect sorting\n",
    "source = '/home/sobolev/nevermind/AG_Pecka/data/processed/'\n",
    "animal = '013608'\n",
    "\n",
    "to_exclude = ['013608_ppcSIT_2025-01-15_14-56-18', '013608_ppcSIT_2025-01-07_08-47-27']\n",
    "\n",
    "for session in os.listdir(os.path.join(source, animal)):\n",
    "    kilo_path = os.path.join(source, animal, session, 'kilosort')\n",
    "    \n",
    "    if os.path.exists(kilo_path) and not session in to_exclude:\n",
    "        shutil.rmtree(kilo_path)\n",
    "        print(kilo_path)"
   ]
  },
  {
   "cell_type": "code",
   "execution_count": null,
   "id": "3454fd21",
   "metadata": {},
   "outputs": [],
   "source": []
  }
 ],
 "metadata": {
  "kernelspec": {
   "display_name": "Python 3 (ipykernel)",
   "language": "python",
   "name": "python3"
  },
  "language_info": {
   "codemirror_mode": {
    "name": "ipython",
    "version": 3
   },
   "file_extension": ".py",
   "mimetype": "text/x-python",
   "name": "python",
   "nbconvert_exporter": "python",
   "pygments_lexer": "ipython3",
   "version": "3.8.10"
  }
 },
 "nbformat": 4,
 "nbformat_minor": 5
}
