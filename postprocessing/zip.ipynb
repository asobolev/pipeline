{
 "cells": [
  {
   "cell_type": "code",
   "execution_count": 30,
   "id": "c7cc3a3a-0c08-436e-9f0c-ccd70fb15877",
   "metadata": {},
   "outputs": [],
   "source": [
    "import zipfile, os\n",
    "from os.path import basename as pbase\n",
    "from os.path import join as pjoin"
   ]
  },
  {
   "cell_type": "code",
   "execution_count": 43,
   "id": "71403235-900d-4625-947b-e32b4a3cbae9",
   "metadata": {},
   "outputs": [],
   "source": [
    "def zip_session(ses_path, dst_path):\n",
    "    zip_path  = pjoin(dst_path, '%s.zip' % pbase(ses_path))\n",
    "    \n",
    "    meta_file = pjoin(ses_path, 'meta.h5')\n",
    "    unit_file = pjoin(ses_path, 'units.h5')\n",
    "    \n",
    "    with zipfile.ZipFile(zip_path, 'w', zipfile.ZIP_DEFLATED) as zf:\n",
    "        zf.write(meta_file, arcname=pjoin(session, pbase(meta_file)))\n",
    "        zf.write(unit_file, arcname=pjoin(session, pbase(unit_file)))\n",
    "\n",
    "        for f_name in os.listdir(pjoin(ses_path, 'analysis')):\n",
    "            src_path = pjoin(ses_path, 'analysis', f_name)\n",
    "            arc_name = pjoin(pbase(ses_path), 'analysis', f_name)\n",
    "            \n",
    "            zf.write(src_path, arcname=arc_name)"
   ]
  },
  {
   "cell_type": "code",
   "execution_count": 41,
   "id": "488e1874",
   "metadata": {},
   "outputs": [],
   "source": [
    "sessions_to_zip = [\n",
    "    '013608_ppcSIT_2025-01-06_13-20-52',\n",
    "    '013608_ppcSIT_2025-01-07_08-47-27',\n",
    "    '013608_ppcSIT_2025-01-07_15-38-23',\n",
    "    '013608_ppcSIT_2025-01-09_09-09-55',\n",
    "    '013608_ppcSIT_2025-01-10_09-25-04',\n",
    "    '013608_ppcSIT_2025-01-13_14-01-40',\n",
    "    '013608_ppcSIT_2025-01-14_10-20-14',\n",
    "    '013608_ppcSIT_2025-01-15_14-56-18',\n",
    "    '013608_ppcSIT_2025-01-16_09-49-21',\n",
    "    '013608_ppcSIT_2025-01-17_10-07-00',\n",
    "    '013608_ppcSIT_2025-01-20_09-38-20',\n",
    "    '013608_ppcSIT_2025-01-21_08-50-02',\n",
    "    '013608_ppcSIT_2025-01-22_12-59-00',\n",
    "    '013608_ppcSIT_2025-01-23_08-46-51',\n",
    "    '013608_ppcSIT_2025-01-24_08-19-45',\n",
    "    '013608_ppcSIT_2025-01-27_09-00-20'\n",
    "]"
   ]
  },
  {
   "cell_type": "code",
   "execution_count": 44,
   "id": "ae7f1c50",
   "metadata": {},
   "outputs": [],
   "source": [
    "src = '/home/sobolev/nevermind/AG_Pecka/data/processed/'\n",
    "dst = '/home/sobolev/nevermind/Andrey/sandbox/data/'\n",
    "\n",
    "\n",
    "for session in sessions_to_zip:\n",
    "    animal  = session.split('_')[0]\n",
    "\n",
    "    ses_path = os.path.join(src, animal, session)\n",
    "    dst_path = os.path.join(dst, animal)\n",
    "\n",
    "    zip_session(ses_path, dst_path)"
   ]
  },
  {
   "cell_type": "code",
   "execution_count": null,
   "id": "c70ea6d9",
   "metadata": {},
   "outputs": [],
   "source": []
  }
 ],
 "metadata": {
  "kernelspec": {
   "display_name": "Python 3 (ipykernel)",
   "language": "python",
   "name": "python3"
  },
  "language_info": {
   "codemirror_mode": {
    "name": "ipython",
    "version": 3
   },
   "file_extension": ".py",
   "mimetype": "text/x-python",
   "name": "python",
   "nbconvert_exporter": "python",
   "pygments_lexer": "ipython3",
   "version": "3.8.10"
  }
 },
 "nbformat": 4,
 "nbformat_minor": 5
}
