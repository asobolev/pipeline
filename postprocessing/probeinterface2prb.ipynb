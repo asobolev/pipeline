{
 "cells": [
  {
   "cell_type": "code",
   "execution_count": 18,
   "id": "7250c5eb",
   "metadata": {},
   "outputs": [],
   "source": [
    "# need these two libraries\n",
    "import probeinterface\n",
    "import kilosort\n",
    "import os"
   ]
  },
  {
   "cell_type": "code",
   "execution_count": 19,
   "id": "daaca08f",
   "metadata": {},
   "outputs": [
    {
     "data": {
      "application/javascript": [
       "IPython.OutputArea.prototype._should_scroll = function(lines) {\n",
       "    return false;\n",
       "}\n"
      ],
      "text/plain": [
       "<IPython.core.display.Javascript object>"
      ]
     },
     "metadata": {},
     "output_type": "display_data"
    }
   ],
   "source": [
    "%%javascript\n",
    "IPython.OutputArea.prototype._should_scroll = function(lines) {\n",
    "    return false;\n",
    "}"
   ]
  },
  {
   "cell_type": "code",
   "execution_count": 20,
   "id": "4947f69e",
   "metadata": {},
   "outputs": [
    {
     "data": {
      "text/plain": [
       "<module 'probeinterface' from '/home/sobolev/projects/pySIT/lib/python3.8/site-packages/probeinterface/__init__.py'>"
      ]
     },
     "execution_count": 20,
     "metadata": {},
     "output_type": "execute_result"
    }
   ],
   "source": [
    "# if python > 3.8 - before conversion, fix the probeinterface bug:\n",
    "# in probeinterface.io.write_prb, lines 708, 714\n",
    "# instead of list(...) use ...tolist()\n",
    "\n",
    "probeinterface"
   ]
  },
  {
   "cell_type": "code",
   "execution_count": 23,
   "id": "2ba200f4",
   "metadata": {},
   "outputs": [],
   "source": [
    "probes_path = '/home/sobolev/nevermind/AG_Pecka/data/raw/013608/config/probes/'\n",
    "area = 'PPC'\n",
    "\n",
    "probe_pi_json_path = os.path.join(probes_path, '013608_probeinterface_%s.json' % area)\n",
    "probe_ks_json_path = os.path.join(probes_path, '013608_kilosort_%s.json' % area)\n",
    "probe_prb_path     = os.path.join(probes_path, '013608_%s.prb' % area)\n",
    "\n",
    "# probeinterface to PRB\n",
    "probe = probeinterface.io.read_probeinterface(probe_pi_json_path)\n",
    "probeinterface.io.write_prb(probe_prb_path, probe)\n",
    "\n",
    "# PRB to kilosort\n",
    "probe_k = kilosort.io.load_probe(probe_prb_path)\n",
    "kilosort.io.save_probe(probe_k, probe_ks_json_path)"
   ]
  },
  {
   "cell_type": "code",
   "execution_count": null,
   "id": "b7726d7f",
   "metadata": {},
   "outputs": [],
   "source": []
  }
 ],
 "metadata": {
  "kernelspec": {
   "display_name": "Python 3 (ipykernel)",
   "language": "python",
   "name": "python3"
  },
  "language_info": {
   "codemirror_mode": {
    "name": "ipython",
    "version": 3
   },
   "file_extension": ".py",
   "mimetype": "text/x-python",
   "name": "python",
   "nbconvert_exporter": "python",
   "pygments_lexer": "ipython3",
   "version": "3.8.10"
  }
 },
 "nbformat": 4,
 "nbformat_minor": 5
}
