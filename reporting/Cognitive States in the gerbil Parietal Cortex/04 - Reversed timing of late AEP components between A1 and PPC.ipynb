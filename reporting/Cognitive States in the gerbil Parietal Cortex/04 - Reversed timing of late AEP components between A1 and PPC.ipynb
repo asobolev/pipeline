{
 "cells": [
  {
   "cell_type": "code",
   "execution_count": 1,
   "id": "bf9750e6",
   "metadata": {},
   "outputs": [],
   "source": [
    "# overlap A1 / PPC AEPs on top of each other\n",
    "# maybe try to infer correlations"
   ]
  },
  {
   "cell_type": "code",
   "execution_count": null,
   "id": "fe9071d3",
   "metadata": {},
   "outputs": [],
   "source": []
  }
 ],
 "metadata": {
  "kernelspec": {
   "display_name": "Python 3 (ipykernel)",
   "language": "python",
   "name": "python3"
  },
  "language_info": {
   "codemirror_mode": {
    "name": "ipython",
    "version": 3
   },
   "file_extension": ".py",
   "mimetype": "text/x-python",
   "name": "python",
   "nbconvert_exporter": "python",
   "pygments_lexer": "ipython3",
   "version": "3.8.10"
  }
 },
 "nbformat": 4,
 "nbformat_minor": 5
}
