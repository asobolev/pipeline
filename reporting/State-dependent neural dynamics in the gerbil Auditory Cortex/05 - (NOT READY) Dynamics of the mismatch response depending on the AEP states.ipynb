{
 "cells": [
  {
   "cell_type": "markdown",
   "id": "57a6fc24",
   "metadata": {},
   "source": [
    "## Mismatch response (MMR) as a measure of stimulus change"
   ]
  },
  {
   "cell_type": "code",
   "execution_count": 2,
   "id": "08a235ca",
   "metadata": {},
   "outputs": [],
   "source": [
    "# introduce MMR"
   ]
  },
  {
   "cell_type": "markdown",
   "id": "675fcd2e",
   "metadata": {},
   "source": [
    "## MMR response depending on P1, N1, P2 and P3 states"
   ]
  },
  {
   "cell_type": "code",
   "execution_count": 3,
   "id": "033b6507",
   "metadata": {},
   "outputs": [],
   "source": [
    "# show examples for individual session\n",
    "# compute across sessions?"
   ]
  },
  {
   "cell_type": "markdown",
   "id": "af381ac6",
   "metadata": {},
   "source": [
    "## Behavioral relevance of the MMR for performance in SIT"
   ]
  },
  {
   "cell_type": "code",
   "execution_count": 4,
   "id": "4de99e39",
   "metadata": {},
   "outputs": [],
   "source": [
    "# compute..."
   ]
  },
  {
   "cell_type": "code",
   "execution_count": null,
   "id": "d287fdfa",
   "metadata": {},
   "outputs": [],
   "source": []
  }
 ],
 "metadata": {
  "kernelspec": {
   "display_name": "Python 3 (ipykernel)",
   "language": "python",
   "name": "python3"
  },
  "language_info": {
   "codemirror_mode": {
    "name": "ipython",
    "version": 3
   },
   "file_extension": ".py",
   "mimetype": "text/x-python",
   "name": "python",
   "nbconvert_exporter": "python",
   "pygments_lexer": "ipython3",
   "version": "3.8.10"
  }
 },
 "nbformat": 4,
 "nbformat_minor": 5
}
