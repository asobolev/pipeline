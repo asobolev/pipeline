{
 "cells": [
  {
   "cell_type": "markdown",
   "id": "ea835d2f",
   "metadata": {},
   "source": [
    "## - The structure of Auditory Evoked Responses (AEPs) is dynamic in freely-moving gerbils engaged in the auditory task\n",
    "\n",
    "## - Dynamics of the AEPs reflect instant perceptual and behavioral relevance of the auditory stimulus\n",
    "\n",
    "## - Single units in AC exhibit micro- and macro- structural tuning to auditory stimulations depending on their relevance\n",
    "\n",
    "## - The micro-structure of single unit responses can be broked down into typical phases (On, Off, early and late post-phases)\n",
    "\n",
    "## - Coherent single-unit neuronal activity during certain response phases is driving corresponding AEP components (P1, N1, P2, P3)"
   ]
  },
  {
   "cell_type": "code",
   "execution_count": null,
   "id": "98f36b37",
   "metadata": {},
   "outputs": [],
   "source": []
  }
 ],
 "metadata": {
  "kernelspec": {
   "display_name": "Python 3 (ipykernel)",
   "language": "python",
   "name": "python3"
  },
  "language_info": {
   "codemirror_mode": {
    "name": "ipython",
    "version": 3
   },
   "file_extension": ".py",
   "mimetype": "text/x-python",
   "name": "python",
   "nbconvert_exporter": "python",
   "pygments_lexer": "ipython3",
   "version": "3.8.10"
  }
 },
 "nbformat": 4,
 "nbformat_minor": 5
}
