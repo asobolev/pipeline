{
 "cells": [
  {
   "cell_type": "code",
   "execution_count": 1,
   "id": "7dbf62e3",
   "metadata": {},
   "outputs": [],
   "source": [
    "import sys, os\n",
    "sys.path.append(os.path.join(os.getcwd(), '..'))\n",
    "sys.path.append(os.path.join(os.getcwd(), '..', '..'))\n",
    "sys.path.append(os.path.join(os.getcwd(), '..', '..'))\n",
    "sys.path.append(os.path.join(os.getcwd(), '..', '..', 'analysis'))\n",
    "sys.path.append(os.path.join(os.getcwd(), '..', '..', 'session'))\n",
    "sys.path.append(os.path.join(os.getcwd(), '..', '..', '..', 'pplSIT', 'workflow', 'utils'))\n",
    "\n",
    "from imports import *\n",
    "from loading import load_session_data\n",
    "import numpy as np\n",
    "import h5py, json\n",
    "import matplotlib.pyplot as plt\n",
    "from scipy import signal, stats\n",
    "from target import build_tgt_matrix\n",
    "from adapters import DatProcessor\n",
    "from matplotlib.patches import ConnectionPatch\n",
    "from mpl_toolkits.axes_grid1 import make_axes_locatable\n",
    "from session.sessions import selected_009266, selected_008229, selected_009265\n",
    "from target import build_tgt_matrix, get_spike_counts, build_silence_and_noise_events, \\\n",
    "        get_idxs_of_event_periods, get_spike_times_at\n",
    "np.set_printoptions(suppress=True)\n",
    "\n",
    "from population import unit_response_matrix, activity_at_phase\n",
    "\n",
    "%matplotlib inline"
   ]
  },
  {
   "cell_type": "code",
   "execution_count": 2,
   "id": "220a45cd",
   "metadata": {},
   "outputs": [
    {
     "data": {
      "application/javascript": [
       "IPython.OutputArea.prototype._should_scroll = function(lines) {\n",
       "    return false;\n",
       "}\n"
      ],
      "text/plain": [
       "<IPython.core.display.Javascript object>"
      ]
     },
     "metadata": {},
     "output_type": "display_data"
    }
   ],
   "source": [
    "%%javascript\n",
    "IPython.OutputArea.prototype._should_scroll = function(lines) {\n",
    "    return false;\n",
    "}"
   ]
  },
  {
   "cell_type": "code",
   "execution_count": 3,
   "id": "295946ea",
   "metadata": {
    "scrolled": false
   },
   "outputs": [
    {
     "data": {
      "text/plain": [
       "['009266_hippoSIT_2023-04-17_17-04-17',\n",
       " '009266_hippoSIT_2023-04-18_10-10-37',\n",
       " '009266_hippoSIT_2023-04-18_17-03-10',\n",
       " '009266_hippoSIT_2023-04-19_10-33-51',\n",
       " '009266_hippoSIT_2023-04-20_08-57-39',\n",
       " '009266_hippoSIT_2023-04-21_08-43-00',\n",
       " '009266_hippoSIT_2023-04-21_13-12-31',\n",
       " '009266_hippoSIT_2023-04-24_10-08-11',\n",
       " '009266_hippoSIT_2023-04-24_16-56-55',\n",
       " '009266_hippoSIT_2023-04-26_08-20-17',\n",
       " '009266_hippoSIT_2023-05-02_12-22-14',\n",
       " '009266_hippoSIT_2023-05-04_19-47-15',\n",
       " '009266_hippoSIT_2023-05-22_09-27-22',\n",
       " '009266_hippoSIT_2023-05-23_09-18-05',\n",
       " '009266_hippoSIT_2023-05-25_15-55-57',\n",
       " '009266_hippoSIT_2023-06-14_08-21-23',\n",
       " '009266_hippoSIT_2023-06-19_08-58-35']"
      ]
     },
     "execution_count": 3,
     "metadata": {},
     "output_type": "execute_result"
    }
   ],
   "source": [
    "source = '/home/sobolev/nevermind/AG_Pecka/data/processed/'\n",
    "rep_path = '/home/sobolev/nevermind/Andrey/analysis/manuscripts/'\n",
    "\n",
    "#sessions = [s for s in selected_008229.keys()]\n",
    "sessions = [s for s in selected_009266.keys()]\n",
    "#sessions = [s for s in selected_009265.keys()]\n",
    "sessions.sort()\n",
    "sessions"
   ]
  },
  {
   "cell_type": "markdown",
   "id": "37116510",
   "metadata": {},
   "source": [
    "## Experiment timeline plot"
   ]
  },
  {
   "cell_type": "code",
   "execution_count": 36,
   "id": "588d5add",
   "metadata": {},
   "outputs": [
    {
     "data": {
      "text/plain": [
       "'009266_hippoSIT_2023-04-17_17-04-17'"
      ]
     },
     "execution_count": 36,
     "metadata": {},
     "output_type": "execute_result"
    }
   ],
   "source": [
    "session = sessions[0]\n",
    "session"
   ]
  },
  {
   "cell_type": "code",
   "execution_count": 37,
   "id": "4a6af73f",
   "metadata": {},
   "outputs": [],
   "source": [
    "animal     = session.split('_')[0]\n",
    "s_path     = os.path.join(source, animal, session)\n",
    "meta_file  = os.path.join(source, animal, session, 'meta.h5')\n",
    "moseq_file = os.path.join(source, animal, session, 'MoSeq.h5')\n",
    "syll_file  = os.path.join(source, animal, session, 'analysis', 'MoSeq_tSNE_UMAP.h5')\n",
    "\n",
    "with h5py.File(meta_file, 'r') as f:\n",
    "    tl = np.array(f['processed']['timeline'])\n",
    "    tgt_mx = np.array(f['processed']['target_matrix'])\n",
    "    events = np.array(f['processed']['sound_events'])\n",
    "with h5py.File(moseq_file, 'r') as f:\n",
    "    moseq = np.array(f['moseq'])\n",
    "    headers = f['moseq'].attrs['headers']\n",
    "with h5py.File(syll_file, 'r') as f:\n",
    "    syl_ratio_mx = np.array(f['syl_ratio_mx'])\n",
    "    idxs_srm_tl  = np.array(f['idxs_srm_tl'])\n",
    "    \n",
    "p_sil = tl[events[events[:, 1] == 0][:, 2].astype(np.int32)][:, 0]\n",
    "p_noi = tl[events[events[:, 1] ==-1][:, 2].astype(np.int32)][:, 0]\n",
    "p_bgr = tl[events[events[:, 1] == 1][:, 2].astype(np.int32)][:, 0]\n",
    "p_tgt = tl[events[events[:, 1] == 2][:, 2].astype(np.int32)][:, 0]"
   ]
  },
  {
   "cell_type": "code",
   "execution_count": 22,
   "id": "18605a42",
   "metadata": {},
   "outputs": [
    {
     "data": {
      "text/plain": [
       "array([  58.76,  110.27,  151.02,  210.77,  346.02,  504.03,  701.53,\n",
       "        761.78,  839.78,  889.29, 1108.54, 1230.04, 1263.04, 1299.79,\n",
       "       1366.3 , 1396.3 , 1532.3 , 1672.05, 1795.06, 2027.56, 2066.06,\n",
       "       2214.57, 2258.82, 2289.32, 2366.82])"
      ]
     },
     "execution_count": 22,
     "metadata": {},
     "output_type": "execute_result"
    }
   ],
   "source": []
  },
  {
   "cell_type": "code",
   "execution_count": 34,
   "id": "cc4b205d",
   "metadata": {},
   "outputs": [
    {
     "data": {
      "image/png": "[encoded data removed]",
      "text/plain": [
       "<Figure size 288x144 with 1 Axes>"
      ]
     },
     "metadata": {
      "needs_background": "light"
     },
     "output_type": "display_data"
    }
   ],
   "source": [
    "#fig, ax = plt.subplots(1, 1, figsize=(6, 4))  # with MoSeq\n",
    "fig, ax = plt.subplots(1, 1, figsize=(4, 2))  # without MoSeq\n",
    "\n",
    "colors = list(reversed(plt.rcParams['axes.prop_cycle'].by_key()['color']))\n",
    "#x_l, x_r = 0, 300\n",
    "#x_l, x_r = 0, 200\n",
    "x_l, x_r = 200, 215\n",
    "#x_l, x_r = 0, 15\n",
    "\n",
    "# plot individual syllables\n",
    "# for i in range(10):\n",
    "#     x_vals = np.where(moseq[:, 1] == i)[0]/100.\n",
    "#     x_vals = x_vals[ (x_vals > x_l) & (x_vals < x_r) ]\n",
    "#     ax.vlines(x_vals, 2+i/5, 2+i/5+0.2, lw=1, color=colors[i])\n",
    "\n",
    "# plot syllable ratios\n",
    "# step = 0.25\n",
    "# idxs_to_idxs = np.where((tl[idxs_srm_tl][:, 0] > x_l) & (tl[idxs_srm_tl][:, 0] < x_r))[0]\n",
    "# idxs_sel = idxs_srm_tl[idxs_to_idxs]\n",
    "# bottom = np.zeros(len(idxs_sel)) + 2\n",
    "# for i, syl_ratio in enumerate(2*syl_ratio_mx[idxs_to_idxs].T):\n",
    "#     ax.bar(tl[idxs_sel][:, 0] + step, syl_ratio, 0.7, bottom=bottom, label='Syll. # %s' % str(i+1), color=colors[i])\n",
    "#     bottom += syl_ratio\n",
    "\n",
    "# plot stimulations\n",
    "ax.vlines(p_bgr, 1, 2, color='tab:blue', lw=2)  # BGR\n",
    "ax.vlines(p_tgt, 0, 1, color='tab:orange', lw=2) # TGT \n",
    "#ax.vlines(p_noi,-1, 0, color='red', lw=1)  # NOI\n",
    "#ax.vlines(p_sil, 0, 1, color='black', lw=1, alpha=0.99)#, ls='--')\n",
    "\n",
    "# plot success targets\n",
    "t_success = tl[tgt_mx[tgt_mx[:, 4] == 1][:, 3].astype(np.int32)][:, 0]\n",
    "ax.vlines(t_success, 0, 2, color='green', lw=2, ls='--')\n",
    "\n",
    "ax.set_xlim(x_l, x_r)\n",
    "#ax.set_ylim(0, 4)  # set to 0-4 for MoSeq\n",
    "ax.set_ylim(0, 2)  # set to 0-2 for just TGT / BGR\n",
    "ax.set_xlabel(\"Time, s\", fontsize=14)\n",
    "#ax.set_ylabel(\"Noise | BGR | TGT | Syllable\", fontsize=14)\n",
    "#ax.set_ylabel(\"BGR | TGT | Behavior\", fontsize=14)\n",
    "ax.set_ylabel(\"TGT | BGR\", fontsize=14)\n",
    "ax.grid()\n",
    "ax.set_yticks([])\n",
    "\n",
    "\n",
    "fig.tight_layout()"
   ]
  },
  {
   "cell_type": "code",
   "execution_count": 35,
   "id": "02cb6f43",
   "metadata": {},
   "outputs": [],
   "source": [
    "#fig.savefig(os.path.join(rep_path, '%s_timeline_with_MoSeq.png' % session[-19:-6]), dpi=300)\n",
    "fig.savefig(os.path.join(rep_path, '%s_timeline_%d_%d.png' % (session[-19:-6], x_l, x_r)), dpi=300)"
   ]
  },
  {
   "cell_type": "code",
   "execution_count": null,
   "id": "8c301198",
   "metadata": {},
   "outputs": [],
   "source": []
  },
  {
   "cell_type": "code",
   "execution_count": 16,
   "id": "413ed297",
   "metadata": {},
   "outputs": [],
   "source": [
    "animal = session.split('_')[0]\n",
    "s_path = os.path.join(source, animal, session)\n",
    "\n",
    "# Population activity\n",
    "w_mx = []\n",
    "for phase in [1, 2, 3, 4]:\n",
    "    w_pca = activity_at_phase(s_path, phase, do_pca=True)\n",
    "    w_mx.append(w_pca) # stay in events space\n",
    "w_mx = np.column_stack(w_mx)"
   ]
  },
  {
   "cell_type": "code",
   "execution_count": 19,
   "id": "3d0c5356",
   "metadata": {},
   "outputs": [
    {
     "data": {
      "image/png": "[encoded data removed]",
      "text/plain": [
       "<Figure size 432x180 with 1 Axes>"
      ]
     },
     "metadata": {
      "needs_background": "light"
     },
     "output_type": "display_data"
    }
   ],
   "source": [
    "fig, ax = plt.subplots(1, 1, figsize=(6, 2.5))\n",
    "\n",
    "x_l, x_r = 0, 600\n",
    "ax.plot(w_mx[:, 0][x_l:x_r])\n",
    "ax.plot(w_mx[:, 1][x_l:x_r] + 2)\n",
    "ax.plot(w_mx[:, 2][x_l:x_r] + 4)\n",
    "ax.plot(w_mx[:, 3][x_l:x_r] + 6)\n",
    "ax.set_xlim(x_l, x_r)\n",
    "ax.grid()\n",
    "ax.set_yticks([])\n",
    "ax.set_xlabel('Sound pulse', fontsize=14)\n",
    "ax.set_ylabel('Pop. resp. W1-W4', fontsize=14)\n",
    "fig.tight_layout()"
   ]
  },
  {
   "cell_type": "code",
   "execution_count": 20,
   "id": "e82bf636",
   "metadata": {},
   "outputs": [],
   "source": [
    "fig.savefig(os.path.join(report, 'showroom', 'pop_resp_W1_W4_mid.png'), dpi=500)"
   ]
  },
  {
   "cell_type": "code",
   "execution_count": null,
   "id": "08297937",
   "metadata": {},
   "outputs": [],
   "source": []
  }
 ],
 "metadata": {
  "kernelspec": {
   "display_name": "Python 3 (ipykernel)",
   "language": "python",
   "name": "python3"
  },
  "language_info": {
   "codemirror_mode": {
    "name": "ipython",
    "version": 3
   },
   "file_extension": ".py",
   "mimetype": "text/x-python",
   "name": "python",
   "nbconvert_exporter": "python",
   "pygments_lexer": "ipython3",
   "version": "3.8.10"
  }
 },
 "nbformat": 4,
 "nbformat_minor": 5
}
