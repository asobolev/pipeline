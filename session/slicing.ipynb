{
 "cells": [
  {
   "cell_type": "code",
   "execution_count": null,
   "id": "24cf6d47",
   "metadata": {},
   "outputs": [],
   "source": [
    "import os\n",
    "import json\n",
    "import h5py\n",
    "import numpy as np\n",
    "import matplotlib.pyplot as plt\n",
    "import xml.etree.ElementTree as ET\n",
    "import shutil\n",
    "from moviepy.video.io.ffmpeg_tools import ffmpeg_extract_subclip\n",
    "\n",
    "from datetime import datetime\n",
    "from scipy import signal"
   ]
  },
  {
   "cell_type": "markdown",
   "id": "ea8329a8",
   "metadata": {},
   "source": [
    "## Slicing a session"
   ]
  },
  {
   "cell_type": "code",
   "execution_count": 14,
   "id": "20e31698",
   "metadata": {},
   "outputs": [],
   "source": [
    "def slice_tracking_data(src_path, dst_path, t_start, t_end):\n",
    "    exp_start = np.loadtxt(os.path.join(src_path, 'positions.csv'), delimiter=',', skiprows=1)[0][0]\n",
    "    \n",
    "    for ds_name in ['positions', 'sounds', 'events']:\n",
    "        filename = os.path.join(src_path, '%s.csv' % ds_name)\n",
    "        \n",
    "        with open(filename) as ff:\n",
    "            header = ff.readline()\n",
    "        data = np.loadtxt(filename, delimiter=',', skiprows=1)\n",
    "        \n",
    "        to_write = data[(data[:, 0] > exp_start + t_start) & (data[:, 0] < exp_start + t_end)]\n",
    "        \n",
    "        if ds_name == 'events':\n",
    "            to_write[:, 4] -= to_write[0][4] - 1  # reduce trial number\n",
    "\n",
    "            if to_write[0][-1] > 0:  # add a record for beginning of the trial\n",
    "                record = np.array(to_write[0])\n",
    "                record[-1] = 0\n",
    "                record[0] = exp_start + t_start\n",
    "                to_write = np.vstack([record, to_write])\n",
    "\n",
    "            if to_write[-1][-1] > -1:  # add a record for end of the session\n",
    "                record = np.array(to_write[-1])\n",
    "                record[-1] = -1\n",
    "                record[0] = exp_start + t_end\n",
    "                to_write = np.vstack([to_write, record])        \n",
    "        \n",
    "        np.savetxt(os.path.join(dst_path, '%s.csv' % ds_name), to_write, \\\n",
    "                   delimiter=',', fmt='%.4f', header=header.replace('\\n', ''))"
   ]
  },
  {
   "cell_type": "code",
   "execution_count": 15,
   "id": "b8730d97",
   "metadata": {},
   "outputs": [],
   "source": [
    "def slice_dat_file(src_path, dst_path, duration, sampling=30000, channels=64, databyte=2):  # int16\n",
    "    try:\n",
    "        dat_fname = [x for x in os.listdir(src_path) if x.endswith('.dat')][0]\n",
    "    except IndexError:\n",
    "        print('Not .dat file found')\n",
    "        return\n",
    "    \n",
    "    in_path  = os.path.join(src_path, dat_fname)\n",
    "    out_path = os.path.join(dst_path, dat_fname)\n",
    "    \n",
    "    chunk_size = databyte * channels * sampling\n",
    "\n",
    "    with open(in_path, 'rb') as in_file, open(out_path, 'wb') as out_file:\n",
    "        out_file.write(in_file.read(chunk_size * duration))"
   ]
  },
  {
   "cell_type": "code",
   "execution_count": 16,
   "id": "c885b354",
   "metadata": {},
   "outputs": [],
   "source": [
    "def slice_video(src_path, dst_path, t_start, t_end):\n",
    "    src_fname = os.path.join(src_path, 'video.avi')\n",
    "    dst_fname = os.path.join(dst_path, 'video.avi')\n",
    "    ffmpeg_extract_subclip(src_fname, t_start, t_end, targetname=dst_fname)"
   ]
  },
  {
   "cell_type": "code",
   "execution_count": 18,
   "id": "b340214c",
   "metadata": {},
   "outputs": [],
   "source": [
    "def slice_session(src_path, dst_path, t_start, t_end):\n",
    "    \"\"\"\n",
    "    src_path       absolute path to the source session folder\n",
    "    dst_path       absolute path to the destination session folder\n",
    "    t_start        start time (relative to the session start)\n",
    "    t_end          end time (relative to the session start)\n",
    "    \"\"\"\n",
    "    filebase = os.path.basename(src_path)\n",
    "    if not os.path.exists(dst_path):\n",
    "        os.makedirs(dst_path)\n",
    "    \n",
    "    # first slice raw tracking data\n",
    "    slice_tracking_data(src_path, dst_path, t_start, t_end)\n",
    "\n",
    "    # second slice ephys .dat file\n",
    "    slice_dat_file(src_path, dst_path, t_end - t_start)\n",
    "    \n",
    "    # third slice the video\n",
    "    slice_video(src_path, dst_path, t_start, t_end)\n",
    "    \n",
    "    # last - copy .xml and .json\n",
    "    for ext in ('json', 'xml'):\n",
    "        src_fname = os.path.join(src_path, '%s.%s' % (filebase, ext))\n",
    "        dst_fname = os.path.join(dst_path, '%s.%s' % (filebase, ext))\n",
    "\n",
    "        shutil.copyfile(src_fname, dst_fname)"
   ]
  },
  {
   "cell_type": "code",
   "execution_count": null,
   "id": "da02745b",
   "metadata": {},
   "outputs": [],
   "source": []
  }
 ],
 "metadata": {
  "kernelspec": {
   "display_name": "Python 3 (ipykernel)",
   "language": "python",
   "name": "python3"
  },
  "language_info": {
   "codemirror_mode": {
    "name": "ipython",
    "version": 3
   },
   "file_extension": ".py",
   "mimetype": "text/x-python",
   "name": "python",
   "nbconvert_exporter": "python",
   "pygments_lexer": "ipython3",
   "version": "3.8.10"
  }
 },
 "nbformat": 4,
 "nbformat_minor": 5
}
