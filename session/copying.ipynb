{
 "cells": [
  {
   "cell_type": "code",
   "execution_count": 1,
   "id": "6caa74a0",
   "metadata": {},
   "outputs": [],
   "source": [
    "import shutil\n",
    "import os, sys\n",
    "\n",
    "from sessions import selected_009266, selected_009265, selected_008229"
   ]
  },
  {
   "cell_type": "code",
   "execution_count": 13,
   "id": "b4a07ca0",
   "metadata": {},
   "outputs": [
    {
     "data": {
      "text/plain": [
       "['009265_hippoSIT_2023-02-24_09-53-26',\n",
       " '009265_hippoSIT_2023-02-24_17-22-46',\n",
       " '009265_hippoSIT_2023-02-27_10-18-32',\n",
       " '009265_hippoSIT_2023-02-27_15-33-46',\n",
       " '009265_hippoSIT_2023-02-28_09-16-50',\n",
       " '009265_hippoSIT_2023-02-28_13-16-10',\n",
       " '009265_hippoSIT_2023-02-28_20-45-04']"
      ]
     },
     "execution_count": 13,
     "metadata": {},
     "output_type": "execute_result"
    }
   ],
   "source": [
    "# copying selected videos\n",
    "\n",
    "src = '/home/sobolev/nevermind/Andrey/data'\n",
    "dst = '/home/sobolev/nevermind/Andrey/sandbox/4NY'\n",
    "\n",
    "animal = '009265'\n",
    "sessions = selected_009265\n",
    "sessions"
   ]
  },
  {
   "cell_type": "code",
   "execution_count": 15,
   "id": "a36fc55f",
   "metadata": {},
   "outputs": [],
   "source": [
    "for session in sessions:\n",
    "    \n",
    "    dst_f = os.path.join(dst, session)\n",
    "    if not os.path.exists(dst_f):\n",
    "        os.makedirs(dst_f)\n",
    "        \n",
    "    for f_name in ['%s.h5' % session, 'moseq.h5']:  # 'AEPs.h5', \n",
    "        src_fname = os.path.join(src, animal, session, f_name)\n",
    "        dst_fname = os.path.join(dst, session, f_name)\n",
    "\n",
    "        shutil.copyfile(src_fname, dst_fname)"
   ]
  },
  {
   "cell_type": "code",
   "execution_count": null,
   "id": "959c3a6f",
   "metadata": {},
   "outputs": [],
   "source": []
  }
 ],
 "metadata": {
  "kernelspec": {
   "display_name": "Python 3 (ipykernel)",
   "language": "python",
   "name": "python3"
  },
  "language_info": {
   "codemirror_mode": {
    "name": "ipython",
    "version": 3
   },
   "file_extension": ".py",
   "mimetype": "text/x-python",
   "name": "python",
   "nbconvert_exporter": "python",
   "pygments_lexer": "ipython3",
   "version": "3.8.10"
  }
 },
 "nbformat": 4,
 "nbformat_minor": 5
}
